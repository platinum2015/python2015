{
 "metadata": {
  "name": "",
  "signature": "sha256:e3d7129634f7917683b96bb4725c6651e24a9118d9cece69e07409951dcffa2a"
 },
 "nbformat": 3,
 "nbformat_minor": 0,
 "worksheets": []
}