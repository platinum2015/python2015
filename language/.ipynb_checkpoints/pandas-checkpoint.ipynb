{
 "cells": [
  {
   "cell_type": "markdown",
   "metadata": {},
   "source": [
    "# PANDAS\n",
    " - http://pandas.pydata.org/pandas-docs/stable/10min.html\n",
    " - https://databricks.com/blog/2015/08/12/from-pandas-to-apache-sparks-dataframe.html\n",
    " - https://github.com/fonnesbeck/statistical-analysis-python-tutorial\n",
    " \n",
    "Built on top of NumPy\n",
    "in R sono data.frame    \n",
    "fixed-length, ordered dict, as it is a mappingof index values to data values\n",
    "\n",
    "##Contents\n",
    "- [series](#series)\n",
    "   - [create](#cts) [describe](#ds) [indexing](#is) [delete](#dels) [append](#as) [union](#unions) [transpose](#trs) [diff](#diffs)    [order_sort_rank](#ords)  [Missing val](#mvs)\n",
    "- [dataframe](#dataframe)\n",
    "   - [create](#ctd) [describe](#dd) [indexing](#idd)  [iterate](#iterate)  [delete](#dels) [append](#ad) [union](#uniond) [transpose](#trd) [diff](#diffd) [order_sort_rank](#ordd)  [Missing val](#mvd)\n",
    "- [broadcast](#broadcastd) [lambda](#lambdad)  [binning](#binningd)    [search](#searchd)   [file](#file) \n",
    "\n"
   ]
  },
  {
   "cell_type": "markdown",
   "metadata": {},
   "source": [
    "## SERIES\n",
    "<a id=\"series\"></a>"
   ]
  },
  {
   "cell_type": "code",
   "execution_count": null,
   "metadata": {
    "collapsed": true
   },
   "outputs": [],
   "source": [
    " 1-D Array\n",
    "         Index         Data\n",
    "         0              X0\n",
    "         1              X1\n",
    "         2              X2\n",
    "         3              X3   \n",
    "         4              X4  "
   ]
  },
  {
   "cell_type": "markdown",
   "metadata": {},
   "source": [
    "###create\n",
    "<a id=\"cts\"></a>"
   ]
  },
  {
   "cell_type": "code",
   "execution_count": 1,
   "metadata": {
    "collapsed": false
   },
   "outputs": [
    {
     "name": "stdout",
     "output_type": "stream",
     "text": [
      "0    100\n",
      "1    101\n",
      "2    102\n",
      "3    103\n",
      "dtype: int64\n",
      "------Values\n",
      "[100 101 102 103]\n",
      "------Index\n",
      "Int64Index([0, 1, 2, 3], dtype='int64')\n",
      "\n",
      "\n",
      "Create from a DICT ---\n",
      "Ohio      35000\n",
      "Oregon    16000\n",
      "Texas     71000\n",
      "Utah       5000\n",
      "dtype: int64\n"
     ]
    }
   ],
   "source": [
    "from pandas import Series, DataFrame\n",
    "import pandas as pd\n",
    "\n",
    "ser=pd.Series([100, 101, 102, 103])\n",
    "print ser\n",
    "print(\"------Values\")\n",
    "print(ser.values)\n",
    "print(\"------Index\") \n",
    "print(ser.index) \n",
    "\n",
    "print('\\n\\nCreate from a DICT ---')\n",
    "sdata = {'Ohio': 35000, 'Texas': 71000, 'Oregon': 16000, 'Utah': 5000}#Series from a DICT\n",
    "ser = Series(sdata)\n",
    "print ser\n"
   ]
  },
  {
   "cell_type": "markdown",
   "metadata": {},
   "source": [
    "##describe\n",
    "<a id=\"ds\"></a>"
   ]
  },
  {
   "cell_type": "markdown",
   "metadata": {
    "collapsed": true
   },
   "source": [
    "REFER to DESCRIBE dataframe\n",
    "http://localhost:8888/notebooks/python2015/language/pandas.ipynb#ds"
   ]
  },
  {
   "cell_type": "markdown",
   "metadata": {},
   "source": [
    "##missing values\n",
    "<a id=\"mvs\"></a>"
   ]
  },
  {
   "cell_type": "markdown",
   "metadata": {},
   "source": [
    "seee the dataframe part"
   ]
  },
  {
   "cell_type": "markdown",
   "metadata": {},
   "source": [
    "##indexing\n",
    "<a id=\"is\"></a>"
   ]
  },
  {
   "cell_type": "code",
   "execution_count": 23,
   "metadata": {
    "collapsed": false
   },
   "outputs": [
    {
     "name": "stdout",
     "output_type": "stream",
     "text": [
      "--------------------------------------------------\n",
      "renamed Indexes\n",
      "d    100\n",
      "b    101\n",
      "a    102\n",
      "c    103\n",
      "dtype: int64\n",
      "--------------------------------------------------\n",
      "Select Value from Serie where indexid=d\n",
      "100\n",
      "--------------------------------------------------\n",
      "Select Value from Serie where indexid in (c,a,d)\n",
      "c    103\n",
      "a    102\n",
      "d    100\n",
      "dtype: int64\n",
      "--------------------------------------------------\n",
      "Select Value from Serie where Value > 101\n",
      "a    102\n",
      "c    103\n",
      "dtype: int64\n",
      "--------------------------------------------------\n",
      "Exists   where index =b ?\n",
      "True\n",
      "--------------------------------------------------\n",
      "Are elements Null?\n",
      "California     True\n",
      "Ohio          False\n",
      "Oregon        False\n",
      "Texas         False\n",
      "dtype: bool\n"
     ]
    }
   ],
   "source": [
    "obj2 = Series([100, 101, 102, 103], index=['d', 'b', 'a', 'c'])\n",
    "print('renamed Indexes')\n",
    "print(obj2)\n",
    "print \"obj2[d] \",obj2['d']\n",
    "print \"obj2[obj2 > 101] \" ,obj2[obj2 > 101]\n",
    "print('Name: the Serie itself (population)')\n",
    "obj4.name = 'population'\n",
    "print('      the INDEXES  (state) it becomes a COLUMN')\n",
    "obj4.index.name = 'state'\n",
    "print(obj4)\n",
    "#Same object , Different indexes\n",
    "#select d,c,b,a from tab\n",
    "obj=Series([4.5, 7.2, -5.3, 3.6], index=['d', 'b', 'a', 'c'])\n",
    "print(obj)\n",
    "print(\"reindexed -------\")\n",
    "obj2 = obj.reindex(['a', 'b', 'c', 'd', 'e'],fill_value=0)\n",
    "print(obj2)\n",
    "#Column reordered\n",
    "# select c,b,a ftom tab\n",
    "frame_col_reordered=DataFrame(data, columns=['year', 'state', 'pop'])\n",
    "frame_col_reordered"
   ]
  },
  {
   "cell_type": "code",
   "execution_count": 11,
   "metadata": {
    "collapsed": false
   },
   "outputs": [
    {
     "name": "stdout",
     "output_type": "stream",
     "text": [
      "is null 0    False\n",
      "1    False\n",
      "2    False\n",
      "3     True\n",
      "4    False\n",
      "dtype: bool\n",
      "nulli 3   NaN\n",
      "dtype: float64\n"
     ]
    }
   ],
   "source": [
    "import pandas as pd\n",
    "obj2 = pd.Series([100, 101, 102, None,103])\n",
    "idx = obj2.isnull()\n",
    "print \"is null\",idx\n",
    "print \"nulli\", obj2[obj2.isnull()]"
   ]
  },
  {
   "cell_type": "markdown",
   "metadata": {},
   "source": [
    "<a id=\"dels\"></a>\n",
    "### DELETE\n"
   ]
  },
  {
   "cell_type": "code",
   "execution_count": null,
   "metadata": {
    "collapsed": true
   },
   "outputs": [],
   "source": [
    "print('not a DELETE cause create a new OBJ')\n",
    "obj = Series(np.arange(4), index=['a', 'b', 'c', 'd', ])\n",
    "new_obj = obj.drop('c') #OBJ is not dropped from OBJ!!!!\n",
    "print('select * from (select * from T1 where ROWID<> c)')\n",
    "print('ORIGINAL')\n",
    "print(obj)\n",
    "print('without index C')\n",
    "print(new_obj)\n",
    "\n",
    "baseball.drop([89525, 89526])\n"
   ]
  },
  {
   "cell_type": "markdown",
   "metadata": {},
   "source": [
    "##append\n",
    "<a id=\"as\"></a>"
   ]
  },
  {
   "cell_type": "markdown",
   "metadata": {},
   "source": [
    "##union\n",
    "<a id=\"unions\"></a>"
   ]
  },
  {
   "cell_type": "markdown",
   "metadata": {},
   "source": [
    "##transpose\n",
    "<a id=\"trs\"></a>"
   ]
  },
  {
   "cell_type": "markdown",
   "metadata": {},
   "source": [
    "##diff\n",
    "<a id=\"diffs\"></a>"
   ]
  },
  {
   "cell_type": "markdown",
   "metadata": {},
   "source": [
    "##order_sort_rank\n",
    "<a id=\"ords\"></a>"
   ]
  },
  {
   "cell_type": "code",
   "execution_count": null,
   "metadata": {
    "collapsed": true
   },
   "outputs": [],
   "source": [
    "baseball_newind.sort_index().head()\n",
    "baseball.hr.order(ascending=False)\n"
   ]
  },
  {
   "cell_type": "markdown",
   "metadata": {},
   "source": [
    "<a id=\"dataframe\"></a>\n",
    "## DATAFRAME"
   ]
  },
  {
   "cell_type": "code",
   "execution_count": null,
   "metadata": {
    "collapsed": false
   },
   "outputs": [],
   "source": [
    "         Index         \n",
    "           0      1    2    3     \n",
    "S1         \n",
    "         Data\n",
    "           X0    X1    X2    X3\n",
    "S2           \n",
    "         Data\n",
    "           X0    X1    X2    X3\n",
    "S3            \n",
    "         Data\n",
    "           X0    X1    X2    X3\n"
   ]
  },
  {
   "cell_type": "markdown",
   "metadata": {},
   "source": [
    "### Create\n",
    "<a id=\"ctd\"></a>"
   ]
  },
  {
   "cell_type": "code",
   "execution_count": null,
   "metadata": {
    "collapsed": false
   },
   "outputs": [],
   "source": [
    "2D \n",
    "    ndarray A matrix of data, passing optional row and column labels\n",
    "dict    of arrays, lists, or tuples \n",
    "    Each sequence becomes a column in the DataFrame. All sequences must be the same length.\n",
    "NumPy\n",
    "    structured/record array Treated as the “dict of arrays” case\n",
    "dict of Series\n",
    "    Each value becomes a column. Indexes from each Series are unioned together to form the\n",
    "result’s row index if no explicit index is passed.\n",
    "dict of dicts\n",
    "    Each inner dict becomes a column. Keys are unioned to form the row index as in the “dict ofSeries” case.\n",
    "list of dicts or Series \n",
    "    Each item becomes a row in the DataFrame. Union of dict keys or Series indexes become the\n",
    "DataFrame’s column labels\n",
    "List of lists or tuples \n",
    "    Treated as the “2D ndarray” case\n",
    "Another DataFrame\n",
    "    The DataFrame’s indexes are used unless different ones are passed\n",
    "NumPy MaskedArray\n",
    "    Like the “2D ndarray” case except masked values become NA/missing in the DataFrame result"
   ]
  },
  {
   "cell_type": "code",
   "execution_count": null,
   "metadata": {
    "collapsed": true
   },
   "outputs": [],
   "source": [
    "#read csv with header \n",
    "df1 = pandas.read_csv(file, header=0,\n",
    "                      , index_col=False,\n",
    "                      delimiter=\"\\t\")\n"
   ]
  },
  {
   "cell_type": "code",
   "execution_count": 5,
   "metadata": {
    "collapsed": false,
    "scrolled": true
   },
   "outputs": [
    {
     "name": "stdout",
     "output_type": "stream",
     "text": [
      "   pop   state  year\n",
      "0  1.5    Ohio  2000\n",
      "1  1.7    Ohio  2001\n",
      "2  3.6    Ohio  2002\n",
      "3  2.4  Nevada  2001\n",
      "4  2.9  Nevada  2002\n",
      "       year   state  pop debt\n",
      "one    2000    Ohio  1.5  NaN\n",
      "two    2001    Ohio  1.7  NaN\n",
      "three  2002    Ohio  3.6  NaN\n",
      "four   2001  Nevada  2.4  NaN\n",
      "five   2002  Nevada  2.9  NaN\n",
      "                   A         B         C         D\n",
      "2013-01-01 -0.257095  0.113133  1.994696 -0.679480\n",
      "2013-01-02 -1.187544 -0.685537  0.179903 -0.564430\n",
      "2013-01-03  1.287338 -0.909575 -0.541147  0.294461\n",
      "2013-01-04 -0.192245  0.689668 -0.629827 -0.271434\n",
      "2013-01-05  0.469157  0.695376  0.397645  2.206244\n",
      "2013-01-06  0.578898  0.036149 -0.361915  1.392474\n"
     ]
    }
   ],
   "source": [
    "#from DICT\n",
    "data = {'state': ['Ohio', 'Ohio', 'Ohio', 'Nevada', 'Nevada'],#Column 1\n",
    "        'year': [2000, 2001, 2002, 2001, 2002],#Column 2\n",
    "        'pop': [1.5, 1.7, 3.6, 2.4, 2.9]}#Column 3\n",
    "frame = DataFrame(data)\n",
    "print(frame)\n",
    "frame2 = DataFrame(data, \n",
    "                   columns=['year', 'state', 'pop', 'debt'],\n",
    "                   index=['one', 'two', 'three', 'four', 'five']\n",
    "                   )\n",
    "print(frame2)\n",
    "#from numpy array\n",
    "import numpy as np\n",
    "dates = pd.date_range('20130101', periods=6)\n",
    "df = pd.DataFrame(np.random.randn(6,4), index=dates, columns=list('ABCD'))\n",
    "print df"
   ]
  },
  {
   "cell_type": "markdown",
   "metadata": {},
   "source": [
    "##describe\n",
    "<a id=\"dd\"></a>"
   ]
  },
  {
   "cell_type": "code",
   "execution_count": 10,
   "metadata": {
    "collapsed": false,
    "scrolled": true
   },
   "outputs": [
    {
     "name": "stdout",
     "output_type": "stream",
     "text": [
      "-1 Index([u'year', u'state', u'pop', u'debt'], dtype='object')\n",
      "-2 [[2000L 'Ohio' 1.5 nan]\n",
      " [2001L 'Ohio' 1.7 nan]\n",
      " [2002L 'Ohio' 3.6 nan]\n",
      " [2001L 'Nevada' 2.4 nan]\n",
      " [2002L 'Nevada' 2.9 nan]]\n",
      "-3 year       int64\n",
      "state     object\n",
      "pop      float64\n",
      "debt      object\n",
      "dtype: object\n",
      "     year state  pop debt\n",
      "one  2000  Ohio  1.5  NaN\n",
      "two  2001  Ohio  1.7  NaN\n",
      "      year   state  pop debt\n",
      "four  2001  Nevada  2.4  NaN\n",
      "five  2002  Nevada  2.9  NaN\n",
      "             year       pop\n",
      "count     5.00000  5.000000\n",
      "mean   2001.20000  2.420000\n",
      "std       0.83666  0.864292\n",
      "min    2000.00000  1.500000\n",
      "25%    2001.00000  1.700000\n",
      "50%    2001.00000  2.400000\n",
      "75%    2002.00000  2.900000\n",
      "max    2002.00000  3.600000\n"
     ]
    }
   ],
   "source": [
    "print \"-1\",frame2.columns\n",
    "print \"-2\",frame2.values\n",
    "print \"-3\",frame2.dtypes\n",
    "\n",
    "print frame2.head(2)\n",
    "print frame2.tail(2)\n",
    "print frame2.describe()"
   ]
  },
  {
   "cell_type": "markdown",
   "metadata": {},
   "source": [
    "##missing values\n",
    "<a id=\"mvd\"></a>"
   ]
  },
  {
   "cell_type": "code",
   "execution_count": 27,
   "metadata": {
    "collapsed": false
   },
   "outputs": [
    {
     "name": "stdout",
     "output_type": "stream",
     "text": [
      "000\n",
      "    0    1   2    3    4\n",
      "0 NaN  300 NaN  200  150\n",
      "1 NaN  300 NaN  200  100\n",
      "2   1    1   1    1    1\n",
      "001\n",
      "   0    1  2    3    4\n",
      "0  0  300  0  200  150\n",
      "1  0  300  0  200  100\n",
      "2  1    1  1    1    1\n",
      "002\n",
      "0      1.000000\n",
      "1    200.333333\n",
      "2      1.000000\n",
      "3    133.666667\n",
      "4     83.666667\n",
      "dtype: float64\n",
      "003\n",
      "   0    1  2    3    4\n",
      "0  1  300  1  200  150\n",
      "1  1  300  1  200  100\n",
      "2  1    1  1    1    1\n",
      "004\n",
      "0           NaN\n",
      "1    200.333333\n",
      "2           NaN\n",
      "3    133.666667\n",
      "4     83.666667\n",
      "dtype: float64\n"
     ]
    },
    {
     "ename": "NameError",
     "evalue": "name 'data' is not defined",
     "output_type": "error",
     "traceback": [
      "\u001b[0;31m---------------------------------------------------------------------------\u001b[0m",
      "\u001b[0;31mNameError\u001b[0m                                 Traceback (most recent call last)",
      "\u001b[0;32m<ipython-input-27-868ec4d7c250>\u001b[0m in \u001b[0;36m<module>\u001b[0;34m()\u001b[0m\n\u001b[1;32m     18\u001b[0m \u001b[0;32mprint\u001b[0m \u001b[0mdf\u001b[0m\u001b[0;34m.\u001b[0m\u001b[0mmean\u001b[0m\u001b[0;34m(\u001b[0m\u001b[0mskipna\u001b[0m\u001b[0;34m=\u001b[0m\u001b[0mFalse\u001b[0m\u001b[0;34m)\u001b[0m\u001b[0;34m\u001b[0m\u001b[0m\n\u001b[1;32m     19\u001b[0m \u001b[0;34m\u001b[0m\u001b[0m\n\u001b[0;32m---> 20\u001b[0;31m \u001b[0m_\u001b[0m \u001b[0;34m=\u001b[0m \u001b[0mdata\u001b[0m\u001b[0;34m.\u001b[0m\u001b[0myear\u001b[0m\u001b[0;34m.\u001b[0m\u001b[0mfillna\u001b[0m\u001b[0;34m(\u001b[0m\u001b[0;36m2013\u001b[0m\u001b[0;34m,\u001b[0m \u001b[0minplace\u001b[0m\u001b[0;34m=\u001b[0m\u001b[0mTrue\u001b[0m\u001b[0;34m)\u001b[0m\u001b[0;34m\u001b[0m\u001b[0m\n\u001b[0m\u001b[1;32m     21\u001b[0m \u001b[0mdata\u001b[0m\u001b[0;34m\u001b[0m\u001b[0m\n",
      "\u001b[0;31mNameError\u001b[0m: name 'data' is not defined"
     ]
    }
   ],
   "source": [
    "df = pd.DataFrame([\n",
    "                  [None ,300,None,200,150],\n",
    "                  [None ,300,None,200,100],\n",
    "                  [1,1,1,1,1]\n",
    "                  ]\n",
    "                  )\n",
    "print \"000\"\n",
    "print df\n",
    "print \"001\"\n",
    "print df.fillna(0)\n",
    "\n",
    "\n",
    "print \"002\"\n",
    "print df.mean()\n",
    "print \"003\"\n",
    "print df.fillna(df.mean())\n",
    "print \"004\"\n",
    "print df.mean(skipna=False)\n",
    "\n",
    "_ = data.year.fillna(2013, inplace=True)\n",
    "data"
   ]
  },
  {
   "cell_type": "markdown",
   "metadata": {},
   "source": [
    "<a id=\"iterate\"></a>\n",
    "### iterate rows"
   ]
  },
  {
   "cell_type": "code",
   "execution_count": null,
   "metadata": {
    "collapsed": true
   },
   "outputs": [],
   "source": [
    "for i in  df1.values:\n",
    "    print i"
   ]
  },
  {
   "cell_type": "markdown",
   "metadata": {},
   "source": [
    "##indexing\n",
    "<a id=\"id\"></a>\n",
    "http://pandas.pydata.org/pandas-docs/stable/indexing.html#indexing"
   ]
  },
  {
   "cell_type": "code",
   "execution_count": 52,
   "metadata": {
    "collapsed": false
   },
   "outputs": [
    {
     "name": "stdout",
     "output_type": "stream",
     "text": [
      "state  Nevada  Ohio\n",
      "year               \n",
      "2000      NaN   1.5\n",
      "2001      2.4   1.7\n",
      "2002      2.9   3.6\n",
      "[[ nan  1.5]\n",
      " [ 2.4  1.7]\n",
      " [ 2.9  3.6]]\n"
     ]
    }
   ],
   "source": [
    "frame2=DataFrame(data, \n",
    "              columns=['year', 'state', 'pop', 'debt'],\n",
    "              index=['one', 'two', 'three', 'four', 'five'])\n",
    "frame2\n",
    "\n",
    "print(frame2['state'] )#frame2.state\n",
    "print(frame2.ix['three'])\n",
    "\n",
    "#here the unclear....\n",
    "frame3.index.name = 'year'\n",
    "frame3.columns.name = 'state'\n",
    "print(frame3)\n",
    "print(frame3.values)\n",
    "#RETRIEVE A COLUMN\n",
    "#select a from tab\n",
    "print(\"Column:\",\n",
    "frame2.state )\n",
    "#frame2['state']  alternative syntax\n",
    "\n",
    "#RETRIEVE A ROW\n",
    "print(\"Row:\",\n",
    "frame2.ix['three'])"
   ]
  },
  {
   "cell_type": "code",
   "execution_count": 71,
   "metadata": {
    "collapsed": false,
    "scrolled": false
   },
   "outputs": [
    {
     "name": "stdout",
     "output_type": "stream",
     "text": [
      "AG_1\n",
      "  agency_key agent_key  payes  sold\n",
      "0       AG_1     Mario      3    70\n",
      "2       AG_1     Bruno     49    28\n",
      "4       AG_1     Mario     42    19\n",
      "AG_2\n",
      "  agency_key agent_key  payes  sold\n",
      "1       AG_2     Mario     36    53\n",
      "3       AG_2     Bruno     70    61\n"
     ]
    }
   ],
   "source": [
    "#ITERATING over groups\n",
    "for name, group in df.groupby('agency_key'):\n",
    " print name\n",
    " print group"
   ]
  },
  {
   "cell_type": "markdown",
   "metadata": {},
   "source": [
    "<a id=\"dels\"></a>\n",
    "### DELETE"
   ]
  },
  {
   "cell_type": "code",
   "execution_count": null,
   "metadata": {
    "collapsed": true
   },
   "outputs": [],
   "source": [
    "baseball.drop([89525, 89526])\n"
   ]
  },
  {
   "cell_type": "markdown",
   "metadata": {},
   "source": [
    "### UPDATE"
   ]
  },
  {
   "cell_type": "code",
   "execution_count": 2,
   "metadata": {
    "collapsed": false
   },
   "outputs": [
    {
     "ename": "NameError",
     "evalue": "name 'frame2' is not defined",
     "output_type": "error",
     "traceback": [
      "\u001b[1;31m---------------------------------------------------------------------------\u001b[0m",
      "\u001b[1;31mNameError\u001b[0m                                 Traceback (most recent call last)",
      "\u001b[1;32m<ipython-input-2-180d7b774674>\u001b[0m in \u001b[0;36m<module>\u001b[1;34m()\u001b[0m\n\u001b[1;32m----> 1\u001b[1;33m \u001b[0mframe2\u001b[0m\u001b[1;33m[\u001b[0m\u001b[1;34m'debt'\u001b[0m\u001b[1;33m]\u001b[0m \u001b[1;33m=\u001b[0m \u001b[1;36m16.5\u001b[0m\u001b[1;33m\u001b[0m\u001b[0m\n\u001b[0m\u001b[0;32m      2\u001b[0m \u001b[1;32mprint\u001b[0m\u001b[1;33m(\u001b[0m\u001b[0mframe2\u001b[0m\u001b[1;33m)\u001b[0m\u001b[1;33m\u001b[0m\u001b[0m\n\u001b[0;32m      3\u001b[0m \u001b[0mval\u001b[0m \u001b[1;33m=\u001b[0m \u001b[0mSeries\u001b[0m\u001b[1;33m(\u001b[0m\u001b[1;33m[\u001b[0m\u001b[1;36m10\u001b[0m\u001b[1;33m,\u001b[0m \u001b[1;36m20\u001b[0m\u001b[1;33m,\u001b[0m \u001b[1;36m30\u001b[0m\u001b[1;33m]\u001b[0m\u001b[1;33m,\u001b[0m \u001b[0mindex\u001b[0m\u001b[1;33m=\u001b[0m\u001b[1;33m[\u001b[0m\u001b[1;34m'two'\u001b[0m\u001b[1;33m,\u001b[0m \u001b[1;34m'four'\u001b[0m\u001b[1;33m,\u001b[0m \u001b[1;34m'five'\u001b[0m\u001b[1;33m]\u001b[0m\u001b[1;33m)\u001b[0m\u001b[1;33m\u001b[0m\u001b[0m\n\u001b[0;32m      4\u001b[0m \u001b[0mframe2\u001b[0m\u001b[1;33m[\u001b[0m\u001b[1;34m'debt'\u001b[0m\u001b[1;33m]\u001b[0m \u001b[1;33m=\u001b[0m \u001b[0mval\u001b[0m\u001b[1;33m\u001b[0m\u001b[0m\n\u001b[0;32m      5\u001b[0m \u001b[1;32mprint\u001b[0m\u001b[1;33m(\u001b[0m\u001b[0mframe2\u001b[0m\u001b[1;33m)\u001b[0m\u001b[1;33m\u001b[0m\u001b[0m\n",
      "\u001b[1;31mNameError\u001b[0m: name 'frame2' is not defined"
     ]
    }
   ],
   "source": [
    "frame2['debt'] = 16.5\n",
    "print(frame2)\n",
    "val = Series([10, 20, 30], index=['two', 'four', 'five'])\n",
    "frame2['debt'] = val\n",
    "print(frame2)\n",
    "frame2['eastern'] = frame2.state == 'Ohio'\n",
    "print(frame2)"
   ]
  },
  {
   "cell_type": "markdown",
   "metadata": {},
   "source": [
    "### DELETE\n",
    "###DROP orig data is not dropped!"
   ]
  },
  {
   "cell_type": "code",
   "execution_count": 58,
   "metadata": {
    "collapsed": false
   },
   "outputs": [
    {
     "name": "stdout",
     "output_type": "stream",
     "text": [
      "not a DELETE cause create a new OBJ\n",
      "select * from (select * from T1 where ROWID<> c)\n",
      "ORIGINAL\n",
      "a    0\n",
      "b    1\n",
      "c    2\n",
      "d    3\n",
      "dtype: int32\n",
      "without index C\n",
      "a    0\n",
      "b    1\n",
      "d    3\n",
      "dtype: int32\n",
      "-------------------------------------\n",
      "ORIGINAL\n",
      "          one  two  three  four\n",
      "Ohio        0    1      2     3\n",
      "Colorado    4    5      6     7\n",
      "Utah        8    9     10    11\n",
      "New York   12   13     14    15\n",
      "delete where index/ROWID in (Colorado,Ohio)\n",
      "          one  two  three  four\n",
      "Utah        8    9     10    11\n",
      "New York   12   13     14    15\n",
      "DROP Column col1 \n",
      "          one  three  four\n",
      "Ohio        0      2     3\n",
      "Colorado    4      6     7\n",
      "Utah        8     10    11\n",
      "New York   12     14    15\n",
      "antani pagliaccio\n",
      "          one  three\n",
      "Ohio        0      2\n",
      "Colorado    4      6\n",
      "Utah        8     10\n",
      "New York   12     14\n"
     ]
    }
   ],
   "source": [
    "data = DataFrame(np.arange(16).reshape((4, 4)),index=['Ohio', 'Colorado', 'Utah', 'New York'],columns=['one', 'two', 'three', 'four'])\n",
    "print('ORIGINAL')\n",
    "print(data)\n",
    "print('delete where index/ROWID in (Colorado,Ohio)')\n",
    "print(data.drop(['Colorado', 'Ohio']) )\n",
    "print('DROP Column col1 ')\n",
    "print(data.drop('two', axis=1))\n",
    "print('antani pagliaccio')\n",
    "print(data.drop(['two', 'four'], axis=1))"
   ]
  },
  {
   "cell_type": "markdown",
   "metadata": {},
   "source": [
    "<a id=\"ad\"></a>\n",
    "###append"
   ]
  },
  {
   "cell_type": "code",
   "execution_count": 64,
   "metadata": {
    "collapsed": false
   },
   "outputs": [
    {
     "data": {
      "text/html": [
       "<div style=\"max-height:1000px;max-width:1500px;overflow:auto;\">\n",
       "<table border=\"1\" class=\"dataframe\">\n",
       "  <thead>\n",
       "    <tr style=\"text-align: right;\">\n",
       "      <th></th>\n",
       "      <th>pop</th>\n",
       "      <th>state</th>\n",
       "      <th>year</th>\n",
       "    </tr>\n",
       "  </thead>\n",
       "  <tbody>\n",
       "    <tr>\n",
       "      <th>0</th>\n",
       "      <td> 1.5</td>\n",
       "      <td>      Ohio</td>\n",
       "      <td> 2000</td>\n",
       "    </tr>\n",
       "    <tr>\n",
       "      <th>1</th>\n",
       "      <td> 1.7</td>\n",
       "      <td>      Ohio</td>\n",
       "      <td> 2001</td>\n",
       "    </tr>\n",
       "    <tr>\n",
       "      <th>2</th>\n",
       "      <td> 3.6</td>\n",
       "      <td>      Ohio</td>\n",
       "      <td> 2002</td>\n",
       "    </tr>\n",
       "    <tr>\n",
       "      <th>3</th>\n",
       "      <td> 2.4</td>\n",
       "      <td>    Nevada</td>\n",
       "      <td> 2001</td>\n",
       "    </tr>\n",
       "    <tr>\n",
       "      <th>4</th>\n",
       "      <td> 2.9</td>\n",
       "      <td>    Nevada</td>\n",
       "      <td> 2002</td>\n",
       "    </tr>\n",
       "    <tr>\n",
       "      <th>0</th>\n",
       "      <td> 3.0</td>\n",
       "      <td> New state</td>\n",
       "      <td> 2020</td>\n",
       "    </tr>\n",
       "    <tr>\n",
       "      <th>1</th>\n",
       "      <td> 0.1</td>\n",
       "      <td>  Barbados</td>\n",
       "      <td> 2021</td>\n",
       "    </tr>\n",
       "  </tbody>\n",
       "</table>\n",
       "</div>"
      ],
      "text/plain": [
       "   pop      state  year\n",
       "0  1.5       Ohio  2000\n",
       "1  1.7       Ohio  2001\n",
       "2  3.6       Ohio  2002\n",
       "3  2.4     Nevada  2001\n",
       "4  2.9     Nevada  2002\n",
       "0  3.0  New state  2020\n",
       "1  0.1   Barbados  2021"
      ]
     },
     "execution_count": 64,
     "metadata": {},
     "output_type": "execute_result"
    }
   ],
   "source": [
    "#append\n",
    "df1 = {'state': ['Ohio', 'Ohio', 'Ohio', 'Nevada', 'Nevada'],#Column 1\n",
    "        'year': [2000, 2001, 2002, 2001, 2002],#Column 2\n",
    "        'pop': [1.5, 1.7, 3.6, 2.4, 2.9]}#Column 3\n",
    "frame_1 = DataFrame(df1)\n",
    "df2 =  {'state': ['New state','Barbados'],#Column 1\n",
    "        'year': [2020,2021],#Column 2\n",
    "        'pop': [3,0.1]}#Column 3\n",
    "frame_2 = DataFrame(df2)\n",
    "frame_NEW=frame_1.append(frame_2)\n",
    "frame_NEW"
   ]
  },
  {
   "cell_type": "markdown",
   "metadata": {},
   "source": [
    "<a id=\"trd\"></a>\n",
    "### TRANSPOSE"
   ]
  },
  {
   "cell_type": "code",
   "execution_count": 36,
   "metadata": {
    "collapsed": false
   },
   "outputs": [
    {
     "data": {
      "text/html": [
       "<div style=\"max-height:1000px;max-width:1500px;overflow:auto;\">\n",
       "<table border=\"1\" class=\"dataframe\">\n",
       "  <thead>\n",
       "    <tr style=\"text-align: right;\">\n",
       "      <th></th>\n",
       "      <th>Nevada</th>\n",
       "      <th>Ohio</th>\n",
       "    </tr>\n",
       "  </thead>\n",
       "  <tbody>\n",
       "    <tr>\n",
       "      <th>2000</th>\n",
       "      <td> NaN</td>\n",
       "      <td> 1.5</td>\n",
       "    </tr>\n",
       "    <tr>\n",
       "      <th>2001</th>\n",
       "      <td> 2.4</td>\n",
       "      <td> 1.7</td>\n",
       "    </tr>\n",
       "    <tr>\n",
       "      <th>2002</th>\n",
       "      <td> 2.9</td>\n",
       "      <td> 3.6</td>\n",
       "    </tr>\n",
       "  </tbody>\n",
       "</table>\n",
       "</div>"
      ],
      "text/plain": [
       "      Nevada  Ohio\n",
       "2000     NaN   1.5\n",
       "2001     2.4   1.7\n",
       "2002     2.9   3.6"
      ]
     },
     "execution_count": 36,
     "metadata": {},
     "output_type": "execute_result"
    }
   ],
   "source": [
    "pop = {'Nevada': {2001: 2.4, 2002: 2.9},'Ohio': {2000: 1.5, 2001: 1.7, 2002: 3.6}}\n",
    "frame3 = DataFrame(pop)\n",
    "frame3"
   ]
  },
  {
   "cell_type": "code",
   "execution_count": 35,
   "metadata": {
    "collapsed": false
   },
   "outputs": [
    {
     "data": {
      "text/html": [
       "<div style=\"max-height:1000px;max-width:1500px;overflow:auto;\">\n",
       "<table border=\"1\" class=\"dataframe\">\n",
       "  <thead>\n",
       "    <tr style=\"text-align: right;\">\n",
       "      <th></th>\n",
       "      <th>2000</th>\n",
       "      <th>2001</th>\n",
       "      <th>2002</th>\n",
       "    </tr>\n",
       "  </thead>\n",
       "  <tbody>\n",
       "    <tr>\n",
       "      <th>Nevada</th>\n",
       "      <td> NaN</td>\n",
       "      <td> 2.4</td>\n",
       "      <td> 2.9</td>\n",
       "    </tr>\n",
       "    <tr>\n",
       "      <th>Ohio</th>\n",
       "      <td> 1.5</td>\n",
       "      <td> 1.7</td>\n",
       "      <td> 3.6</td>\n",
       "    </tr>\n",
       "  </tbody>\n",
       "</table>\n",
       "</div>"
      ],
      "text/plain": [
       "        2000  2001  2002\n",
       "Nevada   NaN   2.4   2.9\n",
       "Ohio     1.5   1.7   3.6"
      ]
     },
     "execution_count": 35,
     "metadata": {},
     "output_type": "execute_result"
    }
   ],
   "source": [
    "frame3.T"
   ]
  },
  {
   "cell_type": "markdown",
   "metadata": {},
   "source": [
    "<a id=\"diffd\"></a>\n",
    "###Diff"
   ]
  },
  {
   "cell_type": "code",
   "execution_count": 1,
   "metadata": {
    "collapsed": false
   },
   "outputs": [],
   "source": [
    "#Diff\n",
    "df1 = {'state': ['Ohio', 'Ohio', 'Ohio', 'Nevada', 'Nevada'],#Column 1\n",
    "        'year': [2000, 2001, 2002, 2001, 2002],#Column 2\n",
    "        'pop': [1.5, 1.7, 3.6, 2.4, 2.9]}#Column 3\n",
    "frame_1 = DataFrame(df1)\n",
    "df2 = {'state': ['Ohio', 'Zurich'],#Column 1\n",
    "        'year': [2000, 2010],#Column 2\n",
    "        'pop': [1.5, 1.7]}#Column 3\n",
    "\n",
    "frame_2 = DataFrame(df2)\n",
    "frame_DIFF=frame_1.diff(frame_2)\n",
    "frame_DIFF"
   ]
  },
  {
   "cell_type": "markdown",
   "metadata": {},
   "source": [
    "### ORDERING RANK SORT\n",
    "<a id=\"ordd\"></a>"
   ]
  },
  {
   "cell_type": "markdown",
   "metadata": {},
   "source": [
    "###SORT"
   ]
  },
  {
   "cell_type": "code",
   "execution_count": null,
   "metadata": {
    "collapsed": true
   },
   "outputs": [],
   "source": [
    "df.sort_index(axis=1, ascending=False)\n",
    "df.sort_values(by='B')\n",
    "baseball_newind.sort_index().head()\n",
    "baseball.hr.order(ascending=False)\n",
    "baseball.hr.rank()\n"
   ]
  },
  {
   "cell_type": "code",
   "execution_count": 28,
   "metadata": {
    "collapsed": false
   },
   "outputs": [
    {
     "name": "stdout",
     "output_type": "stream",
     "text": [
      "d    4.5\n",
      "b    7.2\n",
      "a   -5.3\n",
      "c    3.6\n",
      "dtype: float64\n",
      "reindexed -------\n",
      "a   -5.3\n",
      "b    7.2\n",
      "c    3.6\n",
      "d    4.5\n",
      "e    0.0\n",
      "dtype: float64\n",
      "          one  two  three  four\n",
      "Ohio        0    1      2     3\n",
      "Colorado    4    5      6     7\n",
      "Utah        8    9     10    11\n",
      "New York   12   13     14    15\n",
      "two      5\n",
      "three    6\n",
      "Name: Colorado, dtype: int32\n",
      "          four  one  two\n",
      "Colorado     7    4    5\n",
      "Utah        11    8    9\n",
      "one       8\n",
      "two       9\n",
      "three    10\n",
      "four     11\n",
      "Name: Utah, dtype: int32\n",
      "Ohio        1\n",
      "Colorado    5\n",
      "Utah        9\n",
      "Name: two, dtype: int32\n",
      "          one  two  three\n",
      "Colorado    4    5      6\n",
      "Utah        8    9     10\n",
      "New York   12   13     14\n"
     ]
    }
   ],
   "source": [
    "#############ALTERNATIVE\n",
    "data = DataFrame(np.arange(16).reshape((4, 4)),index=['Ohio', 'Colorado', 'Utah', 'New York'],columns=['one', 'two', 'three', 'four'])\n",
    "print(data)\n",
    "print(data.ix['Colorado', ['two', 'three']])\n",
    "print(data.ix[['Colorado', 'Utah'], [3, 0, 1]])\n",
    "\n",
    "print(data.ix[2] )\n",
    "print(data.ix[:'Utah', 'two'] )\n",
    "print(data.ix[data.three > 5, :3] )"
   ]
  },
  {
   "cell_type": "markdown",
   "metadata": {},
   "source": [
    "#### SORT index or axis (NON MUOVE I DATI MA L'INTERA COLONNA!!!)"
   ]
  },
  {
   "cell_type": "code",
   "execution_count": 87,
   "metadata": {
    "collapsed": false
   },
   "outputs": [
    {
     "name": "stdout",
     "output_type": "stream",
     "text": [
      "0    99\n",
      "1    25\n",
      "2    25\n",
      "3     0\n",
      "dtype: int64\n",
      "Sort by Values\n",
      "3     0\n",
      "1    25\n",
      "2    25\n",
      "0    99\n",
      "dtype: int64\n",
      "Sort by Values (DESCENDING)\n",
      "0    99\n",
      "2    25\n",
      "1    25\n",
      "3     0\n",
      "dtype: int64\n",
      "frame\n",
      "   a  b\n",
      "0  0  4\n",
      "1  1  7\n",
      "2  0 -3\n",
      "3  1  2\n",
      "SORT 1 SOLA COLONNA, le row restano ferme!!!!\n",
      "   a  b\n",
      "2  0 -3\n",
      "3  1  2\n",
      "0  0  4\n",
      "1  1  7\n",
      "Ranking (of Indexes)...some kind of weighting going on\n",
      "0    4.0\n",
      "1    2.5\n",
      "2    2.5\n",
      "3    1.0\n",
      "dtype: float64\n"
     ]
    }
   ],
   "source": [
    "#Order\n",
    "obj = Series([99, 25, 25,0])\n",
    "print( obj  )\n",
    "print(\"Sort by Values\")\n",
    "print( obj.order()  )\n",
    "print(\"Sort by Values (DESCENDING)\")\n",
    "print( obj.order(ascending=False)  )\n",
    "\n",
    "frame = DataFrame({'b': [4, 7, -3, 2], 'a': [0, 1, 0, 1]})\n",
    "print( 'frame'   )\n",
    "print( frame   )\n",
    "print(\"SORT 1 SOLA COLONNA, le row restano ferme!!!!\")\n",
    "print( frame.sort_index(by='b')  )\n"
   ]
  },
  {
   "cell_type": "markdown",
   "metadata": {},
   "source": [
    "#### RANKING"
   ]
  },
  {
   "cell_type": "code",
   "execution_count": 74,
   "metadata": {
    "collapsed": false
   },
   "outputs": [
    {
     "name": "stdout",
     "output_type": "stream",
     "text": [
      "   a   b     c\n",
      "0  0  30    -2\n",
      "1  1  40     4\n",
      "2  0  10     8\n",
      "3  1  20 -1000\n",
      "Ranking : return the Rank of relative index\n",
      "   a  b  c\n",
      "0  2  3  1\n",
      "1  1  3  2\n",
      "2  1  3  2\n",
      "3  2  3  1\n"
     ]
    }
   ],
   "source": [
    "#Ranking\n",
    "print(\"Ranking (of Indexes)...some kind of weighting going on\")#return the Rank of relative index\n",
    "print(obj.rank())\n",
    "\n",
    "#Ranking\n",
    "frame = DataFrame({'b': [30, 40, 10, 20], 'a': [0, 1, 0, 1], 'c': [-2, 4, 8, -1000]})\n",
    "print(frame)\n",
    "print(\"Ranking : return the Rank in the AXIS\")#return the Rank of relative index\n",
    "print(frame.rank(axis=1))\n"
   ]
  },
  {
   "cell_type": "code",
   "execution_count": 76,
   "metadata": {
    "collapsed": false
   },
   "outputs": [
    {
     "name": "stdout",
     "output_type": "stream",
     "text": [
      "a    0\n",
      "a    1\n",
      "b    2\n",
      "b    3\n",
      "c    4\n",
      "dtype: int64\n",
      "False\n"
     ]
    }
   ],
   "source": [
    "obj = Series(range(5), index=['a', 'a', 'b', 'b', 'c'])\n",
    "print( obj   )\n",
    "print( obj.index.is_unique   )"
   ]
  },
  {
   "cell_type": "markdown",
   "metadata": {},
   "source": [
    "###broadcast\n",
    "<a id=\"broadcastd\"></a>"
   ]
  },
  {
   "cell_type": "code",
   "execution_count": 63,
   "metadata": {
    "collapsed": false
   },
   "outputs": [
    {
     "name": "stdout",
     "output_type": "stream",
     "text": [
      "frame\n",
      "             b         d         e\n",
      "Utah  0.606668 -0.138391  0.555978\n",
      "Ohio -2.465031 -0.004143 -1.970257\n",
      "np.abs(frame)\n",
      "             b         d         e\n",
      "Utah  0.606668  0.138391  0.555978\n",
      "Ohio  2.465031  0.004143  1.970257\n"
     ]
    }
   ],
   "source": [
    "frame = DataFrame(np.random.randn(2, 3), columns=list('bde')\n",
    "                  , index=['Utah', 'Ohio'])\n",
    "print('frame')\n",
    "print(frame)\n",
    "print('np.abs(frame)')\n",
    "print(np.abs(frame))\n"
   ]
  },
  {
   "cell_type": "markdown",
   "metadata": {
    "collapsed": false
   },
   "source": [
    "### LAMBDA FUNCTIONS (group by  ror or col)\n",
    "<a id=\"lambdad\"></a>"
   ]
  },
  {
   "cell_type": "code",
   "execution_count": 81,
   "metadata": {
    "collapsed": false
   },
   "outputs": [
    {
     "name": "stdout",
     "output_type": "stream",
     "text": [
      "frame\n",
      "      col1  col2  col3\n",
      "row1     1     1     1\n",
      "row2     3     4     5\n",
      "Apply Lambda Function\n",
      "col1    2\n",
      "col2    3\n",
      "col3    4\n",
      "dtype: int64\n",
      "Apply Lambda Function f_sum:lambda x: x.sum()\n",
      "col1    4\n",
      "col2    5\n",
      "col3    6\n",
      "dtype: int64\n",
      "Apply Lambda Function f_sum:lambda x: x.sum()\n",
      "row1     3\n",
      "row2    12\n",
      "dtype: int64\n"
     ]
    }
   ],
   "source": [
    "#apply function on a column level or row level\n",
    "import numpy as np\n",
    "frame = DataFrame( [[1,1,1],[3,4,5]],['row1','row2'],['col1','col2','col3'])\n",
    "f = lambda x: x.max() - x.min()\n",
    "print('frame')\n",
    "print(frame)\n",
    "print('Apply Lambda Function')\n",
    "print(frame.apply(f) )\n",
    "f_sum = lambda x: x.sum()\n",
    "print('Apply Lambda Function f_sum:lambda x: x.sum()')\n",
    "print(frame.apply(f_sum) )\n",
    "print('Apply Lambda Function f_sum:lambda x: x.sum()')\n",
    "print(frame.apply(f_sum,axis=1) )\n"
   ]
  },
  {
   "cell_type": "markdown",
   "metadata": {},
   "source": [
    "### UNION :CONCAT (bind,stacking)"
   ]
  },
  {
   "cell_type": "code",
   "execution_count": 33,
   "metadata": {
    "collapsed": false
   },
   "outputs": [
    {
     "name": "stdout",
     "output_type": "stream",
     "text": [
      "[[ 0  1  2  3]\n",
      " [ 4  5  6  7]\n",
      " [ 8  9 10 11]]\n",
      "[[ 0  1  2  3  0  1  2  3]\n",
      " [ 4  5  6  7  4  5  6  7]\n",
      " [ 8  9 10 11  8  9 10 11]]\n"
     ]
    }
   ],
   "source": [
    "arr = np.arange(12).reshape((3, 4))\n",
    "concatenated=np.concatenate([arr, arr], axis=1)\n",
    "print(arr)\n",
    "print(concatenated)"
   ]
  },
  {
   "cell_type": "code",
   "execution_count": 34,
   "metadata": {
    "collapsed": false
   },
   "outputs": [
    {
     "data": {
      "text/plain": [
       "a    0\n",
       "b    1\n",
       "c    2\n",
       "d    3\n",
       "e    4\n",
       "f    5\n",
       "g    6\n",
       "dtype: int64"
      ]
     },
     "execution_count": 34,
     "metadata": {},
     "output_type": "execute_result"
    }
   ],
   "source": [
    "#Concat Series\n",
    "s1 = Series([0, 1], index=['a', 'b'])\n",
    "s2 = Series([2, 3, 4], index=['c', 'd', 'e'])\n",
    "s3 = Series([5, 6], index=['f', 'g'])\n",
    "pd.concat([s1, s2, s3])"
   ]
  },
  {
   "cell_type": "code",
   "execution_count": 35,
   "metadata": {
    "collapsed": false
   },
   "outputs": [
    {
     "data": {
      "text/html": [
       "<div style=\"max-height:1000px;max-width:1500px;overflow:auto;\">\n",
       "<table border=\"1\" class=\"dataframe\">\n",
       "  <thead>\n",
       "    <tr style=\"text-align: right;\">\n",
       "      <th></th>\n",
       "      <th>0</th>\n",
       "      <th>1</th>\n",
       "      <th>2</th>\n",
       "    </tr>\n",
       "  </thead>\n",
       "  <tbody>\n",
       "    <tr>\n",
       "      <th>a</th>\n",
       "      <td>  0</td>\n",
       "      <td>NaN</td>\n",
       "      <td>NaN</td>\n",
       "    </tr>\n",
       "    <tr>\n",
       "      <th>b</th>\n",
       "      <td>  1</td>\n",
       "      <td>NaN</td>\n",
       "      <td>NaN</td>\n",
       "    </tr>\n",
       "    <tr>\n",
       "      <th>c</th>\n",
       "      <td>NaN</td>\n",
       "      <td>  2</td>\n",
       "      <td>NaN</td>\n",
       "    </tr>\n",
       "    <tr>\n",
       "      <th>d</th>\n",
       "      <td>NaN</td>\n",
       "      <td>  3</td>\n",
       "      <td>NaN</td>\n",
       "    </tr>\n",
       "    <tr>\n",
       "      <th>e</th>\n",
       "      <td>NaN</td>\n",
       "      <td>  4</td>\n",
       "      <td>NaN</td>\n",
       "    </tr>\n",
       "    <tr>\n",
       "      <th>f</th>\n",
       "      <td>NaN</td>\n",
       "      <td>NaN</td>\n",
       "      <td>  5</td>\n",
       "    </tr>\n",
       "    <tr>\n",
       "      <th>g</th>\n",
       "      <td>NaN</td>\n",
       "      <td>NaN</td>\n",
       "      <td>  6</td>\n",
       "    </tr>\n",
       "  </tbody>\n",
       "</table>\n",
       "</div>"
      ],
      "text/plain": [
       "    0   1   2\n",
       "a   0 NaN NaN\n",
       "b   1 NaN NaN\n",
       "c NaN   2 NaN\n",
       "d NaN   3 NaN\n",
       "e NaN   4 NaN\n",
       "f NaN NaN   5\n",
       "g NaN NaN   6"
      ]
     },
     "execution_count": 35,
     "metadata": {},
     "output_type": "execute_result"
    }
   ],
   "source": [
    "pd.concat([s1, s2, s3], axis=1)"
   ]
  },
  {
   "cell_type": "code",
   "execution_count": 37,
   "metadata": {
    "collapsed": false
   },
   "outputs": [
    {
     "data": {
      "text/plain": [
       "a    0\n",
       "b    5\n",
       "f    5\n",
       "g    6\n",
       "dtype: int64"
      ]
     },
     "execution_count": 37,
     "metadata": {},
     "output_type": "execute_result"
    }
   ],
   "source": [
    "s4 = pd.concat([s1 , s3])\n",
    "s4\n",
    "pd.concat([s1, s4], axis=1, join_axes=[['a', 'c', 'b', 'e']])"
   ]
  },
  {
   "cell_type": "markdown",
   "metadata": {},
   "source": [
    "# DELETE duplicates"
   ]
  },
  {
   "cell_type": "code",
   "execution_count": 28,
   "metadata": {
    "collapsed": false
   },
   "outputs": [
    {
     "data": {
      "text/plain": [
       "0    False\n",
       "1     True\n",
       "2    False\n",
       "3    False\n",
       "4     True\n",
       "5    False\n",
       "6     True\n",
       "dtype: bool"
      ]
     },
     "execution_count": 28,
     "metadata": {},
     "output_type": "execute_result"
    }
   ],
   "source": [
    "data = pd.DataFrame({'k1': ['one'] * 3 + ['two'] * 4, 'k2': [1, 1, 2, 3, 3, 4, 4]})\n",
    "data\n",
    "data.duplicated()"
   ]
  },
  {
   "cell_type": "code",
   "execution_count": 29,
   "metadata": {
    "collapsed": false
   },
   "outputs": [
    {
     "data": {
      "text/html": [
       "<div style=\"max-height:1000px;max-width:1500px;overflow:auto;\">\n",
       "<table border=\"1\" class=\"dataframe\">\n",
       "  <thead>\n",
       "    <tr style=\"text-align: right;\">\n",
       "      <th></th>\n",
       "      <th>k1</th>\n",
       "      <th>k2</th>\n",
       "    </tr>\n",
       "  </thead>\n",
       "  <tbody>\n",
       "    <tr>\n",
       "      <th>0</th>\n",
       "      <td> one</td>\n",
       "      <td> 1</td>\n",
       "    </tr>\n",
       "    <tr>\n",
       "      <th>2</th>\n",
       "      <td> one</td>\n",
       "      <td> 2</td>\n",
       "    </tr>\n",
       "    <tr>\n",
       "      <th>3</th>\n",
       "      <td> two</td>\n",
       "      <td> 3</td>\n",
       "    </tr>\n",
       "    <tr>\n",
       "      <th>5</th>\n",
       "      <td> two</td>\n",
       "      <td> 4</td>\n",
       "    </tr>\n",
       "  </tbody>\n",
       "</table>\n",
       "</div>"
      ],
      "text/plain": [
       "    k1  k2\n",
       "0  one   1\n",
       "2  one   2\n",
       "3  two   3\n",
       "5  two   4"
      ]
     },
     "execution_count": 29,
     "metadata": {},
     "output_type": "execute_result"
    }
   ],
   "source": [
    "data.drop_duplicates()"
   ]
  },
  {
   "cell_type": "code",
   "execution_count": 30,
   "metadata": {
    "collapsed": false
   },
   "outputs": [
    {
     "data": {
      "text/html": [
       "<div style=\"max-height:1000px;max-width:1500px;overflow:auto;\">\n",
       "<table border=\"1\" class=\"dataframe\">\n",
       "  <thead>\n",
       "    <tr style=\"text-align: right;\">\n",
       "      <th></th>\n",
       "      <th>k1</th>\n",
       "      <th>k2</th>\n",
       "    </tr>\n",
       "  </thead>\n",
       "  <tbody>\n",
       "    <tr>\n",
       "      <th>0</th>\n",
       "      <td> one</td>\n",
       "      <td> 1</td>\n",
       "    </tr>\n",
       "    <tr>\n",
       "      <th>1</th>\n",
       "      <td> one</td>\n",
       "      <td> 1</td>\n",
       "    </tr>\n",
       "    <tr>\n",
       "      <th>2</th>\n",
       "      <td> one</td>\n",
       "      <td> 2</td>\n",
       "    </tr>\n",
       "    <tr>\n",
       "      <th>3</th>\n",
       "      <td> two</td>\n",
       "      <td> 3</td>\n",
       "    </tr>\n",
       "    <tr>\n",
       "      <th>4</th>\n",
       "      <td> two</td>\n",
       "      <td> 3</td>\n",
       "    </tr>\n",
       "    <tr>\n",
       "      <th>5</th>\n",
       "      <td> two</td>\n",
       "      <td> 4</td>\n",
       "    </tr>\n",
       "    <tr>\n",
       "      <th>6</th>\n",
       "      <td> two</td>\n",
       "      <td> 4</td>\n",
       "    </tr>\n",
       "  </tbody>\n",
       "</table>\n",
       "</div>"
      ],
      "text/plain": [
       "    k1  k2\n",
       "0  one   1\n",
       "1  one   1\n",
       "2  one   2\n",
       "3  two   3\n",
       "4  two   3\n",
       "5  two   4\n",
       "6  two   4"
      ]
     },
     "execution_count": 30,
     "metadata": {},
     "output_type": "execute_result"
    }
   ],
   "source": [
    "data"
   ]
  },
  {
   "cell_type": "code",
   "execution_count": 31,
   "metadata": {
    "collapsed": false
   },
   "outputs": [
    {
     "data": {
      "text/html": [
       "<div style=\"max-height:1000px;max-width:1500px;overflow:auto;\">\n",
       "<table border=\"1\" class=\"dataframe\">\n",
       "  <thead>\n",
       "    <tr style=\"text-align: right;\">\n",
       "      <th></th>\n",
       "      <th>k1</th>\n",
       "      <th>k2</th>\n",
       "      <th>v1</th>\n",
       "    </tr>\n",
       "  </thead>\n",
       "  <tbody>\n",
       "    <tr>\n",
       "      <th>0</th>\n",
       "      <td> one</td>\n",
       "      <td> 1</td>\n",
       "      <td> 0</td>\n",
       "    </tr>\n",
       "    <tr>\n",
       "      <th>1</th>\n",
       "      <td> one</td>\n",
       "      <td> 1</td>\n",
       "      <td> 1</td>\n",
       "    </tr>\n",
       "    <tr>\n",
       "      <th>2</th>\n",
       "      <td> one</td>\n",
       "      <td> 2</td>\n",
       "      <td> 2</td>\n",
       "    </tr>\n",
       "    <tr>\n",
       "      <th>3</th>\n",
       "      <td> two</td>\n",
       "      <td> 3</td>\n",
       "      <td> 3</td>\n",
       "    </tr>\n",
       "    <tr>\n",
       "      <th>4</th>\n",
       "      <td> two</td>\n",
       "      <td> 3</td>\n",
       "      <td> 4</td>\n",
       "    </tr>\n",
       "    <tr>\n",
       "      <th>5</th>\n",
       "      <td> two</td>\n",
       "      <td> 4</td>\n",
       "      <td> 5</td>\n",
       "    </tr>\n",
       "    <tr>\n",
       "      <th>6</th>\n",
       "      <td> two</td>\n",
       "      <td> 4</td>\n",
       "      <td> 6</td>\n",
       "    </tr>\n",
       "  </tbody>\n",
       "</table>\n",
       "</div>"
      ],
      "text/plain": [
       "    k1  k2  v1\n",
       "0  one   1   0\n",
       "1  one   1   1\n",
       "2  one   2   2\n",
       "3  two   3   3\n",
       "4  two   3   4\n",
       "5  two   4   5\n",
       "6  two   4   6"
      ]
     },
     "execution_count": 31,
     "metadata": {},
     "output_type": "execute_result"
    }
   ],
   "source": [
    "data['v1'] = range(7)\n",
    "data"
   ]
  },
  {
   "cell_type": "code",
   "execution_count": 32,
   "metadata": {
    "collapsed": false
   },
   "outputs": [
    {
     "data": {
      "text/html": [
       "<div style=\"max-height:1000px;max-width:1500px;overflow:auto;\">\n",
       "<table border=\"1\" class=\"dataframe\">\n",
       "  <thead>\n",
       "    <tr style=\"text-align: right;\">\n",
       "      <th></th>\n",
       "      <th>k1</th>\n",
       "      <th>k2</th>\n",
       "      <th>v1</th>\n",
       "    </tr>\n",
       "  </thead>\n",
       "  <tbody>\n",
       "    <tr>\n",
       "      <th>0</th>\n",
       "      <td> one</td>\n",
       "      <td> 1</td>\n",
       "      <td> 0</td>\n",
       "    </tr>\n",
       "    <tr>\n",
       "      <th>3</th>\n",
       "      <td> two</td>\n",
       "      <td> 3</td>\n",
       "      <td> 3</td>\n",
       "    </tr>\n",
       "  </tbody>\n",
       "</table>\n",
       "</div>"
      ],
      "text/plain": [
       "    k1  k2  v1\n",
       "0  one   1   0\n",
       "3  two   3   3"
      ]
     },
     "execution_count": 32,
     "metadata": {},
     "output_type": "execute_result"
    }
   ],
   "source": [
    "data.drop_duplicates(['k1'])"
   ]
  },
  {
   "cell_type": "markdown",
   "metadata": {},
   "source": [
    "##binning\n",
    "<a id=\"binning\"></a>\n"
   ]
  },
  {
   "cell_type": "code",
   "execution_count": 32,
   "metadata": {
    "collapsed": false
   },
   "outputs": [
    {
     "data": {
      "text/plain": [
       "(100, 1000]    1\n",
       "(10, 100]      0\n",
       "dtype: int64"
      ]
     },
     "execution_count": 32,
     "metadata": {},
     "output_type": "execute_result"
    }
   ],
   "source": [
    "#letture.codes\n",
    "#letture.categories \n",
    "pd.value_counts(letture)\n"
   ]
  },
  {
   "cell_type": "code",
   "execution_count": 39,
   "metadata": {
    "collapsed": false
   },
   "outputs": [
    {
     "data": {
      "text/plain": [
       "[(50, 75], (0, 25], (25, 50], (75, 100], (25, 50], (50, 75]]\n",
       "Categories (4, object): [(0, 25] < (25, 50] < (50, 75] < (75, 100]]"
      ]
     },
     "execution_count": 39,
     "metadata": {},
     "output_type": "execute_result"
    }
   ],
   "source": [
    "#Continuos to discrete\n",
    "#Continuos  55, 22, 44,88, 27, 62\n",
    "#Discrete\n",
    "#0             X           X\n",
    "#25                 X      \n",
    "#50         X    \n",
    "#75                    X       X\n",
    "#100\n",
    "ages = [55, 22, 44,88, 27, 62]\n",
    "bins = [0, 25, 50, 75, 100]\n",
    "customer = pd.cut(ages, bins)\n",
    "customer\n"
   ]
  },
  {
   "cell_type": "code",
   "execution_count": 45,
   "metadata": {
    "collapsed": false
   },
   "outputs": [
    {
     "data": {
      "text/plain": [
       "[MiddleAged, Youth, YoungAdult, Senior, YoungAdult, MiddleAged]\n",
       "Categories (4, object): [Youth < YoungAdult < MiddleAged < Senior]"
      ]
     },
     "execution_count": 45,
     "metadata": {},
     "output_type": "execute_result"
    }
   ],
   "source": [
    "#Rename the categories\n",
    "group_names = ['Youth', 'YoungAdult', 'MiddleAged', 'Senior']\n",
    "customer = pd.cut(ages, bins,labels=group_names)\n",
    "customer"
   ]
  },
  {
   "cell_type": "code",
   "execution_count": 40,
   "metadata": {
    "collapsed": false,
    "scrolled": true
   },
   "outputs": [
    {
     "data": {
      "text/plain": [
       "(50, 75]     2\n",
       "(25, 50]     2\n",
       "(75, 100]    1\n",
       "(0, 25]      1\n",
       "dtype: int64"
      ]
     },
     "execution_count": 40,
     "metadata": {},
     "output_type": "execute_result"
    }
   ],
   "source": [
    "pd.value_counts(customer)"
   ]
  },
  {
   "cell_type": "code",
   "execution_count": 44,
   "metadata": {
    "collapsed": false
   },
   "outputs": [
    {
     "data": {
      "text/plain": [
       "[(49.5, 60.25], [22, 31.25], (31.25, 49.5], (60.25, 88], [22, 31.25], (60.25, 88]]\n",
       "Categories (4, object): [[22, 31.25] < (31.25, 49.5] < (49.5, 60.25] < (60.25, 88]]"
      ]
     },
     "execution_count": 44,
     "metadata": {},
     "output_type": "execute_result"
    }
   ],
   "source": [
    "#Il bucket ti dice in quale quartile il dato e' caduto dentro\n",
    "quartiled_data = pd.qcut(ages, 4) # Cut into quartiles\n",
    "quartiled_data"
   ]
  },
  {
   "cell_type": "code",
   "execution_count": 47,
   "metadata": {
    "collapsed": false
   },
   "outputs": [
    {
     "data": {
      "text/plain": [
       "97     3.927528\n",
       "305   -3.399312\n",
       "400   -3.745356\n",
       "Name: 3, dtype: float64"
      ]
     },
     "execution_count": 47,
     "metadata": {},
     "output_type": "execute_result"
    }
   ],
   "source": [
    "#Filtering outliar\n",
    "np.random.seed(12345)\n",
    "data = pd.DataFrame(np.random.randn(1000, 4))\n",
    "#data\n",
    "col = data[3]\n",
    "col[np.abs(col) > 3]"
   ]
  },
  {
   "cell_type": "code",
   "execution_count": 46,
   "metadata": {
    "collapsed": false
   },
   "outputs": [
    {
     "data": {
      "text/html": [
       "<div style=\"max-height:1000px;max-width:1500px;overflow:auto;\">\n",
       "<table border=\"1\" class=\"dataframe\">\n",
       "  <thead>\n",
       "    <tr style=\"text-align: right;\">\n",
       "      <th></th>\n",
       "      <th>0</th>\n",
       "      <th>1</th>\n",
       "      <th>2</th>\n",
       "      <th>3</th>\n",
       "    </tr>\n",
       "  </thead>\n",
       "  <tbody>\n",
       "    <tr>\n",
       "      <th>5  </th>\n",
       "      <td>-0.539741</td>\n",
       "      <td> 0.476985</td>\n",
       "      <td> 3.248944</td>\n",
       "      <td>-1.021228</td>\n",
       "    </tr>\n",
       "    <tr>\n",
       "      <th>97 </th>\n",
       "      <td>-0.774363</td>\n",
       "      <td> 0.552936</td>\n",
       "      <td> 0.106061</td>\n",
       "      <td> 3.927528</td>\n",
       "    </tr>\n",
       "    <tr>\n",
       "      <th>102</th>\n",
       "      <td>-0.655054</td>\n",
       "      <td>-0.565230</td>\n",
       "      <td> 3.176873</td>\n",
       "      <td> 0.959533</td>\n",
       "    </tr>\n",
       "    <tr>\n",
       "      <th>305</th>\n",
       "      <td>-2.315555</td>\n",
       "      <td> 0.457246</td>\n",
       "      <td>-0.025907</td>\n",
       "      <td>-3.399312</td>\n",
       "    </tr>\n",
       "    <tr>\n",
       "      <th>324</th>\n",
       "      <td> 0.050188</td>\n",
       "      <td> 1.951312</td>\n",
       "      <td> 3.260383</td>\n",
       "      <td> 0.963301</td>\n",
       "    </tr>\n",
       "    <tr>\n",
       "      <th>400</th>\n",
       "      <td> 0.146326</td>\n",
       "      <td> 0.508391</td>\n",
       "      <td>-0.196713</td>\n",
       "      <td>-3.745356</td>\n",
       "    </tr>\n",
       "    <tr>\n",
       "      <th>499</th>\n",
       "      <td>-0.293333</td>\n",
       "      <td>-0.242459</td>\n",
       "      <td>-3.056990</td>\n",
       "      <td> 1.918403</td>\n",
       "    </tr>\n",
       "    <tr>\n",
       "      <th>523</th>\n",
       "      <td>-3.428254</td>\n",
       "      <td>-0.296336</td>\n",
       "      <td>-0.439938</td>\n",
       "      <td>-0.867165</td>\n",
       "    </tr>\n",
       "    <tr>\n",
       "      <th>586</th>\n",
       "      <td> 0.275144</td>\n",
       "      <td> 1.179227</td>\n",
       "      <td>-3.184377</td>\n",
       "      <td> 1.369891</td>\n",
       "    </tr>\n",
       "    <tr>\n",
       "      <th>808</th>\n",
       "      <td>-0.362528</td>\n",
       "      <td>-3.548824</td>\n",
       "      <td> 1.553205</td>\n",
       "      <td>-2.186301</td>\n",
       "    </tr>\n",
       "    <tr>\n",
       "      <th>900</th>\n",
       "      <td> 3.366626</td>\n",
       "      <td>-2.372214</td>\n",
       "      <td> 0.851010</td>\n",
       "      <td> 1.332846</td>\n",
       "    </tr>\n",
       "  </tbody>\n",
       "</table>\n",
       "</div>"
      ],
      "text/plain": [
       "            0         1         2         3\n",
       "5   -0.539741  0.476985  3.248944 -1.021228\n",
       "97  -0.774363  0.552936  0.106061  3.927528\n",
       "102 -0.655054 -0.565230  3.176873  0.959533\n",
       "305 -2.315555  0.457246 -0.025907 -3.399312\n",
       "324  0.050188  1.951312  3.260383  0.963301\n",
       "400  0.146326  0.508391 -0.196713 -3.745356\n",
       "499 -0.293333 -0.242459 -3.056990  1.918403\n",
       "523 -3.428254 -0.296336 -0.439938 -0.867165\n",
       "586  0.275144  1.179227 -3.184377  1.369891\n",
       "808 -0.362528 -3.548824  1.553205 -2.186301\n",
       "900  3.366626 -2.372214  0.851010  1.332846"
      ]
     },
     "execution_count": 46,
     "metadata": {},
     "output_type": "execute_result"
    }
   ],
   "source": [
    "#To select all rows having a value exceeding 3 or -3, you can use the any method on a boolean DataFrame:\n",
    "data[(np.abs(data) > 3).any(1)]"
   ]
  },
  {
   "cell_type": "markdown",
   "metadata": {},
   "source": [
    "##file\n",
    "<a id=\"file\"></a>"
   ]
  },
  {
   "cell_type": "code",
   "execution_count": null,
   "metadata": {
    "collapsed": true
   },
   "outputs": [],
   "source": [
    "read_csv(skiprows=[3,4,6])\n",
    "na_values=['?', -99999]\n"
   ]
  }
 ],
 "metadata": {
  "kernelspec": {
   "display_name": "Python 2",
   "language": "python",
   "name": "python2"
  },
  "language_info": {
   "codemirror_mode": {
    "name": "ipython",
    "version": 2
   },
   "file_extension": ".py",
   "mimetype": "text/x-python",
   "name": "python",
   "nbconvert_exporter": "python",
   "pygments_lexer": "ipython2",
   "version": "2.7.10"
  }
 },
 "nbformat": 4,
 "nbformat_minor": 0
}
