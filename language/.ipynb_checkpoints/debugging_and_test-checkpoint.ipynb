{
 "cells": [
  {
   "cell_type": "code",
   "execution_count": null,
   "metadata": {
    "collapsed": true
   },
   "outputs": [],
   "source": [
    "#https://docs.python.org/2/library/pdb.html\n",
    "\n",
    "import pdb\n",
    "print(\"at (Pdb)  input : \\n \\\n",
    "n  for next command  \\n \\\n",
    "q quit \\n \\\n",
    "p print variable \\n \\\n",
    "c continue \\n \\\n",
    "s step into\\n \\\n",
    "l list \\n \\\n",
    "ENTER repeat your last entra (n,typically) \\n \\\n",
    "\" )\n",
    "x=10\n",
    "y=100\n",
    "pdb.set_trace()\n",
    "z=1000\n",
    "print('x is:%i' % x)"
   ]
  }
 ],
 "metadata": {
  "kernelspec": {
   "display_name": "Python 2",
   "language": "python",
   "name": "python2"
  },
  "language_info": {
   "codemirror_mode": {
    "name": "ipython",
    "version": 2
   },
   "file_extension": ".py",
   "mimetype": "text/x-python",
   "name": "python",
   "nbconvert_exporter": "python",
   "pygments_lexer": "ipython2",
   "version": "2.7.10"
  }
 },
 "nbformat": 4,
 "nbformat_minor": 0
}
