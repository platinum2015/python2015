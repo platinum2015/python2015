{
 "cells": [
  {
   "cell_type": "markdown",
   "metadata": {},
   "source": [
    "# DATA TYPES"
   ]
  },
  {
   "cell_type": "code",
   "execution_count": null,
   "metadata": {
    "collapsed": false
   },
   "outputs": [],
   "source": [
    "'''\n",
    "    Lists              : (Variable length)\n",
    "    Tuple              : (1d Sequence of objects)CANT CHANGE AFTER CREATED!!!!!\n",
    "    Dictionary(or Maps): (coppie di Key:Value) is an HAshmaps or Associative Array or collection of 2-tuples,\n",
    "    Set                :  UNIQUE unordered collection of elements\n",
    "\n",
    "    Numpy \n",
    "       Array           : (1D,nD array) indexed (boolean,fancy,etc)\n",
    "    Pandas\n",
    "       Series          :\n",
    "       Dataframe       :\n",
    "'''"
   ]
  },
  {
   "cell_type": "markdown",
   "metadata": {
    "collapsed": false
   },
   "source": [
    "# List"
   ]
  },
  {
   "cell_type": "code",
   "execution_count": null,
   "metadata": {
    "collapsed": false
   },
   "outputs": [],
   "source": [
    "# variable length\n",
    "# append , insert(pos) , pop(pos) , remove(value) , in(value) ,extend,sort\n",
    "# binary tree search\n",
    "# slicing\n",
    "# enumerate,sorted,zip(associa 2 liste),reversed\n",
    "\n",
    "#Create & Edit\n",
    "grocery_list = ['100','101','102','potato']\n",
    "grocery_list.insert(10,'tenth')\n",
    "grocery_list.remove('101')\n",
    "grocery_list.sort()\n",
    "grocery_list.reverse()\n",
    "print(grocery_list)\n",
    "\n",
    "#List containing list\n",
    "grocery_list_1 = ['100','101','102','potato']\n",
    "grocery_list_2 = ['200','201','202','apple']\n",
    "grocery_list_3  = [grocery_list_1,grocery_list_2 ] \n",
    "print(grocery_list_3  )\n",
    "print(grocery_list_3[1][3]  )\n",
    "#List concat\n",
    "grocery_list_4  = grocery_list_1 + grocery_list_2 \n",
    "print('concatenated list',grocery_list_4  )"
   ]
  },
  {
   "cell_type": "code",
   "execution_count": null,
   "metadata": {
    "collapsed": false
   },
   "outputs": [],
   "source": [
    "#Refer\n",
    "print(grocery_list[0])\n",
    "print('MAX',max(grocery_list))\n",
    "print('MIN',min(grocery_list))\n",
    "print('print slice',grocery_list[2:4])\n"
   ]
  },
  {
   "cell_type": "code",
   "execution_count": null,
   "metadata": {
    "collapsed": false
   },
   "outputs": [],
   "source": [
    "#can loop a list \n",
    "for x in grocery_list:\n",
    " print('can loop a list',x)\n",
    " \n",
    "#find in a list\n",
    "xlist   = ['2','3','4','7']\n",
    "if \"1\" in xlist:\n",
    "    print (\"On the grassy field\")\n",
    "else:\n",
    "    print (\"not found\") \n",
    "\n",
    "    #List comprehension:[expr for val in collection if condition]\n",
    "#   result = []\n",
    "#   for val in collection:\n",
    "#       if condition:\n",
    "#           result.append(expr)\n",
    "strings = ['a', 'as', 'bat', 'car', 'dove', 'python']\n",
    "[x.upper() for x in strings if len(x) > 2]\n",
    "#Out[478]: ['BAT', 'CAR', 'DOVE', 'PYTHON']\n",
    "\n",
    "unique_lengths = {len(x) for x in strings}\n",
    "unique_lengths#Out[480]: set([1, 2, 3, 4, 6])\n",
    "\n",
    "loc_mapping = {val : index for index, val in enumerate(strings)}\n",
    "loc_mapping#{'a': 0, 'as': 1, 'bat': 2, 'car': 3, 'dove': 4, 'python': 5}\n",
    "#u could have done this way\n",
    "loc_mapping = dict((val, idx) for idx, val in enumerate(strings)}\n",
    "\n",
    "#NESTED List comprehension:\n",
    "result = [name for names in all_data for name in names  if name.count('e') >= 2]\n",
    "#sort na lista al conttrario\n",
    "values[::-1]\n"
   ]
  },
  {
   "cell_type": "markdown",
   "metadata": {},
   "source": [
    "## TUPLE"
   ]
  },
  {
   "cell_type": "code",
   "execution_count": null,
   "metadata": {
    "collapsed": false
   },
   "outputs": [],
   "source": [
    "# 1-Dimension sequence of Python objects.\n",
    "#tuple CANT CHANGE AFTER CREATED!!!!!\n",
    "    \n",
    "my_tuple = [ 2,44,23,66,1]\n",
    "my_tuple.count()#5\n",
    "#convert  tuple < -- > list \n",
    "cnv_list = list(my_tuple)\n",
    "cnv_tuple =  tuple(cnv_list)\n",
    "('a', 'b') * 4 # a,b a,b a,b a,b \n",
    "#length max min\n",
    "print('len max min ',len(my_tuple),max(my_tuple),min(my_tuple))\n",
    "#Unpacking assignment\n",
    "tup = (4, 5, 6)\n",
    "a, b, c = tup\n",
    "#b=5\n",
    "\n",
    "\n",
    "\n"
   ]
  },
  {
   "cell_type": "markdown",
   "metadata": {
    "collapsed": false
   },
   "source": [
    "## Dictionary (or Maps)"
   ]
  },
  {
   "cell_type": "code",
   "execution_count": 2,
   "metadata": {
    "collapsed": false
   },
   "outputs": [
    {
     "name": "stdout",
     "output_type": "stream",
     "text": [
      "all\n",
      "{'Key1': '100', 'zh': 'zurich'}\n",
      "Select key:  zh\n",
      "zurich\n",
      "1\n"
     ]
    },
    {
     "ename": "NameError",
     "evalue": "name 'd1' is not defined",
     "output_type": "error",
     "traceback": [
      "\u001b[1;31m---------------------------------------------------------------------------\u001b[0m",
      "\u001b[1;31mNameError\u001b[0m                                 Traceback (most recent call last)",
      "\u001b[1;32m<ipython-input-2-1738a0376fc1>\u001b[0m in \u001b[0;36m<module>\u001b[1;34m()\u001b[0m\n\u001b[0;32m     16\u001b[0m \u001b[1;33m\u001b[0m\u001b[0m\n\u001b[0;32m     17\u001b[0m \u001b[1;31m#search&delete\u001b[0m\u001b[1;33m\u001b[0m\u001b[1;33m\u001b[0m\u001b[0m\n\u001b[1;32m---> 18\u001b[1;33m \u001b[1;34m'b'\u001b[0m \u001b[1;32min\u001b[0m \u001b[0md1\u001b[0m\u001b[1;33m\u001b[0m\u001b[0m\n\u001b[0m\u001b[0;32m     19\u001b[0m \u001b[0md1\u001b[0m\u001b[1;33m.\u001b[0m\u001b[0mpop\u001b[0m\u001b[1;33m(\u001b[0m\u001b[1;34m'dummy'\u001b[0m\u001b[1;33m)\u001b[0m\u001b[1;33m\u001b[0m\u001b[0m\n\u001b[0;32m     20\u001b[0m \u001b[0mempty_dict\u001b[0m \u001b[1;33m=\u001b[0m \u001b[1;33m{\u001b[0m\u001b[1;33m}\u001b[0m \u001b[1;31m#empty one\u001b[0m\u001b[1;33m\u001b[0m\u001b[0m\n",
      "\u001b[1;31mNameError\u001b[0m: name 'd1' is not defined"
     ]
    }
   ],
   "source": [
    "##### DICTIONARY or MAPS #######################################################\n",
    "#(coppie di Key:Value) is an HAshmaps or Associative Array or collection of 2-tuples,\n",
    "#cant concat maps\n",
    "# insert,search,delete,update\n",
    "#zip can be useful to create them\n",
    "#CREATE\n",
    "my_map =  {\"Key1\" : \"100\", \"zh\":\"zurich\"}\n",
    "print(\"all\")\n",
    "print(my_map)\n",
    "print(\"Select key:  zh\")\n",
    "print(my_map[\"zh\"])\n",
    "\n",
    "#EDIT\n",
    "del my_map[\"Key1\"] #delete\n",
    "print(len(my_map))\n",
    "\n",
    "#search&delete\n",
    "'b' in d1\n",
    "d1.pop('dummy')\n",
    "empty_dict = {} #empty one\n",
    "\n",
    "my_map[\"ge\"] = \"Geneve\" #insert\n",
    "print(my_map.keys())\n",
    "print(my_map.values())\n",
    "\n",
    "\n",
    "\n",
    "\n"
   ]
  },
  {
   "cell_type": "code",
   "execution_count": null,
   "metadata": {
    "collapsed": false
   },
   "outputs": [],
   "source": [
    "Set"
   ]
  },
  {
   "cell_type": "code",
   "execution_count": 3,
   "metadata": {
    "collapsed": false
   },
   "outputs": [
    {
     "name": "stdout",
     "output_type": "stream",
     "text": [
      "('ONLY UNIQUE!!!!!!', set([1, 2, 3]))\n"
     ]
    }
   ],
   "source": [
    "#unordered collection of UNIQUEe elements\n",
    "# UNION,INTERSECTION,DIFFERENCE,XOR\n",
    "# add,remove\n",
    "# issubset , issuperset, isdisjoint\n",
    "\n",
    "set([2, 2, 2, 1, 3, 3]) #Out[465]: set([1, 2, 3])\n",
    "\n",
    "c1=set([2, 2, 2, 1, 3, 3]) \n",
    "print(\"ONLY UNIQUE!\",c1)"
   ]
  },
  {
   "cell_type": "code",
   "execution_count": null,
   "metadata": {
    "collapsed": false
   },
   "outputs": [],
   "source": []
  }
 ],
 "metadata": {
  "kernelspec": {
   "display_name": "Python 2",
   "language": "python",
   "name": "python2"
  },
  "language_info": {
   "codemirror_mode": {
    "name": "ipython",
    "version": 2
   },
   "file_extension": ".py",
   "mimetype": "text/x-python",
   "name": "python",
   "nbconvert_exporter": "python",
   "pygments_lexer": "ipython2",
   "version": "2.7.10"
  }
 },
 "nbformat": 4,
 "nbformat_minor": 0
}
