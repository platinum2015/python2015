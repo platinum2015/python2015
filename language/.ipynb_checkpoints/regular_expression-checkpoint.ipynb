{
 "cells": [
  {
   "cell_type": "markdown",
   "metadata": {},
   "source": [
    "#Regular Expression\n",
    "##Contents\n",
    "\n",
    "match? use: search  , ret the pattern use: group or findall , inizia con use: match\n",
    " - [search](#search)\n",
    " - [group](#group)  \"the found pattern\"\n",
    " - [replace](#replace)\n",
    " - [findall](#findall)\n",
    " - [match](#match)\n",
    "<hr> \n",
    " - http://pythex.org/ \"test online\n",
    " - http://www.regular-expressions.info/python.html \"  \"https://developers.google.com/edu/python/regular-expressions\n",
    " <hr> \n",
    " - . (a period)  matches any single character except newline ('\\n‘)\n",
    " - \\w  matches a \"word\" character: a letter or digit or underscore [a-zA-Z0-9_]\n",
    " - \\s  matches a single whitespace character (space, newline, return, tab)\n",
    " - \\d  matches a decimal digit [0-9]\n",
    " - [ ]  matches each of the set of characters contained in the brackets\n",
    " - {n}  modifies the previous a character: matches if it is repeated exactly n times\n",
    " - \\  inhibits the \"specialness\" of a character. E.g. \\. Matches a regular dot\n",
    " - +  modifier: 1 or more occurrences of the pattern to its left, e.g. 'i+' = 1 or more i\n",
    " - *  modifier: 0 or more occurrences of the pattern to its left\n",
    " - ?  modifier: match 0 or 1 occurrences of the pattern to its left\n",
    " - |  alternation (or): either the pattern to the left or to the right\n",
    " - ()  used to group patterns in order to form sub-patterns (e.g., for |)\n",
    "\n",
    "\n",
    "<hr>\n",
    " - https://docs.python.org/2.0/ref/strings.html"
   ]
  },
  {
   "cell_type": "markdown",
   "metadata": {},
   "source": [
    "<a id=\"search\"></a>\n",
    "<hr>\n",
    "###Search\n",
    " - re.I\tPerforms case-insensitive matching.\n",
    " - re.L\tInterprets words according to the current locale. This interpretation affects the alphabetic group (\\w and  -    \"\\\"W), as well as word boundary behavior (\\b and \\B).\n",
    " - re.M\tMakes \"$\" match the end of a line (not just the end of the string) and makes ^ match the start of any line (not  just the start of the string).\n",
    " - re.S\tMakes a period (dot) match any character, including a newline.\n",
    " - re.U\tInterprets letters according to the Unicode character set. This flag affects the behavior of \\w, \\W, \\b, \\B.\n",
    " - re.X\tPermits \"cuter\" regular expression syntax. It ignores whitespace (except inside a set [] or when escaped by a backslash) and treats unescaped # as a comment marker."
   ]
  },
  {
   "cell_type": "code",
   "execution_count": 40,
   "metadata": {
    "collapsed": false
   },
   "outputs": [
    {
     "name": "stdout",
     "output_type": "stream",
     "text": [
      "#Usage: re.search(<regex_pattern>, <string_to_be_searched>)\n",
      "a\n",
      "a\n",
      " \n",
      "3\n",
      " \n",
      "ab\n",
      "a\n"
     ]
    }
   ],
   "source": [
    "import re\n",
    "print(\"#Usage: re.search(<regex_pattern>, <string_to_be_searched>)\")\n",
    "try:    \n",
    "    print(re.search(r'.', \"abc\").group())\n",
    "    print(re.search(r\"\\w\", \"abc\").group())\n",
    "    print(re.search(r\"\\s\", \"ab c\").group())\n",
    "    print(re.search(r\"\\d\", \"ab ccc3c 4t\").group())\n",
    "    print(re.search(r\"[\\s\\d]\", \"ab ccc3c 4t\").group())\n",
    "    print(re.search(r\"\\w{2}\", \"abc\").group())\n",
    "    print(re.search(r'A', \"abc\",re.I).group()) \n",
    "except Exception,d:\n",
    "    print d"
   ]
  },
  {
   "cell_type": "markdown",
   "metadata": {},
   "source": [
    "###Repetition"
   ]
  },
  {
   "cell_type": "code",
   "execution_count": 50,
   "metadata": {
    "collapsed": false
   },
   "outputs": [
    {
     "name": "stdout",
     "output_type": "stream",
     "text": [
      "+ -- 1 or more occurrences of the pattern to its left, e.g. 'i+' = one or more i's\n",
      "* -- 0 or more occurrences of the pattern to its left\n",
      "? -- match 0 or 1 occurrences of the pattern to its left\n",
      " i+ = one or more i's, as many as possible\n",
      "piii\n",
      "   ## Finds the first/leftmost solution, and within it drives the +\n",
      "  ## as far as possible (aka 'leftmost and largest').\n",
      "  ## In this example, note that it does not get to the second set of i's.\n",
      "\n",
      "ii\n",
      "   ## \\s* = zero or more whitespace chars Here look for 3 digits, possibly separated by whitespace.\n",
      "1 2   3\n",
      "12  3\n",
      "123\n",
      "but without the ^ it succeeds:\n",
      "bar\n"
     ]
    }
   ],
   "source": [
    "print(\"+ -- 1 or more occurrences of the pattern to its left, e.g. 'i+' = one or more i's\")\n",
    "print(\"* -- 0 or more occurrences of the pattern to its left\")\n",
    "print(\"? -- match 0 or 1 occurrences of the pattern to its left\")\n",
    "print(\" i+ = one or more i's, as many as possible\")\n",
    "print(re.search(r'pi+', 'piiig').group())\n",
    "print(\n",
    "\"\"\"   ## Finds the first/leftmost solution, and within it drives the +\n",
    "  ## as far as possible (aka 'leftmost and largest').\n",
    "  ## In this example, note that it does not get to the second set of i's.\n",
    "\"\"\"\n",
    ")\n",
    "print(re.search(r'i+', 'piigiiii').group())\n",
    "print(\"\"\"   ## \\s* = zero or more whitespace chars Here look for 3 digits, possibly separated by whitespace.\"\"\" )\n",
    "print(re.search(r'\\d\\s*\\d\\s*\\d', 'xx1 2   3xx').group())\n",
    "print(re.search(r'\\d\\s*\\d\\s*\\d', 'xx12  3xx').group())\n",
    "print(re.search(r'\\d\\s*\\d\\s*\\d', 'xx123xx').group())\n",
    "\n",
    "\"\"\" \n",
    "print( \"^ = matches the start of string, so this fails:\")\n",
    "print(re.search(r'^b\\w+', 'foobar')\n",
    "\"\"\" \n",
    "\n",
    "print(\"but without the ^ it succeeds:\")\n",
    "print(re.search(r'b\\w+', 'foobar').group())"
   ]
  },
  {
   "cell_type": "markdown",
   "metadata": {},
   "source": [
    "###rawstring\n",
    "https://docs.python.org/2/howto/regex.html#the-backslash-plague"
   ]
  },
  {
   "cell_type": "code",
   "execution_count": 18,
   "metadata": {
    "collapsed": false
   },
   "outputs": [
    {
     "name": "stdout",
     "output_type": "stream",
     "text": [
      "abc\\ .\n",
      "abc\\ .\n"
     ]
    }
   ],
   "source": [
    "s=\"abc\\ .\"\n",
    "print(s)\n",
    "s=r\"abc\\ .\"\n",
    "print(s)\n"
   ]
  },
  {
   "cell_type": "markdown",
   "metadata": {},
   "source": [
    "<a id=\"group\"></a>\n",
    "<hr>\n",
    "###group"
   ]
  },
  {
   "cell_type": "code",
   "execution_count": 22,
   "metadata": {
    "collapsed": false
   },
   "outputs": [
    {
     "name": "stdout",
     "output_type": "stream",
     "text": [
      "a\n"
     ]
    }
   ],
   "source": [
    "print re.search(r'.', \"abc\").group()"
   ]
  },
  {
   "cell_type": "code",
   "execution_count": 35,
   "metadata": {
    "collapsed": false
   },
   "outputs": [
    {
     "name": "stdout",
     "output_type": "stream",
     "text": [
      "searchObj.group() :  Cats are smarter than dogs\n",
      "searchObj.group(1) :  Cats\n",
      "searchObj.group(2) :  smarter\n"
     ]
    }
   ],
   "source": [
    "line = \"Cats are smarter than dogs\";\n",
    "searchObj = re.search( r'(.*) are (.*?) .*', line, re.M|re.I)\n",
    "\n",
    "if searchObj:\n",
    "   print \"searchObj.group() : \", searchObj.group()\n",
    "   print \"searchObj.group(1) : \", searchObj.group(1)\n",
    "   print \"searchObj.group(2) : \", searchObj.group(2)\n",
    "else:\n",
    "   print \"Nothing found!!\""
   ]
  },
  {
   "cell_type": "markdown",
   "metadata": {},
   "source": [
    "<a id=\"findall\"></a>\n",
    "<hr>\n",
    "###findall\n",
    "finds *all* the matches and returns them as a list of strings, with each string representing one match.\n"
   ]
  },
  {
   "cell_type": "code",
   "execution_count": 54,
   "metadata": {
    "collapsed": false
   },
   "outputs": [
    {
     "name": "stdout",
     "output_type": "stream",
     "text": [
      "alice@google.com\n",
      "bob@abc.com\n"
     ]
    }
   ],
   "source": [
    "  ## Suppose we have a text with many email addresses\n",
    "  str = 'purple alice@google.com, blah monkey bob@abc.com blah dishwasher'\n",
    "\n",
    "  ## Here re.findall() returns a list of all the found email strings\n",
    "  emails = re.findall(r'[\\w\\.-]+@[\\w\\.-]+', str) ## ['alice@google.com', 'bob@abc.com']\n",
    "  for email in emails:\n",
    "    # do something with each found email string\n",
    "    print email"
   ]
  },
  {
   "cell_type": "code",
   "execution_count": 53,
   "metadata": {
    "collapsed": false
   },
   "outputs": [
    {
     "name": "stdout",
     "output_type": "stream",
     "text": [
      "alice@google.com\n"
     ]
    }
   ],
   "source": [
    "str = 'purple alice@google.com, blah monkey bob@abc.com blah dishwasher'\n",
    "emails = re.search(r'[\\w\\.-]+@[\\w\\.-]+', str) ## ['alice@google.com', 'bob@abc.com']\n",
    "print emails.group()"
   ]
  },
  {
   "cell_type": "markdown",
   "metadata": {},
   "source": [
    "<a id=\"match\"></a>\n",
    "<hr>\n",
    "###match\n",
    "match checks for a match only at the beginning of the string, while search checks for a match anywhere in the string (this is what Perl does by default)."
   ]
  },
  {
   "cell_type": "code",
   "execution_count": 55,
   "metadata": {
    "collapsed": false
   },
   "outputs": [
    {
     "name": "stdout",
     "output_type": "stream",
     "text": [
      "('dog', 'dot')\n",
      "('do', 'don')\n",
      "('dumb', 'dumb')\n"
     ]
    }
   ],
   "source": [
    "list = [\"dog dot\", \"do don't\", \"dumb-dumb\", \"no match\"]\n",
    "for element in list:\n",
    "    m = re.match(\"(d\\w+)\\W(d\\w+)\", element)\n",
    "    if m:\n",
    "        print(m.groups())"
   ]
  },
  {
   "cell_type": "markdown",
   "metadata": {},
   "source": [
    "<a id=\"replace\"></a>\n",
    "<hr>\n",
    "###Replace"
   ]
  },
  {
   "cell_type": "code",
   "execution_count": 36,
   "metadata": {
    "collapsed": false
   },
   "outputs": [
    {
     "name": "stdout",
     "output_type": "stream",
     "text": [
      "Phone Num :  2004-959-559 \n",
      "Phone Num :  2004959559\n"
     ]
    }
   ],
   "source": [
    "phone = \"2004-959-559 # This is Phone Number\"\n",
    "\n",
    "# Delete Python-style comments\n",
    "num = re.sub(r'#.*$', \"\", phone)\n",
    "print \"Phone Num : \", num\n",
    "\n",
    "# Remove anything other than digits\n",
    "num = re.sub(r'\\D', \"\", phone)    \n",
    "print \"Phone Num : \", num"
   ]
  }
 ],
 "metadata": {
  "kernelspec": {
   "display_name": "Python 2",
   "language": "python",
   "name": "python2"
  },
  "language_info": {
   "codemirror_mode": {
    "name": "ipython",
    "version": 2
   },
   "file_extension": ".py",
   "mimetype": "text/x-python",
   "name": "python",
   "nbconvert_exporter": "python",
   "pygments_lexer": "ipython2",
   "version": "2.7.10"
  }
 },
 "nbformat": 4,
 "nbformat_minor": 0
}
