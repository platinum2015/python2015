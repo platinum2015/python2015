{
 "cells": [
  {
   "cell_type": "markdown",
   "metadata": {
    "collapsed": false
   },
   "source": [
    "#Contents \n",
    " - [db](#db)\n",
    " - [dw](#dw)\n",
    " - - [oracle](#oracle) - [postgres](#postgres)\n",
    "<hr>"
   ]
  },
  {
   "cell_type": "markdown",
   "metadata": {},
   "source": [
    "<a id=\"db\"></a>\n",
    "<hr>\n",
    "# Database"
   ]
  },
  {
   "cell_type": "markdown",
   "metadata": {},
   "source": [
    "###PYODBC\n",
    " - http://www.connectionstrings.com/"
   ]
  },
  {
   "cell_type": "code",
   "execution_count": null,
   "metadata": {
    "collapsed": true
   },
   "outputs": [],
   "source": []
  },
  {
   "cell_type": "markdown",
   "metadata": {},
   "source": [
    "<a id=\"oracle\"></a>\n",
    "##ORACLE\n",
    " - http://www.connectionstrings.com/oracle/"
   ]
  },
  {
   "cell_type": "code",
   "execution_count": null,
   "metadata": {
    "collapsed": true
   },
   "outputs": [],
   "source": [
    "Data_Source='GPVV'\n",
    "\n",
    "Integrated_Security='no'\n",
    "User_Id=\"P155121\"\n",
    "Password=raw_input(\"pwd\");\n",
    "\n",
    "SERVER=(DESCRIPTION=(ADDRESS=(PROTOCOL=TCP)(HOST=genadev0007)(PORT=MyPort))(CONNECT_DATA=(SERVICE_NAME=GPVVD)));\n",
    "uid=myUsername;\n",
    "pwd=myPassword;"
   ]
  },
  {
   "cell_type": "code",
   "execution_count": 1,
   "metadata": {
    "collapsed": false
   },
   "outputs": [
    {
     "ename": "ImportError",
     "evalue": "No module named cx_Oracle",
     "output_type": "error",
     "traceback": [
      "\u001b[1;31m---------------------------------------------------------------------------\u001b[0m",
      "\u001b[1;31mImportError\u001b[0m                               Traceback (most recent call last)",
      "\u001b[1;32m<ipython-input-1-f74df8dc243b>\u001b[0m in \u001b[0;36m<module>\u001b[1;34m()\u001b[0m\n\u001b[0;32m      1\u001b[0m \u001b[1;31m###########################################################################################################\u001b[0m\u001b[1;33m\u001b[0m\u001b[1;33m\u001b[0m\u001b[0m\n\u001b[0;32m      2\u001b[0m \u001b[1;31m#DATABASE DB (oracle)\u001b[0m\u001b[1;33m\u001b[0m\u001b[1;33m\u001b[0m\u001b[0m\n\u001b[1;32m----> 3\u001b[1;33m \u001b[1;32mimport\u001b[0m \u001b[0mcx_Oracle\u001b[0m\u001b[1;33m\u001b[0m\u001b[0m\n\u001b[0m\u001b[0;32m      4\u001b[0m \u001b[0mcon\u001b[0m \u001b[1;33m=\u001b[0m \u001b[0mcx_Oracle\u001b[0m\u001b[1;33m.\u001b[0m\u001b[0mconnect\u001b[0m\u001b[1;33m(\u001b[0m\u001b[1;34m'p155121/+<PWD>@gpvvd'\u001b[0m\u001b[1;33m)\u001b[0m\u001b[1;33m\u001b[0m\u001b[0m\n\u001b[0;32m      5\u001b[0m \u001b[0mcur\u001b[0m \u001b[1;33m=\u001b[0m \u001b[0mcon\u001b[0m\u001b[1;33m.\u001b[0m\u001b[0mcursor\u001b[0m\u001b[1;33m(\u001b[0m\u001b[1;33m)\u001b[0m\u001b[1;33m\u001b[0m\u001b[0m\n",
      "\u001b[1;31mImportError\u001b[0m: No module named cx_Oracle"
     ]
    }
   ],
   "source": [
    "#########################################################################################################\n",
    "#DATABASE DB (oracle)\n",
    "import cx_Oracle\n",
    "con = cx_Oracle.connect('p155121/+<PWD>@gpvvd')\n",
    "cur = con.cursor()\n",
    "cur.execute('select vfrp_status from vv_fremdproduktionen where rownum <2')\n",
    "for result in cur:\n",
    "    print result\n",
    "cur.close()\n",
    "print con.version\n",
    "con.close()\n",
    "\n",
    "\n",
    "row =  cur.fetchone()\n",
    "row =  cur.fetchall()\n",
    "row =  cur.description"
   ]
  },
  {
   "cell_type": "markdown",
   "metadata": {},
   "source": [
    "##POSTGRES\n",
    "<a id=\"postgres\"></a>"
   ]
  },
  {
   "cell_type": "code",
   "execution_count": 4,
   "metadata": {
    "collapsed": false
   },
   "outputs": [
    {
     "ename": "ProgrammingError",
     "evalue": "permission denied for schema appl\nLINE 1: select count(*) from appl.test1\n                             ^\n",
     "output_type": "error",
     "traceback": [
      "\u001b[0;31m---------------------------------------------------------------------------\u001b[0m",
      "\u001b[0;31mProgrammingError\u001b[0m                          Traceback (most recent call last)",
      "\u001b[0;32m<ipython-input-4-09438cbade98>\u001b[0m in \u001b[0;36m<module>\u001b[0;34m()\u001b[0m\n\u001b[1;32m      2\u001b[0m \u001b[0mconn\u001b[0m \u001b[0;34m=\u001b[0m \u001b[0mpsycopg2\u001b[0m\u001b[0;34m.\u001b[0m\u001b[0mconnect\u001b[0m\u001b[0;34m(\u001b[0m\u001b[0;34m\"dbname=casinfe user=tester\"\u001b[0m\u001b[0;34m)\u001b[0m\u001b[0;34m\u001b[0m\u001b[0m\n\u001b[1;32m      3\u001b[0m \u001b[0mcursor\u001b[0m \u001b[0;34m=\u001b[0m \u001b[0mconn\u001b[0m\u001b[0;34m.\u001b[0m\u001b[0mcursor\u001b[0m\u001b[0;34m(\u001b[0m\u001b[0;34m)\u001b[0m\u001b[0;34m\u001b[0m\u001b[0m\n\u001b[0;32m----> 4\u001b[0;31m \u001b[0mcursor\u001b[0m\u001b[0;34m.\u001b[0m\u001b[0mexecute\u001b[0m\u001b[0;34m(\u001b[0m\u001b[0;34m\"select count(*) from appl.test1\"\u001b[0m\u001b[0;34m)\u001b[0m\u001b[0;34m;\u001b[0m\u001b[0;34m\u001b[0m\u001b[0m\n\u001b[0m\u001b[1;32m      5\u001b[0m \u001b[0;32mfor\u001b[0m \u001b[0mi\u001b[0m \u001b[0;32min\u001b[0m \u001b[0mcursor\u001b[0m\u001b[0;34m.\u001b[0m\u001b[0mnext\u001b[0m\u001b[0;34m(\u001b[0m\u001b[0;34m)\u001b[0m\u001b[0;34m:\u001b[0m\u001b[0;34m\u001b[0m\u001b[0m\n\u001b[1;32m      6\u001b[0m     \u001b[0;32mprint\u001b[0m \u001b[0mi\u001b[0m\u001b[0;34m\u001b[0m\u001b[0m\n",
      "\u001b[0;31mProgrammingError\u001b[0m: permission denied for schema appl\nLINE 1: select count(*) from appl.test1\n                             ^\n"
     ]
    }
   ],
   "source": [
    "import psycopg2\n",
    "conn = psycopg2.connect(\"dbname=casinfe\")\n",
    "cursor = conn.cursor()\n",
    "cursor.execute(\"select count(*) from appl.test1\");\n",
    "for i in cursor.next():\n",
    "    print i\n",
    "conn.close()"
   ]
  },
  {
   "cell_type": "code",
   "execution_count": 21,
   "metadata": {
    "collapsed": false
   },
   "outputs": [
    {
     "name": "stdout",
     "output_type": "stream",
     "text": [
      " next row: 1\n",
      "next row: 100\n",
      "next row: 2\n",
      "next row: 3\n",
      "next row: 4\n",
      "next row: 2\n",
      "next row: 3\n",
      "next row: 4\n",
      "accessing the rows via column name \n",
      "    1\n",
      "    100\n",
      "    2\n",
      "    3\n",
      "    4\n",
      "    2\n",
      "    3\n",
      "    4\n"
     ]
    }
   ],
   "source": [
    "import psycopg2\n",
    "conn = psycopg2.connect(\"dbname=casinfe user=tester\")\n",
    "cursor = conn.cursor()\n",
    "cursor.execute(\"select * from test\");\n",
    "rows = cursor.fetchall()\n",
    "#cursor.fetchone()\n",
    "for i in rows:\n",
    "    print \"next row:\" ,i[0]\n",
    "conn.close()\n",
    "\n",
    "#note that we have to import the Psycopg2 extras library!\n",
    "import psycopg2.extras    \n",
    "print(\"accessing the rows via column name \")\n",
    "conn = psycopg2.connect(\"dbname=casinfe user=tester\")\n",
    "cursor = conn.cursor(cursor_factory=psycopg2.extras.DictCursor)\n",
    "cursor.execute(\"select * from test\");\n",
    "\n",
    "rows = cursor.fetchall()\n",
    "for row in rows:\n",
    "    print \"   \", row['a']\n"
   ]
  },
  {
   "cell_type": "markdown",
   "metadata": {
    "collapsed": true
   },
   "source": [
    "<a id=\"dw\"></a>\n",
    "<hr>\n",
    "# Datawarehouse"
   ]
  },
  {
   "cell_type": "code",
   "execution_count": null,
   "metadata": {
    "collapsed": true
   },
   "outputs": [],
   "source": []
  },
  {
   "cell_type": "code",
   "execution_count": null,
   "metadata": {
    "collapsed": true
   },
   "outputs": [],
   "source": []
  }
 ],
 "metadata": {
  "kernelspec": {
   "display_name": "Python 2",
   "language": "python",
   "name": "python2"
  },
  "language_info": {
   "codemirror_mode": {
    "name": "ipython",
    "version": 2
   },
   "file_extension": ".py",
   "mimetype": "text/x-python",
   "name": "python",
   "nbconvert_exporter": "python",
   "pygments_lexer": "ipython2",
   "version": "2.7.10"
  }
 },
 "nbformat": 4,
 "nbformat_minor": 0
}
