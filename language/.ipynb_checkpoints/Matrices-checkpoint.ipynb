{
 "metadata": {
  "name": "",
  "signature": "sha256:3b6a7201b967d3580992a6c25d3f21cc2c54b39c4dbc5031a359d549cdc08796"
 },
 "nbformat": 3,
 "nbformat_minor": 0,
 "worksheets": [
  {
   "cells": [
    {
     "cell_type": "heading",
     "level": 1,
     "metadata": {},
     "source": [
      "Matrix Algebra"
     ]
    },
    {
     "cell_type": "code",
     "collapsed": false,
     "input": [
      "import numpy as np\n",
      "import decimal\n",
      "d0 = decimal.Decimal('1.0')\n",
      "d1 = decimal.Decimal('0.67')\n",
      "d2 = decimal.Decimal('0.5')\n",
      "\n",
      "sys1 = np.array(\n",
      "    [\n",
      "        [1,1],\n",
      "        [0.66666666667,0.5]\n",
      "    ]\n",
      "    )\n",
      "\n",
      "sol1 = np.array(    [1800,1100]    )\n",
      "sol1 "
     ],
     "language": "python",
     "metadata": {},
     "outputs": [
      {
       "metadata": {},
       "output_type": "pyout",
       "prompt_number": 37,
       "text": [
        "array([1800, 1100])"
       ]
      }
     ],
     "prompt_number": 37
    },
    {
     "cell_type": "code",
     "collapsed": false,
     "input": [
      "A_inv=matrix_power(sys1, -1)\n",
      "A_inv"
     ],
     "language": "python",
     "metadata": {},
     "outputs": [
      {
       "metadata": {},
       "output_type": "pyout",
       "prompt_number": 38,
       "text": [
        "array([[-3.,  6.],\n",
        "       [ 4., -6.]])"
       ]
      }
     ],
     "prompt_number": 38
    },
    {
     "cell_type": "code",
     "collapsed": false,
     "input": [
      "u=np.dot( A_inv,sol1)\n",
      "u"
     ],
     "language": "python",
     "metadata": {},
     "outputs": [
      {
       "metadata": {},
       "output_type": "pyout",
       "prompt_number": 39,
       "text": [
        "array([ 1199.99999998,   600.00000002])"
       ]
      }
     ],
     "prompt_number": 39
    },
    {
     "cell_type": "code",
     "collapsed": false,
     "input": [
      "#DETERMINANT\n",
      "print('DETERMINANT',np.linalg.det(sys1))\n"
     ],
     "language": "python",
     "metadata": {},
     "outputs": [
      {
       "output_type": "stream",
       "stream": "stdout",
       "text": [
        "('DETERMINANT', -0.16666666666999996)\n"
       ]
      }
     ],
     "prompt_number": 40
    },
    {
     "cell_type": "code",
     "collapsed": false,
     "input": [],
     "language": "python",
     "metadata": {},
     "outputs": []
    }
   ],
   "metadata": {}
  }
 ]
}