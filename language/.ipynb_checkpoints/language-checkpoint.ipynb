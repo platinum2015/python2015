{
 "metadata": {
  "name": "",
  "signature": "sha256:241ad01f6cb6b2d4bf6a0f74ac640deac377dd43d2b642863b9f4535222c11de"
 },
 "nbformat": 3,
 "nbformat_minor": 0,
 "worksheets": [
  {
   "cells": [
    {
     "cell_type": "heading",
     "level": 1,
     "metadata": {},
     "source": [
      "SCALAR"
     ]
    },
    {
     "cell_type": "code",
     "collapsed": false,
     "input": [
      "#split\n",
      "val = 'a,b, guido'\n",
      "print('SPLIT:a,b, guido')\n",
      "print(val.split(','))\n",
      "#strip\n",
      "print('split&strip')\n",
      "print([x.strip() for x in val.split(',')])\n",
      "#join (opposite of strip)\n",
      "pieces=val.split(',')\n",
      "'::'.join(pieces)\n",
      "print('join (opposite of strip)  ::')\n",
      "print('::'.join(pieces))\n",
      "#find in string\n",
      "print('IN   /INDEX/FIND/COUNT')\n",
      "print('guido' in val,val.index(','), val.find(':'),val.count(',')) \n",
      "#Searching : Find & Index\n",
      "str = \"abcd\"\n",
      "str.find('Z')\n",
      "try:\n",
      "    str.index('Z') #if not FOUND throw an eXCEPTION\n",
      "except : # not iterable\n",
      "    print(\"got an EXCEPT\")\n",
      "\n",
      "'''\n",
      "count         # Return the number of non-overlapping occurrences of substring in the string.\n",
      "endswith,\n",
      "startswith    # Returns True if string ends with suffix (starts with prefix).\n",
      "join          # Use string as delimiter for concatenating a sequence of other strings.\n",
      "index         # Return position of first character in substring if found in the string. Raises ValueError if not found.\n",
      "find          # Return position of first character of first occurrence of substring in the string. Likeindex, but returns -1 if not found.\n",
      "rfind         # Return position of first character of last occurrence of substring in the string. Returns -1 if not found.\n",
      "replace       # Replace occurrences of string with another string.\n",
      "strip, rstrip, lstrip  # Trim whitespace, including newlines; equivalent to x.strip() (and rstrip,lstrip, respectively) for each element.\n",
      "split         # Break string into list of substrings using passed delimiter.\n",
      "lower, upper  # Convert alphabet characters to lowercase or uppercase, respectively.\n",
      "ljust, rjust  # Left justify or right justify, respectively. Pad opposite side of string with spaces (or someother fill character) to return a string with a minimum width.\n",
      "'''"
     ],
     "language": "python",
     "metadata": {},
     "outputs": [
      {
       "output_type": "stream",
       "stream": "stdout",
       "text": [
        "SPLIT:a,b, guido\n",
        "['a', 'b', ' guido']\n",
        "split&strip\n",
        "['a', 'b', 'guido']\n",
        "join (opposite of strip)  ::\n",
        "a::b:: guido\n",
        "IN   /INDEX/FIND/COUNT\n",
        "(True, 1, -1, 2)\n"
       ]
      }
     ],
     "prompt_number": 11
    },
    {
     "cell_type": "code",
     "collapsed": false,
     "input": [
      "#Str\n",
      "\n",
      "    #multiline string\n",
      "    c = \"\"\"\n",
      "    This is a longer string that\n",
      "    spans multiple lines\n",
      "    \"\"\"\n",
      "    a=\"abcde\"#OK\n",
      "    a[1]=\"Y\" #NOK immutabile\n",
      "\n",
      "    #template / format string\n",
      "    template = '%.2f %s are worth $%d'\n",
      "    template % (4.5560, 'Argentine Pesos', 1)\n",
      "\n",
      "\n",
      "\n",
      "\n",
      "\n",
      "print(\" %c pippo %c\",\"X\",\"Z\")\n",
      "#str.find(\"cico\")\n",
      "print(\"find char 3 in\"+test_str+\" at pos\",test_str.find(\"3\"))\n",
      "##str.replace()\n",
      "print(\"replace char 3 in\"+test_str+\" with W\",test_str.replace(\"3\",\"W\"))\n",
      "list_str = test_str.split() #to a list : default separeted by space\n",
      "print list_str"
     ],
     "language": "python",
     "metadata": {},
     "outputs": []
    },
    {
     "cell_type": "heading",
     "level": 2,
     "metadata": {},
     "source": [
      "IPYTHON"
     ]
    },
    {
     "cell_type": "code",
     "collapsed": false,
     "input": [
      "MAGIC cmd %\n",
      "%magic\n",
      "%run EXEC a skript:u need absolute path!!!!!\n",
      "%run ipython_script_test.py\n",
      "%paste\n",
      "%logstart\n",
      "%logoff\n",
      "%pwd\n",
      "%dhist\n",
      "%cd\n",
      "COMANDI con uniy  !\n",
      "!touch pippo.txt\n",
      "!ls\n",
      "creare alias per directory\n",
      "%bookmark db /home/wesm/Dropbox/\n",
      "%pdb debug"
     ],
     "language": "python",
     "metadata": {},
     "outputs": []
    },
    {
     "cell_type": "code",
     "collapsed": false,
     "input": [
      "#Time of CMD execution\n",
      "%time minibatch.fit(blobs)\n"
     ],
     "language": "python",
     "metadata": {},
     "outputs": []
    },
    {
     "cell_type": "heading",
     "level": 3,
     "metadata": {},
     "source": [
      "Check Installed packages"
     ]
    },
    {
     "cell_type": "code",
     "collapsed": false,
     "input": [
      "import pip\n",
      "installed_packages = pip.get_installed_distributions()\n",
      "installed_packages_list = sorted([\"%s==%s\" % (i.key, i.version)\n",
      "     for i in installed_packages])\n",
      "print(installed_packages_list)"
     ],
     "language": "python",
     "metadata": {},
     "outputs": []
    }
   ],
   "metadata": {}
  }
 ]
}