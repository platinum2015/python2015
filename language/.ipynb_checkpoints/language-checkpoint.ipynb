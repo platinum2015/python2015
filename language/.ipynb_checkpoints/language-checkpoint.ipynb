{
 "cells": [
  {
   "cell_type": "markdown",
   "metadata": {},
   "source": [
    "#Contents \n",
    "- [Python Guidelines](#Python Guidelines)\n",
    "- [object](#object)\n",
    "- [Variable](#Variable)\n",
    "- [data types](#data types): [scalar](#scalar) \" \"[unicode](#unicode) \" \" [formatter](#formatter) \" \" [math](#math) \" \" [boolean](#boolean)\n",
    "\n",
    "- Collections:[list](#list) \" \" [dict](#dict) \" \" [tuple](#tuple) \" \" [sets](#sets)\n",
    "- [controlflow](#controlflow): \" while \"\n",
    "- [input](#input) \"  input,raw_input\"\n",
    "- [packages modules](#packages modules)\n",
    "- [function](#function)\n",
    "- [class](#class)\n",
    "- [exception](#exception)\n",
    "- [simple stm](#simple stm)\n",
    "- [with](#with) ' ' [yield](#yield)\n",
    "- [execscripts](#execscripts)\n",
    "\n",
    "<hr>\n",
    "- |  pipe  ALT-7 , \\\\ backslash \t ALT-SHIFT-7 = ALT-/\n",
    "- [] left (opening) square bracket ALT-5 ALT-6  \n",
    "- {} ALT-8 ALT-9\n",
    "~ tilde ALT-n followed by the space key\n",
    "- @\t ALT-l (owercase L)\n",
    "- '\tapice  ALT-`\n",
    "<hr>\n",
    "- UNICODE tab : http://unicode-table.com/en/\n",
    "- PYthon is performant also cause some lib are implemented in C , thus not interpreted"
   ]
  },
  {
   "cell_type": "markdown",
   "metadata": {
    "collapsed": true
   },
   "source": [
    "<a id=\"Python Guidelines\"></a>\n",
    "<hr>\n",
    "# PYTHON guidelines\n",
    "- guidelines:https://www.python.org/dev/peps/pep-0008/ \n",
    "- Conventions\n",
    "        4 spaces indentation\n",
    "        79 char row\n",
    "        When possible, put comments on a line of their own (NO TRIPLE QUOTE , is a String!!!!!)\n",
    "        space \" \" after operatore and comma , not (  --> Bsp. f1(1, 2) + (4*3)\n",
    "        Add a space after \",\" in dicts,list,tuples & argument list,\n",
    "        and after \":\" in dicts, but not before.\n",
    "        name var:-->  lowercase & _\n",
    "- Notre Keyboard: F5--> fn,F5\n",
    "- Short circuit evaluation : (left-hand eval)\n",
    "        eval stops as soon as result is evident \n",
    "         E.g., True or <someComplicatedExpression>  right-hand part is never evaluated\n",
    "- Packages :https://pypi.python.org/pypi\n"
   ]
  },
  {
   "cell_type": "markdown",
   "metadata": {},
   "source": [
    "<a id=\"object\"></a>\n",
    "<hr>\n",
    "# OBJECT\n",
    "http://www.cafepy.com/article/python_types_and_objects/python_types_and_objects.html#the-object-within\n",
    " - Everything is an Object (not related to OO) even function,keyword,type.\n",
    "     so variable(and all the rest) are instance of a class\n",
    "    Features: \n",
    "        Value\n",
    "        type \n",
    "             (type hierarchy)\n",
    "                 type\n",
    "                    object\n",
    "                        list\n",
    "                            my_list\n",
    "                        tuple\n",
    "                        dict\n",
    "                        all the rest\n",
    "        id\n",
    "        optional\n",
    "            base            \n",
    "        NAME is not a feature!!!!  (is just a bound to the objects)  "
   ]
  },
  {
   "cell_type": "code",
   "execution_count": 3,
   "metadata": {
    "collapsed": false
   },
   "outputs": [
    {
     "name": "stdout",
     "output_type": "stream",
     "text": [
      "(<type 'int'>, 21975784, <type 'object'>, <type 'type'>, True)\n",
      "(<type 'list'>, 45457856, <type 'object'>, <type 'type'>, False)\n",
      "(<type 'str'>, 22184712, <type 'basestring'>, <type 'type'>, False)\n",
      "('__class__', '__contains__')\n"
     ]
    }
   ],
   "source": [
    "obj=1\n",
    "print(type(obj),id(obj),type(obj).__base__,type(obj).__class__,isinstance(obj,int))\n",
    "obj=[1,2,5]\n",
    "print(type(obj),id(obj),type(obj).__base__,type(obj).__class__,isinstance(obj,int))\n",
    "obj=\"st\"\n",
    "print(type(obj),id(obj),type(obj).__base__,type(obj).__class__,isinstance(obj,int))\n",
    "print( dir(obj) [1],dir(obj) [2])"
   ]
  },
  {
   "cell_type": "markdown",
   "metadata": {},
   "source": [
    "<a id=\"Variable\"></a>\n",
    "<hr>\n",
    "# Variable"
   ]
  },
  {
   "cell_type": "code",
   "execution_count": 32,
   "metadata": {
    "collapsed": false
   },
   "outputs": [
    {
     "name": "stdout",
     "output_type": "stream",
     "text": [
      "Variable are just name (tags) for an object\n",
      "b=a just add another tag to the object\n",
      "a id(28527952) is the same as b id(28527952)\n"
     ]
    }
   ],
   "source": [
    "print(\"variable are just NAMES (tags) for an object\")\n",
    "a=1\n",
    "print(\"b=a just add another tag to the object\")\n",
    "b=a\n",
    "print(\"a id(%s) is the same as b id(%s)\" %  (id(a), id(a)) )\n"
   ]
  },
  {
   "cell_type": "markdown",
   "metadata": {},
   "source": [
    "<a id=\"data types\"></a>\n",
    "<hr>\n",
    "# DATA TYPES"
   ]
  },
  {
   "cell_type": "markdown",
   "metadata": {},
   "source": [
    "<a id=\"scalar\"></a>\n",
    "<hr>\n",
    "## SCALAR"
   ]
  },
  {
   "cell_type": "markdown",
   "metadata": {},
   "source": [
    "###String\n",
    "are like list but immutable"
   ]
  },
  {
   "cell_type": "code",
   "execution_count": 23,
   "metadata": {
    "collapsed": false
   },
   "outputs": [
    {
     "name": "stdout",
     "output_type": "stream",
     "text": [
      "JOIN:a-b-c\n",
      "('SPLIT:', ['a', 'b', 'c'])\n",
      "('Strip:', 'a  b  c')\n",
      "IN False\n",
      "INDEX 4\n",
      "FIND -1\n",
      "REPLACE:aaaaWaa\n",
      "COUNT 2\n",
      "escape_quote 0'0\n",
      "multi_line_string row 1 \n",
      "  multi_line_string row 2 \n",
      "  multi_line_string row 3 \n",
      "3 NEW LINES!!! \n",
      " \n",
      " \n",
      " \n",
      "PREPEAT_string PREPEAT_string PREPEAT_string PREPEAT_string \n",
      "Strings can be indexed (subscripted)\n",
      "S\n",
      ")\n",
      "pted)\n",
      "('Build String from substring', 'redbluegreenyellow', 'red, blue, green, yellow')\n",
      "Build String from substring Variation:RED_BLUE_GREEN_YELLOW\n",
      "Strings are immutable, i.e. individual elements cannot be changed\n",
      "\n",
      "This is a String not a comment!!!!!!\n",
      "\t* bum\n",
      "\t* Catnip\n",
      "\t* Grass\n",
      "\n"
     ]
    },
    {
     "data": {
      "text/plain": [
       "'fsfjsdhfjsdfdfdffsasf'"
      ]
     },
     "execution_count": 23,
     "metadata": {},
     "output_type": "execute_result"
    }
   ],
   "source": [
    "#String\n",
    "print 'JOIN:' + '-'.join( ['a','b','c'] ) \n",
    "print ('SPLIT:' ,  'a,b,c'.split(',')  )\n",
    "print ('Strip:' ,  ' a  b  c '.strip(' ')  )\n",
    "print  ('IN '   + repr( 'text_to_search' in 'a,b,c' )  )\n",
    "print  'INDEX %i'   % 'a234,b,c'.index(',')     \n",
    "print('FIND %i'   % 'a,b,c'.find(':') )\n",
    "print('REPLACE:'+\"aaaa3aa\".replace(\"3\",\"W\"))\n",
    "print('COUNT %i'   % 'a,b,c'.count(',')) \n",
    "#count endswith startswith rfind   rstrip, lstrip lower, upper ljust, rjust\n",
    "print 'escape_quote 0\\'0'\n",
    "print '''multi_line_string row 1 \n",
    "  multi_line_string row 2 \n",
    "  multi_line_string row 3 '''\n",
    "print '3 NEW LINES!!! \\n \\n \\n '\n",
    "print 'PREPEAT_string '*4\n",
    "print 'Strings can be indexed (subscripted)'\n",
    "print 'Strings can be indexed (subscripted)'[0]\n",
    "print 'Strings can be indexed (subscripted)'[-1]\n",
    "print 'Strings can be indexed (subscripted)'[-5:]\n",
    "colors = ['red', 'blue', 'green', 'yellow']\n",
    "#thats also the most efficient way\n",
    "result = ''.join(colors)\n",
    "result2=', '.join(colors)\n",
    "print ('Build String from substring',result, result2)\n",
    "result = '_'.join(i.upper() for i in colors)\n",
    "print ('Build String from substring Variation:%s' % result)\n",
    "\n",
    "try:\n",
    "    text = 'Hello World' \n",
    "    text[6] = 'w'\n",
    "except Exception:\n",
    "    print \"Strings are immutable, i.e. individual elements cannot be changed\"\n",
    "test=\"\"\"\n",
    "This is a String not a comment!!!!!!\n",
    "\\t* bum\n",
    "\\t* Catnip\\n\\t* Grass\n",
    "\"\"\"\n",
    "print(test)\n",
    "\"fsfjsdhfjsdfdfdffsasf\""
   ]
  },
  {
   "cell_type": "markdown",
   "metadata": {},
   "source": [
    "<a id=\"Formatter\"></a>\n",
    "<hr>\n",
    "## Formatter"
   ]
  },
  {
   "cell_type": "code",
   "execution_count": 16,
   "metadata": {
    "collapsed": false
   },
   "outputs": [
    {
     "name": "stdout",
     "output_type": "stream",
     "text": [
      "https://docs.python.org/2/library/string.html#format-specification-mini-language\n",
      "Format String john.\n",
      "Format  200 decimal\n",
      "Expressions d sum_all 60.\n",
      "Format  200 R-repr \n",
      "NOTE THE QUOTE with var instead of actual value :  'john' R-repr \n",
      "Multiple values must be within parentheses  10, 20,  30\n",
      "spam and eggs\n",
      "eggs and spam\n",
      "This spam is absolutely horrible.\n",
      "PI approximates 3.14\n",
      "FLOAT  con 0 decimali  3\n",
      "concat +  the ',' concat plus space \n",
      "DICT:John,u have 88 New MSG\n"
     ]
    },
    {
     "ename": "KeyError",
     "evalue": "'firstname'",
     "output_type": "error",
     "traceback": [
      "\u001b[1;31m---------------------------------------------------------------------------\u001b[0m",
      "\u001b[1;31mKeyError\u001b[0m                                  Traceback (most recent call last)",
      "\u001b[1;32m<ipython-input-16-f42201f0ccae>\u001b[0m in \u001b[0;36m<module>\u001b[1;34m()\u001b[0m\n\u001b[0;32m     37\u001b[0m \u001b[0mmy_dict\u001b[0m \u001b[1;33m=\u001b[0m \u001b[1;33m{\u001b[0m\u001b[1;34m'firstname'\u001b[0m\u001b[1;33m:\u001b[0m \u001b[1;34m'John'\u001b[0m\u001b[1;33m,\u001b[0m \u001b[1;34m'nr_msg'\u001b[0m\u001b[1;33m:\u001b[0m \u001b[1;36m88\u001b[0m\u001b[1;33m}\u001b[0m\u001b[1;33m\u001b[0m\u001b[0m\n\u001b[0;32m     38\u001b[0m \u001b[1;32mprint\u001b[0m \u001b[1;33m(\u001b[0m\u001b[1;34m'DICT:%(firstname)s,u have %(nr_msg)i New MSG'\u001b[0m \u001b[1;33m%\u001b[0m \u001b[0mmy_dict\u001b[0m\u001b[1;33m)\u001b[0m\u001b[1;33m\u001b[0m\u001b[0m\n\u001b[1;32m---> 39\u001b[1;33m \u001b[1;32mprint\u001b[0m \u001b[1;33m(\u001b[0m\u001b[1;34m'DICT:%(firstname)s,u have %(nr_msg)i New MSG'\u001b[0m \u001b[1;33m%\u001b[0m \u001b[0mlocals\u001b[0m\u001b[1;33m(\u001b[0m\u001b[1;33m)\u001b[0m\u001b[1;33m)\u001b[0m\u001b[1;33m\u001b[0m\u001b[0m\n\u001b[0m",
      "\u001b[1;31mKeyError\u001b[0m: 'firstname'"
     ]
    }
   ],
   "source": [
    "# %s usa str()\n",
    "# %r usa repr()  \n",
    "# %d    %c  %f \n",
    "print('https://docs.python.org/2/library/string.html#format-specification-mini-language')\n",
    "\n",
    "my_name='john'\n",
    "my_height=200\n",
    "var1=10\n",
    "var2=20\n",
    "var3=30\n",
    "print \"Format String %s.\"  % my_name\n",
    "#d\n",
    "print \"Format  %d decimal\" % my_height\n",
    "print \"Expressions d sum_all %d.\" % (     var1 + var2 + var3)\n",
    "#r\n",
    "print \"Format  %r R-repr \" % my_height\n",
    "print \"NOTE THE QUOTE with var instead of actual value :  %r R-repr \" % my_name\n",
    "\n",
    "print \"Multiple values must be within parentheses  %d, %d,  %d\" % (    var1, var2, var3)\n",
    "print('{0} and {1}'.format('spam', 'eggs'))\n",
    "print('{1} and {0}'.format('spam', 'eggs'))\n",
    "print('This {food} is {adjective}.'.format(food='spam', adjective='absolutely horrible'))\n",
    "#template / format string\n",
    "template = '%.2f %s are worth $%d'\n",
    "template % (4.5560, 'Argentine Pesos', 1)\n",
    "import math\n",
    "print('PI approximates %2.2f' % math.pi)\n",
    "\n",
    "print('FLOAT  con 0 decimali  %.0f' % math.pi)\n",
    "\n",
    "\n",
    "\n",
    "#######CONCAT\n",
    "print ('concat +  the \\',\\' concat plus space ')\n",
    "\n",
    "#DICT\n",
    "my_dict = {'firstname': 'John', 'nr_msg': 88}\n",
    "print ('DICT:%(firstname)s,u have %(nr_msg)i New MSG' % my_dict)\n",
    "\n"
   ]
  },
  {
   "cell_type": "markdown",
   "metadata": {},
   "source": [
    "<a id=\"unicode\"></a>\n",
    "<hr>\n",
    "###Unicode / Utf-8\n",
    "•UNICODE tab : http://unicode-table.com/en/"
   ]
  },
  {
   "cell_type": "code",
   "execution_count": 15,
   "metadata": {
    "collapsed": false
   },
   "outputs": [
    {
     "name": "stdout",
     "output_type": "stream",
     "text": [
      "int --> ASCII\n",
      "0/\u0000\n",
      "1/\u0001\n",
      "2/\u0002\n",
      "3/\u0003\n",
      "4/\u0004\n",
      "5/\u0005\n",
      "6/\u0006\n",
      "7/\u0007\n",
      "8/\b\n",
      "9/\t\n",
      "10/\n",
      "\n",
      "11/\u000b",
      "\n",
      "12/\f",
      "\n",
      "13/\r\n",
      "14/\u000e\n",
      "15/\u000f\n",
      "16/\u0010\n",
      "17/\u0011\n",
      "18/\u0012\n",
      "19/\u0013\n",
      "20/\u0014\n",
      "21/\u0015\n",
      "22/\u0016\n",
      "23/\u0017\n",
      "24/\u0018\n",
      "25/\u0019\n",
      "26/\u001a\n",
      "27/\u001b\n",
      "28/\u001c",
      "\n",
      "29/\u001d",
      "\n",
      "30/\u001e",
      "\n",
      "31/\u001f\n",
      "32/ \n",
      "33/!\n",
      "34/\"\n",
      "35/#\n",
      "36/$\n",
      "37/%\n",
      "38/&\n",
      "39/'\n",
      "40/(\n",
      "41/)\n",
      "42/*\n",
      "43/+\n",
      "44/,\n",
      "45/-\n",
      "46/.\n",
      "47//\n",
      "48/0\n",
      "49/1\n",
      "50/2\n",
      "51/3\n",
      "52/4\n",
      "53/5\n",
      "54/6\n",
      "55/7\n",
      "56/8\n",
      "57/9\n",
      "58/:\n",
      "59/;\n",
      "60/<\n",
      "61/=\n",
      "62/>\n",
      "63/?\n",
      "64/@\n",
      "65/A\n",
      "66/B\n",
      "67/C\n",
      "68/D\n",
      "69/E\n",
      "70/F\n",
      "71/G\n",
      "72/H\n",
      "73/I\n",
      "74/J\n",
      "75/K\n",
      "76/L\n",
      "77/M\n",
      "78/N\n",
      "79/O\n",
      "80/P\n",
      "81/Q\n",
      "82/R\n",
      "83/S\n",
      "84/T\n",
      "85/U\n",
      "86/V\n",
      "87/W\n",
      "88/X\n",
      "89/Y\n",
      "90/Z\n",
      "91/[\n",
      "92/\\\n",
      "93/]\n",
      "94/^\n",
      "95/_\n",
      "96/`\n",
      "97/a\n",
      "98/b\n",
      "99/c\n",
      "100/d\n",
      "101/e\n",
      "102/f\n",
      "103/g\n",
      "104/h\n",
      "105/i\n",
      "106/j\n",
      "107/k\n",
      "108/l\n",
      "109/m\n",
      "110/n\n",
      "111/o\n",
      "112/p\n",
      "113/q\n",
      "114/r\n",
      "115/s\n",
      "116/t\n",
      "117/u\n",
      "118/v\n",
      "119/w\n",
      "120/x\n",
      "121/y\n",
      "122/z\n",
      "123/{\n",
      "124/|\n",
      "125/}\n",
      "126/~\n",
      "127/\n",
      "128/�\n",
      "129/�\n",
      "130/�\n",
      "131/�\n",
      "132/�\n",
      "133/�\n",
      "134/�\n",
      "135/�\n",
      "136/�\n",
      "137/�\n",
      "138/�\n",
      "139/�\n",
      "140/�\n",
      "141/�\n",
      "142/�\n",
      "143/�\n",
      "144/�\n",
      "145/�\n",
      "146/�\n",
      "147/�\n",
      "148/�\n",
      "149/�\n",
      "150/�\n",
      "151/�\n",
      "152/�\n",
      "153/�\n",
      "154/�\n",
      "155/�\n",
      "156/�\n",
      "157/�\n",
      "158/�\n",
      "159/�\n",
      "160/�\n",
      "161/�\n",
      "162/�\n",
      "163/�\n",
      "164/�\n",
      "165/�\n",
      "166/�\n",
      "167/�\n",
      "168/�\n",
      "169/�\n",
      "170/�\n",
      "171/�\n",
      "172/�\n",
      "173/�\n",
      "174/�\n",
      "175/�\n",
      "176/�\n",
      "177/�\n",
      "178/�\n",
      "179/�\n",
      "180/�\n",
      "181/�\n",
      "182/�\n",
      "183/�\n",
      "184/�\n",
      "185/�\n",
      "186/�\n",
      "187/�\n",
      "188/�\n",
      "189/�\n",
      "190/�\n",
      "191/�\n",
      "192/�\n",
      "193/�\n",
      "194/�\n",
      "195/�\n",
      "196/�\n",
      "197/�\n",
      "198/�\n",
      "199/�\n",
      "200/�\n",
      "201/�\n",
      "202/�\n",
      "203/�\n",
      "204/�\n",
      "205/�\n",
      "206/�\n",
      "207/�\n",
      "208/�\n",
      "209/�\n",
      "210/�\n",
      "211/�\n",
      "212/�\n",
      "213/�\n",
      "214/�\n",
      "215/�\n",
      "216/�\n",
      "217/�\n",
      "218/�\n",
      "219/�\n",
      "220/�\n",
      "221/�\n",
      "222/�\n",
      "223/�\n",
      "224/�\n",
      "225/�\n",
      "226/�\n",
      "227/�\n",
      "228/�\n",
      "229/�\n",
      "230/�\n",
      "231/�\n",
      "232/�\n",
      "233/�\n",
      "234/�\n",
      "235/�\n",
      "236/�\n",
      "237/�\n",
      "238/�\n",
      "239/�\n",
      "240/�\n",
      "241/�\n",
      "242/�\n",
      "243/�\n",
      "244/�\n",
      "245/�\n",
      "246/�\n",
      "247/�\n",
      "248/�\n",
      "249/�\n",
      "250/�\n",
      "251/�\n",
      "252/�\n",
      "253/�\n",
      "254/�\n"
     ]
    }
   ],
   "source": [
    "print(\"int --> ASCII\")\n",
    "for i in range(255):#after 255 you get an error\n",
    "    print(\"%i/%s\" % (i,chr(i)))\n",
    "    "
   ]
  },
  {
   "cell_type": "code",
   "execution_count": 1,
   "metadata": {
    "collapsed": false
   },
   "outputs": [
    {
     "name": "stdout",
     "output_type": "stream",
     "text": [
      "(u'a', <type 'unicode'>)\n",
      "a\n",
      "\\ua000\n",
      "hex to int 40960\n"
     ]
    }
   ],
   "source": [
    "s = unicode(\"a\")\n",
    "print(s,type(s))\n",
    "print(s)\n",
    "s2 = unicode('\\ua000', errors='strict') \n",
    "print(s2)\n",
    "hexa = 'a000'\n",
    "print(\"hex to int %i\" % int(hexa,16))"
   ]
  },
  {
   "cell_type": "code",
   "execution_count": 5,
   "metadata": {
    "collapsed": false,
    "scrolled": true
   },
   "outputs": [
    {
     "name": "stdout",
     "output_type": "stream",
     "text": [
      "int --> hex\n",
      "0x100000\n",
      "0x10\n",
      "hex --> int\n",
      "1048576\n",
      "(0:0x0,0x0)\n",
      "...continue\n",
      "(1:0x1,0x1)(2:0x2,0x2)(3:0x3,0x3)(4:0x4,0x4)(5:0x5,0x5)(6:0x6,0x6)(7:0x7,0x7)(8:0x8,0x8)(9:0x9,0x9)(10:0xa,0xa)(11:0xb,0xb)(12:0xc,0xc)(13:0xd,0xd)(14:0xe,0xe)(15:0xf,0xf)(16:0x10,0x10)(17:0x11,0x11)(18:0x12,0x12)(19:0x13,0x13)(20:0x14,0x14)(21:0x15,0x15)(22:0x16,0x16)(23:0x17,0x17)(24:0x18,0x18)(25:0x19,0x19)(26:0x1a,0x1a)(27:0x1b,0x1b)(28:0x1c,0x1c)(29:0x1d,0x1d)(30:0x1e,0x1e)(31:0x1f,0x1f)(32:0x20,0x20)(33:0x21,0x21)(34:0x22,0x22)(35:0x23,0x23)(36:0x24,0x24)(37:0x25,0x25)(38:0x26,0x26)(39:0x27,0x27)(40:0x28,0x28)(41:0x29,0x29)(42:0x2a,0x2a)(43:0x2b,0x2b)(44:0x2c,0x2c)(45:0x2d,0x2d)(46:0x2e,0x2e)(47:0x2f,0x2f)(48:0x30,0x30)(49:0x31,0x31)(50:0x32,0x32)(51:0x33,0x33)(52:0x34,0x34)(53:0x35,0x35)(54:0x36,0x36)(55:0x37,0x37)(56:0x38,0x38)(57:0x39,0x39)(58:0x3a,0x3a)(59:0x3b,0x3b)(60:0x3c,0x3c)(61:0x3d,0x3d)(62:0x3e,0x3e)(63:0x3f,0x3f)(64:0x40,0x40)\n",
      "...continue\n",
      "(65:0x41,0x41)(66:0x42,0x42)(67:0x43,0x43)(68:0x44,0x44)(69:0x45,0x45)(70:0x46,0x46)(71:0x47,0x47)(72:0x48,0x48)(73:0x49,0x49)(74:0x4a,0x4a)(75:0x4b,0x4b)(76:0x4c,0x4c)(77:0x4d,0x4d)(78:0x4e,0x4e)(79:0x4f,0x4f)(80:0x50,0x50)(81:0x51,0x51)(82:0x52,0x52)(83:0x53,0x53)(84:0x54,0x54)(85:0x55,0x55)(86:0x56,0x56)(87:0x57,0x57)(88:0x58,0x58)(89:0x59,0x59)(90:0x5a,0x5a)(91:0x5b,0x5b)(92:0x5c,0x5c)(93:0x5d,0x5d)(94:0x5e,0x5e)(95:0x5f,0x5f)(96:0x60,0x60)(97:0x61,0x61)(98:0x62,0x62)(99:0x63,0x63)(100:0x64,0x64)(101:0x65,0x65)(102:0x66,0x66)(103:0x67,0x67)(104:0x68,0x68)(105:0x69,0x69)(106:0x6a,0x6a)(107:0x6b,0x6b)(108:0x6c,0x6c)(109:0x6d,0x6d)(110:0x6e,0x6e)(111:0x6f,0x6f)(112:0x70,0x70)(113:0x71,0x71)(114:0x72,0x72)(115:0x73,0x73)(116:0x74,0x74)(117:0x75,0x75)(118:0x76,0x76)(119:0x77,0x77)(120:0x78,0x78)(121:0x79,0x79)(122:0x7a,0x7a)(123:0x7b,0x7b)(124:0x7c,0x7c)(125:0x7d,0x7d)(126:0x7e,0x7e)(127:0x7f,0x7f)(128:0x80,0x80)\n",
      "...continue\n",
      "(129:0x81,0x81)(130:0x82,0x82)(131:0x83,0x83)(132:0x84,0x84)(133:0x85,0x85)(134:0x86,0x86)(135:0x87,0x87)(136:0x88,0x88)(137:0x89,0x89)(138:0x8a,0x8a)(139:0x8b,0x8b)(140:0x8c,0x8c)(141:0x8d,0x8d)(142:0x8e,0x8e)(143:0x8f,0x8f)(144:0x90,0x90)(145:0x91,0x91)(146:0x92,0x92)(147:0x93,0x93)(148:0x94,0x94)(149:0x95,0x95)(150:0x96,0x96)(151:0x97,0x97)(152:0x98,0x98)(153:0x99,0x99)(154:0x9a,0x9a)(155:0x9b,0x9b)(156:0x9c,0x9c)(157:0x9d,0x9d)(158:0x9e,0x9e)(159:0x9f,0x9f)(160:0xa0,0xa0)(161:0xa1,0xa1)(162:0xa2,0xa2)(163:0xa3,0xa3)(164:0xa4,0xa4)(165:0xa5,0xa5)(166:0xa6,0xa6)(167:0xa7,0xa7)(168:0xa8,0xa8)(169:0xa9,0xa9)(170:0xaa,0xaa)(171:0xab,0xab)(172:0xac,0xac)(173:0xad,0xad)(174:0xae,0xae)(175:0xaf,0xaf)(176:0xb0,0xb0)(177:0xb1,0xb1)(178:0xb2,0xb2)(179:0xb3,0xb3)(180:0xb4,0xb4)(181:0xb5,0xb5)(182:0xb6,0xb6)(183:0xb7,0xb7)(184:0xb8,0xb8)(185:0xb9,0xb9)(186:0xba,0xba)(187:0xbb,0xbb)(188:0xbc,0xbc)(189:0xbd,0xbd)(190:0xbe,0xbe)(191:0xbf,0xbf)(192:0xc0,0xc0)\n",
      "...continue\n",
      "(193:0xc1,0xc1)(194:0xc2,0xc2)(195:0xc3,0xc3)(196:0xc4,0xc4)(197:0xc5,0xc5)(198:0xc6,0xc6)(199:0xc7,0xc7)(200:0xc8,0xc8)(201:0xc9,0xc9)(202:0xca,0xca)(203:0xcb,0xcb)(204:0xcc,0xcc)(205:0xcd,0xcd)(206:0xce,0xce)(207:0xcf,0xcf)(208:0xd0,0xd0)(209:0xd1,0xd1)(210:0xd2,0xd2)(211:0xd3,0xd3)(212:0xd4,0xd4)(213:0xd5,0xd5)(214:0xd6,0xd6)(215:0xd7,0xd7)(216:0xd8,0xd8)(217:0xd9,0xd9)(218:0xda,0xda)(219:0xdb,0xdb)(220:0xdc,0xdc)(221:0xdd,0xdd)(222:0xde,0xde)(223:0xdf,0xdf)(224:0xe0,0xe0)(225:0xe1,0xe1)(226:0xe2,0xe2)(227:0xe3,0xe3)(228:0xe4,0xe4)(229:0xe5,0xe5)(230:0xe6,0xe6)(231:0xe7,0xe7)(232:0xe8,0xe8)(233:0xe9,0xe9)(234:0xea,0xea)(235:0xeb,0xeb)(236:0xec,0xec)(237:0xed,0xed)(238:0xee,0xee)(239:0xef,0xef)(240:0xf0,0xf0)(241:0xf1,0xf1)(242:0xf2,0xf2)(243:0xf3,0xf3)(244:0xf4,0xf4)(245:0xf5,0xf5)(246:0xf6,0xf6)(247:0xf7,0xf7)(248:0xf8,0xf8)(249:0xf9,0xf9)(250:0xfa,0xfa)(251:0xfb,0xfb)(252:0xfc,0xfc)(253:0xfd,0xfd)(254:0xfe,0xfe)(255:0xff,0xff)(256:0x100,0x100)\n",
      "...continue\n",
      "(257:0x101,0x101)(258:0x102,0x102)(259:0x103,0x103)(260:0x104,0x104)(261:0x105,0x105)(262:0x106,0x106)(263:0x107,0x107)(264:0x108,0x108)(265:0x109,0x109)(266:0x10a,0x10a)(267:0x10b,0x10b)(268:0x10c,0x10c)(269:0x10d,0x10d)(270:0x10e,0x10e)(271:0x10f,0x10f)(272:0x110,0x110)(273:0x111,0x111)(274:0x112,0x112)(275:0x113,0x113)(276:0x114,0x114)(277:0x115,0x115)(278:0x116,0x116)(279:0x117,0x117)(280:0x118,0x118)(281:0x119,0x119)(282:0x11a,0x11a)(283:0x11b,0x11b)(284:0x11c,0x11c)(285:0x11d,0x11d)(286:0x11e,0x11e)(287:0x11f,0x11f)(288:0x120,0x120)(289:0x121,0x121)(290:0x122,0x122)(291:0x123,0x123)(292:0x124,0x124)(293:0x125,0x125)(294:0x126,0x126)(295:0x127,0x127)(296:0x128,0x128)(297:0x129,0x129)(298:0x12a,0x12a)(299:0x12b,0x12b)(300:0x12c,0x12c)(301:0x12d,0x12d)(302:0x12e,0x12e)(303:0x12f,0x12f)(304:0x130,0x130)(305:0x131,0x131)(306:0x132,0x132)(307:0x133,0x133)(308:0x134,0x134)(309:0x135,0x135)(310:0x136,0x136)(311:0x137,0x137)(312:0x138,0x138)(313:0x139,0x139)(314:0x13a,0x13a)(315:0x13b,0x13b)(316:0x13c,0x13c)(317:0x13d,0x13d)(318:0x13e,0x13e)(319:0x13f,0x13f)(320:0x140,0x140)\n",
      "...continue\n",
      "(321:0x141,0x141)(322:0x142,0x142)(323:0x143,0x143)(324:0x144,0x144)(325:0x145,0x145)(326:0x146,0x146)(327:0x147,0x147)(328:0x148,0x148)(329:0x149,0x149)(330:0x14a,0x14a)(331:0x14b,0x14b)(332:0x14c,0x14c)(333:0x14d,0x14d)(334:0x14e,0x14e)(335:0x14f,0x14f)(336:0x150,0x150)(337:0x151,0x151)(338:0x152,0x152)(339:0x153,0x153)(340:0x154,0x154)(341:0x155,0x155)(342:0x156,0x156)(343:0x157,0x157)(344:0x158,0x158)(345:0x159,0x159)(346:0x15a,0x15a)(347:0x15b,0x15b)(348:0x15c,0x15c)(349:0x15d,0x15d)(350:0x15e,0x15e)(351:0x15f,0x15f)(352:0x160,0x160)(353:0x161,0x161)(354:0x162,0x162)(355:0x163,0x163)(356:0x164,0x164)(357:0x165,0x165)(358:0x166,0x166)(359:0x167,0x167)(360:0x168,0x168)(361:0x169,0x169)(362:0x16a,0x16a)(363:0x16b,0x16b)(364:0x16c,0x16c)(365:0x16d,0x16d)(366:0x16e,0x16e)(367:0x16f,0x16f)(368:0x170,0x170)(369:0x171,0x171)(370:0x172,0x172)(371:0x173,0x173)(372:0x174,0x174)(373:0x175,0x175)(374:0x176,0x176)(375:0x177,0x177)(376:0x178,0x178)(377:0x179,0x179)(378:0x17a,0x17a)(379:0x17b,0x17b)(380:0x17c,0x17c)(381:0x17d,0x17d)(382:0x17e,0x17e)(383:0x17f,0x17f)(384:0x180,0x180)\n",
      "...continue\n",
      "(385:0x181,0x181)(386:0x182,0x182)(387:0x183,0x183)(388:0x184,0x184)(389:0x185,0x185)(390:0x186,0x186)(391:0x187,0x187)(392:0x188,0x188)(393:0x189,0x189)(394:0x18a,0x18a)(395:0x18b,0x18b)(396:0x18c,0x18c)(397:0x18d,0x18d)(398:0x18e,0x18e)(399:0x18f,0x18f)(400:0x190,0x190)(401:0x191,0x191)(402:0x192,0x192)(403:0x193,0x193)(404:0x194,0x194)(405:0x195,0x195)(406:0x196,0x196)(407:0x197,0x197)(408:0x198,0x198)(409:0x199,0x199)(410:0x19a,0x19a)(411:0x19b,0x19b)(412:0x19c,0x19c)(413:0x19d,0x19d)(414:0x19e,0x19e)(415:0x19f,0x19f)(416:0x1a0,0x1a0)(417:0x1a1,0x1a1)(418:0x1a2,0x1a2)(419:0x1a3,0x1a3)(420:0x1a4,0x1a4)(421:0x1a5,0x1a5)(422:0x1a6,0x1a6)(423:0x1a7,0x1a7)(424:0x1a8,0x1a8)(425:0x1a9,0x1a9)(426:0x1aa,0x1aa)(427:0x1ab,0x1ab)(428:0x1ac,0x1ac)(429:0x1ad,0x1ad)(430:0x1ae,0x1ae)(431:0x1af,0x1af)(432:0x1b0,0x1b0)(433:0x1b1,0x1b1)(434:0x1b2,0x1b2)(435:0x1b3,0x1b3)(436:0x1b4,0x1b4)(437:0x1b5,0x1b5)(438:0x1b6,0x1b6)(439:0x1b7,0x1b7)(440:0x1b8,0x1b8)(441:0x1b9,0x1b9)(442:0x1ba,0x1ba)(443:0x1bb,0x1bb)(444:0x1bc,0x1bc)(445:0x1bd,0x1bd)(446:0x1be,0x1be)(447:0x1bf,0x1bf)(448:0x1c0,0x1c0)\n",
      "...continue\n"
     ]
    }
   ],
   "source": [
    "import math \n",
    "print(\"int --> hex\")\n",
    "inte=1048576#pow(16,5)\n",
    "print(hex(inte))\n",
    "inte=16\n",
    "print(hex(inte))\n",
    "print(\"hex --> int\")\n",
    "hexa = '100000'\n",
    "print(int(hexa,16))\n",
    "msg=\"\"\n",
    "for i in range(512):\n",
    "    s=\"(%i:%s,%s)\" % (i,hex(i),unicode(hex(i)))    \n",
    "    msg=msg+s  \n",
    "    \n",
    "    if i%64==0:\n",
    "        print(msg)\n",
    "        msg=\"\"\n",
    "        raw_input(\"...continue\")"
   ]
  },
  {
   "cell_type": "code",
   "execution_count": 4,
   "metadata": {
    "collapsed": false
   },
   "outputs": [
    {
     "data": {
      "text/plain": [
       "u'0x11'"
      ]
     },
     "execution_count": 4,
     "metadata": {},
     "output_type": "execute_result"
    }
   ],
   "source": [
    "unicode(hex(17))\n",
    "u=unicode(hex(1048576))\n",
    "u.encode('utf-8')"
   ]
  },
  {
   "cell_type": "code",
   "execution_count": 13,
   "metadata": {
    "collapsed": false
   },
   "outputs": [
    {
     "name": "stdout",
     "output_type": "stream",
     "text": [
      "ꀀabcd޴\n",
      "ꀀabcd޴\n",
      "ꀀabcd޴\n",
      "ꀀabcd޴\n",
      "ꀀabcd޴\n"
     ]
    }
   ],
   "source": [
    "u = unichr(40960) + u'abcd' + unichr(1972)\n",
    "print(u)\n",
    "u.encode('utf-8')\n",
    "print(u)\n",
    "#u.encode('ascii') UnicodeEncodeError: 'ascii' codec can't encode character u'\\ua000' in position 0: ordinal not in range(128)                           \n",
    "#print(u)\n",
    "u.encode('ascii', 'ignore')\n",
    "print(u)\n",
    "u.encode('ascii', 'replace')\n",
    "print(u)\n",
    "u.encode('ascii', 'xmlcharrefreplace')\n",
    "print(u)"
   ]
  },
  {
   "cell_type": "markdown",
   "metadata": {},
   "source": [
    "<a id=\"math\"></a>\n",
    "<hr>\n",
    "##  MATH (number,int, float)"
   ]
  },
  {
   "cell_type": "code",
   "execution_count": 51,
   "metadata": {
    "collapsed": false,
    "scrolled": true
   },
   "outputs": [
    {
     "name": "stdout",
     "output_type": "stream",
     "text": [
      "('DIVISION 17/3', 5)\n",
      "('if at least one is float....DIVISION 17/float(3)', 5.666666666666667)\n",
      "floating point trick:0.1 + 0.2=0.30000000000000004441 (but formatted:0.30000)\n",
      "floating point trick:0.1 + 0.2=0 (but formatted:0)\n",
      "('  17//3', 5)\n",
      "('power 2**3 ', 8)\n",
      "(' x = X + 10 -->  x+=x (oppure x+=10 -->11)', 2)\n",
      "(' x = X - 10 -->  x-=x', 0)\n",
      "(' x = X * 10 -->  x*=x', 1)\n",
      "(' x = X / 10 -->  x/=x', 1.0)\n",
      "3.0 o 3.   intercambiabili...\n",
      "('10^4 scientific shortcut', 10000.0)\n"
     ]
    }
   ],
   "source": [
    "# floating point https://docs.python.org/2/tutorial/floatingpoint.html\n",
    "# are represented as : J / (2**N)\n",
    "#approximates real numberto support trade-off between range and precision. \n",
    "#operation on big number are easier to implement\n",
    "# 0.0125 in bin is 0.001 --> read left to right 0/2**1  + 0/2**2  + 1/2**3\n",
    "# 0.1 in bin is 00011001100110011001100110011001100110011001100110011010 (1/16+1/32+1256 ...etc)\n",
    "\n",
    "print('DIVISION 17/3',17/3)\n",
    "print('if at least one is float....DIVISION 17/float(3)',17/float(3) )\n",
    "\n",
    "print(\"floating point trick:0.1 + 0.2=%1.20f (but formatted:%1.5f)\"  % ((0.1 + 0.2) ,(0.1 + 0.2) ))\n",
    "from decimal import Decimal\n",
    "print(\"floating point trick:0.1 + 0.2=%d (but formatted:%d)\"  % (Decimal((0.1 + 0.2)) ,(0.1 + 0.2) ))\n",
    "print('  17//3',17//3)\n",
    "print('power 2**3 ',2**3)\n",
    "x=1\n",
    "x+=x\n",
    "print(' x = X + 10 -->  x+=x (oppure x+=10 -->11)',x)\n",
    "\n",
    "x=1\n",
    "x-=x\n",
    "print(' x = X - 10 -->  x-=x',x)\n",
    "\n",
    "x=1\n",
    "x*=x\n",
    "print(' x = X * 10 -->  x*=x',x)\n",
    "\n",
    "x=float(1)\n",
    "x/=x\n",
    "print(' x = X / 10 -->  x/=x',x)\n",
    "\n",
    "print(\"3.0 o 3.   intercambiabili...\")\n",
    "assert 3.0 == 3.\n",
    "\n",
    "print(\"10^4 scientific shortcut\",1e4)"
   ]
  },
  {
   "cell_type": "markdown",
   "metadata": {},
   "source": [
    "<a id=\"boolean\"></a>\n",
    "<hr>\n",
    "# Boolean"
   ]
  },
  {
   "cell_type": "code",
   "execution_count": 11,
   "metadata": {
    "collapsed": false
   },
   "outputs": [
    {
     "name": "stdout",
     "output_type": "stream",
     "text": [
      "false:False,0,the empty string ('') and other empty containers\n",
      "true:ffdsfs,2322,[3,444,555] are TRUE\n",
      "do this:    if x:    # not this:   if x == True:\n",
      "NOTE and,or dont ret a bool!!!!7 or 0 -->7\n",
      "     they ret the last val:'ffdsfs'\n",
      "short assgmnt: <x=y1 IF <expr> else Y2> Bsp.( x=10 if 100>1 else 0) -->10\n"
     ]
    }
   ],
   "source": [
    "#Attention: «evaluate to True/False» does not mean «equality to True/False»!\n",
    "#Precedence   not > and > or\n",
    "if False or  0 or  '':\n",
    "    print(\"no way...\")\n",
    "else:\n",
    "    print(\"false:False,0,the empty string ('') and other empty containers\")\n",
    "\n",
    "if 2322 and \"ffdsfs\" and [3,444,555]:\n",
    "    print(\"true:ffdsfs,2322,[3,444,555] are TRUE\")\n",
    "\n",
    "print(\"do this:    if x:    # not this:   if x == True:\")\n",
    "print(\"list do this:   if items:    # not this:  if len(items) != 0:\")\n",
    "\n",
    "\n",
    "print (\"NOTE and,or dont ret a bool!!!!7 or 0 -->%r\" % ( 7 or 0 ))\n",
    "print (\"     they ret the last val:%r\" % ( 2322 and \"ffdsfs\"  ))    \n",
    "\n",
    "x= 10 if 100>1 else 0\n",
    "print('short assgmnt: <x=y1 IF <expr> else Y2> Bsp.( x=10 if 100>1 else 0) -->%r' % x)"
   ]
  },
  {
   "cell_type": "code",
   "execution_count": 23,
   "metadata": {
    "collapsed": false
   },
   "outputs": [
    {
     "name": "stdout",
     "output_type": "stream",
     "text": [
      "\n",
      "b\n",
      "a\n",
      "0\n",
      "\n"
     ]
    }
   ],
   "source": [
    "if '' and 'b':\n",
    "    print \"never!!!!!!\"\n",
    "print('' and 'b' )#=='' (and returns the first False value)\n",
    "print('a' and 'b') #=='b' (if all values are True, and returs the last one)\n",
    "print('a' or 'b' )#=='a' (or returns the first True value)\n",
    "print('' or [] or 0) #==0 (if all values are False, or returns the last one)\n",
    "print('a' and 'b' and '' )#==''\n",
    "#print('a' or <someCode> )#=='a' (someCode is never executed)"
   ]
  },
  {
   "cell_type": "markdown",
   "metadata": {},
   "source": [
    "## Collections"
   ]
  },
  {
   "cell_type": "markdown",
   "metadata": {},
   "source": [
    "<a id=\"list\"></a>\n",
    "<hr>\n",
    "### LIST [ ]\n",
    " -  just put  []\n",
    " -  can be a list of different types\n",
    " - are implemented in C (Cpython)\n",
    " -  http://effbot.org/zone/python-list.htm\n",
    " -  https://docs.python.org/2/tutorial/datastructures.html"
   ]
  },
  {
   "cell_type": "code",
   "execution_count": 15,
   "metadata": {
    "collapsed": false
   },
   "outputs": [
    {
     "name": "stdout",
     "output_type": "stream",
     "text": [
      "---CREATE\n",
      "[100, 101, '102a', [300, 301]]\n",
      "[0, 0, 0, 0, 0]\n",
      "('len:', 5)\n",
      "---MODIFY\n",
      "-- slicing\n",
      "('start:stop 0:4', [1, 2, 3, 4])\n",
      "('items start through end-1',)\n",
      "('start: 2:', [3, 4, 5, 6])\n",
      "(':end :2', [1, 2])\n",
      "(': ALL!', [1, 2, 3, 4, 5, 6])\n",
      "('start:end:step 1:4:2', [2, 4])\n",
      "('-1 last item -1', 6)\n",
      "('-2  2last -2', [5, 6])\n",
      "('all except last 2 :-2', [1, 2, 3, 4])\n",
      "('reverse ::-1 minus is reverse,1 is step', [6, 5, 4, 3, 2, 1])\n",
      "('reverse ::-3 minus is reverse,3 is step', [6, 3])\n",
      "('seq slice', [2, 4, 6])\n",
      "---LOOP list\n",
      " List element: 100  \n",
      " List element: 101  \n",
      " List element: 102a  \n",
      " List element: [300, 301]  \n",
      "--- enumerate LIST (get the index)\n",
      "0 100\n",
      "1 101\n",
      "2 102a\n",
      "3 [300, 301]\n",
      "('PACKED:', [1, 2, 3, 4, 5])\n",
      "('unpacked_3:', 3)\n"
     ]
    },
    {
     "data": {
      "text/plain": [
       "{1, 3, 8}"
      ]
     },
     "execution_count": 15,
     "metadata": {},
     "output_type": "execute_result"
    }
   ],
   "source": [
    "print(\"---CREATE\")\n",
    "list_1 = [100,101,'102a',[300,301]]\n",
    "print(list_1)\n",
    "x = [0]*5\n",
    "print(x)\n",
    "print('len:',len(x))\n",
    "print(\"---MODIFY\")\n",
    "x=[]\n",
    "# x value..\n",
    "x.append(44)  #append VALUE\n",
    "x.remove(44)#remove(1st element with VALUE)\n",
    "# x index...\n",
    "x.insert(0,1234) #insert(item,position)\n",
    "del(x[0]) # del I-th index\n",
    "x.insert(0,1234) #insert(item,position)\n",
    "x.pop(0) # pop I-th element\n",
    "x=[1,2,3,4,5,6]\n",
    "print(\"-- slicing\")\n",
    "print(\"start:stop 0:4\",x[0:4])\n",
    "print('items start through end-1',)\n",
    "print('start: 2:',x[2:])\n",
    "print(':end :2',x[:2])\n",
    "print(': ALL!',x[:])\n",
    "print('start:end:step 1:4:2',x[1:4:2])\n",
    "print('-1 last item -1',x[-1])\n",
    "print('-2  2last -2',x[-2:])\n",
    "print('all except last 2 :-2',x[:-2])\n",
    "print('reverse ::-1 minus is reverse,1 is step',x[::-1])\n",
    "print('reverse ::-3 minus is reverse,3 is step',x[::-3])\n",
    "seq = x[1::2] # get every other item, starting with the second\n",
    "print('seq slice',seq)\n",
    "\n",
    "\n",
    "print(\"---LOOP list\")\n",
    "for element in list_1:\n",
    "    print (\" List element: %s  \" % element)\n",
    "\n",
    "#ENUMARATE a List  \n",
    "print (\"--- enumerate LIST (get the index)\")\n",
    "for index, item in enumerate(list_1):\n",
    "    print index, item\n",
    "#Searching Lists\n",
    "if 103 in list_1:\n",
    "    print \"list contains\", 103   \n",
    "#Unpacking\n",
    "packed=[1,2,3,4,5]\n",
    "unpacked_1,unpacked_2,unpacked_3,unpacked_4,unpacked_5 = packed\n",
    "print('PACKED:',packed)\n",
    "print('unpacked_3:',unpacked_3)\n",
    "# append , insert(pos) , pop(pos) , remove(value) , in(value) ,extend,sort\n",
    "# binary tree search  # slicing # enumerate,sorted,zip(associa 2 liste),reversed\n",
    "#Create & Edit\n",
    "strings=[\"abcdefgh\",\"abc\",\"123\",\"3\",\"4\"]\n",
    "unique_lengths = {len(x) for x in strings}\n",
    "unique_lengths#Out[480]: set([1, 2, 3, 4, 6])"
   ]
  },
  {
   "cell_type": "markdown",
   "metadata": {},
   "source": [
    "####  LIST COMPREHENSION"
   ]
  },
  {
   "cell_type": "code",
   "execution_count": 31,
   "metadata": {
    "collapsed": false
   },
   "outputs": [
    {
     "name": "stdout",
     "output_type": "stream",
     "text": [
      "List comprehension :[expr for val in collection if condition] \n",
      " new_list = [] \n",
      "for item in a_list:\n",
      "    if condition(item):\n",
      "        new_list.append(expr)\n",
      "[0, 1, 4, 9, 16]\n",
      "[1, 9]\n",
      "if we had milion element performance breaks, so use a GENERATOR \n",
      " Use a list comprehension when a computed list is the desired end result. \n",
      " Use a generator expression when the computed list is just an intermediate step \n",
      " \n",
      "NESTED List comprehension:\n"
     ]
    }
   ],
   "source": [
    "print(\"List comprehension :[expr for val in collection if condition] \\n \" \\\n",
    "\"new_list = [] \\n\" \\\n",
    "\"for item in a_list:\\n\" \\\n",
    "\"    if condition(item):\\n\" \\\n",
    "\"        new_list.append(expr)\" \n",
    ")\n",
    "\n",
    "squares = [x**2 for x in range(5)]\n",
    "print(squares)\n",
    "squares = [n ** 2 for n in range(5) if n % 2]\n",
    "print(squares)\n",
    "strings = ['a', 'as', 'bat', 'car', 'dove', 'python']\n",
    "[x.upper() for x in strings if len(x) > 2]\n",
    "\n",
    "print(\"if we had milion element performance breaks, so use a GENERATOR \\n \"\\\n",
    "\"Use a list comprehension when a computed list is the desired end result. \\n \"\\\n",
    "\"Use a generator expression when the computed list is just an intermediate step \\n \")     \n",
    "total = sum(num * num for num in xrange(1, 1000))\n",
    "print(\"NESTED List comprehension:\")\n",
    "#result = [name for names in all_data for name in names  if name.count('e') >= 2]"
   ]
  },
  {
   "cell_type": "markdown",
   "metadata": {},
   "source": [
    "#### List sort"
   ]
  },
  {
   "cell_type": "code",
   "execution_count": 3,
   "metadata": {
    "collapsed": false
   },
   "outputs": [
    {
     "name": "stdout",
     "output_type": "stream",
     "text": [
      "(None, 'NONE!!! sort() sorts the list doesnt return any sorted new list')\n",
      "('sorted', ['a', 'b', 'c'])\n",
      "('REVERSE', ['b', 'a', 'c'])\n"
     ]
    }
   ],
   "source": [
    "a_list=['c','a','b']\n",
    "a_list.sort()\n",
    "print(a_list.sort(), \"NONE!!! sort() sorts the list doesnt return any sorted new list\")\n",
    "print(\"sorted\",a_list)\n",
    "a_list1=['c','a','b']\n",
    "print(\"REVERSE\",a_list1[::-1])"
   ]
  },
  {
   "cell_type": "markdown",
   "metadata": {},
   "source": [
    "###copy:\n",
    "- shared reference (my_list=your_list puntano allo stesso oggetto)\n",
    "- copy\n",
    "- - shallow : my_list = your_list[:] (use the : all )\n",
    "    http://www.python-course.eu/deep_copy.php\n",
    "- - deep    : my_list = copy.deepcopy(your_list) list contain COMPOUNDED object\n"
   ]
  },
  {
   "cell_type": "code",
   "execution_count": 16,
   "metadata": {
    "collapsed": false
   },
   "outputs": [
    {
     "name": "stdout",
     "output_type": "stream",
     "text": [
      "int or string  are IMMUTABLE at assignment is created a new object\n",
      "(4299183272, 4299183272)\n",
      "(4299183248, 4299183272)\n"
     ]
    }
   ],
   "source": [
    "a=1\n",
    "b=a\n",
    "print(\"int or string  are IMMUTABLE at assignment is created a new object\")\n",
    "print(id(a),id(b))\n",
    "a=2\n",
    "print(id(a),id(b))\n"
   ]
  },
  {
   "cell_type": "markdown",
   "metadata": {},
   "source": [
    "####Primitive types are immutable: when \"updated\" a new object is instantiared"
   ]
  },
  {
   "cell_type": "code",
   "execution_count": 1,
   "metadata": {
    "collapsed": false
   },
   "outputs": [
    {
     "name": "stdout",
     "output_type": "stream",
     "text": [
      "Primitive types are not pointer cause a new object is created\n",
      "('a', <type 'int'>, 21881400)\n",
      "('b', <type 'int'>, 21881400)\n",
      "('a', <type 'int'>, 21881388)\n",
      "('b', <type 'int'>, 21881400)\n",
      "list are C pointer?\n",
      "('Shared reference', [100, 2, 3, 4], [100, 2, 3, 4])\n",
      "('Shallow', [1, 2, 3, 4], [100, 2, 3, 4])\n",
      "('deep', [1, 2, 3, 4], [100, 2, 3, 4])\n"
     ]
    }
   ],
   "source": [
    "a=1\n",
    "print(\"a\",type(a),id(a))\n",
    "b=a\n",
    "print(\"b\",type(b),id(b))\n",
    "a=2\n",
    "print(\"a\",type(a),id(a))\n",
    "print(\"b\",type(b),id(b))"
   ]
  },
  {
   "cell_type": "markdown",
   "metadata": {},
   "source": [
    "####Shared reference"
   ]
  },
  {
   "cell_type": "code",
   "execution_count": 12,
   "metadata": {
    "collapsed": false
   },
   "outputs": [
    {
     "name": "stdout",
     "output_type": "stream",
     "text": [
      "list are C pointer?\n",
      "('orig', <type 'list'>, 45979648)\n",
      "('dest', <type 'list'>, 45979648)\n",
      "('orig', <type 'list'>, 45979648)\n",
      "('dest', <type 'list'>, 45979648)\n",
      "('dest[0]', 21882196, 100)\n",
      "('orig[0]', 21882196, 100)\n"
     ]
    }
   ],
   "source": [
    "print(\"list are C pointer?\")\n",
    "orig=[1,2,3,4]\n",
    "print(\"orig\",type(orig),id(orig))\n",
    "dest=orig\n",
    "print(\"dest\",type(dest),id(dest))\n",
    "dest[0]=100\n",
    "print(\"orig\",type(orig),id(orig))\n",
    "print(\"dest\",type(dest),id(dest))\n",
    "print(\"dest[0]\",id(dest[0]),dest[0])\n",
    "print(\"orig[0]\",id(orig[0]),orig[0])"
   ]
  },
  {
   "cell_type": "markdown",
   "metadata": {},
   "source": [
    "#####Shallow copy"
   ]
  },
  {
   "cell_type": "code",
   "execution_count": 31,
   "metadata": {
    "collapsed": false
   },
   "outputs": [
    {
     "name": "stdout",
     "output_type": "stream",
     "text": [
      "orig [0]=1 id([0])=21881400 id(orig)=44374216\n",
      "dest [0]=1 id([0])=21881400 id(dest)=46013456\n",
      "orig [0]=1 id([0])=21881400 id(orig)=44374216\n",
      "dest [0]=100 id([0])=21882196 id(dest)=46013456\n",
      "with nested structures.....\n",
      "orig [0]=[10, 20, 30] id([0])=45979368 id(orig)=46013496\n",
      "dest [0]=[10, 20, 30] id([0])=45979368 id(dest)=44374216\n",
      "orig Mutable equals:[0]=[110, 20, 30] id([0])=45979368 immutable DIFF:[1]=1\n",
      "dest Mutable equals:[0]=[110, 20, 30] id([0])=45979368 immutable DIFF:[1]=99\n"
     ]
    }
   ],
   "source": [
    "orig=[1,2,3,4]\n",
    "print(\"orig [0]=%r id([0])=%r id(orig)=%r\" % (orig[0],id(orig[0]),id(orig)))\n",
    "dest=orig[:] # [:]  IS THE all TRICK!!!!!!\n",
    "print(\"dest [0]=%r id([0])=%r id(dest)=%r\" % (dest[0],id(dest[0]),id(dest)))\n",
    "dest[0]=100\n",
    "print(\"orig [0]=%r id([0])=%r id(orig)=%r\" % (orig[0],id(orig[0]),id(orig)))\n",
    "print(\"dest [0]=%r id([0])=%r id(dest)=%r\" % (dest[0],id(dest[0]),id(dest)))\n",
    "\n",
    "print(\"with nested structures.....\")\n",
    "orig=[[10,20,30],1,2,3]\n",
    "print(\"orig [0]=%r id([0])=%r id(orig)=%r\" % (orig[0],id(orig[0]),id(orig)))\n",
    "dest=orig[:] # [:]  IS THE all TRICK!!!!!!\n",
    "print(\"dest [0]=%r id([0])=%r id(dest)=%r\" % (dest[0],id(dest[0]),id(dest)))\n",
    "dest[0][0]=110\n",
    "dest[1]=99\n",
    "print(\"orig Mutable equals:[0]=%r id([0])=%r immutable DIFF:[1]=%r\" % (orig[0],id(orig[0]),orig[1]))\n",
    "print(\"dest Mutable equals:[0]=%r id([0])=%r immutable DIFF:[1]=%r\" % (dest[0],id(dest[0]),dest[1]))"
   ]
  },
  {
   "cell_type": "markdown",
   "metadata": {},
   "source": [
    "####Deep Copy"
   ]
  },
  {
   "cell_type": "code",
   "execution_count": 33,
   "metadata": {
    "collapsed": false,
    "scrolled": true
   },
   "outputs": [
    {
     "name": "stdout",
     "output_type": "stream",
     "text": [
      "orig [0]=[10, 20, 30] id([0])=46014056 id(orig)=44653424\n",
      "dest [0]=[10, 20, 30] id([0])=47109544 id(dest)=46012376\n",
      "orig Mutable equals:[0]=[10, 20, 30] id([0])=46014056 immutable DIFF:[1]=1\n",
      "dest Mutable equals:[0]=[110, 20, 30] id([0])=47109544 immutable DIFF:[1]=99\n",
      "('100 is an object', 21882196)\n"
     ]
    }
   ],
   "source": [
    "import copy\n",
    "orig=[[10,20,30],1,2,3]\n",
    "print(\"orig [0]=%r id([0])=%r id(orig)=%r\" % (orig[0],id(orig[0]),id(orig)))\n",
    "dest=copy.deepcopy(orig)\n",
    "print(\"dest [0]=%r id([0])=%r id(dest)=%r\" % (dest[0],id(dest[0]),id(dest)))\n",
    "dest[0][0]=110\n",
    "dest[1]=99\n",
    "print(\"orig Mutable DIFF:[0]=%r id([0])=%r immutable DIFF:[1]=%r\" % (orig[0],id(orig[0]),orig[1]))\n",
    "print(\"dest Mutable DIFF:[0]=%r id([0])=%r immutable DIFF:[1]=%r\" % (dest[0],id(dest[0]),dest[1]))\n",
    "print(\"100 is an object\",id(100))"
   ]
  },
  {
   "cell_type": "markdown",
   "metadata": {},
   "source": [
    "<a id=\"dict\"></a>\n",
    "<hr>\n",
    "### DICTIONARIES   { }\n",
    " - Indexed by keys  /  associative arrays      /https://docs.python.org/2/tutorial/datastructures.html#dictionaries\n",
    " - (coppie di Key:Value) is an HAshmaps or Associative Array or collection of 2-tuples,\n",
    " - cant concat maps\n",
    " -  insert,search,delete,update zip can be useful to create them"
   ]
  },
  {
   "cell_type": "code",
   "execution_count": 35,
   "metadata": {
    "collapsed": false,
    "scrolled": false
   },
   "outputs": [
    {
     "name": "stdout",
     "output_type": "stream",
     "text": [
      "-----Create\n",
      "KEY can be ONLY scalar,VALUES also lists etc...\n",
      "{'a': 1, 3: [11, 22, 33], 'c': 'three', 'b': 2}\n",
      "-----Access\n",
      "2\n",
      "search\n",
      "found\n",
      "NVL:NOT FOUND\n",
      "-----Modify\n",
      "-----LOOP:\n",
      "1\n",
      "[11, 22, 33]\n",
      "three\n",
      "----    enumerate\n",
      "0 a 1\n",
      "1 3 [11, 22, 33]\n",
      "2 c three\n",
      "-----properties\n",
      "length:3\n",
      "keys:['a', 3, 'c']\n",
      "values:[1, [11, 22, 33], 'three']\n"
     ]
    }
   ],
   "source": [
    "print(\"-----Create/Instantiate\")\n",
    "print(\"KEY can be ONLY scalar,VALUES also lists etc...\")\n",
    "alist=[11,22,33]\n",
    "a_dict = {'a': 1,  'b': 2,\"c\" : \"three\" ,3:alist}\n",
    "print(a_dict)\n",
    "print(\"-----Access\")\n",
    "print(a_dict['b'])\n",
    "print(\"search\")\n",
    "if 'b' in a_dict:\n",
    "    print(\"found\")\n",
    "print(\"NVL:%s\" % a_dict.get(\"xyz\",\"NOT FOUND\"))\n",
    "print(\"-----Modify\")\n",
    "a_dict['f'] = \"just added\"\n",
    "del a_dict[\"f\"] #delete\n",
    "#get and delete\n",
    "item=a_dict.pop(\"b\")\n",
    "print(\"-----LOOP:\")\n",
    "for k in a_dict:\n",
    "    print a_dict[k]\n",
    "print('----    enumerate')\n",
    "for i, k in enumerate(a_dict):\n",
    "    print i, k,a_dict[k]\n",
    "    \n",
    "print(\"-----properties\")\n",
    "print(\"length:%i\" % len(a_dict))\n",
    "print(\"keys:%r\" % a_dict.keys())\n",
    "print(\"values:%r\" % a_dict.values())\n",
    "\n",
    "firstname = ['John', 'Eric', 'Terry', 'Michael']\n",
    "surname = ['Cleese', 'Idle', 'Gilliam', 'Palin']\n",
    "print(\"DICT from LIST\",dict_from_list)\n",
    "dict_from_list = dict(zip(firstname, surname))"
   ]
  },
  {
   "cell_type": "code",
   "execution_count": null,
   "metadata": {
    "collapsed": true
   },
   "outputs": [],
   "source": [
    "print(\"----1. Vocabulary Trainer\")\n",
    "import random\n",
    "source = 'D:\\workspace\\python2015\\cas\\dictionary.txt'\n",
    "dictionary = {}\n",
    "with open(source) as f:\n",
    "    for line in f:\n",
    "       word = line.split()\n",
    "       dictionary[word[0]] = word[1:]             \n",
    "print dictionary       \n",
    "\n",
    "steps = len(dictionary)\n",
    "for step in range(steps):    \n",
    "    key=random.choice(dictionary.keys())\n",
    "    while raw_input(\"translate %s >\" % key) not in dictionary[key]:\n",
    "        print(\"little helper...\",dictionary[key])                \n",
    "    item=dictionary.pop(key)\n",
    "print(\"you made it!!!\")  "
   ]
  },
  {
   "cell_type": "markdown",
   "metadata": {},
   "source": [
    "###dict comprehensions"
   ]
  },
  {
   "cell_type": "code",
   "execution_count": 10,
   "metadata": {
    "collapsed": false
   },
   "outputs": [
    {
     "name": "stdout",
     "output_type": "stream",
     "text": [
      "{'jack': 4098, 'tom': 1234}\n",
      "('DICT from LIST', {'John': 'Cleese', 'Michael': 'Palin', 'Eric': 'Idle', 'Terry': 'Gilliam'})\n",
      "('LIST from DICT', ['John', 'Michael', 'Eric', 'Terry'])\n",
      "('LIST from DICT', ['Cleese', 'Palin', 'Idle', 'Gilliam'])\n",
      "1234\n",
      "--- Dict enumerate\n",
      "0 tic\n",
      "1 tac\n",
      "2 toe\n"
     ]
    }
   ],
   "source": [
    "dict_1 ={x: x**2 for x in (2, 4, 6)}"
   ]
  },
  {
   "cell_type": "markdown",
   "metadata": {},
   "source": [
    "<a id=\"tuple\"></a>\n",
    "<hr>\n",
    "### TUPLE - Konstant (Immutable list)\n",
    "Are more efficient (speed & storage) than LISTS"
   ]
  },
  {
   "cell_type": "code",
   "execution_count": 8,
   "metadata": {
    "collapsed": false
   },
   "outputs": [
    {
     "name": "stdout",
     "output_type": "stream",
     "text": [
      " \",\"  (rightside) makes the TUPLE  , and this explain also the unack story...\n",
      "(1,)\n",
      "<type 'tuple'>\n",
      "(1, 33)\n"
     ]
    }
   ],
   "source": [
    "print(\" \\\",\\\"  (rightside) makes the TUPLE  , and this explain also the unack story...\")\n",
    "x= 1,\n",
    "print x\n",
    "print type(x)\n",
    "x= 1,33\n",
    "print x\n"
   ]
  },
  {
   "cell_type": "code",
   "execution_count": 9,
   "metadata": {
    "collapsed": false
   },
   "outputs": [
    {
     "name": "stdout",
     "output_type": "stream",
     "text": [
      "(2, <type 'int'>)\n",
      "(3, <type 'int'>)\n",
      "((2, 3), <type 'tuple'>)\n"
     ]
    }
   ],
   "source": [
    "z=(2,3)\n",
    "x,y=z\n",
    "print(x,type(x))\n",
    "print(y,type(y))\n",
    "print(z,type(z))\n"
   ]
  },
  {
   "cell_type": "markdown",
   "metadata": {},
   "source": [
    "SWAP"
   ]
  },
  {
   "cell_type": "code",
   "execution_count": 6,
   "metadata": {
    "collapsed": false
   },
   "outputs": [
    {
     "name": "stdout",
     "output_type": "stream",
     "text": [
      "20 10\n"
     ]
    }
   ],
   "source": [
    "x=10\n",
    "y=20\n",
    "x,y=y,x\n",
    "print x,y\n"
   ]
  },
  {
   "cell_type": "code",
   "execution_count": 4,
   "metadata": {
    "collapsed": false,
    "scrolled": true
   },
   "outputs": [
    {
     "name": "stdout",
     "output_type": "stream",
     "text": [
      "('Length', 3)\n",
      "('Concatenation', (1, 2, 3, 4, 5, 6))\n",
      "('Repetition', ('Hi!', 'Hi!', 'Hi!', 'Hi!'))\n",
      "('Membership', True)\n"
     ]
    }
   ],
   "source": [
    "tup1 = ('physics', 'chemistry', 1997, 2000);\n",
    "\n",
    "\n",
    "print('Length',len((1, 2, 3)) )\n",
    "print('Concatenation', ( (1, 2, 3) + (4, 5, 6) ) )\n",
    "print('Repetition',   ( ('Hi!',) * 4 ) )\n",
    "print('Membership', (  3 in (1, 2, 3))    )\n",
    "#print('Iteration',    ( for x in (1, 2, 3): print x, )   )\n",
    "\n",
    "my_tuple = [ 2,44,23,66,1]\n",
    "my_tuple.count()#5\n",
    "#convert  tuple < -- > list \n",
    "cnv_list = list(my_tuple)\n",
    "cnv_tuple =  tuple(cnv_list)\n",
    "('a', 'b') * 4 # a,b a,b a,b a,b \n",
    "#length max min\n",
    "print('len max min ',len(my_tuple),max(my_tuple),min(my_tuple))\n",
    "#Unpacking assignment\n",
    "tup = (4, 5, 6)\n",
    "a, b, c = tup\n",
    "#Pack variables into tuples\n",
    "z = (x, y)\n",
    "#Unpack tuples\n",
    "x, y = z\n",
    "#Tuples are often used if more than one value is returned by a function"
   ]
  },
  {
   "cell_type": "code",
   "execution_count": 6,
   "metadata": {
    "collapsed": false,
    "scrolled": true
   },
   "outputs": [
    {
     "ename": "TypeError",
     "evalue": "'tuple' object does not support item assignment",
     "output_type": "error",
     "traceback": [
      "\u001b[1;31m---------------------------------------------------------------------------\u001b[0m\n\u001b[1;31mTypeError\u001b[0m                                 Traceback (most recent call last)",
      "\u001b[1;32m<ipython-input-6-d3f4243fb193>\u001b[0m in \u001b[0;36m<module>\u001b[1;34m()\u001b[0m\n\u001b[1;32m----> 1\u001b[1;33m \u001b[0mtup1\u001b[0m\u001b[1;33m[\u001b[0m\u001b[1;36m2\u001b[0m\u001b[1;33m]\u001b[0m\u001b[1;33m=\u001b[0m\u001b[1;36m333\u001b[0m\u001b[1;33m\u001b[0m\u001b[0m\n\u001b[0m\u001b[0;32m      2\u001b[0m \u001b[1;32mprint\u001b[0m\u001b[1;33m(\u001b[0m\u001b[0mtup1\u001b[0m\u001b[1;33m)\u001b[0m\u001b[1;33m\u001b[0m\u001b[0m\n",
      "\u001b[1;31mTypeError\u001b[0m: 'tuple' object does not support item assignment"
     ]
    }
   ],
   "source": [
    "tup1[2]=333\n",
    "print(tup1)"
   ]
  },
  {
   "cell_type": "markdown",
   "metadata": {},
   "source": [
    "<a id=\"sets\"></a>\n",
    "<hr>\n",
    "### SETS"
   ]
  },
  {
   "cell_type": "code",
   "execution_count": 36,
   "metadata": {
    "collapsed": false
   },
   "outputs": [
    {
     "name": "stdout",
     "output_type": "stream",
     "text": [
      "('dulpicate removed', set(['orange', 'pear', 'apple', 'banana']))\n",
      "('membership test', True)\n"
     ]
    }
   ],
   "source": [
    "'''\n",
    " unordered collection with no duplicate \n",
    " https://docs.python.org/2/tutorial/datastructures.html#sets\n",
    " \n",
    "'''\n",
    "#Create\n",
    "basket = ['apple', 'orange', 'apple', 'pear', 'orange', 'banana']\n",
    "#Remove duplicate\n",
    "fruit = set(basket)               # create a set without duplicates\n",
    "print('dulpicate removed',fruit)\n",
    "\n",
    "# fast membership testing\n",
    "\n",
    "print('membership test','orange' in fruit)\n"
   ]
  },
  {
   "cell_type": "code",
   "execution_count": 38,
   "metadata": {
    "collapsed": false
   },
   "outputs": [
    {
     "name": "stdout",
     "output_type": "stream",
     "text": [
      "--- SET operation\n",
      "('letters in a but not in b', set(['r', 'b', 'd']))\n",
      "('letters in either a or b', set(['a', 'c', 'b', 'd', 'm', 'l', 'r', 'z']))\n",
      "('letters in both a and b', set(['a', 'c']))\n",
      "(' letters in a or b but not both', set(['b', 'd', 'm', 'l', 'r', 'z']))\n"
     ]
    }
   ],
   "source": [
    "# Demonstrate set operations on unique letters from two words\n",
    "print('--- SET operation')\n",
    "a = set('abracadabra')\n",
    "b = set('alacazam')\n",
    "set(['a', 'r', 'b', 'c', 'd'])\n",
    "print('letters in a but not in b' ,a - b )\n",
    "print('letters in either a or b', a | b )\n",
    "print('letters in both a and b',a & b)                              # \n",
    "print(' letters in a or b but not both', a ^ b                             )\n"
   ]
  },
  {
   "cell_type": "markdown",
   "metadata": {},
   "source": [
    "<a id=\"input\"></a>\n",
    "<hr>\n",
    "## raw_Input"
   ]
  },
  {
   "cell_type": "code",
   "execution_count": 1,
   "metadata": {
    "collapsed": false
   },
   "outputs": [
    {
     "name": "stdout",
     "output_type": "stream",
     "text": [
      "type something  ...\n",
      "> ciao+\n",
      " you typed 'ciao+' \n"
     ]
    }
   ],
   "source": [
    "#input\n",
    "prompt = '> '\n",
    "msg=\"type something  ...\"\n",
    "print(msg)\n",
    "y=raw_input( prompt)\n",
    "print \" you typed %r \" % (y)"
   ]
  },
  {
   "cell_type": "markdown",
   "metadata": {},
   "source": [
    "it evaluates the expression\n",
    "##input\n"
   ]
  },
  {
   "cell_type": "code",
   "execution_count": null,
   "metadata": {
    "collapsed": true
   },
   "outputs": [],
   "source": [
    "#input\n",
    "prompt = '> '\n",
    "msg=\"type something  ...\"\n",
    "print(msg)\n",
    "y=raw_input( prompt)\n",
    "print \" you typed %r \" % (y)"
   ]
  },
  {
   "cell_type": "markdown",
   "metadata": {},
   "source": [
    "# script input parameters"
   ]
  },
  {
   "cell_type": "code",
   "execution_count": 1,
   "metadata": {
    "collapsed": false
   },
   "outputs": [
    {
     "ename": "ValueError",
     "evalue": "too many values to unpack",
     "output_type": "error",
     "traceback": [
      "\u001b[0;31m---------------------------------------------------------------------------\u001b[0m",
      "\u001b[0;31mValueError\u001b[0m                                Traceback (most recent call last)",
      "\u001b[0;32m<ipython-input-1-8568a50ebb63>\u001b[0m in \u001b[0;36m<module>\u001b[0;34m()\u001b[0m\n\u001b[1;32m      2\u001b[0m \u001b[0;32mfrom\u001b[0m \u001b[0msys\u001b[0m \u001b[0;32mimport\u001b[0m \u001b[0margv\u001b[0m\u001b[0;34m\u001b[0m\u001b[0m\n\u001b[1;32m      3\u001b[0m \u001b[0;34m\u001b[0m\u001b[0m\n\u001b[0;32m----> 4\u001b[0;31m \u001b[0mscript\u001b[0m\u001b[0;34m,\u001b[0m \u001b[0mfirst\u001b[0m\u001b[0;34m,\u001b[0m \u001b[0msecond\u001b[0m\u001b[0;34m,\u001b[0m \u001b[0mthird\u001b[0m \u001b[0;34m=\u001b[0m \u001b[0margv\u001b[0m\u001b[0;34m\u001b[0m\u001b[0m\n\u001b[0m",
      "\u001b[0;31mValueError\u001b[0m: too many values to unpack"
     ]
    }
   ],
   "source": [
    "#read script input parameters\n",
    "from sys import argv\n",
    "print(\"argv  (length:%s) contains:\" % len(argv))\n",
    "arguments = argv\n",
    "#print \"The script is called:  \" ,  arguments \n",
    "for argument in arguments:\n",
    "   print argument"
   ]
  },
  {
   "cell_type": "markdown",
   "metadata": {},
   "source": [
    "## IPYTHON"
   ]
  },
  {
   "cell_type": "code",
   "execution_count": null,
   "metadata": {
    "collapsed": false
   },
   "outputs": [],
   "source": [
    "MAGIC cmd %\n",
    "%magic\n",
    "%run EXEC a skript:u need absolute path!!!!!\n",
    "%run ipython_script_test.py\n",
    "%paste\n",
    "%logstart\n",
    "%logoff\n",
    "%pwd\n",
    "%dhist\n",
    "%cd\n",
    "COMANDI con uniy  !\n",
    "!touch pippo.txt\n",
    "!ls\n",
    "creare alias per directory\n",
    "%bookmark db /home/wesm/Dropbox/\n",
    "%pdb debug"
   ]
  },
  {
   "cell_type": "code",
   "execution_count": 18,
   "metadata": {
    "collapsed": false
   },
   "outputs": [
    {
     "data": {
      "text/plain": [
       "u'/Volumes/KINGSTON/workspace/python2015/language'"
      ]
     },
     "execution_count": 18,
     "metadata": {},
     "output_type": "execute_result"
    }
   ],
   "source": [
    "%pwd"
   ]
  },
  {
   "cell_type": "code",
   "execution_count": 19,
   "metadata": {
    "collapsed": false
   },
   "outputs": [
    {
     "name": "stdout",
     "output_type": "stream",
     "text": [
      "\u001b[31mMatrices.ipynb\u001b[m\u001b[m*             \u001b[31mlanguage.py\u001b[m\u001b[m*\n",
      "\u001b[31mdebugging_and_test.ipynb\u001b[m\u001b[m*   \u001b[31mnumpy.ipynb\u001b[m\u001b[m*\n",
      "\u001b[31mdebugging_and_test.py\u001b[m\u001b[m*      \u001b[31mpandas.ipynb\u001b[m\u001b[m*\n",
      "\u001b[31mfiles_and_interfaces.ipynb\u001b[m\u001b[m* \u001b[31mtimeseries.ipynb\u001b[m\u001b[m*\n",
      "\u001b[31min_param.py\u001b[m\u001b[m*                \u001b[31mtutorial.ipynb\u001b[m\u001b[m*\n",
      "\u001b[31mlanguage.ipynb\u001b[m\u001b[m*\n"
     ]
    }
   ],
   "source": [
    "%ls"
   ]
  },
  {
   "cell_type": "code",
   "execution_count": null,
   "metadata": {
    "collapsed": false
   },
   "outputs": [],
   "source": [
    "# ? after object\n",
    "a=[[1,2,4],[7,8,4]]\n",
    "\n",
    "a?\n",
    "\n",
    "#Time of CMD execution\n",
    "%time minibatch.fit(blobs)\n",
    "numpy.*?"
   ]
  },
  {
   "cell_type": "markdown",
   "metadata": {},
   "source": [
    "Capture the output of a shell command and store the results in a python variable."
   ]
  },
  {
   "cell_type": "code",
   "execution_count": null,
   "metadata": {
    "collapsed": true
   },
   "outputs": [],
   "source": [
    "foo = ! echo hello, world"
   ]
  },
  {
   "cell_type": "code",
   "execution_count": 48,
   "metadata": {
    "collapsed": false
   },
   "outputs": [
    {
     "name": "stderr",
     "output_type": "stream",
     "text": [
      "Der Befehl \"curl\" ist entweder falsch geschrieben oder\n",
      "konnte nicht gefunden werden.\n"
     ]
    }
   ],
   "source": [
    "# download salary_data.csv save contents to \n",
    "# a local file in the same directory as this notebook\n",
    "!curl http://www.justinmrao.com/salary_data.csv >> ./salary_data.csv"
   ]
  },
  {
   "cell_type": "code",
   "execution_count": 49,
   "metadata": {
    "collapsed": false
   },
   "outputs": [
    {
     "data": {
      "text/plain": [
       "<IPython.core.display.Image object>"
      ]
     },
     "execution_count": 49,
     "metadata": {},
     "output_type": "execute_result"
    }
   ],
   "source": [
    "from IPython.display import Image\n",
    "Image(\"http://ipython.org/_static/IPy_header.png\")"
   ]
  },
  {
   "cell_type": "markdown",
   "metadata": {},
   "source": [
    "<a id=\"packages modules\"></a>\n",
    "<hr>\n",
    "# PACKAGES / Modules"
   ]
  },
  {
   "cell_type": "markdown",
   "metadata": {},
   "source": [
    "### Check Installed packages"
   ]
  },
  {
   "cell_type": "code",
   "execution_count": 45,
   "metadata": {
    "collapsed": false
   },
   "outputs": [
    {
     "ename": "TypeError",
     "evalue": "'NoneType' object is not callable",
     "output_type": "error",
     "traceback": [
      "\u001b[1;31m---------------------------------------------------------------------------\u001b[0m",
      "\u001b[1;31mTypeError\u001b[0m                                 Traceback (most recent call last)",
      "\u001b[1;32m<ipython-input-45-d64a26ef712c>\u001b[0m in \u001b[0;36m<module>\u001b[1;34m()\u001b[0m\n\u001b[0;32m      2\u001b[0m \u001b[0minstalled_packages\u001b[0m \u001b[1;33m=\u001b[0m \u001b[0mpip\u001b[0m\u001b[1;33m.\u001b[0m\u001b[0mget_installed_distributions\u001b[0m\u001b[1;33m(\u001b[0m\u001b[1;33m)\u001b[0m\u001b[1;33m\u001b[0m\u001b[0m\n\u001b[0;32m      3\u001b[0m installed_packages_list = sorted([\"%s==%s\" % (i.key, i.version)\n\u001b[1;32m----> 4\u001b[1;33m      for i in installed_packages])\n\u001b[0m\u001b[0;32m      5\u001b[0m \u001b[1;31m#print(installed_packages_list)\u001b[0m\u001b[1;33m\u001b[0m\u001b[1;33m\u001b[0m\u001b[0m\n",
      "\u001b[1;31mTypeError\u001b[0m: 'NoneType' object is not callable"
     ]
    }
   ],
   "source": [
    "import pip\n",
    "installed_packages = pip.get_installed_distributions()\n",
    "installed_packages_list = sorted([\"%s==%s\" % (i.key, i.version)\n",
    "     for i in installed_packages])\n",
    "#print(installed_packages_list)"
   ]
  },
  {
   "cell_type": "code",
   "execution_count": null,
   "metadata": {
    "collapsed": true
   },
   "outputs": [],
   "source": [
    "#Explore modukle\n",
    "import numpy as np\n",
    "np.*?"
   ]
  },
  {
   "cell_type": "code",
   "execution_count": 9,
   "metadata": {
    "collapsed": false
   },
   "outputs": [
    {
     "data": {
      "text/plain": [
       "['',\n",
       " 'C:\\\\Users\\\\p155121\\\\AppData\\\\Local\\\\Enthought\\\\Canopy32\\\\User\\\\lib\\\\site-packages\\\\graphviz-0.4.4-py2.7.egg',\n",
       " 'C:\\\\Users\\\\p155121\\\\AppData\\\\Local\\\\Enthought\\\\Canopy32\\\\User\\\\Scripts\\\\python27.zip',\n",
       " 'C:\\\\Users\\\\p155121\\\\AppData\\\\Local\\\\Enthought\\\\Canopy32\\\\App\\\\appdata\\\\canopy-1.5.2.2785.win-x86\\\\DLLs',\n",
       " 'C:\\\\Users\\\\p155121\\\\AppData\\\\Local\\\\Enthought\\\\Canopy32\\\\App\\\\appdata\\\\canopy-1.5.2.2785.win-x86\\\\lib',\n",
       " 'C:\\\\Users\\\\p155121\\\\AppData\\\\Local\\\\Enthought\\\\Canopy32\\\\App\\\\appdata\\\\canopy-1.5.2.2785.win-x86\\\\lib\\\\plat-win',\n",
       " 'C:\\\\Users\\\\p155121\\\\AppData\\\\Local\\\\Enthought\\\\Canopy32\\\\App\\\\appdata\\\\canopy-1.5.2.2785.win-x86\\\\lib\\\\lib-tk',\n",
       " 'C:\\\\Users\\\\p155121\\\\AppData\\\\Local\\\\Enthought\\\\Canopy32\\\\App\\\\appdata\\\\canopy-1.5.2.2785.win-x86',\n",
       " 'C:\\\\Users\\\\p155121\\\\AppData\\\\Local\\\\Enthought\\\\Canopy32\\\\User',\n",
       " 'C:\\\\Users\\\\p155121\\\\AppData\\\\Local\\\\Enthought\\\\Canopy32\\\\User\\\\lib\\\\site-packages',\n",
       " 'C:\\\\Users\\\\p155121\\\\AppData\\\\Local\\\\Enthought\\\\Canopy32\\\\User\\\\lib\\\\site-packages\\\\PIL',\n",
       " 'C:\\\\Users\\\\p155121\\\\AppData\\\\Local\\\\Enthought\\\\Canopy32\\\\User\\\\lib\\\\site-packages\\\\win32',\n",
       " 'C:\\\\Users\\\\p155121\\\\AppData\\\\Local\\\\Enthought\\\\Canopy32\\\\User\\\\lib\\\\site-packages\\\\win32\\\\lib',\n",
       " 'C:\\\\Users\\\\p155121\\\\AppData\\\\Local\\\\Enthought\\\\Canopy32\\\\User\\\\lib\\\\site-packages\\\\Pythonwin',\n",
       " 'C:\\\\Users\\\\p155121\\\\AppData\\\\Local\\\\Enthought\\\\Canopy32\\\\App\\\\appdata',\n",
       " 'C:\\\\Users\\\\p155121\\\\AppData\\\\Local\\\\Enthought\\\\Canopy32\\\\App\\\\appdata\\\\canopy-1.5.2.2785.win-x86\\\\lib\\\\site-packages',\n",
       " 'C:\\\\Users\\\\p155121\\\\AppData\\\\Local\\\\Enthought\\\\Canopy32\\\\App\\\\appdata\\\\canopy-1.5.2.2785.win-x86\\\\lib\\\\site-packages\\\\IPython\\\\extensions',\n",
       " 'C:\\\\Users\\\\p155121\\\\.ipython',\n",
       " 'D:\\\\workspace\\\\casinfe\\\\',\n",
       " 'D:\\\\workspace\\\\casinfe\\\\']"
      ]
     },
     "execution_count": 9,
     "metadata": {},
     "output_type": "execute_result"
    }
   ],
   "source": [
    "import sys \n",
    "#When importing the package, Python searches through the directories on sys.path looking for the package subdirectory.\n",
    "'''\n",
    "mypackage/\n",
    "    mod1.py\n",
    "    mod2.py\n",
    "    mod3.py\n",
    "    mod4.py\n",
    "'''\n",
    "sys.path\n",
    "\n",
    "#add sys.path.append(os.path.abspath('D:\\workspace\\casinfe'))\n",
    "#sys.path.append( 'D:\\\\workspace\\\\casinfe\\\\')"
   ]
  },
  {
   "cell_type": "code",
   "execution_count": 15,
   "metadata": {
    "collapsed": false
   },
   "outputs": [
    {
     "data": {
      "text/plain": [
       "['__builtins__', '__doc__', '__file__', '__name__', '__package__']"
      ]
     },
     "execution_count": 15,
     "metadata": {},
     "output_type": "execute_result"
    }
   ],
   "source": [
    "import mod1\n",
    "#it works! nota che genera un pyc\n",
    "dir(mod1)\n"
   ]
  },
  {
   "cell_type": "markdown",
   "metadata": {},
   "source": [
    "#### how a module should be structured."
   ]
  },
  {
   "cell_type": "code",
   "execution_count": null,
   "metadata": {
    "collapsed": true
   },
   "outputs": [],
   "source": [
    "This is how a module should be structured.\n",
    "\"\"\"module docstring\"\"\"\n",
    "# imports\n",
    "# constants\n",
    "# exception classes\n",
    "# interface functions\n",
    "# classes\n",
    "# internal functions & classes\n",
    "def main(...):\n",
    "...\n",
    "if __name__ == '__main__':\n",
    "status = main()\n",
    "sys.exit(status)"
   ]
  },
  {
   "cell_type": "code",
   "execution_count": null,
   "metadata": {
    "collapsed": true
   },
   "outputs": [],
   "source": [
    "module.py example...\n",
    "\"\"\"\n",
    "in other giles import so ...\n",
    "import module_template as mt\n",
    "mt.print_sample()\n",
    "\"\"\"\n",
    "#!/usr/bin/env python\n",
    "\"\"\"\n",
    "Module docstring.\n",
    "\"\"\"\n",
    "def print_sample():\n",
    "    print(\"welcome!!!\")\n",
    "    \n",
    "def main(argv=None):\n",
    "    print \"ciao\"\n",
    "    return 0 # success\n",
    "\n",
    "if __name__ == '__main__':\n",
    "    status = main()"
   ]
  },
  {
   "cell_type": "code",
   "execution_count": null,
   "metadata": {
    "collapsed": true
   },
   "outputs": [],
   "source": [
    "package/\n",
    "    __init__.py\n",
    "    module1.py\n",
    "    subpackage/\n",
    "          __init__.py\n",
    "          module2.py"
   ]
  },
  {
   "cell_type": "markdown",
   "metadata": {
    "collapsed": false
   },
   "source": [
    "<a id=\"function\"></a>\n",
    "<hr>\n",
    "# Functions"
   ]
  },
  {
   "cell_type": "markdown",
   "metadata": {},
   "source": [
    "###parameters\n",
    " \"def valid_name ([< param_1 > [, < param_2> [, …]]]):\"\n"
   ]
  },
  {
   "cell_type": "code",
   "execution_count": null,
   "metadata": {
    "collapsed": true
   },
   "outputs": [],
   "source": [
    "print(\"If any param hasdefault value,all following parameters need to have one.\")\n",
    "def f_default(p1 , p2=2, p3=\"3\"):\n",
    "    print(p1,p2,p3)\n",
    "\n",
    "f_default(0)\n",
    "f_default(0,100)\n",
    "f_default(0,p3=333) # named param\n",
    "\n",
    "print(\"Objects for default values are initialized once – during module load\")\n",
    "def problematic_function(my_list = []):\n",
    "    my_list.append(1)\n",
    "    return my_list\n",
    "print(problematic_function())\n",
    "print(\"double trouble...\")\n",
    "print(problematic_function())\n",
    "\n",
    "print(\"function as parameters\")\n",
    "def derivative(my_function):\n",
    "    '''Returns a function that computes the numerical derivative of the given\n",
    "    function my_function'''\n",
    "    def df(x, h=0.0001):\n",
    "        return ((my_function(x+h) - my_function(x-h)) / (2*h))\n",
    "    return df\n",
    "\n",
    "print(\"x val or v ref? neither\")\n",
    "#http://www.jeffknupp.com/blog/2012/11/13/is-python-callbyvalue-or-callbyreference-neither/\n",
    "some_guy = 'Fred'\n",
    "\n",
    "first_names = []\n",
    "first_names.append(some_guy)\n",
    "\n",
    "another_list_of_names = first_names\n",
    "another_list_of_names.append('George')\n",
    "some_guy = 'Bill'\n",
    "\n",
    "print (some_guy, first_names, another_list_of_names)\n"
   ]
  },
  {
   "cell_type": "markdown",
   "metadata": {},
   "source": [
    "Function as param"
   ]
  },
  {
   "cell_type": "code",
   "execution_count": null,
   "metadata": {
    "collapsed": true
   },
   "outputs": [],
   "source": [
    "#IF par refers to mutable obj and func changes it value-->\n",
    "#        changes are visible outside the scope of the func\n",
    "def foo(bar):\n",
    "    bar.append(42)\n",
    "    print(\"in f:\",bar)\n",
    "\n",
    "answer_list = []\n",
    "foo(answer_list)\n",
    "print(\"outside f:\",answer_list)\n",
    "foo(answer_list)\n",
    "print(\"outside f:\",answer_list)\n",
    "\n",
    "def function(a_string):\n",
    "    print id(a_string) \n",
    "    return a_string + '.' \n",
    "\n",
    "s1 = 'Hello' \n",
    "print id(s1) \n",
    "s2 = function(s1) \n",
    "print id(s2) \n",
    "print s2"
   ]
  },
  {
   "cell_type": "code",
   "execution_count": 2,
   "metadata": {
    "collapsed": false
   },
   "outputs": [
    {
     "name": "stdout",
     "output_type": "stream",
     "text": [
      "arg1: 'Zed', arg2: 'Shaw'\n"
     ]
    }
   ],
   "source": [
    "def print_two(*args):\n",
    "    arg1, arg2 = args\n",
    "    print \"arg1: %r, arg2: %r\" % (arg1, arg2)\n",
    "\n",
    "print_two(\"Zed\",\"Shaw\")"
   ]
  },
  {
   "cell_type": "code",
   "execution_count": 2,
   "metadata": {
    "collapsed": false
   },
   "outputs": [
    {
     "name": "stdout",
     "output_type": "stream",
     "text": [
      "pay attention to default EMPTY values!!!!\n",
      "['one']\n",
      "['one', 'two']\n",
      "['one', 'two', 'three']\n",
      "['one']\n",
      "['two']\n",
      "['three']\n"
     ]
    }
   ],
   "source": [
    "print(\"pay attention to default EMPTY values!!!!\")\n",
    "def bad_append(new_item, a_list=[]):\n",
    "    a_list.append(new_item)\n",
    "    return a_list\n",
    "\n",
    "print bad_append('one')\n",
    "print bad_append('two')\n",
    "print bad_append('three')\n",
    "\n",
    "def good_append(new_item, a_list=None):\n",
    "    if a_list is None:\n",
    "        a_list = []\n",
    "        a_list.append(new_item)\n",
    "    return a_list\n",
    "print(\"good version\")\n",
    "print good_append('one')\n",
    "print good_append('two')\n",
    "print good_append('three')"
   ]
  },
  {
   "cell_type": "markdown",
   "metadata": {},
   "source": [
    "###docstrings"
   ]
  },
  {
   "cell_type": "code",
   "execution_count": 5,
   "metadata": {
    "collapsed": false
   },
   "outputs": [
    {
     "name": "stdout",
     "output_type": "stream",
     "text": [
      "Help on function check_out_the_helper in module __main__:\n",
      "\n",
      "check_out_the_helper()\n",
      "    This func does nothing but has a nice DOCSTRING\n",
      "\n"
     ]
    }
   ],
   "source": [
    "def check_out_the_helper():\n",
    "    \"\"\"This func does nothing but has a nice DOCSTRING\n",
    "    \"\"\"\n",
    "    pass\n",
    "    \n",
    "check_out_the_helper()\n",
    "help(check_out_the_helper)"
   ]
  },
  {
   "cell_type": "markdown",
   "metadata": {},
   "source": [
    "###body"
   ]
  },
  {
   "cell_type": "code",
   "execution_count": 6,
   "metadata": {
    "collapsed": false
   },
   "outputs": [
    {
     "name": "stdout",
     "output_type": "stream",
     "text": [
      " GLOBAL SCOPE:fdefined in FILE\n",
      "LOCAL SCOPE:fdefined in FUNCTIION \n",
      "AVOID  GLOBAL explicit:\n",
      "\n"
     ]
    }
   ],
   "source": [
    "print(\"\"\" GLOBAL SCOPE:defined in FILE\n",
    "LOCAL SCOPE:defined in FUNCTIION \n",
    "AVOID  GLOBAL explicit:\n",
    "\"\"\")\n",
    "\n",
    "def function():\n",
    "    global x \n",
    "    pass\n"
   ]
  },
  {
   "cell_type": "markdown",
   "metadata": {},
   "source": [
    "###return parameter"
   ]
  },
  {
   "cell_type": "code",
   "execution_count": 7,
   "metadata": {
    "collapsed": false
   },
   "outputs": [
    {
     "name": "stdout",
     "output_type": "stream",
     "text": [
      "return multiple value\n",
      "(1, 2, 3)\n",
      "if NO return specified NONE is retrned\n"
     ]
    }
   ],
   "source": [
    "print(\"return multiple value\")\n",
    "def ret_list():\n",
    "    return (1,2,3)\n",
    "\n",
    "x,y,z = ret_list()\n",
    "print(x,y,z)\n",
    "\n",
    "print(\"if NO return specified NONE is retrned\")"
   ]
  },
  {
   "cell_type": "markdown",
   "metadata": {},
   "source": [
    "### Various"
   ]
  },
  {
   "cell_type": "code",
   "execution_count": null,
   "metadata": {
    "collapsed": true
   },
   "outputs": [],
   "source": [
    "print(\"ALIAS:Function are objets so you can alias them\")\n",
    "def f1(x):\n",
    "    print x\n",
    "\n",
    "alias_for_f1=f1\n",
    "alias_for_f1(999)\n",
    "print(\"INNER FUNCTION (a inner f can be returned as obj)\")\n",
    "def outer(x):\n",
    "    def inner():\n",
    "        return x+1\n",
    "    return inner()\n",
    "    \n",
    "y = 1\n",
    "print outer(y)\n",
    "#print inner() this get Exceptiion "
   ]
  },
  {
   "cell_type": "markdown",
   "metadata": {
    "collapsed": true
   },
   "source": [
    "<a id=\"class\"></a>\n",
    "<hr>\n",
    "# CLASS"
   ]
  },
  {
   "cell_type": "code",
   "execution_count": 26,
   "metadata": {
    "collapsed": false
   },
   "outputs": [
    {
     "name": "stdout",
     "output_type": "stream",
     "text": [
      "3\n",
      "50\n",
      "this is a class!\n"
     ]
    }
   ],
   "source": [
    "class simpleClass(object):\n",
    "    counter=50    \n",
    "    def info(self):\n",
    "        print \"this is a class!\"\n",
    "    def mysum (self,p1,p2 ):#note that you must add SELF also if dont use it\n",
    "        return p1+p2\n",
    "        \n",
    "sc=simpleClass()\n",
    "print(sc.mysum( 1 ,2))\n",
    "print sc.counter\n",
    "sc.info()"
   ]
  },
  {
   "cell_type": "code",
   "execution_count": 30,
   "metadata": {
    "collapsed": false
   },
   "outputs": [
    {
     "name": "stdout",
     "output_type": "stream",
     "text": [
      "100\n",
      "2\n"
     ]
    }
   ],
   "source": [
    "class withConstructor(object):\n",
    "    def __init__(self):#constructor\n",
    "        self.param1 = 100\n",
    "class withConstructor2(object):\n",
    "    def __init__(self,p1):#constructor\n",
    "        self.param1 = p1\n",
    "wc=withConstructor()\n",
    "print wc.param1\n",
    "wc=withConstructor2(2)\n",
    "print wc.param1\n"
   ]
  },
  {
   "cell_type": "code",
   "execution_count": 33,
   "metadata": {
    "collapsed": false
   },
   "outputs": [
    {
     "name": "stdout",
     "output_type": "stream",
     "text": [
      "50\n"
     ]
    }
   ],
   "source": [
    "class inheritConstructor(simpleClass):#here is the inheritance\n",
    "    pass\n",
    "ic=inheritConstructor()\n",
    "print ic.counter"
   ]
  },
  {
   "cell_type": "code",
   "execution_count": 34,
   "metadata": {
    "collapsed": false
   },
   "outputs": [
    {
     "name": "stdout",
     "output_type": "stream",
     "text": [
      "PARENT altered()\n",
      "CHILD, BEFORE PARENT altered()\n",
      "PARENT altered()\n",
      "CHILD, AFTER PARENT altered()\n"
     ]
    }
   ],
   "source": [
    "#OVERRIDE\n",
    "class Parent(object):\n",
    "\n",
    "    def altered(self):\n",
    "        print \"PARENT altered()\"\n",
    "\n",
    "class Child(Parent):\n",
    "\n",
    "    def altered(self):#OVERRIDE\n",
    "        print \"CHILD, BEFORE PARENT altered()\"\n",
    "        super(Child, self).altered()#here how to call the parent method\n",
    "        print \"CHILD, AFTER PARENT altered()\"\n",
    "\n",
    "dad = Parent()\n",
    "son = Child()\n",
    "\n",
    "dad.altered()\n",
    "son.altered()"
   ]
  },
  {
   "cell_type": "code",
   "execution_count": 41,
   "metadata": {
    "collapsed": false,
    "scrolled": false
   },
   "outputs": [
    {
     "ename": "TypeError",
     "evalue": "__init__() takes exactly 1 argument (2 given)",
     "output_type": "error",
     "traceback": [
      "\u001b[0;31m---------------------------------------------------------------------------\u001b[0m",
      "\u001b[0;31mTypeError\u001b[0m                                 Traceback (most recent call last)",
      "\u001b[0;32m<ipython-input-41-c0a03bd4fe75>\u001b[0m in \u001b[0;36m<module>\u001b[0;34m()\u001b[0m\n\u001b[1;32m      7\u001b[0m         \u001b[0mself\u001b[0m\u001b[0;34m.\u001b[0m\u001b[0mparam2\u001b[0m \u001b[0;34m=\u001b[0m \u001b[0;36m200\u001b[0m\u001b[0;34m\u001b[0m\u001b[0m\n\u001b[1;32m      8\u001b[0m \u001b[0mjohn\u001b[0m\u001b[0;34m=\u001b[0m\u001b[0mperson\u001b[0m\u001b[0;34m(\u001b[0m\u001b[0;34m)\u001b[0m\u001b[0;34m\u001b[0m\u001b[0m\n\u001b[0;32m----> 9\u001b[0;31m \u001b[0mclerk1\u001b[0m\u001b[0;34m=\u001b[0m\u001b[0memployee\u001b[0m\u001b[0;34m(\u001b[0m\u001b[0mjohn\u001b[0m\u001b[0;34m)\u001b[0m\u001b[0;34m\u001b[0m\u001b[0m\n\u001b[0m\u001b[1;32m     10\u001b[0m \u001b[0;34m\u001b[0m\u001b[0m\n",
      "\u001b[0;31mTypeError\u001b[0m: __init__() takes exactly 1 argument (2 given)"
     ]
    }
   ],
   "source": [
    "class person(object):\n",
    "    def __init__(self):\n",
    "        self.param1 = 100\n",
    "class employee(person):\n",
    "    def __init__(self):\n",
    "        #super(person,self).__init__()\n",
    "        self.param2 = 200\n",
    "john=person()\n",
    "clerk1=employee(john)\n",
    "        "
   ]
  },
  {
   "cell_type": "markdown",
   "metadata": {
    "collapsed": true
   },
   "source": [
    "<a id=\"exception\"></a>\n",
    "<hr>\n",
    "# EXCEPTION\n",
    "Exceptions list: http://www.tutorialspoint.com/python/python_exceptions.htm"
   ]
  },
  {
   "cell_type": "code",
   "execution_count": 51,
   "metadata": {
    "collapsed": false
   },
   "outputs": [
    {
     "ename": "SyntaxError",
     "evalue": "can't assign to literal (<ipython-input-51-853fd7d87bc8>, line 8)",
     "output_type": "error",
     "traceback": [
      "\u001b[1;36m  File \u001b[1;32m\"<ipython-input-51-853fd7d87bc8>\"\u001b[1;36m, line \u001b[1;32m8\u001b[0m\n\u001b[1;33m    1=\"32\"\u001b[0m\n\u001b[1;31mSyntaxError\u001b[0m\u001b[1;31m:\u001b[0m can't assign to literal\n"
     ]
    }
   ],
   "source": [
    "try:\n",
    "    1/0\n",
    "except Exception,e:\n",
    "    print str(e)\n",
    "\n",
    "try:\n",
    "    text = 'Hello World' \n",
    "    text[6] = 'w'\n",
    "except SyntaxError:\n",
    "    print \"SyntaxError\"\n",
    "except (IOError, ValueError):\n",
    "    print \"An I/O error or a ValueError occurred\"\n",
    "except Exception, e:\n",
    "    print e"
   ]
  },
  {
   "cell_type": "markdown",
   "metadata": {},
   "source": [
    "<a id=\"simple stmt\"></a>\n",
    "<hr>\n",
    "# simple stmt"
   ]
  },
  {
   "cell_type": "code",
   "execution_count": null,
   "metadata": {
    "collapsed": true
   },
   "outputs": [],
   "source": [
    "#non local\n",
    "http://stackoverflow.com/questions/1261875/python-nonlocal-statement\n",
    "https://docs.python.org/3/reference/simple_stmts.html#nonlocal\n",
    "#del\n",
    "http://stackoverflow.com/questions/6146963/when-is-del-useful-in-python\n",
    "del a[3]\n",
    "\n",
    "#assert\n",
    "assert True\n",
    "assert False"
   ]
  },
  {
   "cell_type": "code",
   "execution_count": 56,
   "metadata": {
    "collapsed": false
   },
   "outputs": [
    {
     "name": "stdout",
     "output_type": "stream",
     "text": [
      "0\n",
      "1\n",
      "4\n",
      "0\n",
      "1\n",
      "4\n",
      "0\n",
      "1\n",
      "4\n"
     ]
    }
   ],
   "source": [
    "#yield  :  iterator-->generator\n",
    "#http://stackoverflow.com/questions/231767/what-does-the-yield-keyword-do-in-python\n",
    "\n",
    "# iterable\n",
    "print \"iter 0\"\n",
    "mylist = [x*x for x in range(1000000)]\n",
    "print \"iter 1\"\n",
    "for i in mylist:\n",
    "    pass#print(i)\n",
    "print \"iter 2\"    \n",
    "for i in mylist:\n",
    "    pass#print(i)\n",
    "# generator\n",
    "#   are iterators, but you can only iterate over them once.\n",
    "#   they do not store all the values in memory,\n",
    "#they generate the values on the fly:\n",
    "print \"gen 0\"\n",
    "mygenerator = (x*x for x in range(1000000))\n",
    "print \"gen 1\"\n",
    "for i in mygenerator:\n",
    "    b=i\n",
    "print \"gen 2\"\n",
    "for i in mygenerator:\n",
    "    b=i\n",
    ">>> def createGenerator():\n",
    "...    mylist = range(3)\n",
    "...    for i in mylist:\n",
    "...        yield i*i\n",
    "...\n",
    ">>> mygenerator = createGenerator() # create a generator\n",
    ">>> print(mygenerator) # mygenerator is an object!\n",
    "<generator object createGenerator at 0xb7555c34>\n",
    ">>> for i in mygenerator:\n",
    "...     print(i)\n",
    "0\n",
    "1\n",
    "4"
   ]
  },
  {
   "cell_type": "markdown",
   "metadata": {
    "collapsed": true
   },
   "source": [
    "<a id=\"controlflow\"></a>\n",
    "<hr>\n",
    "#WHILE & Control Flow"
   ]
  },
  {
   "cell_type": "code",
   "execution_count": 7,
   "metadata": {
    "collapsed": false
   },
   "outputs": [
    {
     "name": "stdout",
     "output_type": "stream",
     "text": [
      "BREAK exit immediately. CONTINUE goes next loopcicle\n",
      "10\n",
      "11\n",
      "12\n",
      "13\n",
      "14\n",
      "15\n",
      "2 apples\n",
      "2 bananas\n",
      "2 melons\n",
      "4 apples\n",
      "4 bananas\n",
      "4 melons\n"
     ]
    }
   ],
   "source": [
    "print(\"BREAK exit immediately. CONTINUE goes next loopcicle\")\n",
    "a=0\n",
    "while a < 100:\n",
    "    a = a + 1 \n",
    "    if a < 10:\n",
    "        continue\n",
    "    elif a > 15:\n",
    "        break\n",
    "    else:\n",
    "        print(a)\n",
    "\n",
    "fruits = [\"apple\", \"banana\", \"melon\"] \n",
    "for i in range(2, 6, 2):\n",
    "    for f in fruits:\n",
    "        print str(i) + \" \" + f + \"s\"    "
   ]
  },
  {
   "cell_type": "code",
   "execution_count": 5,
   "metadata": {
    "collapsed": false
   },
   "outputs": [
    {
     "name": "stdout",
     "output_type": "stream",
     "text": [
      "col1,row1\n",
      "col2,row1\n",
      "col3,row1\n",
      "col1,row2\n",
      "col2,row2\n",
      "col3,row2\n",
      "col1,row3\n",
      "col2,row3\n",
      "col3,row3\n",
      "col1,row4\n",
      "col2,row4\n",
      "col3,row4\n",
      "col1,row5\n",
      "col2,row5\n",
      "col3,row5\n",
      "col1,row6\n",
      "col2,row6\n",
      "col3,row6\n",
      ",1,2,3\n",
      ",1,2,3\n",
      ",1,2,3\n",
      ",1,2,3\n",
      ",1,2,3\n",
      ",1,2,3\n",
      "why y is row ... because a row is x1y1 x1y2 x1y3 etc...!!!!\n"
     ]
    }
   ],
   "source": [
    "#Best practice: row-wise processing\n",
    "columns = [1,2,3]\n",
    "rows = [1,2,3,4,5,6]\n",
    "for y in rows:\n",
    "    for x in columns:\n",
    "        print(\"col%i,row%i\" % (x,y))\n",
    "for y in rows:\n",
    "    j=\"\"\n",
    "    for x in columns:\n",
    "        j=j+\",\"+str(x)    \n",
    "    print(j)\n",
    "print(\"why y is row ... because a row is x1y1 x1y2 x1y3 etc...!!!!\")        "
   ]
  },
  {
   "cell_type": "code",
   "execution_count": null,
   "metadata": {
    "collapsed": true
   },
   "outputs": [],
   "source": [
    "#for each\n",
    "for element in some_list:\n",
    "    do_something(element)\n",
    "#index loop\n",
    "list_length = len(some_list)\n",
    "for i in range(list_length):\n",
    "    do_something(some_list[i])\n",
    "    "
   ]
  },
  {
   "cell_type": "markdown",
   "metadata": {},
   "source": [
    "###2D list\n",
    "http://www.kosbie.net/cmu/fall-11/15-112/handouts/notes-2d-lists.html\n"
   ]
  },
  {
   "cell_type": "code",
   "execution_count": null,
   "metadata": {
    "collapsed": true
   },
   "outputs": [],
   "source": [
    "#TRAVERSE\n",
    "for row in matrix:\n",
    "    for cell in row:\n",
    "        do_something(cell)\n",
    "\n",
    "#or, preferably:\n",
    "for y in range(len(matrix)):\n",
    "    for x in range(len(matrix[0])):\n",
    "        do_something(matrix[y][x])"
   ]
  },
  {
   "cell_type": "code",
   "execution_count": null,
   "metadata": {
    "collapsed": true
   },
   "outputs": [],
   "source": [
    "import random\n",
    "row_nr = 3\n",
    "col_nr = 3\n",
    "rows_val = [\"O\"] * row_nr\n",
    "matrix = []\n",
    "print(\"the pure data structure\")\n",
    "for i in range(col_nr):\n",
    "    #SHALLOW COPY\n",
    "    matrix.append(rows_val[:])\n",
    "print(matrix)\n",
    "\n",
    "print(\"traversing the data structure\")\n",
    "current_row = ''    \n",
    "for y in range(row_nr):\n",
    "    for x in range(col_nr):\n",
    "    #print(board[y][x])\n",
    "        #print(y,x)   \n",
    "        cell_value =  matrix[x][y]\n",
    "        current_row = current_row + ' ' + cell_value\n",
    "    print(current_row)\n",
    "    current_row = '' \n",
    "print(\"ENDe traversing the data structure\")\n",
    "#[\n",
    "#  ['O', 'O', 'O', 'O', 'O'], for Column 1 all values  \n",
    "#  ['O', 'O', 'O', 'O', 'O'],     Col2     all values  \n",
    "#  ['O', 'O', 'O', 'O', 'O']\n",
    "#]\n",
    "\n",
    "#initialize ship pos x,y\n",
    "x_ship = random.randint(0,row_nr-1)\n",
    "y_ship = random.randint(0,col_nr-1)\n",
    "print(\"choosen  X%i,Y%i\" % (x_ship,y_ship))\n",
    "print(\"TO ASSIGN YOU HAVE to SWAP!!!!!!!!!\")\n",
    "matrix[y_ship][x_ship]=\"S\"\n",
    "\n",
    "print(\"traversing AFTER ASSIGNMENT the data structure\")\n",
    "current_row = ''    \n",
    "for y in range(row_nr):\n",
    "    for x in range(col_nr):\n",
    "    #print(board[y][x])\n",
    "        #print(y,x)   \n",
    "        cell_value =  matrix[x][y]\n",
    "        current_row = current_row + ' ' + cell_value\n",
    "    print(current_row)\n",
    "    current_row = '' \n",
    "print(\"ENDe traversing the data structure\")"
   ]
  },
  {
   "cell_type": "markdown",
   "metadata": {},
   "source": [
    "##Unicode"
   ]
  },
  {
   "cell_type": "code",
   "execution_count": 6,
   "metadata": {
    "collapsed": false
   },
   "outputs": [
    {
     "name": "stdout",
     "output_type": "stream",
     "text": [
      "䔀 blah blah blah\n",
      "\n"
     ]
    }
   ],
   "source": [
    "\n",
    "print(u'\\u4500 blah blah blah\\n')\n"
   ]
  },
  {
   "cell_type": "code",
   "execution_count": 10,
   "metadata": {
    "collapsed": false
   },
   "outputs": [
    {
     "data": {
      "text/plain": [
       "[10, 7, 4, 1]"
      ]
     },
     "execution_count": 10,
     "metadata": {},
     "output_type": "execute_result"
    }
   ],
   "source": [
    "x=[1,2,3,4,5,6,7,8,9,10]\n",
    "x[::-3]"
   ]
  },
  {
   "cell_type": "markdown",
   "metadata": {
    "collapsed": true
   },
   "source": [
    "<a id=\"with\"></a>\n",
    "<hr>\n",
    "###WITH\n",
    " - http://effbot.org/zone/python-with-statement.htm\n",
    " - Typically used for files open Is a try catch FINALLY  that executes ALWAYS the enter and the exit\n",
    " - '_ _enter_ _'\n",
    " - '_ _exit_ _'"
   ]
  },
  {
   "cell_type": "code",
   "execution_count": 3,
   "metadata": {
    "collapsed": false
   },
   "outputs": [
    {
     "name": "stdout",
     "output_type": "stream",
     "text": [
      "a,b,c,d.\n"
     ]
    }
   ],
   "source": [
    "with open('D:\\datasets\\myfile.txt') as f:\n",
    "    data = f.read()\n",
    "    print data\n",
    "pass"
   ]
  },
  {
   "cell_type": "code",
   "execution_count": 9,
   "metadata": {
    "collapsed": false
   },
   "outputs": [
    {
     "name": "stdout",
     "output_type": "stream",
     "text": [
      "a,b,c,d.\n",
      "except!\n",
      "file closed implicitly in with.... read will fail\n"
     ]
    },
    {
     "ename": "ValueError",
     "evalue": "I/O operation on closed file",
     "output_type": "error",
     "traceback": [
      "\u001b[1;31m---------------------------------------------------------------------------\u001b[0m",
      "\u001b[1;31mValueError\u001b[0m                                Traceback (most recent call last)",
      "\u001b[1;32m<ipython-input-9-90e45bef54ec>\u001b[0m in \u001b[0;36m<module>\u001b[1;34m()\u001b[0m\n\u001b[0;32m      8\u001b[0m     \u001b[1;32mprint\u001b[0m\u001b[1;34m\"except!\"\u001b[0m\u001b[1;33m\u001b[0m\u001b[0m\n\u001b[0;32m      9\u001b[0m \u001b[1;32mprint\u001b[0m \u001b[1;34m\"file closed implicitly in with.... read will fail\"\u001b[0m\u001b[1;33m\u001b[0m\u001b[0m\n\u001b[1;32m---> 10\u001b[1;33m \u001b[0mdata\u001b[0m \u001b[1;33m=\u001b[0m \u001b[0mf\u001b[0m\u001b[1;33m.\u001b[0m\u001b[0mread\u001b[0m\u001b[1;33m(\u001b[0m\u001b[1;33m)\u001b[0m\u001b[1;33m\u001b[0m\u001b[0m\n\u001b[0m\u001b[0;32m     11\u001b[0m \u001b[1;33m\u001b[0m\u001b[0m\n",
      "\u001b[1;31mValueError\u001b[0m: I/O operation on closed file"
     ]
    }
   ],
   "source": [
    "try:\n",
    "    with open('D:\\datasets\\myfile.txt') as f:\n",
    "        data = f.read()\n",
    "        print data\n",
    "        a=1/0\n",
    "    pass\n",
    "except:\n",
    "    print\"except!\"\n",
    "print \"file closed implicitly in with.... read will fail\"\n",
    "data = f.read()\n",
    "    "
   ]
  },
  {
   "cell_type": "markdown",
   "metadata": {},
   "source": [
    "<a id=\"yield\"></a>\n",
    "<hr>\n",
    "###YIELD\n",
    " - Improved Performance\n",
    "    The performance improvement from the use of generators is the result of the lazy (on demand) generation of values, which translates to lower memory usage. Furthermore, we do not need to wait until all the elements have been generated before we start to use them. This is similar to the benefits provided by iterators, but the generator makes building iterators easy."
   ]
  },
  {
   "cell_type": "code",
   "execution_count": 25,
   "metadata": {
    "collapsed": false
   },
   "outputs": [
    {
     "name": "stdout",
     "output_type": "stream",
     "text": [
      "2015-10-30 13:39:15.081000\n",
      "99999980000001\n",
      "2015-10-30 13:39:19.378000\n",
      "9999999\n",
      "2015-10-30 13:39:23.542000\n"
     ]
    }
   ],
   "source": [
    "import datetime\n",
    "nr=10000000\n",
    "def createGenerator(mylist):\n",
    "    for i in mylist:\n",
    "        yield i*i\n",
    "\n",
    "print str(datetime.datetime.now())\n",
    "mylist = range(nr)\n",
    "# create a generator\n",
    "mygenerator = createGenerator(mylist)\n",
    "# mygenerator is an object!\n",
    "#print(mygenerator)\n",
    "\n",
    "x=0\n",
    "for i in mygenerator:\n",
    "    x=i\n",
    "    #print(i)\n",
    "print i\n",
    "\n",
    "print str(datetime.datetime.now())\n",
    "mylist = range(nr)\n",
    "for i in mylist:\n",
    "    y=i*i\n",
    "    x=i\n",
    "print i\n",
    "print str(datetime.datetime.now())"
   ]
  },
  {
   "cell_type": "code",
   "execution_count": 2,
   "metadata": {
    "collapsed": false
   },
   "outputs": [
    {
     "ename": "NameError",
     "evalue": "name 'datetime' is not defined",
     "output_type": "error",
     "traceback": [
      "\u001b[0;31m---------------------------------------------------------------------------\u001b[0m",
      "\u001b[0;31mNameError\u001b[0m                                 Traceback (most recent call last)",
      "\u001b[0;32m<ipython-input-2-ae606119f7de>\u001b[0m in \u001b[0;36m<module>\u001b[0;34m()\u001b[0m\n\u001b[1;32m     11\u001b[0m         \u001b[0;32myield\u001b[0m \u001b[0mi\u001b[0m\u001b[0;34m**\u001b[0m\u001b[0;36m3\u001b[0m\u001b[0;34m\u001b[0m\u001b[0m\n\u001b[1;32m     12\u001b[0m \u001b[0;34m\u001b[0m\u001b[0m\n\u001b[0;32m---> 13\u001b[0;31m \u001b[0;32mprint\u001b[0m \u001b[0mstr\u001b[0m\u001b[0;34m(\u001b[0m\u001b[0mdatetime\u001b[0m\u001b[0;34m.\u001b[0m\u001b[0mdatetime\u001b[0m\u001b[0;34m.\u001b[0m\u001b[0mnow\u001b[0m\u001b[0;34m(\u001b[0m\u001b[0;34m)\u001b[0m\u001b[0;34m)\u001b[0m\u001b[0;34m\u001b[0m\u001b[0m\n\u001b[0m\u001b[1;32m     14\u001b[0m \u001b[0mx\u001b[0m \u001b[0;34m=\u001b[0m \u001b[0mnot_a_generator\u001b[0m\u001b[0;34m(\u001b[0m\u001b[0mitems\u001b[0m\u001b[0;34m)\u001b[0m\u001b[0;34m\u001b[0m\u001b[0m\n\u001b[1;32m     15\u001b[0m \u001b[0;32mprint\u001b[0m \u001b[0mstr\u001b[0m\u001b[0;34m(\u001b[0m\u001b[0mdatetime\u001b[0m\u001b[0;34m.\u001b[0m\u001b[0mdatetime\u001b[0m\u001b[0;34m.\u001b[0m\u001b[0mnow\u001b[0m\u001b[0;34m(\u001b[0m\u001b[0;34m)\u001b[0m\u001b[0;34m)\u001b[0m\u001b[0;34m\u001b[0m\u001b[0m\n",
      "\u001b[0;31mNameError\u001b[0m: name 'datetime' is not defined"
     ]
    }
   ],
   "source": [
    "items=10000000\n",
    "\n",
    "def not_a_generator(items):\n",
    "    result = []\n",
    "    for i in xrange(items):\n",
    "        result.append(i**3)\n",
    "    return result\n",
    "\n",
    "def my_generator(items):\n",
    "    for i in xrange(items):\n",
    "        yield i**3\n",
    "        \n",
    "print str(datetime.datetime.now())\n",
    "x = not_a_generator(items)\n",
    "print str(datetime.datetime.now())\n",
    "\n",
    "print str(datetime.datetime.now())\n",
    "x = my_generator(items)\n",
    "print str(datetime.datetime.now())"
   ]
  },
  {
   "cell_type": "markdown",
   "metadata": {
    "collapsed": true
   },
   "source": [
    "Generators functions allow you to declare a function that behaves like an iterator, i.e. it can be used in a for loop."
   ]
  },
  {
   "cell_type": "code",
   "execution_count": 11,
   "metadata": {
    "collapsed": false
   },
   "outputs": [
    {
     "name": "stdout",
     "output_type": "stream",
     "text": [
      "2015-11-02 20:36:56.793278\n",
      "2015-11-02 20:37:27.464180\n",
      "4999999950000000\n",
      "2015-11-02 20:37:27.469230\n",
      "2015-11-02 20:38:19.774619\n",
      "4999999950000000\n",
      "2015-11-02 20:38:19.791373\n",
      "2015-11-02 20:38:33.108957\n",
      "4999999950000000\n"
     ]
    }
   ],
   "source": [
    "import datetime\n",
    "\n",
    "def firstn_l(n):\n",
    "    num, nums = 0, []\n",
    "    while num < n:\n",
    "        nums.append(num)\n",
    "        num += 1\n",
    "    return nums\n",
    "\n",
    "class firstn_c(object):\n",
    "    def __init__(self, n):\n",
    "        self.n = n\n",
    "        self.num, self.nums = 0, []\n",
    "    def __iter__(self):\n",
    "        return self\n",
    "    \n",
    "    def __next__(self):\n",
    "        return self.next()\n",
    "    def next(self):\n",
    "        if self.num < self.n:\n",
    "            cur, self.num = self.num, self.num+1\n",
    "            return cur\n",
    "        else:\n",
    "            raise StopIteration()\n",
    "\n",
    "def firstn(n):\n",
    "    num = 0\n",
    "    while num < n:\n",
    "        yield num\n",
    "        num += 1\n",
    "        \n",
    "    \n",
    "nr=100000000\n",
    "print str(datetime.datetime.now())    \n",
    "sum_of_first_n = sum(firstn_l(nr))   \n",
    "print str(datetime.datetime.now())\n",
    "print(sum_of_first_n)\n",
    "\n",
    "print str(datetime.datetime.now())\n",
    "sum_of_first_n = sum(firstn_c(nr))\n",
    "print str(datetime.datetime.now())\n",
    "print(sum_of_first_n)\n",
    "\n",
    "print str(datetime.datetime.now())\n",
    "sum_of_first_n = sum(firstn(nr))\n",
    "print str(datetime.datetime.now())\n",
    "print(sum_of_first_n)"
   ]
  },
  {
   "cell_type": "code",
   "execution_count": 30,
   "metadata": {
    "collapsed": false
   },
   "outputs": [
    {
     "name": "stdout",
     "output_type": "stream",
     "text": [
      "<type 'list'>\n",
      "<type 'list'>\n",
      "<type 'generator'>\n",
      "0\n",
      "2\n",
      "4\n"
     ]
    }
   ],
   "source": [
    "doubles = [2 * n for n in range(50)]\n",
    "print(type(doubles))\n",
    "doubles = list(2 * n for n in range(50))\n",
    "print(type(doubles))\n",
    "doubles = (2 * n for n in range(50))\n",
    "print(type(doubles))\n",
    "print(doubles.next())\n",
    "print(doubles.next())\n",
    "print(doubles.next())\n",
    "\n"
   ]
  },
  {
   "cell_type": "markdown",
   "metadata": {
    "collapsed": true
   },
   "source": [
    "<a id=\"execscripts\"></a>\n",
    "<hr>\n",
    "###Calling Scripts"
   ]
  },
  {
   "cell_type": "code",
   "execution_count": null,
   "metadata": {
    "collapsed": true
   },
   "outputs": [],
   "source": [
    " runfile('/Volumes/KINGSTON/workspace/python2015/cas/my_p06_game_of_life_simple.py', wdir='/Users/programming/cas')"
   ]
  }
 ],
 "metadata": {
  "kernelspec": {
   "display_name": "Python 2",
   "language": "python",
   "name": "python2"
  },
  "language_info": {
   "codemirror_mode": {
    "name": "ipython",
    "version": 2
   },
   "file_extension": ".py",
   "mimetype": "text/x-python",
   "name": "python",
   "nbconvert_exporter": "python",
   "pygments_lexer": "ipython2",
   "version": "2.7.10"
  }
 },
 "nbformat": 4,
 "nbformat_minor": 0
}
