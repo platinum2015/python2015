{
 "cells": [
  {
   "cell_type": "code",
   "execution_count": null,
   "metadata": {
    "collapsed": true
   },
   "outputs": [],
   "source": [
    "# guidelines:https://www.python.org/dev/peps/pep-0008/ \n",
    "Conventions\n",
    "    4 spaces indentation\n",
    "    79 char row\n",
    "    When possible, put comments on a line of their own\n",
    "    space \" \" after operatore and comma , not (  --> Bsp. f1(1, 2) + (4*3)\n",
    "    Add a space after \",\" in dicts, lists, tuples, & argument lists, and after \":\" in dicts, but not before.\n",
    "    name var:-->  lowercase & _\n",
    "\n",
    "Notre Keyboard: F5--> fn,F5\n",
    "\n",
    "Short circuit evaluation : (left-hand eval)\n",
    "        eval stops as soon as result is evident \n",
    "         E.g., True or <someComplicatedExpression>  right-hand part is never evaluated\n",
    "Packages :https://pypi.python.org/pypi"
   ]
  },
  {
   "cell_type": "markdown",
   "metadata": {},
   "source": [
    "# OBJECT"
   ]
  },
  {
   "cell_type": "code",
   "execution_count": 3,
   "metadata": {
    "collapsed": false
   },
   "outputs": [
    {
     "name": "stdout",
     "output_type": "stream",
     "text": [
      "(<type 'int'>, 21975784, <type 'object'>, <type 'type'>, True)\n",
      "(<type 'list'>, 45457856, <type 'object'>, <type 'type'>, False)\n",
      "(<type 'str'>, 22184712, <type 'basestring'>, <type 'type'>, False)\n",
      "('__class__', '__contains__')\n"
     ]
    }
   ],
   "source": [
    "'''http://www.cafepy.com/article/python_types_and_objects/python_types_and_objects.html#the-object-within\n",
    "Everything is an Object (not related to OO) even function,keyword,type.\n",
    "so variable(and all the rest) are instance of a class\n",
    "Features: \n",
    "        Value\n",
    "        type \n",
    "             (type hierarchy)\n",
    "                 type\n",
    "                    object\n",
    "                        list\n",
    "                            my_list\n",
    "                        tuple\n",
    "                        dict\n",
    "                        all the rest\n",
    "        id\n",
    "        optional\n",
    "            base            \n",
    "        NAME is not a feature!!!!  (is just a bound to the objects)  \n",
    "\n",
    "'''\n",
    "\n",
    "obj=1\n",
    "print(type(obj),id(obj),type(obj).__base__,type(obj).__class__,isinstance(obj,int))\n",
    "obj=[1,2,5]\n",
    "print(type(obj),id(obj),type(obj).__base__,type(obj).__class__,isinstance(obj,int))\n",
    "obj=\"st\"\n",
    "print(type(obj),id(obj),type(obj).__base__,type(obj).__class__,isinstance(obj,int))\n",
    "\n",
    "\n",
    "\n",
    "print( dir(obj) [1],dir(obj) [2])\n",
    "\n"
   ]
  },
  {
   "cell_type": "markdown",
   "metadata": {},
   "source": [
    "# Variable"
   ]
  },
  {
   "cell_type": "code",
   "execution_count": 32,
   "metadata": {
    "collapsed": false
   },
   "outputs": [
    {
     "name": "stdout",
     "output_type": "stream",
     "text": [
      "Variable are just name (tags) for an object\n",
      "b=a just add another tag to the object\n",
      "a id(28527952) is the same as b id(28527952)\n"
     ]
    }
   ],
   "source": [
    "print(\"variable are just NAMES (tags) for an object\")\n",
    "a=1\n",
    "print(\"b=a just add another tag to the object\")\n",
    "b=a\n",
    "print(\"a id(%s) is the same as b id(%s)\" %  (id(a), id(a)) )\n"
   ]
  },
  {
   "cell_type": "markdown",
   "metadata": {},
   "source": [
    "# DATA TYPES"
   ]
  },
  {
   "cell_type": "code",
   "execution_count": 9,
   "metadata": {
    "collapsed": false
   },
   "outputs": [
    {
     "name": "stdout",
     "output_type": "stream",
     "text": [
      "x is of type:<type 'int'>\n"
     ]
    }
   ],
   "source": [
    "x=5\n",
    "print(\"x is of type:%r\" % type(x))"
   ]
  },
  {
   "cell_type": "markdown",
   "metadata": {},
   "source": [
    "## SCALAR"
   ]
  },
  {
   "cell_type": "code",
   "execution_count": 4,
   "metadata": {
    "collapsed": false
   },
   "outputs": [
    {
     "name": "stdout",
     "output_type": "stream",
     "text": [
      "JOIN:a-b-c\n",
      "('SPLIT:', ['a', 'b', 'c'])\n",
      "('Strip:', 'a  b  c')\n",
      "IN False\n",
      "INDEX 4\n",
      "FIND -1\n",
      "REPLACE:aaaaWaa\n",
      "COUNT 2\n",
      "escape_quote 0'0\n",
      "multi_line_string row 1 \n",
      "  multi_line_string row 2 \n",
      "  multi_line_string row 3 \n",
      "3 NEW LINES!!! \n",
      " \n",
      " \n",
      " \n",
      "PREPEAT_string PREPEAT_string PREPEAT_string PREPEAT_string \n",
      "Strings can be indexed (subscripted)\n",
      "S\n",
      ")\n",
      "pted)\n",
      "('Build String from substring', 'redbluegreenyellow', 'red, blue, green, yellow')\n",
      "Build String from substring Variation:RED_BLUE_GREEN_YELLOW\n"
     ]
    }
   ],
   "source": [
    "#String\n",
    "print 'JOIN:' + '-'.join( ['a','b','c'] ) \n",
    "print ('SPLIT:' ,  'a,b,c'.split(',')  )\n",
    "print ('Strip:' ,  ' a  b  c '.strip(' ')  )\n",
    "print  ('IN '   + repr( 'text_to_search' in 'a,b,c' )  )\n",
    "print  'INDEX %i'   % 'a234,b,c'.index(',')     \n",
    "print('FIND %i'   % 'a,b,c'.find(':') )\n",
    "print('REPLACE:'+\"aaaa3aa\".replace(\"3\",\"W\"))\n",
    "print('COUNT %i'   % 'a,b,c'.count(',')) \n",
    "#count endswith startswith rfind   rstrip, lstrip lower, upper ljust, rjust\n",
    "print 'escape_quote 0\\'0'\n",
    "print '''multi_line_string row 1 \n",
    "  multi_line_string row 2 \n",
    "  multi_line_string row 3 '''\n",
    "print '3 NEW LINES!!! \\n \\n \\n '\n",
    "\n",
    "print 'PREPEAT_string '*4\n",
    "print 'Strings can be indexed (subscripted)'\n",
    "print 'Strings can be indexed (subscripted)'[0]\n",
    "print 'Strings can be indexed (subscripted)'[-1]\n",
    "print 'Strings can be indexed (subscripted)'[-5:]\n",
    "\n",
    "colors = ['red', 'blue', 'green', 'yellow']\n",
    "#thats also the most efficient way\n",
    "result = ''.join(colors)\n",
    "result2=', '.join(colors)\n",
    "print ('Build String from substring',result, result2)\n",
    "result = '_'.join(i.upper() for i in colors)\n",
    "print ('Build String from substring Variation:%s' % result)\n"
   ]
  },
  {
   "cell_type": "markdown",
   "metadata": {},
   "source": [
    "# Formatter"
   ]
  },
  {
   "cell_type": "code",
   "execution_count": 5,
   "metadata": {
    "collapsed": false
   },
   "outputs": [
    {
     "name": "stdout",
     "output_type": "stream",
     "text": [
      "https://docs.python.org/2/library/string.html#format-specification-mini-language\n",
      "Format String john.\n",
      "Format  200 decimal\n",
      "Expressions d sum_all 60.\n",
      "Format  200 R-repr \n",
      "NOTE THE QUOTE with var instead of actual value :  'john' R-repr \n",
      "Multiple values must be within parentheses  10, 20,  30\n",
      "spam and eggs\n",
      "eggs and spam\n",
      "This spam is absolutely horrible.\n",
      "PI approximates 3.14\n",
      "FLOAT  con 0 decimali  3\n",
      "concat +  the ',' concat plus space \n"
     ]
    }
   ],
   "source": [
    "# %s usa str()\n",
    "# %r usa repr()  \n",
    "# %d    %c  %f \n",
    "print('https://docs.python.org/2/library/string.html#format-specification-mini-language')\n",
    "\n",
    "my_name='john'\n",
    "my_height=200\n",
    "var1=10\n",
    "var2=20\n",
    "var3=30\n",
    "print \"Format String %s.\"  % my_name\n",
    "#d\n",
    "print \"Format  %d decimal\" % my_height\n",
    "print \"Expressions d sum_all %d.\" % (     var1 + var2 + var3)\n",
    "#r\n",
    "print \"Format  %r R-repr \" % my_height\n",
    "print \"NOTE THE QUOTE with var instead of actual value :  %r R-repr \" % my_name\n",
    "\n",
    "print \"Multiple values must be within parentheses  %d, %d,  %d\" % (    var1, var2, var3)\n",
    "print('{0} and {1}'.format('spam', 'eggs'))\n",
    "print('{1} and {0}'.format('spam', 'eggs'))\n",
    "print('This {food} is {adjective}.'.format(food='spam', adjective='absolutely horrible'))\n",
    "#template / format string\n",
    "template = '%.2f %s are worth $%d'\n",
    "template % (4.5560, 'Argentine Pesos', 1)\n",
    "import math\n",
    "print('PI approximates %2.2f' % math.pi)\n",
    "\n",
    "print('FLOAT  con 0 decimali  %.0f' % math.pi)\n",
    "\n",
    "\n",
    "\n",
    "#######CONCAT\n",
    "print ('concat +  the \\',\\' concat plus space ')"
   ]
  },
  {
   "cell_type": "markdown",
   "metadata": {},
   "source": [
    "## number,int, float MATH"
   ]
  },
  {
   "cell_type": "code",
   "execution_count": 27,
   "metadata": {
    "collapsed": false
   },
   "outputs": [
    {
     "name": "stdout",
     "output_type": "stream",
     "text": [
      "('DIVISION 17/3', 5)\n",
      "('if at least one is float....DIVISION 17/float(3)', 5.666666666666667)\n",
      "floating point trick:0.1 + 0.2=0.30000000000000004441 (but formatted:0.30000)\n",
      "floating point trick:0.1 + 0.2=0 (but formatted:0)\n",
      "('  17//3', 5)\n",
      "('power 2**3 ', 8)\n",
      "(' x = X + 10 -->  x+=x (oppure x+=10 -->11)', 2)\n",
      "(' x = X - 10 -->  x-=x', 0)\n",
      "(' x = X * 10 -->  x*=x', 1)\n",
      "(' x = X / 10 -->  x/=x', 1.0)\n",
      "3.0 o 3.   intercambiabili...\n"
     ]
    }
   ],
   "source": [
    "# floating point https://docs.python.org/2/tutorial/floatingpoint.html\n",
    "# are represented as : J / (2**N)\n",
    "#approximates real numberto support trade-off between range and precision. \n",
    "#operation on big number are easier to implement\n",
    "# 0.0125 in bin is 0.001 --> read left to right 0/2**1  + 0/2**2  + 1/2**3\n",
    "# 0.1 in bin is 00011001100110011001100110011001100110011001100110011010 (1/16+1/32+1256 ...etc)\n",
    "\n",
    "print('DIVISION 17/3',17/3)\n",
    "print('if at least one is float....DIVISION 17/float(3)',17/float(3) )\n",
    "\n",
    "print(\"floating point trick:0.1 + 0.2=%1.20f (but formatted:%1.5f)\"  % ((0.1 + 0.2) ,(0.1 + 0.2) ))\n",
    "from decimal import Decimal\n",
    "print(\"floating point trick:0.1 + 0.2=%d (but formatted:%d)\"  % (Decimal((0.1 + 0.2)) ,(0.1 + 0.2) ))\n",
    "print('  17//3',17//3)\n",
    "print('power 2**3 ',2**3)\n",
    "x=1\n",
    "x+=x\n",
    "print(' x = X + 10 -->  x+=x (oppure x+=10 -->11)',x)\n",
    "\n",
    "x=1\n",
    "x-=x\n",
    "print(' x = X - 10 -->  x-=x',x)\n",
    "\n",
    "x=1\n",
    "x*=x\n",
    "print(' x = X * 10 -->  x*=x',x)\n",
    "\n",
    "x=float(1)\n",
    "x/=x\n",
    "print(' x = X / 10 -->  x/=x',x)\n",
    "\n",
    "\n",
    "print(\"3.0 o 3.   intercambiabili...\")\n",
    "assert 3.0 == 3.\n"
   ]
  },
  {
   "cell_type": "markdown",
   "metadata": {},
   "source": [
    "# Boolean"
   ]
  },
  {
   "cell_type": "code",
   "execution_count": 11,
   "metadata": {
    "collapsed": false
   },
   "outputs": [
    {
     "name": "stdout",
     "output_type": "stream",
     "text": [
      "false:False,0,the empty string ('') and other empty containers\n",
      "true:ffdsfs,2322,[3,444,555] are TRUE\n",
      "do this:    if x:    # not this:   if x == True:\n",
      "NOTE and,or dont ret a bool!!!!7 or 0 -->7\n",
      "     they ret the last val:'ffdsfs'\n",
      "short assgmnt: <x=y1 IF <expr> else Y2> Bsp.( x=10 if 100>1 else 0) -->10\n"
     ]
    }
   ],
   "source": [
    "#Attention: «evaluate to True/False» does not mean «equality to True/False»!\n",
    "#Precedence   not > and > or\n",
    "if False or  0 or  '':\n",
    "    print(\"no way...\")\n",
    "else:\n",
    "    print(\"false:False,0,the empty string ('') and other empty containers\")\n",
    "\n",
    "if 2322 and \"ffdsfs\" and [3,444,555]:\n",
    "    print(\"true:ffdsfs,2322,[3,444,555] are TRUE\")\n",
    "\n",
    "print(\"do this:    if x:    # not this:   if x == True:\")\n",
    "print(\"list do this:   if items:    # not this:  if len(items) != 0:\")\n",
    "\n",
    "\n",
    "print (\"NOTE and,or dont ret a bool!!!!7 or 0 -->%r\" % ( 7 or 0 ))\n",
    "print (\"     they ret the last val:%r\" % ( 2322 and \"ffdsfs\"  ))    \n",
    "\n",
    "x= 10 if 100>1 else 0\n",
    "print('short assgmnt: <x=y1 IF <expr> else Y2> Bsp.( x=10 if 100>1 else 0) -->%r' % x)"
   ]
  },
  {
   "cell_type": "markdown",
   "metadata": {},
   "source": [
    "# Collections"
   ]
  },
  {
   "cell_type": "markdown",
   "metadata": {},
   "source": [
    "## LIST"
   ]
  },
  {
   "cell_type": "code",
   "execution_count": 15,
   "metadata": {
    "collapsed": false
   },
   "outputs": [
    {
     "name": "stdout",
     "output_type": "stream",
     "text": [
      "[100, 101, 102, 103, '104a', [600, 601]]\n",
      "('seq slice', [101, 103, [600, 601]])\n",
      "('interval', [103, '104a'])\n",
      "--- iterate LIST\n",
      " List element: 100  \n",
      " List element: 101  \n",
      " List element: 102  \n",
      " List element: 103  \n",
      " List element: 104a  \n",
      " List element: 5000  \n",
      " List element: [600, 601]  \n",
      " List element: 44  \n",
      "--- enumerate LIST (get the index)\n",
      "0 100\n",
      "1 101\n",
      "2 102\n",
      "3 103\n",
      "4 104a\n",
      "5 5000\n",
      "6 [600, 601]\n",
      "7 44\n",
      "--- loop LIST (get the index) vrsion 1\n",
      "0 1\n",
      "1 2\n",
      "2 4\n",
      "3 5\n",
      "--- loop LIST (get the index) vrsion 2\n",
      "0 1\n",
      "1 2\n",
      "2 4\n",
      "3 5\n",
      "list contains 103\n",
      "('PACKED:', [1, 2, 3, 4, 5])\n",
      "('unpacked_3:', 3)\n"
     ]
    }
   ],
   "source": [
    "'''\n",
    "   just put  []\n",
    "   can be a list of different types\n",
    "   http://effbot.org/zone/python-list.htm\n",
    "   https://docs.python.org/2/tutorial/datastructures.html\n",
    "'''\n",
    "#Create\n",
    "list_1 = [100,101,102,103,'104a',[600,601]]\n",
    "print(list_1)\n",
    "#List comprehension\n",
    "squares = [x**2       for  x       in range(10)]\n",
    "#     L = [expression for variable in sequence]\n",
    "\n",
    "\n",
    "#index / assign\n",
    "list_1[2]\n",
    "list_1[0]=100\n",
    "list_1.append(44)\n",
    "seq = list_1[1::2] # get every other item, starting with the second\n",
    "print('seq slice',seq)\n",
    "#interval\n",
    "print('interval',list_1[3:5])\n",
    "\n",
    "#Insert at given idx\n",
    "list_1.insert(5, 5000)\n",
    "#Remove\n",
    "list_1.insert(5, 1234)\n",
    "list_1.remove(1234)\n",
    "list_1.insert(5, 1234)\n",
    "list_1.pop(5)\n",
    "\n",
    "\n",
    "#Loop a List\n",
    "print (\"--- iterate LIST\")\n",
    "for element in list_1:\n",
    "    print (\" List element: %s  \" % element)\n",
    "\n",
    "#ENUMARATE a List  \n",
    "print (\"--- enumerate LIST (get the index)\")\n",
    "for index, item in enumerate(list_1):\n",
    "    print index, item\n",
    "    \n",
    "\"\"\" print (\"--- loop LIST (get the index) vrsion 1\")\n",
    "items=[1,2,4,5]\n",
    "i = 0\n",
    "for item in items: \n",
    "    #for i in range(len(items)):\n",
    "    print i, item #print i, items[i]\n",
    "    i += 1\n",
    "print (\"--- loop LIST (get the index) vrsion 2\")\n",
    "i = 0\n",
    "for i in range(len(items)):\n",
    "    print i, items[i]\n",
    "    i += 1\n",
    "\"\"\"\"     \n",
    "#Searching Lists\n",
    "if 103 in list_1:\n",
    "    print \"list contains\", 103\n",
    "    \n",
    "#Unpacking\n",
    "packed=[1,2,3,4,5]\n",
    "unpacked_1,unpacked_2,unpacked_3,unpacked_4,unpacked_5 = packed\n",
    "print('PACKED:',packed)\n",
    "print('unpacked_3:',unpacked_3)\n",
    "\n",
    "\n",
    "\n",
    "# variable length\n",
    "# append , insert(pos) , pop(pos) , remove(value) , in(value) ,extend,sort\n",
    "# binary tree search\n",
    "# slicing\n",
    "# enumerate,sorted,zip(associa 2 liste),reversed\n",
    "\n",
    "#Create & Edit\n",
    "grocery_list = ['100','101','102','potato']\n",
    "grocery_list.insert(10,'tenth')\n",
    "grocery_list.remove('101')\n",
    "grocery_list.sort()\n",
    "grocery_list.reverse()\n",
    "print(grocery_list)\n",
    "\n",
    "#can loop a list \n",
    "for x in grocery_list:\n",
    " print('can loop a list',x)\n",
    " \n",
    "#find in a list\n",
    "xlist   = ['2','3','4','7']\n",
    "if \"1\" in xlist:\n",
    "    print (\"On the grassy field\")\n",
    "else:\n",
    "    print (\"not found\") \n",
    "\n",
    "    #List comprehension:[expr for val in collection if condition]\n",
    "#   result = []\n",
    "#   for val in collection:\n",
    "#       if condition:\n",
    "#           result.append(expr)\n",
    "strings = ['a', 'as', 'bat', 'car', 'dove', 'python']\n",
    "[x.upper() for x in strings if len(x) > 2]\n",
    "#Out[478]: ['BAT', 'CAR', 'DOVE', 'PYTHON']\n",
    "\n",
    "unique_lengths = {len(x) for x in strings}\n",
    "unique_lengths#Out[480]: set([1, 2, 3, 4, 6])\n",
    "\n",
    "loc_mapping = {val : index for index, val in enumerate(strings)}\n",
    "loc_mapping#{'a': 0, 'as': 1, 'bat': 2, 'car': 3, 'dove': 4, 'python': 5}\n",
    "#u could have done this way\n",
    "loc_mapping = dict((val, idx) for idx, val in enumerate(strings)}\n",
    "\n",
    "#NESTED List comprehension:\n",
    "result = [name for names in all_data for name in names  if name.count('e') >= 2]\n",
    "#sort na lista al conttrario\n",
    "values[::-1]"
   ]
  },
  {
   "cell_type": "markdown",
   "metadata": {},
   "source": [
    "## DICTIONARIES"
   ]
  },
  {
   "cell_type": "code",
   "execution_count": 10,
   "metadata": {
    "collapsed": false
   },
   "outputs": [
    {
     "name": "stdout",
     "output_type": "stream",
     "text": [
      "{'jack': 4098, 'tom': 1234}\n",
      "('DICT from LIST', {'John': 'Cleese', 'Michael': 'Palin', 'Eric': 'Idle', 'Terry': 'Gilliam'})\n",
      "('LIST from DICT', ['John', 'Michael', 'Eric', 'Terry'])\n",
      "('LIST from DICT', ['Cleese', 'Palin', 'Idle', 'Gilliam'])\n",
      "1234\n",
      "--- Dict enumerate\n",
      "0 tic\n",
      "1 tac\n",
      "2 toe\n"
     ]
    }
   ],
   "source": [
    "'''\n",
    "Indexed by keys\n",
    "associative arrays\n",
    "https://docs.python.org/2/tutorial/datastructures.html#dictionaries\n",
    "'''\n",
    "\n",
    "#Create\n",
    "tel = {'jack': 4098,  'tom': 1234}\n",
    "print(tel)\n",
    "firstname = ['John', 'Eric', 'Terry', 'Michael']\n",
    "surname = ['Cleese', 'Idle', 'Gilliam', 'Palin']\n",
    "dict_from_list = dict(zip(firstname, surname))\n",
    "print(\"DICT from LIST\",dict_from_list)\n",
    "# reverse DICT to LIST:\n",
    "print(\"LIST from DICT\",dict_from_list.keys())\n",
    "print(\"LIST from DICT\",dict_from_list.values())\n",
    "\n",
    "\n",
    "#dict comprehensions\n",
    "dict_1 ={x: x**2 for x in (2, 4, 6)}\n",
    "#print(dict_1)\n",
    "\n",
    "#Access\n",
    "print(tel['tom'])\n",
    "\n",
    "#Looping ENUMERATE\n",
    "print('--- Dict enumerate')\n",
    "for i, v in enumerate(['tic', 'tac', 'toe']):\n",
    "    print i, v\n",
    "##### DICTIONARY or MAPS #######################################################\n",
    "#(coppie di Key:Value) is an HAshmaps or Associative Array or collection of 2-tuples,\n",
    "#cant concat maps\n",
    "# insert,search,delete,update\n",
    "#zip can be useful to create them\n",
    "#CREATE\n",
    "\n",
    "\n",
    "#EDIT\n",
    "del my_map[\"Key1\"] #delete\n",
    "print(len(my_map))\n",
    "\n",
    "#search&delete\n",
    "'b' in d1\n",
    "d1.pop('dummy')\n",
    "empty_dict = {} #empty one"
   ]
  },
  {
   "cell_type": "markdown",
   "metadata": {},
   "source": [
    "# TUPLE - Konstant"
   ]
  },
  {
   "cell_type": "code",
   "execution_count": 4,
   "metadata": {
    "collapsed": false,
    "scrolled": true
   },
   "outputs": [
    {
     "name": "stdout",
     "output_type": "stream",
     "text": [
      "('Length', 3)\n",
      "('Concatenation', (1, 2, 3, 4, 5, 6))\n",
      "('Repetition', ('Hi!', 'Hi!', 'Hi!', 'Hi!'))\n",
      "('Membership', True)\n"
     ]
    }
   ],
   "source": [
    "'''\n",
    "are constant\n",
    "'''\n",
    "tup1 = ('physics', 'chemistry', 1997, 2000);\n",
    "\n",
    "\n",
    "print('Length',len((1, 2, 3)) )\n",
    "print('Concatenation', ( (1, 2, 3) + (4, 5, 6) ) )\n",
    "print('Repetition',   ( ('Hi!',) * 4 ) )\n",
    "print('Membership', (  3 in (1, 2, 3))    )\n",
    "#print('Iteration',    ( for x in (1, 2, 3): print x, )   )\n",
    "\n",
    "# 1-Dimension sequence of Python objects.\n",
    "#tuple CANT CHANGE AFTER CREATED!!!!!\n",
    "    \n",
    "my_tuple = [ 2,44,23,66,1]\n",
    "my_tuple.count()#5\n",
    "#convert  tuple < -- > list \n",
    "cnv_list = list(my_tuple)\n",
    "cnv_tuple =  tuple(cnv_list)\n",
    "('a', 'b') * 4 # a,b a,b a,b a,b \n",
    "#length max min\n",
    "print('len max min ',len(my_tuple),max(my_tuple),min(my_tuple))\n",
    "#Unpacking assignment\n",
    "tup = (4, 5, 6)\n",
    "a, b, c = tup\n",
    "#b=5\n"
   ]
  },
  {
   "cell_type": "code",
   "execution_count": 6,
   "metadata": {
    "collapsed": false
   },
   "outputs": [
    {
     "ename": "TypeError",
     "evalue": "'tuple' object does not support item assignment",
     "output_type": "error",
     "traceback": [
      "\u001b[1;31m---------------------------------------------------------------------------\u001b[0m\n\u001b[1;31mTypeError\u001b[0m                                 Traceback (most recent call last)",
      "\u001b[1;32m<ipython-input-6-d3f4243fb193>\u001b[0m in \u001b[0;36m<module>\u001b[1;34m()\u001b[0m\n\u001b[1;32m----> 1\u001b[1;33m \u001b[0mtup1\u001b[0m\u001b[1;33m[\u001b[0m\u001b[1;36m2\u001b[0m\u001b[1;33m]\u001b[0m\u001b[1;33m=\u001b[0m\u001b[1;36m333\u001b[0m\u001b[1;33m\u001b[0m\u001b[0m\n\u001b[0m\u001b[0;32m      2\u001b[0m \u001b[1;32mprint\u001b[0m\u001b[1;33m(\u001b[0m\u001b[0mtup1\u001b[0m\u001b[1;33m)\u001b[0m\u001b[1;33m\u001b[0m\u001b[0m\n",
      "\u001b[1;31mTypeError\u001b[0m: 'tuple' object does not support item assignment"
     ]
    }
   ],
   "source": [
    "tup1[2]=333\n",
    "print(tup1)"
   ]
  },
  {
   "cell_type": "markdown",
   "metadata": {},
   "source": [
    "## SETS"
   ]
  },
  {
   "cell_type": "code",
   "execution_count": 36,
   "metadata": {
    "collapsed": false
   },
   "outputs": [
    {
     "name": "stdout",
     "output_type": "stream",
     "text": [
      "('dulpicate removed', set(['orange', 'pear', 'apple', 'banana']))\n",
      "('membership test', True)\n"
     ]
    }
   ],
   "source": [
    "'''\n",
    " unordered collection with no duplicate \n",
    " https://docs.python.org/2/tutorial/datastructures.html#sets\n",
    " \n",
    "'''\n",
    "#Create\n",
    "basket = ['apple', 'orange', 'apple', 'pear', 'orange', 'banana']\n",
    "#Remove duplicate\n",
    "fruit = set(basket)               # create a set without duplicates\n",
    "print('dulpicate removed',fruit)\n",
    "\n",
    "# fast membership testing\n",
    "\n",
    "print('membership test','orange' in fruit)\n"
   ]
  },
  {
   "cell_type": "code",
   "execution_count": 38,
   "metadata": {
    "collapsed": false
   },
   "outputs": [
    {
     "name": "stdout",
     "output_type": "stream",
     "text": [
      "--- SET operation\n",
      "('letters in a but not in b', set(['r', 'b', 'd']))\n",
      "('letters in either a or b', set(['a', 'c', 'b', 'd', 'm', 'l', 'r', 'z']))\n",
      "('letters in both a and b', set(['a', 'c']))\n",
      "(' letters in a or b but not both', set(['b', 'd', 'm', 'l', 'r', 'z']))\n"
     ]
    }
   ],
   "source": [
    "# Demonstrate set operations on unique letters from two words\n",
    "print('--- SET operation')\n",
    "a = set('abracadabra')\n",
    "b = set('alacazam')\n",
    "set(['a', 'r', 'b', 'c', 'd'])\n",
    "print('letters in a but not in b' ,a - b )\n",
    "print('letters in either a or b', a | b )\n",
    "print('letters in both a and b',a & b)                              # \n",
    "print(' letters in a or b but not both', a ^ b                             )\n"
   ]
  },
  {
   "cell_type": "markdown",
   "metadata": {},
   "source": [
    "## Input"
   ]
  },
  {
   "cell_type": "code",
   "execution_count": 1,
   "metadata": {
    "collapsed": false
   },
   "outputs": [
    {
     "name": "stdout",
     "output_type": "stream",
     "text": [
      "type something  ...\n",
      "> ciao+\n",
      " you typed 'ciao+' \n"
     ]
    }
   ],
   "source": [
    "#input\n",
    "prompt = '> '\n",
    "msg=\"type something  ...\"\n",
    "print(msg)\n",
    "y=raw_input( prompt)\n",
    "print \" you typed %r \" % (y)\n",
    "\n"
   ]
  },
  {
   "cell_type": "markdown",
   "metadata": {},
   "source": [
    "# script input parameters"
   ]
  },
  {
   "cell_type": "code",
   "execution_count": 1,
   "metadata": {
    "collapsed": false
   },
   "outputs": [
    {
     "ename": "ValueError",
     "evalue": "too many values to unpack",
     "output_type": "error",
     "traceback": [
      "\u001b[0;31m---------------------------------------------------------------------------\u001b[0m",
      "\u001b[0;31mValueError\u001b[0m                                Traceback (most recent call last)",
      "\u001b[0;32m<ipython-input-1-8568a50ebb63>\u001b[0m in \u001b[0;36m<module>\u001b[0;34m()\u001b[0m\n\u001b[1;32m      2\u001b[0m \u001b[0;32mfrom\u001b[0m \u001b[0msys\u001b[0m \u001b[0;32mimport\u001b[0m \u001b[0margv\u001b[0m\u001b[0;34m\u001b[0m\u001b[0m\n\u001b[1;32m      3\u001b[0m \u001b[0;34m\u001b[0m\u001b[0m\n\u001b[0;32m----> 4\u001b[0;31m \u001b[0mscript\u001b[0m\u001b[0;34m,\u001b[0m \u001b[0mfirst\u001b[0m\u001b[0;34m,\u001b[0m \u001b[0msecond\u001b[0m\u001b[0;34m,\u001b[0m \u001b[0mthird\u001b[0m \u001b[0;34m=\u001b[0m \u001b[0margv\u001b[0m\u001b[0;34m\u001b[0m\u001b[0m\n\u001b[0m",
      "\u001b[0;31mValueError\u001b[0m: too many values to unpack"
     ]
    }
   ],
   "source": [
    "#read script input parameters\n",
    "from sys import argv\n",
    "print(\"argv  (length:%s) contains:\" % len(argv))\n",
    "arguments = argv\n",
    "#print \"The script is called:  \" ,  arguments \n",
    "for argument in arguments:\n",
    "   print argument"
   ]
  },
  {
   "cell_type": "markdown",
   "metadata": {},
   "source": [
    "## #built in  functions https://docs.python.org/2/library/functions.html"
   ]
  },
  {
   "cell_type": "markdown",
   "metadata": {},
   "source": [
    "### Check Installed packages"
   ]
  },
  {
   "cell_type": "code",
   "execution_count": null,
   "metadata": {
    "collapsed": false
   },
   "outputs": [],
   "source": [
    "import pip\n",
    "installed_packages = pip.get_installed_distributions()\n",
    "installed_packages_list = sorted([\"%s==%s\" % (i.key, i.version)\n",
    "     for i in installed_packages])\n",
    "print(installed_packages_list)"
   ]
  },
  {
   "cell_type": "markdown",
   "metadata": {},
   "source": [
    "## IPYTHON"
   ]
  },
  {
   "cell_type": "code",
   "execution_count": null,
   "metadata": {
    "collapsed": false
   },
   "outputs": [],
   "source": [
    "MAGIC cmd %\n",
    "%magic\n",
    "%run EXEC a skript:u need absolute path!!!!!\n",
    "%run ipython_script_test.py\n",
    "%paste\n",
    "%logstart\n",
    "%logoff\n",
    "%pwd\n",
    "%dhist\n",
    "%cd\n",
    "COMANDI con uniy  !\n",
    "!touch pippo.txt\n",
    "!ls\n",
    "creare alias per directory\n",
    "%bookmark db /home/wesm/Dropbox/\n",
    "%pdb debug"
   ]
  },
  {
   "cell_type": "code",
   "execution_count": 18,
   "metadata": {
    "collapsed": false
   },
   "outputs": [
    {
     "data": {
      "text/plain": [
       "u'/Volumes/KINGSTON/workspace/python2015/language'"
      ]
     },
     "execution_count": 18,
     "metadata": {},
     "output_type": "execute_result"
    }
   ],
   "source": [
    "%pwd"
   ]
  },
  {
   "cell_type": "code",
   "execution_count": 19,
   "metadata": {
    "collapsed": false
   },
   "outputs": [
    {
     "name": "stdout",
     "output_type": "stream",
     "text": [
      "\u001b[31mMatrices.ipynb\u001b[m\u001b[m*             \u001b[31mlanguage.py\u001b[m\u001b[m*\n",
      "\u001b[31mdebugging_and_test.ipynb\u001b[m\u001b[m*   \u001b[31mnumpy.ipynb\u001b[m\u001b[m*\n",
      "\u001b[31mdebugging_and_test.py\u001b[m\u001b[m*      \u001b[31mpandas.ipynb\u001b[m\u001b[m*\n",
      "\u001b[31mfiles_and_interfaces.ipynb\u001b[m\u001b[m* \u001b[31mtimeseries.ipynb\u001b[m\u001b[m*\n",
      "\u001b[31min_param.py\u001b[m\u001b[m*                \u001b[31mtutorial.ipynb\u001b[m\u001b[m*\n",
      "\u001b[31mlanguage.ipynb\u001b[m\u001b[m*\n"
     ]
    }
   ],
   "source": [
    "%ls"
   ]
  },
  {
   "cell_type": "code",
   "execution_count": 7,
   "metadata": {
    "collapsed": false
   },
   "outputs": [
    {
     "ename": "NameError",
     "evalue": "name 'minibatch' is not defined",
     "output_type": "error",
     "traceback": [
      "\u001b[1;31m---------------------------------------------------------------------------\u001b[0m\n\u001b[1;31mNameError\u001b[0m                                 Traceback (most recent call last)",
      "\u001b[1;32m<ipython-input-7-8cb04fd582c1>\u001b[0m in \u001b[0;36m<module>\u001b[1;34m()\u001b[0m\n\u001b[0;32m      5\u001b[0m \u001b[1;33m\u001b[0m\u001b[0m\n\u001b[0;32m      6\u001b[0m \u001b[1;31m#Time of CMD execution\u001b[0m\u001b[1;33m\u001b[0m\u001b[1;33m\u001b[0m\u001b[0m\n\u001b[1;32m----> 7\u001b[1;33m \u001b[0mget_ipython\u001b[0m\u001b[1;33m(\u001b[0m\u001b[1;33m)\u001b[0m\u001b[1;33m.\u001b[0m\u001b[0mmagic\u001b[0m\u001b[1;33m(\u001b[0m\u001b[1;34mu'time minibatch.fit(blobs)'\u001b[0m\u001b[1;33m)\u001b[0m\u001b[1;33m\u001b[0m\u001b[0m\n\u001b[0m\u001b[0;32m      8\u001b[0m \u001b[0mget_ipython\u001b[0m\u001b[1;33m(\u001b[0m\u001b[1;33m)\u001b[0m\u001b[1;33m.\u001b[0m\u001b[0mmagic\u001b[0m\u001b[1;33m(\u001b[0m\u001b[1;34mu'psearch numpy.*'\u001b[0m\u001b[1;33m)\u001b[0m\u001b[1;33m\u001b[0m\u001b[0m\n",
      "\u001b[1;32mC:\\Users\\p155121\\AppData\\Local\\Enthought\\Canopy32\\App\\appdata\\canopy-1.5.2.2785.win-x86\\lib\\site-packages\\IPython\\core\\interactiveshell.pyc\u001b[0m in \u001b[0;36mmagic\u001b[1;34m(self, arg_s)\u001b[0m\n\u001b[0;32m   2203\u001b[0m         \u001b[0mmagic_name\u001b[0m\u001b[1;33m,\u001b[0m \u001b[0m_\u001b[0m\u001b[1;33m,\u001b[0m \u001b[0mmagic_arg_s\u001b[0m \u001b[1;33m=\u001b[0m \u001b[0marg_s\u001b[0m\u001b[1;33m.\u001b[0m\u001b[0mpartition\u001b[0m\u001b[1;33m(\u001b[0m\u001b[1;34m' '\u001b[0m\u001b[1;33m)\u001b[0m\u001b[1;33m\u001b[0m\u001b[0m\n\u001b[0;32m   2204\u001b[0m         \u001b[0mmagic_name\u001b[0m \u001b[1;33m=\u001b[0m \u001b[0mmagic_name\u001b[0m\u001b[1;33m.\u001b[0m\u001b[0mlstrip\u001b[0m\u001b[1;33m(\u001b[0m\u001b[0mprefilter\u001b[0m\u001b[1;33m.\u001b[0m\u001b[0mESC_MAGIC\u001b[0m\u001b[1;33m)\u001b[0m\u001b[1;33m\u001b[0m\u001b[0m\n\u001b[1;32m-> 2205\u001b[1;33m         \u001b[1;32mreturn\u001b[0m \u001b[0mself\u001b[0m\u001b[1;33m.\u001b[0m\u001b[0mrun_line_magic\u001b[0m\u001b[1;33m(\u001b[0m\u001b[0mmagic_name\u001b[0m\u001b[1;33m,\u001b[0m \u001b[0mmagic_arg_s\u001b[0m\u001b[1;33m)\u001b[0m\u001b[1;33m\u001b[0m\u001b[0m\n\u001b[0m\u001b[0;32m   2206\u001b[0m \u001b[1;33m\u001b[0m\u001b[0m\n\u001b[0;32m   2207\u001b[0m     \u001b[1;31m#-------------------------------------------------------------------------\u001b[0m\u001b[1;33m\u001b[0m\u001b[1;33m\u001b[0m\u001b[0m\n",
      "\u001b[1;32mC:\\Users\\p155121\\AppData\\Local\\Enthought\\Canopy32\\App\\appdata\\canopy-1.5.2.2785.win-x86\\lib\\site-packages\\IPython\\core\\interactiveshell.pyc\u001b[0m in \u001b[0;36mrun_line_magic\u001b[1;34m(self, magic_name, line)\u001b[0m\n\u001b[0;32m   2124\u001b[0m                 \u001b[0mkwargs\u001b[0m\u001b[1;33m[\u001b[0m\u001b[1;34m'local_ns'\u001b[0m\u001b[1;33m]\u001b[0m \u001b[1;33m=\u001b[0m \u001b[0msys\u001b[0m\u001b[1;33m.\u001b[0m\u001b[0m_getframe\u001b[0m\u001b[1;33m(\u001b[0m\u001b[0mstack_depth\u001b[0m\u001b[1;33m)\u001b[0m\u001b[1;33m.\u001b[0m\u001b[0mf_locals\u001b[0m\u001b[1;33m\u001b[0m\u001b[0m\n\u001b[0;32m   2125\u001b[0m             \u001b[1;32mwith\u001b[0m \u001b[0mself\u001b[0m\u001b[1;33m.\u001b[0m\u001b[0mbuiltin_trap\u001b[0m\u001b[1;33m:\u001b[0m\u001b[1;33m\u001b[0m\u001b[0m\n\u001b[1;32m-> 2126\u001b[1;33m                 \u001b[0mresult\u001b[0m \u001b[1;33m=\u001b[0m \u001b[0mfn\u001b[0m\u001b[1;33m(\u001b[0m\u001b[1;33m*\u001b[0m\u001b[0margs\u001b[0m\u001b[1;33m,\u001b[0m\u001b[1;33m**\u001b[0m\u001b[0mkwargs\u001b[0m\u001b[1;33m)\u001b[0m\u001b[1;33m\u001b[0m\u001b[0m\n\u001b[0m\u001b[0;32m   2127\u001b[0m             \u001b[1;32mreturn\u001b[0m \u001b[0mresult\u001b[0m\u001b[1;33m\u001b[0m\u001b[0m\n\u001b[0;32m   2128\u001b[0m \u001b[1;33m\u001b[0m\u001b[0m\n",
      "\u001b[1;32mC:\\Users\\p155121\\AppData\\Local\\Enthought\\Canopy32\\App\\appdata\\canopy-1.5.2.2785.win-x86\\lib\\site-packages\\IPython\\core\\magics\\execution.pyc\u001b[0m in \u001b[0;36mtime\u001b[1;34m(self, line, cell, local_ns)\u001b[0m\n",
      "\u001b[1;32mC:\\Users\\p155121\\AppData\\Local\\Enthought\\Canopy32\\App\\appdata\\canopy-1.5.2.2785.win-x86\\lib\\site-packages\\IPython\\core\\magic.pyc\u001b[0m in \u001b[0;36m<lambda>\u001b[1;34m(f, *a, **k)\u001b[0m\n\u001b[0;32m    191\u001b[0m     \u001b[1;31m# but it's overkill for just that one bit of state.\u001b[0m\u001b[1;33m\u001b[0m\u001b[1;33m\u001b[0m\u001b[0m\n\u001b[0;32m    192\u001b[0m     \u001b[1;32mdef\u001b[0m \u001b[0mmagic_deco\u001b[0m\u001b[1;33m(\u001b[0m\u001b[0marg\u001b[0m\u001b[1;33m)\u001b[0m\u001b[1;33m:\u001b[0m\u001b[1;33m\u001b[0m\u001b[0m\n\u001b[1;32m--> 193\u001b[1;33m         \u001b[0mcall\u001b[0m \u001b[1;33m=\u001b[0m \u001b[1;32mlambda\u001b[0m \u001b[0mf\u001b[0m\u001b[1;33m,\u001b[0m \u001b[1;33m*\u001b[0m\u001b[0ma\u001b[0m\u001b[1;33m,\u001b[0m \u001b[1;33m**\u001b[0m\u001b[0mk\u001b[0m\u001b[1;33m:\u001b[0m \u001b[0mf\u001b[0m\u001b[1;33m(\u001b[0m\u001b[1;33m*\u001b[0m\u001b[0ma\u001b[0m\u001b[1;33m,\u001b[0m \u001b[1;33m**\u001b[0m\u001b[0mk\u001b[0m\u001b[1;33m)\u001b[0m\u001b[1;33m\u001b[0m\u001b[0m\n\u001b[0m\u001b[0;32m    194\u001b[0m \u001b[1;33m\u001b[0m\u001b[0m\n\u001b[0;32m    195\u001b[0m         \u001b[1;32mif\u001b[0m \u001b[0mcallable\u001b[0m\u001b[1;33m(\u001b[0m\u001b[0marg\u001b[0m\u001b[1;33m)\u001b[0m\u001b[1;33m:\u001b[0m\u001b[1;33m\u001b[0m\u001b[0m\n",
      "\u001b[1;32mC:\\Users\\p155121\\AppData\\Local\\Enthought\\Canopy32\\App\\appdata\\canopy-1.5.2.2785.win-x86\\lib\\site-packages\\IPython\\core\\magics\\execution.pyc\u001b[0m in \u001b[0;36mtime\u001b[1;34m(self, line, cell, local_ns)\u001b[0m\n\u001b[0;32m   1123\u001b[0m         \u001b[1;32mif\u001b[0m \u001b[0mmode\u001b[0m\u001b[1;33m==\u001b[0m\u001b[1;34m'eval'\u001b[0m\u001b[1;33m:\u001b[0m\u001b[1;33m\u001b[0m\u001b[0m\n\u001b[0;32m   1124\u001b[0m             \u001b[0mst\u001b[0m \u001b[1;33m=\u001b[0m \u001b[0mclock2\u001b[0m\u001b[1;33m(\u001b[0m\u001b[1;33m)\u001b[0m\u001b[1;33m\u001b[0m\u001b[0m\n\u001b[1;32m-> 1125\u001b[1;33m             \u001b[0mout\u001b[0m \u001b[1;33m=\u001b[0m \u001b[0meval\u001b[0m\u001b[1;33m(\u001b[0m\u001b[0mcode\u001b[0m\u001b[1;33m,\u001b[0m \u001b[0mglob\u001b[0m\u001b[1;33m,\u001b[0m \u001b[0mlocal_ns\u001b[0m\u001b[1;33m)\u001b[0m\u001b[1;33m\u001b[0m\u001b[0m\n\u001b[0m\u001b[0;32m   1126\u001b[0m             \u001b[0mend\u001b[0m \u001b[1;33m=\u001b[0m \u001b[0mclock2\u001b[0m\u001b[1;33m(\u001b[0m\u001b[1;33m)\u001b[0m\u001b[1;33m\u001b[0m\u001b[0m\n\u001b[0;32m   1127\u001b[0m         \u001b[1;32melse\u001b[0m\u001b[1;33m:\u001b[0m\u001b[1;33m\u001b[0m\u001b[0m\n",
      "\u001b[1;32m<timed eval>\u001b[0m in \u001b[0;36m<module>\u001b[1;34m()\u001b[0m\n",
      "\u001b[1;31mNameError\u001b[0m: name 'minibatch' is not defined"
     ]
    }
   ],
   "source": [
    "# ? after object\n",
    "a=[[1,2,4],[7,8,4]]\n",
    "\n",
    "a?\n",
    "\n",
    "#Time of CMD execution\n",
    "%time minibatch.fit(blobs)\n",
    "numpy.*?"
   ]
  },
  {
   "cell_type": "markdown",
   "metadata": {},
   "source": [
    "# PACKAGES / Modules"
   ]
  },
  {
   "cell_type": "code",
   "execution_count": 20,
   "metadata": {
    "collapsed": false
   },
   "outputs": [
    {
     "name": "stdout",
     "output_type": "stream",
     "text": [
      "['abstract-rendering==0.5.1', 'alabaster==0.7.3', 'appinst==2.1.2', 'appscript==1.0.1', 'apptools==4.2.1', 'argcomplete==0.8.9', 'astropy==1.0.3', 'atom==0.3.9', 'babel==1.3', 'backports.ssl-match-hostname==3.2a3', 'bcolz==0.9.0', 'beautifulsoup4==4.3.2', 'binstar==0.11.0', 'bitarray==0.8.1', 'blaze==0.7.0', 'blz==0.6.2', 'bokeh==0.9.0', 'boto==2.38.0', 'bottleneck==1.0.0', 'casuarius==1.1', 'cdecimal==2.3', 'certifi==14.5.14', 'cffi==1.1.0', 'chaco==4.5.0', 'cloud==2.4.6', 'clyent==0.3.4', 'codetools==4.2.0', 'colorama==0.3.3', 'conda-build==1.14.1', 'conda-env==2.2.3', 'conda==3.14.1', 'configobj==5.0.6', 'cryptography==0.9.1', 'cython==0.22.1', 'cytoolz==0.7.3', 'datashape==0.4.2', 'decorator==3.4.2', 'distribute==0.6.49', 'docutils==0.12', 'enable==4.4.1', 'enaml==0.9.8', 'encore==0.6.0', 'enstaller==4.8.1', 'enum34==1.0.4', 'envisage==4.4.0', 'etsproxy==0.1.2', 'examples==7.3', 'fastcache==1.0.2', 'flake8==2.2.5', 'flask==0.10.1', 'freetype==2.5.3', 'funcsigs==0.4', 'gevent-websocket==0.9.3', 'gevent==1.0.1', 'greenlet==0.4.7', 'grin==1.2.1', 'h5py==2.5.0', 'idle==2.7.3', 'idna==2.0', 'into==0.1.3', 'ipaddress==1.0.7', 'ipython==2.3.1', 'itsdangerous==0.24', 'jdcal==1.0', 'jedi==0.8.1', 'jinja2==2.7.3', 'jsonschema==2.4.0', 'kernmagic==0.2.0', 'kiwisolver==0.1.3', 'libjpeg==7.0', 'libpng==1.6.12', 'libxml2==2.9.2', 'llvmlite==0.5.0', 'lxml==3.4.4', 'markupsafe==0.23', 'matplotlib==1.4.2', 'memory-profiler==0.31.0', 'mistune==0.5.1', 'mkl==10.3', 'mock==1.0.1', 'multipledispatch==0.4.7', 'networkx==1.9.1', 'nltk==3.0.3', 'nose==1.3.4', 'numba==0.19.1', 'numexpr==2.4.3', 'numpy==1.8.1', 'odo==0.3.2', 'openpyxl==1.8.5', 'pandas==0.15.2', 'patsy==0.3.0', 'pep8==1.6.2', 'pil==1.1.7', 'pillow==2.8.2', 'pip==6.0.6', 'ply==3.4', 'psutil==2.2.1', 'ptyprocess==0.4', 'py==1.4.27', 'pyasn1==0.1.7', 'pyaudio==0.2.7', 'pycosat==0.6.1', 'pycparser==2.14', 'pycrypto==2.6.1', 'pycurl==7.19.5.1', 'pyface==4.4.0', 'pyflakes==0.9.2', 'pygments==2.0.2', 'pyopenssl==0.15.1', 'pyparsing==2.0.2', 'pytest==2.7.1', 'python-dateutil==2.2.0', 'pythondoc==2.7.3', 'pytz==2014.9.0', 'pyyaml==3.11', 'pyzmq==14.5.0', 'readline==6.2.1', 'redis==2.10.3', 'requests==2.5.1', 'rope==0.9.4', 'runipy==0.1.3', 'scikit-image==0.11.3', 'scikit-learn==0.16.1', 'scipy==0.14.1rc1', 'setuptools==17.1.1', 'six==1.8.0', 'snowballstemmer==1.2.0', 'sockjs-tornado==1.0.1', 'sphinx-rtd-theme==0.1.7', 'sphinx==1.3.1', 'spyder==2.3.5.2', 'sqlalchemy==1.0.5', 'statsmodels==0.6.1', 'sympy==0.7.6', 'tables==3.2.0', 'terminado==0.5', 'toolz==0.7.2', 'tornado==4.0.2', 'traits-enaml==0.2.1', 'traits==4.5.0', 'traitsui==4.4.0', 'ujson==1.33', 'unicodecsv==0.9.4', 'werkzeug==0.10.4', 'wxpython==2.9.2.4', 'xlrd==0.9.3', 'xlsxwriter==0.7.3', 'xlwings==0.3.5', 'xlwt==1.0.0']\n"
     ]
    }
   ],
   "source": [
    "import pip\n",
    "installed_packages = pip.get_installed_distributions()\n",
    "installed_packages_list = sorted([\"%s==%s\" % (i.key, i.version)\n",
    "     for i in installed_packages])\n",
    "print(installed_packages_list)"
   ]
  },
  {
   "cell_type": "code",
   "execution_count": 9,
   "metadata": {
    "collapsed": false
   },
   "outputs": [
    {
     "data": {
      "text/plain": [
       "['',\n",
       " 'C:\\\\Users\\\\p155121\\\\AppData\\\\Local\\\\Enthought\\\\Canopy32\\\\User\\\\lib\\\\site-packages\\\\graphviz-0.4.4-py2.7.egg',\n",
       " 'C:\\\\Users\\\\p155121\\\\AppData\\\\Local\\\\Enthought\\\\Canopy32\\\\User\\\\Scripts\\\\python27.zip',\n",
       " 'C:\\\\Users\\\\p155121\\\\AppData\\\\Local\\\\Enthought\\\\Canopy32\\\\App\\\\appdata\\\\canopy-1.5.2.2785.win-x86\\\\DLLs',\n",
       " 'C:\\\\Users\\\\p155121\\\\AppData\\\\Local\\\\Enthought\\\\Canopy32\\\\App\\\\appdata\\\\canopy-1.5.2.2785.win-x86\\\\lib',\n",
       " 'C:\\\\Users\\\\p155121\\\\AppData\\\\Local\\\\Enthought\\\\Canopy32\\\\App\\\\appdata\\\\canopy-1.5.2.2785.win-x86\\\\lib\\\\plat-win',\n",
       " 'C:\\\\Users\\\\p155121\\\\AppData\\\\Local\\\\Enthought\\\\Canopy32\\\\App\\\\appdata\\\\canopy-1.5.2.2785.win-x86\\\\lib\\\\lib-tk',\n",
       " 'C:\\\\Users\\\\p155121\\\\AppData\\\\Local\\\\Enthought\\\\Canopy32\\\\App\\\\appdata\\\\canopy-1.5.2.2785.win-x86',\n",
       " 'C:\\\\Users\\\\p155121\\\\AppData\\\\Local\\\\Enthought\\\\Canopy32\\\\User',\n",
       " 'C:\\\\Users\\\\p155121\\\\AppData\\\\Local\\\\Enthought\\\\Canopy32\\\\User\\\\lib\\\\site-packages',\n",
       " 'C:\\\\Users\\\\p155121\\\\AppData\\\\Local\\\\Enthought\\\\Canopy32\\\\User\\\\lib\\\\site-packages\\\\PIL',\n",
       " 'C:\\\\Users\\\\p155121\\\\AppData\\\\Local\\\\Enthought\\\\Canopy32\\\\User\\\\lib\\\\site-packages\\\\win32',\n",
       " 'C:\\\\Users\\\\p155121\\\\AppData\\\\Local\\\\Enthought\\\\Canopy32\\\\User\\\\lib\\\\site-packages\\\\win32\\\\lib',\n",
       " 'C:\\\\Users\\\\p155121\\\\AppData\\\\Local\\\\Enthought\\\\Canopy32\\\\User\\\\lib\\\\site-packages\\\\Pythonwin',\n",
       " 'C:\\\\Users\\\\p155121\\\\AppData\\\\Local\\\\Enthought\\\\Canopy32\\\\App\\\\appdata',\n",
       " 'C:\\\\Users\\\\p155121\\\\AppData\\\\Local\\\\Enthought\\\\Canopy32\\\\App\\\\appdata\\\\canopy-1.5.2.2785.win-x86\\\\lib\\\\site-packages',\n",
       " 'C:\\\\Users\\\\p155121\\\\AppData\\\\Local\\\\Enthought\\\\Canopy32\\\\App\\\\appdata\\\\canopy-1.5.2.2785.win-x86\\\\lib\\\\site-packages\\\\IPython\\\\extensions',\n",
       " 'C:\\\\Users\\\\p155121\\\\.ipython',\n",
       " 'D:\\\\workspace\\\\casinfe\\\\',\n",
       " 'D:\\\\workspace\\\\casinfe\\\\']"
      ]
     },
     "execution_count": 9,
     "metadata": {},
     "output_type": "execute_result"
    }
   ],
   "source": [
    "import sys \n",
    "#When importing the package, Python searches through the directories on sys.path looking for the package subdirectory.\n",
    "'''\n",
    "mypackage/\n",
    "    mod1.py\n",
    "    mod2.py\n",
    "    mod3.py\n",
    "    mod4.py\n",
    "'''\n",
    "sys.path\n",
    "\n",
    "#add sys.path.append(os.path.abspath('D:\\workspace\\casinfe'))\n",
    "#sys.path.append( 'D:\\\\workspace\\\\casinfe\\\\')"
   ]
  },
  {
   "cell_type": "code",
   "execution_count": 15,
   "metadata": {
    "collapsed": false
   },
   "outputs": [
    {
     "data": {
      "text/plain": [
       "['__builtins__', '__doc__', '__file__', '__name__', '__package__']"
      ]
     },
     "execution_count": 15,
     "metadata": {},
     "output_type": "execute_result"
    }
   ],
   "source": [
    "import mod1\n",
    "#it works! nota che genera un pyc\n",
    "dir(mod1)\n"
   ]
  },
  {
   "cell_type": "markdown",
   "metadata": {
    "collapsed": false
   },
   "source": [
    "# Functions"
   ]
  },
  {
   "cell_type": "code",
   "execution_count": 2,
   "metadata": {
    "collapsed": false
   },
   "outputs": [
    {
     "name": "stdout",
     "output_type": "stream",
     "text": [
      "arg1: 'Zed', arg2: 'Shaw'\n"
     ]
    }
   ],
   "source": [
    "def print_two(*args):\n",
    "    arg1, arg2 = args\n",
    "    print \"arg1: %r, arg2: %r\" % (arg1, arg2)\n",
    "\n",
    "print_two(\"Zed\",\"Shaw\")"
   ]
  },
  {
   "cell_type": "markdown",
   "metadata": {
    "collapsed": true
   },
   "source": [
    "# CLASS"
   ]
  },
  {
   "cell_type": "code",
   "execution_count": 26,
   "metadata": {
    "collapsed": false
   },
   "outputs": [
    {
     "name": "stdout",
     "output_type": "stream",
     "text": [
      "3\n",
      "50\n",
      "this is a class!\n"
     ]
    }
   ],
   "source": [
    "class simpleClass(object):\n",
    "    counter=50    \n",
    "    def info(self):\n",
    "        print \"this is a class!\"\n",
    "    def mysum (self,p1,p2 ):#note that you must add SELF also if dont use it\n",
    "        return p1+p2\n",
    "        \n",
    "sc=simpleClass()\n",
    "print(sc.mysum( 1 ,2))\n",
    "print sc.counter\n",
    "sc.info()"
   ]
  },
  {
   "cell_type": "code",
   "execution_count": 30,
   "metadata": {
    "collapsed": false
   },
   "outputs": [
    {
     "name": "stdout",
     "output_type": "stream",
     "text": [
      "100\n",
      "2\n"
     ]
    }
   ],
   "source": [
    "class withConstructor(object):\n",
    "    def __init__(self):#constructor\n",
    "        self.param1 = 100\n",
    "class withConstructor2(object):\n",
    "    def __init__(self,p1):#constructor\n",
    "        self.param1 = p1\n",
    "wc=withConstructor()\n",
    "print wc.param1\n",
    "wc=withConstructor2(2)\n",
    "print wc.param1\n"
   ]
  },
  {
   "cell_type": "code",
   "execution_count": 33,
   "metadata": {
    "collapsed": false
   },
   "outputs": [
    {
     "name": "stdout",
     "output_type": "stream",
     "text": [
      "50\n"
     ]
    }
   ],
   "source": [
    "class inheritConstructor(simpleClass):#here is the inheritance\n",
    "    pass\n",
    "ic=inheritConstructor()\n",
    "print ic.counter"
   ]
  },
  {
   "cell_type": "code",
   "execution_count": 34,
   "metadata": {
    "collapsed": false
   },
   "outputs": [
    {
     "name": "stdout",
     "output_type": "stream",
     "text": [
      "PARENT altered()\n",
      "CHILD, BEFORE PARENT altered()\n",
      "PARENT altered()\n",
      "CHILD, AFTER PARENT altered()\n"
     ]
    }
   ],
   "source": [
    "#OVERRIDE\n",
    "class Parent(object):\n",
    "\n",
    "    def altered(self):\n",
    "        print \"PARENT altered()\"\n",
    "\n",
    "class Child(Parent):\n",
    "\n",
    "    def altered(self):#OVERRIDE\n",
    "        print \"CHILD, BEFORE PARENT altered()\"\n",
    "        super(Child, self).altered()#here how to call the parent method\n",
    "        print \"CHILD, AFTER PARENT altered()\"\n",
    "\n",
    "dad = Parent()\n",
    "son = Child()\n",
    "\n",
    "dad.altered()\n",
    "son.altered()"
   ]
  },
  {
   "cell_type": "code",
   "execution_count": 41,
   "metadata": {
    "collapsed": false,
    "scrolled": false
   },
   "outputs": [
    {
     "ename": "TypeError",
     "evalue": "__init__() takes exactly 1 argument (2 given)",
     "output_type": "error",
     "traceback": [
      "\u001b[0;31m---------------------------------------------------------------------------\u001b[0m",
      "\u001b[0;31mTypeError\u001b[0m                                 Traceback (most recent call last)",
      "\u001b[0;32m<ipython-input-41-c0a03bd4fe75>\u001b[0m in \u001b[0;36m<module>\u001b[0;34m()\u001b[0m\n\u001b[1;32m      7\u001b[0m         \u001b[0mself\u001b[0m\u001b[0;34m.\u001b[0m\u001b[0mparam2\u001b[0m \u001b[0;34m=\u001b[0m \u001b[0;36m200\u001b[0m\u001b[0;34m\u001b[0m\u001b[0m\n\u001b[1;32m      8\u001b[0m \u001b[0mjohn\u001b[0m\u001b[0;34m=\u001b[0m\u001b[0mperson\u001b[0m\u001b[0;34m(\u001b[0m\u001b[0;34m)\u001b[0m\u001b[0;34m\u001b[0m\u001b[0m\n\u001b[0;32m----> 9\u001b[0;31m \u001b[0mclerk1\u001b[0m\u001b[0;34m=\u001b[0m\u001b[0memployee\u001b[0m\u001b[0;34m(\u001b[0m\u001b[0mjohn\u001b[0m\u001b[0;34m)\u001b[0m\u001b[0;34m\u001b[0m\u001b[0m\n\u001b[0m\u001b[1;32m     10\u001b[0m \u001b[0;34m\u001b[0m\u001b[0m\n",
      "\u001b[0;31mTypeError\u001b[0m: __init__() takes exactly 1 argument (2 given)"
     ]
    }
   ],
   "source": [
    "class person(object):\n",
    "    def __init__(self):\n",
    "        self.param1 = 100\n",
    "class employee(person):\n",
    "    def __init__(self):\n",
    "        #super(person,self).__init__()\n",
    "        self.param2 = 200\n",
    "john=person()\n",
    "clerk1=employee(john)\n",
    "        "
   ]
  },
  {
   "cell_type": "markdown",
   "metadata": {
    "collapsed": true
   },
   "source": [
    "# EXCEPTION"
   ]
  },
  {
   "cell_type": "code",
   "execution_count": 1,
   "metadata": {
    "collapsed": false
   },
   "outputs": [
    {
     "name": "stdout",
     "output_type": "stream",
     "text": [
      "integer division or modulo by zero\n"
     ]
    }
   ],
   "source": [
    "try:\n",
    "    1/0\n",
    "except Exception,e:\n",
    "    print str(e)"
   ]
  },
  {
   "cell_type": "code",
   "execution_count": null,
   "metadata": {
    "collapsed": true
   },
   "outputs": [],
   "source": []
  }
 ],
 "metadata": {
  "kernelspec": {
   "display_name": "Python 2",
   "language": "python",
   "name": "python2"
  },
  "language_info": {
   "codemirror_mode": {
    "name": "ipython",
    "version": 2
   },
   "file_extension": ".py",
   "mimetype": "text/x-python",
   "name": "python",
   "nbconvert_exporter": "python",
   "pygments_lexer": "ipython2",
   "version": "2.7.10"
  }
 },
 "nbformat": 4,
 "nbformat_minor": 0
}
