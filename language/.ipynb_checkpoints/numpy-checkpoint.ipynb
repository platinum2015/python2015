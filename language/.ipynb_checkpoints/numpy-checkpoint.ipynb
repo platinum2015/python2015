{
 "metadata": {
  "name": "",
  "signature": "sha256:a847f0bc2a87b075a2b26922109374e92b7d49180480b0793e1ec51f05be702e"
 },
 "nbformat": 3,
 "nbformat_minor": 0,
 "worksheets": [
  {
   "cells": [
    {
     "cell_type": "code",
     "collapsed": false,
     "input": [
      "################################################################################\n",
      "#    N U M   P Y     (NUmerical PYthon)                                        #\n",
      "#    http://docs.scipy.org/doc/numpy/user/index.html                           #\n",
      "################################################################################\n",
      "''' Arrays and Vectorized Computation\n",
      "http://docs.scipy.org/doc/numpy/user/index.html#user\n",
      "-Fast vectorized array operations for data munging and cleaning, subsetting and\n",
      "    filtering, transformation, and any other kinds of computations\n",
      "-Common array algorithms like sorting, unique, and set operations\n",
      "- Efficient descriptive statistics and aggregating/summarizing data\n",
      "- Data alignment and relational data manipulations for merging and joining together\n",
      "    heterogeneous data sets\n",
      "- Expressing conditional logic as array expressions instead of loops with if-elifelse\n",
      "    branches\n",
      "- Group-wise data manipulations (aggregation, transformation, function application).\n",
      "\n",
      "MATRICI\n",
      "    in tuta sta pippa ricorda che  AxB<> BxA\n",
      "    (3,5) -->(ROWS;COLUMNS)\n",
      "    ADDITION\n",
      "        must have  same DIM\n",
      "        A(i,j) + B(i,j) --> C(i,j) = Aij+Bij for all ij\n",
      "    MULTIPLICATION\n",
      "        for scalar easy\n",
      "        for matrici\n",
      "            si fa : riga per colonna\n",
      "\n",
      "             mul every  A row  x every B col\n",
      "             so A(i,j)  B(l,m)\n",
      "                j must be = l\n",
      "                C=AxB  C has  i ROWS and m COLS\n",
      "                A(i,j)  x B(l,m) = A(i,m)\n",
      "         Identity Matrix: I * A = A\n",
      "                   1 0\n",
      "                   0 1\n",
      "              3X3\n",
      "                 100\n",
      "                 010\n",
      "                 001\n",
      "              \n",
      "         Inverts:   1/A   -->> calcollca con pc se no is a mess\n",
      "\n",
      "     DETERMINANT\n",
      "            \u00e8 il fattore con cui vengono modificati i volumi degli oggetti contenuti nello spazio. Se \u00e8 diverso da zero, il segno del determinante indica inoltre se la trasformazione A preserva o cambia l'orientazione dello spazio rispetto agli assi di riferimento.\n",
      "\n",
      "EIGENVALUES\n",
      "    A(n,n)\n",
      "    Eigenvector X\n",
      "    Lambda (scalar dr\n",
      "\n",
      "            A x = lambda x\n",
      "\n",
      "\n",
      "            Esempio\n",
      "            Eigenvector (2,1)\n",
      "            A ((3,2),(3,-2))\n",
      "            lambda = 4\n",
      "\n",
      "'''\n",
      "\n",
      "#PROPERTIES ndarray\n",
      "ndarray.shape\n",
      "ndarray.dtype\n",
      "ndarray.ndim\n",
      "\n",
      "array\n",
      "asarray #copy from anotthe rarray\n",
      "arange\n",
      "ones,ones_loke   #like copy shape from another one\n",
      "zero_zero_like #like copy shape from another one\n",
      "\n",
      "#INDEXING\n",
      "#Basic Indexing and Slicing\n",
      "#arr[5:8] a SLICE is a pointer a View cjange the data and u change orgi data\n",
      "#1Dim (is like a list)\n",
      "arr[5:8] = 12#interval assignment\n",
      "arr_slice[:] = 64#assign all\n",
      "#if u really want to copy a slice u need to do it explicitly otherwise is a pointer\n",
      "arr[5:8].copy().\n",
      "#            N-Dim\n",
      "arr2d = np.array([[1, 2, 3], [4, 5, 6], [7, 8, 9]])\n",
      "arr2d[2] #Out[63]: array([7, 8, 9])\n",
      "arr2d[0][2] #Out[64]: 3\n",
      "arr2d[0, 2]\n",
      "#            Slicing a 2D\n",
      "\n",
      "n [78]: arr2d[:2, 1:] #Out[78]: array([[2, 3],\n",
      "            [5, 6]])\n",
      "\n",
      "\n",
      "\n",
      "\n",
      "#Expressing Conditional Logic as Array Operations\n",
      "In [140]: xarr = np.array([1.1, 1.2, 1.3, 1.4, 1.5]) In [141]: yarr = np.array([2.1, 2.2, 2.3, 2.4, 2.5]) In [142]: cond = np.array([True, False, True, True, False])\n",
      "save u writin loop and  boos performance\n",
      "uniq-->distinct\n",
      "\n",
      "\n",
      "#SORT\n",
      "ndarray sort change the actual data\n",
      "#numpy.sort creates a new varary\n",
      "#sort na lista al conttrario\n",
      "values[::-1]\n",
      "#ordine alfabetico\n",
      "sorter = np.lexsort((first_name, last_name))          \t"
     ],
     "language": "python",
     "metadata": {},
     "outputs": []
    },
    {
     "cell_type": "code",
     "collapsed": false,
     "input": [],
     "language": "python",
     "metadata": {},
     "outputs": []
    },
    {
     "cell_type": "heading",
     "level": 1,
     "metadata": {},
     "source": [
      "1D"
     ]
    },
    {
     "cell_type": "code",
     "collapsed": false,
     "input": [
      "data=np.zeros((3, 6))\n",
      "data=data+1\n",
      "data\n",
      "\n"
     ],
     "language": "python",
     "metadata": {},
     "outputs": [
      {
       "metadata": {},
       "output_type": "pyout",
       "prompt_number": 3,
       "text": [
        "array([[ 1.,  1.,  1.,  1.,  1.,  1.],\n",
        "       [ 1.,  1.,  1.,  1.,  1.,  1.],\n",
        "       [ 1.,  1.,  1.,  1.,  1.,  1.]])"
       ]
      }
     ],
     "prompt_number": 3
    },
    {
     "cell_type": "code",
     "collapsed": false,
     "input": [
      "myrange =  np.arange(start=0,stop=10,step=0.5) #start 0 , 10 elements\n",
      "myrange  "
     ],
     "language": "python",
     "metadata": {},
     "outputs": [
      {
       "metadata": {},
       "output_type": "pyout",
       "prompt_number": 6,
       "text": [
        "array([ 0. ,  0.5,  1. ,  1.5,  2. ,  2.5,  3. ,  3.5,  4. ,  4.5,  5. ,\n",
        "        5.5,  6. ,  6.5,  7. ,  7.5,  8. ,  8.5,  9. ,  9.5])"
       ]
      }
     ],
     "prompt_number": 6
    },
    {
     "cell_type": "code",
     "collapsed": false,
     "input": [
      "#index 1 dim\n",
      "# :   to the LEFT --> TILL n Excluded \n",
      "# :   to the RIGHT --> FROM n Included\n",
      "\n",
      "myrange[5:8] \n",
      "#range[5:8] =21  ASSIGN 21 to index 5 6 7 8 \n",
      "\n",
      "myrange =  np.arange(start=0,stop=10,step=1) \n",
      "print(' :n --> Till nth excluded '+ str(myrange[:5] ))\n",
      "print(' n: --> From nth included '+ str(myrange[5:] ))\n"
     ],
     "language": "python",
     "metadata": {},
     "outputs": [
      {
       "output_type": "stream",
       "stream": "stdout",
       "text": [
        " :n --> Till nth excluded [0 1 2 3 4]\n",
        " n: --> From nth included [5 6 7 8 9]\n"
       ]
      }
     ],
     "prompt_number": 62
    },
    {
     "cell_type": "code",
     "collapsed": false,
     "input": [
      "import numpy as np\n",
      "#Boolean Index slice\n",
      "'''\n",
      "Prim Key      -- Data\n",
      "X1               row 1                    \n",
      "X2               row 2\n",
      "X3               row 3\n",
      "Xn               row n\n",
      "\n",
      "if X K has the property return row K\n",
      "\n",
      "'''\n",
      "#                 X1      X2    X3       X4    X5       X6    X7\n",
      "names = np.array(['Bob', 'Joe', 'Will', 'Bob', 'Will', 'Joe', 'Joe'])\n",
      "print('All names',names)\n",
      "print('Names equals bob ',names == 'Bob')\n",
      "# ROWS\n",
      "data = randn(7, 4)\n",
      "print('all data',data)\n",
      "print('data whose index has Bob',data[names == 'Bob'])\n",
      "\n",
      "\n",
      "\n"
     ],
     "language": "python",
     "metadata": {},
     "outputs": [
      {
       "output_type": "stream",
       "stream": "stdout",
       "text": [
        "('All names', array(['Bob', 'Joe', 'Will', 'Bob', 'Will', 'Joe', 'Joe'], \n",
        "      dtype='|S4'))\n",
        "('Names equals bob ', array([ True, False, False,  True, False, False, False], dtype=bool))\n",
        "('all data', array([[ 0.3423552 ,  0.71932883,  0.5392676 ,  0.49289618],\n",
        "       [ 0.31139746, -1.2298394 ,  0.35744512, -1.41823087],\n",
        "       [-0.92261111, -0.43681377,  0.05003922, -0.11061106],\n",
        "       [ 1.75732226, -0.05934843,  0.90451341,  1.99937844],\n",
        "       [-0.66697278, -0.55853576, -0.79682682, -0.75711432],\n",
        "       [ 1.49986722, -0.48626236, -0.2241936 ,  1.29677347],\n",
        "       [ 0.25015664, -0.37964525,  0.09112429,  0.71183064]]))\n",
        "('data whose index has Bob', array([[ 0.3423552 ,  0.71932883,  0.5392676 ,  0.49289618],\n",
        "       [ 1.75732226, -0.05934843,  0.90451341,  1.99937844]]))\n"
       ]
      },
      {
       "metadata": {},
       "output_type": "pyout",
       "prompt_number": 81,
       "text": [
        "array([[ 0,  1,  2,  3],\n",
        "       [ 4,  5,  6,  7],\n",
        "       [ 8,  9, 10, 11],\n",
        "       [12, 13, 14, 15],\n",
        "       [16, 17, 18, 19],\n",
        "       [20, 21, 22, 23],\n",
        "       [24, 25, 26, 27],\n",
        "       [28, 29, 30, 31]])"
       ]
      }
     ],
     "prompt_number": 81
    },
    {
     "cell_type": "heading",
     "level": 1,
     "metadata": {},
     "source": [
      "2D"
     ]
    },
    {
     "cell_type": "code",
     "collapsed": false,
     "input": [
      "#CREATE\n",
      "data2 = [[1, 2, 3, 4], \n",
      "         [5, 6, 7, 8]]\n",
      "arr_2dim = np.array(data2)\n",
      "arr_2dim\n",
      "\n",
      "#index 2 dim\n",
      "# :   to the LEFT --> TILL n Excluded \n",
      "# :   to the RIGHT --> FROM n Included\n",
      "arr_2d = np.array([\n",
      "[1, 2, 3],\n",
      "[4, 5, 6],\n",
      "[7, 8, 9]         ])\n",
      "\n",
      "arr_2d[2]#Row 3\n",
      "print(arr_2d[2][0],'Row 3 Col 1')#Row 3 Col 1\n",
      "print(arr_2d[2,0],'Row 3 Col 1')#Row 3 Col 1  aLTERNATe syntax\n",
      "\n",
      "\n",
      "#Slicing\n",
      "print(arr_2d[:1, :1],' Till row 2 excluded , till column 2 included')\n",
      "print(arr_2d[1:, 1:] ,'FROM row 2 included, FROM col 2 included')\n",
      "print(arr_2d[1,  2:],'#Exactly Row 1 , From column 2 included')\n",
      "print(arr_2d[:, :1],  'ALL  Rows, till  Column 1 excluded')\n",
      "\n",
      "\n",
      "#Fancy indexing\n",
      "#Fancy indexing (integers)\n",
      "arr = np.arange(32).reshape((8, 4))\n",
      "print('Ith element',arr[[4, 3, 0, 6]]  )#Row 4, 3, 0, 6\n",
      "print('Ith element from RIGHT',arr[[-1, -2, -3]]  )#Row [-0, -5, -7] from right\n",
      "#return 1d :select elements Xi,Yi   Xk,Yk    etc\n",
      "print('elemen 1,0 / 5,3 /  7,1   / 2,2  ',arr[[1, 5, 7, 2], [0, 3, 1, 2]])\n",
      "print('region reordered (2 methods)',arr[[1, 5, 7, 2]][:, [0, 3, 1, 2]]\n",
      ",arr[np.ix_([1, 5, 7, 2], [0, 3, 1, 2])]\n",
      ")"
     ],
     "language": "python",
     "metadata": {},
     "outputs": [
      {
       "output_type": "stream",
       "stream": "stdout",
       "text": [
        "(7, 'Row 3 Col 1')\n",
        "(7, 'Row 3 Col 1')\n",
        "(array([[1]]), ' Till row 2 excluded , till column 2 included')\n",
        "(array([[5, 6],\n",
        "       [8, 9]]), 'FROM row 2 included, FROM col 2 included')\n",
        "(array([6]), '#Exactly Row 1 , From column 2 included')\n",
        "(array([[1],\n",
        "       [4],\n",
        "       [7]]), 'ALL  Rows, till  Column 1 excluded')\n",
        "('Ith element', array([[16, 17, 18, 19],\n",
        "       [12, 13, 14, 15],\n",
        "       [ 0,  1,  2,  3],\n",
        "       [24, 25, 26, 27]]))\n",
        "('Ith element from RIGHT', array([[28, 29, 30, 31],\n",
        "       [24, 25, 26, 27],\n",
        "       [20, 21, 22, 23]]))\n",
        "('elemen 1,0 / 5,3 /  7,1   / 2,2  ', array([ 4, 23, 29, 10]))\n",
        "('region reordered (2 methods)', array([[ 4,  7,  5,  6],\n",
        "       [20, 23, 21, 22],\n",
        "       [28, 31, 29, 30],\n",
        "       [ 8, 11,  9, 10]]), array([[ 4,  7,  5,  6],\n",
        "       [20, 23, 21, 22],\n",
        "       [28, 31, 29, 30],\n",
        "       [ 8, 11,  9, 10]]))\n"
       ]
      }
     ],
     "prompt_number": 88
    },
    {
     "cell_type": "code",
     "collapsed": false,
     "input": [],
     "language": "python",
     "metadata": {},
     "outputs": []
    },
    {
     "cell_type": "code",
     "collapsed": false,
     "input": [
      "INDEX 3D"
     ],
     "language": "python",
     "metadata": {},
     "outputs": []
    },
    {
     "cell_type": "code",
     "collapsed": false,
     "input": [
      "# :   to the LEFT --> TILL n Excluded \n",
      "# :   to the RIGHT --> FROM n Included\n",
      "\n",
      "\n",
      "arr_3d = np.array(\n",
      "[\n",
      "  [\n",
      "    [1,2,3],\n",
      "    [4,5,6],\n",
      "    [7,8,9]\n",
      "  ],\n",
      "  [\n",
      "    [11,12,13],\n",
      "    [14,15,16],\n",
      "    [17,18,19]\n",
      "  ],\n",
      "  [\n",
      "    [21,22,23],\n",
      "    [24,25,26],\n",
      "    [27,28,29]\n",
      "  ]\n",
      "]\n",
      "                  )\n",
      "\n",
      "arr_3d[0]#Row 3\n",
      "print(arr_3d[0],'Row 1',arr_3d.ndim,arr_3d.shape)#Row 3 \n",
      "print(arr_3d[0,1],'Row 1 Subrow 2',arr_3d.ndim,arr_3d.shape)#Row 3  subrow1\n"
     ],
     "language": "python",
     "metadata": {},
     "outputs": [
      {
       "output_type": "stream",
       "stream": "stdout",
       "text": [
        "(array([[1, 2, 3],\n",
        "       [4, 5, 6],\n",
        "       [7, 8, 9]]), 'Row 1', 3, (3, 3, 3))\n",
        "(array([4, 5, 6]), 'Row 1 Subrow 2', 3, (3, 3, 3))\n"
       ]
      }
     ],
     "prompt_number": 44
    },
    {
     "cell_type": "code",
     "collapsed": false,
     "input": [
      "#random:\n",
      "data = {i : mp.randn() for i in range(7)}\n",
      "data"
     ],
     "language": "python",
     "metadata": {},
     "outputs": [
      {
       "ename": "TypeError",
       "evalue": "'numpy.ndarray' object is not callable",
       "output_type": "pyerr",
       "traceback": [
        "\u001b[1;31m---------------------------------------------------------------------------\u001b[0m\n\u001b[1;31mTypeError\u001b[0m                                 Traceback (most recent call last)",
        "\u001b[1;32m<ipython-input-70-59f26514d0b9>\u001b[0m in \u001b[0;36m<module>\u001b[1;34m()\u001b[0m\n\u001b[0;32m      1\u001b[0m \u001b[1;31m#random:\u001b[0m\u001b[1;33m\u001b[0m\u001b[1;33m\u001b[0m\u001b[0m\n\u001b[1;32m----> 2\u001b[1;33m \u001b[0mdata\u001b[0m \u001b[1;33m=\u001b[0m \u001b[1;33m{\u001b[0m\u001b[0mi\u001b[0m \u001b[1;33m:\u001b[0m \u001b[0mmp\u001b[0m\u001b[1;33m.\u001b[0m\u001b[0mrandn\u001b[0m\u001b[1;33m(\u001b[0m\u001b[1;33m)\u001b[0m \u001b[1;32mfor\u001b[0m \u001b[0mi\u001b[0m \u001b[1;32min\u001b[0m \u001b[0mrange\u001b[0m\u001b[1;33m(\u001b[0m\u001b[1;36m7\u001b[0m\u001b[1;33m)\u001b[0m\u001b[1;33m}\u001b[0m\u001b[1;33m\u001b[0m\u001b[0m\n\u001b[0m\u001b[0;32m      3\u001b[0m \u001b[0mdata\u001b[0m\u001b[1;33m\u001b[0m\u001b[0m\n",
        "\u001b[1;31mTypeError\u001b[0m: 'numpy.ndarray' object is not callable"
       ]
      }
     ],
     "prompt_number": 70
    },
    {
     "cell_type": "code",
     "collapsed": false,
     "input": [
      "arr = np.arange(15).reshape((3, 5))\n",
      "arr"
     ],
     "language": "python",
     "metadata": {},
     "outputs": [
      {
       "metadata": {},
       "output_type": "pyout",
       "prompt_number": 89,
       "text": [
        "array([[ 0,  1,  2,  3,  4],\n",
        "       [ 5,  6,  7,  8,  9],\n",
        "       [10, 11, 12, 13, 14]])"
       ]
      }
     ],
     "prompt_number": 89
    },
    {
     "cell_type": "code",
     "collapsed": false,
     "input": [
      "arr.T"
     ],
     "language": "python",
     "metadata": {},
     "outputs": [
      {
       "metadata": {},
       "output_type": "pyout",
       "prompt_number": 90,
       "text": [
        "array([[ 0,  5, 10],\n",
        "       [ 1,  6, 11],\n",
        "       [ 2,  7, 12],\n",
        "       [ 3,  8, 13],\n",
        "       [ 4,  9, 14]])"
       ]
      }
     ],
     "prompt_number": 90
    },
    {
     "cell_type": "heading",
     "level": 1,
     "metadata": {},
     "source": [
      "AXIS"
     ]
    },
    {
     "cell_type": "code",
     "collapsed": false,
     "input": [
      "import matplotlib.pyplot as plt\n",
      "points = np.arange(-5, 5, 0.01) # 1000 equally spaced points\n",
      "xs, ys = np.meshgrid(points, points*2)\n",
      "ys\n",
      "\n",
      "\n",
      "z = np.sqrt(xs ** 2 + ys ** 2)\n",
      "z\n",
      "plt.imshow(z, cmap=plt.cm.gray); plt.colorbar()\n",
      "plt.title(\"Image plot of $\\sqrt{x^2 + y^2}$ for a grid of values\")"
     ],
     "language": "python",
     "metadata": {},
     "outputs": [
      {
       "metadata": {},
       "output_type": "pyout",
       "prompt_number": 96,
       "text": [
        "<matplotlib.text.Text at 0xb5194f0>"
       ]
      },
      {
       "metadata": {},
       "output_type": "display_data",
       "png": "[encoded data removed]",
       "text": [
        "<matplotlib.figure.Figure at 0x5afd7b0>"
       ]
      }
     ],
     "prompt_number": 96
    },
    {
     "cell_type": "heading",
     "level": 1,
     "metadata": {},
     "source": [
      "STAT"
     ]
    },
    {
     "cell_type": "code",
     "collapsed": false,
     "input": [
      "arr = np.random.randn(5, 4) # normally-distributed data\n",
      "print(arr)\n",
      "print ( \" DATA SET stats :Mean:\" + str (arr.mean()) #+ \":\"+str(np.mean(arr))\n",
      "+ \" sum:\"+str(arr.sum())\n",
      "+ \" std:\"+str(arr.std())\n",
      "+ \" var:\"+str(arr.var())\n",
      "+ \" min:\"+str(arr.min())\n",
      "+ \" max:\"+str(arr.max())\n",
      ")\n",
      "\n",
      "print ( \" ROW level STAT:\" \n",
      " \" Mean for each ROW :\"+str(arr.mean(axis=1))\n",
      "+ \"  row sum :\"+str(arr.sum(0))\n",
      ")"
     ],
     "language": "python",
     "metadata": {},
     "outputs": [
      {
       "output_type": "stream",
       "stream": "stdout",
       "text": [
        "[[-2.93054363 -1.98926749 -1.42140422  0.39760596]\n",
        " [-0.23355066 -0.26480371  1.61659936 -0.5457284 ]\n",
        " [-1.80741546 -1.24873207  0.29242287  0.40496106]\n",
        " [-1.50629654  0.66491931  0.53505071  0.38618149]\n",
        " [-1.95420693 -0.65300758 -0.02719016 -0.44625701]]\n",
        " DATA SET stats :Mean:-0.536533156411 sum:-10.7306631282 std:1.11062037993 var:1.23347762832 min:-2.9305436319 max:1.61659935815\n",
        " ROW level STAT: Mean for each ROW :[-1.48590235  0.14312915 -0.5896909   0.01996374 -0.77016542]  row sum :[-8.43201323 -3.49089154  0.99547856  0.19676309]\n"
       ]
      }
     ],
     "prompt_number": 105
    },
    {
     "cell_type": "code",
     "collapsed": false,
     "input": [
      "\n",
      "arr = np.array([[0, 1, 2], [3, 4, 5], [6, 7, 8]])\n",
      "#CUM xyz : INTERMEDIATE  RESULTS\n",
      "print(\"cumsum:\",arr.cumsum(0) )    #ROW N = SUM of previous row \n",
      "print(\"cumprod:\",arr.cumprod(1) )  #ROW N = prod of previous row "
     ],
     "language": "python",
     "metadata": {},
     "outputs": [
      {
       "output_type": "stream",
       "stream": "stdout",
       "text": [
        "('cumsum:', array([[ 0,  1,  2],\n",
        "       [ 3,  5,  7],\n",
        "       [ 9, 12, 15]]))\n",
        "('cumprod:', array([[  0,   0,   0],\n",
        "       [  3,  12,  60],\n",
        "       [  6,  42, 336]]))\n"
       ]
      }
     ],
     "prompt_number": 104
    },
    {
     "cell_type": "heading",
     "level": 1,
     "metadata": {},
     "source": [
      "FILES"
     ]
    },
    {
     "cell_type": "code",
     "collapsed": false,
     "input": [
      "#Dump as .npy (binary format)..unuseful...\n",
      "arr = np.arange(10)\n",
      "#default dir C:\\Users\\p155121\\AppData\\Roaming\\Enthought\\Canopy\\ipython_notebooks\n",
      "np.save('H:\\some_array', arr)"
     ],
     "language": "python",
     "metadata": {},
     "outputs": [],
     "prompt_number": 109
    },
    {
     "cell_type": "code",
     "collapsed": false,
     "input": [
      "#Load txt\n",
      "arr_out = np.loadtxt('H:\\Technology\\python\\Dataset\\numpyload.txt', delimiter=';')"
     ],
     "language": "python",
     "metadata": {},
     "outputs": [
      {
       "ename": "IOError",
       "evalue": "[Errno 2] No such file or directory: 'H:\\\\Technology\\\\python\\\\Dataset\\numpyload.txt'",
       "output_type": "pyerr",
       "traceback": [
        "\u001b[1;31m---------------------------------------------------------------------------\u001b[0m\n\u001b[1;31mIOError\u001b[0m                                   Traceback (most recent call last)",
        "\u001b[1;32m<ipython-input-120-36fb2671833c>\u001b[0m in \u001b[0;36m<module>\u001b[1;34m()\u001b[0m\n\u001b[0;32m      1\u001b[0m \u001b[1;31m#Load txt\u001b[0m\u001b[1;33m\u001b[0m\u001b[1;33m\u001b[0m\u001b[0m\n\u001b[1;32m----> 2\u001b[1;33m \u001b[0marr_out\u001b[0m \u001b[1;33m=\u001b[0m \u001b[0mnp\u001b[0m\u001b[1;33m.\u001b[0m\u001b[0mloadtxt\u001b[0m\u001b[1;33m(\u001b[0m\u001b[1;34m'H:\\Technology\\python\\Dataset\\numpyload.txt'\u001b[0m\u001b[1;33m,\u001b[0m \u001b[0mdelimiter\u001b[0m\u001b[1;33m=\u001b[0m\u001b[1;34m';'\u001b[0m\u001b[1;33m)\u001b[0m\u001b[1;33m\u001b[0m\u001b[0m\n\u001b[0m",
        "\u001b[1;32mC:\\Users\\p155121\\AppData\\Local\\Enthought\\Canopy32\\User\\lib\\site-packages\\numpy\\lib\\npyio.pyc\u001b[0m in \u001b[0;36mloadtxt\u001b[1;34m(fname, dtype, comments, delimiter, converters, skiprows, usecols, unpack, ndmin)\u001b[0m\n\u001b[0;32m    732\u001b[0m                 \u001b[0mfh\u001b[0m \u001b[1;33m=\u001b[0m \u001b[0miter\u001b[0m\u001b[1;33m(\u001b[0m\u001b[0mbz2\u001b[0m\u001b[1;33m.\u001b[0m\u001b[0mBZ2File\u001b[0m\u001b[1;33m(\u001b[0m\u001b[0mfname\u001b[0m\u001b[1;33m)\u001b[0m\u001b[1;33m)\u001b[0m\u001b[1;33m\u001b[0m\u001b[0m\n\u001b[0;32m    733\u001b[0m             \u001b[1;32melif\u001b[0m \u001b[0msys\u001b[0m\u001b[1;33m.\u001b[0m\u001b[0mversion_info\u001b[0m\u001b[1;33m[\u001b[0m\u001b[1;36m0\u001b[0m\u001b[1;33m]\u001b[0m \u001b[1;33m==\u001b[0m \u001b[1;36m2\u001b[0m\u001b[1;33m:\u001b[0m\u001b[1;33m\u001b[0m\u001b[0m\n\u001b[1;32m--> 734\u001b[1;33m                 \u001b[0mfh\u001b[0m \u001b[1;33m=\u001b[0m \u001b[0miter\u001b[0m\u001b[1;33m(\u001b[0m\u001b[0mopen\u001b[0m\u001b[1;33m(\u001b[0m\u001b[0mfname\u001b[0m\u001b[1;33m,\u001b[0m \u001b[1;34m'U'\u001b[0m\u001b[1;33m)\u001b[0m\u001b[1;33m)\u001b[0m\u001b[1;33m\u001b[0m\u001b[0m\n\u001b[0m\u001b[0;32m    735\u001b[0m             \u001b[1;32melse\u001b[0m\u001b[1;33m:\u001b[0m\u001b[1;33m\u001b[0m\u001b[0m\n\u001b[0;32m    736\u001b[0m                 \u001b[0mfh\u001b[0m \u001b[1;33m=\u001b[0m \u001b[0miter\u001b[0m\u001b[1;33m(\u001b[0m\u001b[0mopen\u001b[0m\u001b[1;33m(\u001b[0m\u001b[0mfname\u001b[0m\u001b[1;33m)\u001b[0m\u001b[1;33m)\u001b[0m\u001b[1;33m\u001b[0m\u001b[0m\n",
        "\u001b[1;31mIOError\u001b[0m: [Errno 2] No such file or directory: 'H:\\\\Technology\\\\python\\\\Dataset\\numpyload.txt'"
       ]
      }
     ],
     "prompt_number": 120
    },
    {
     "cell_type": "code",
     "collapsed": false,
     "input": [
      "\n",
      "#BROADCATING\n",
      "arithmetic works between arrays of different shapes\n",
      "According to the broadcasting rule, the \u201cbroadcast dimensions\u201d must be 1 in the smaller array.\n",
      "scalar cab broadcast 5*arr1\n",
      "to broadcast a N-Dim u need that first dim is 1\n",
      "\n",
      "Esempi\n",
      "   to a  (3,5)   u can BROADCASTa (1,5)\n",
      "    to a (7,4,9) u can BROADCASTa (1,4,9)\n",
      "\n",
      "#CASTING to other types\n",
      "float_arr = arr.astype(np.float64)\n",
      "# Vector operation arr1+arr1\n",
      "            \n"
     ],
     "language": "python",
     "metadata": {},
     "outputs": []
    },
    {
     "cell_type": "heading",
     "level": 2,
     "metadata": {},
     "source": [
      "UFUNC LAMBDA Func"
     ]
    },
    {
     "cell_type": "code",
     "collapsed": false,
     "input": [
      "#UFUNC\n",
      "#            funtion that operates on all eelement of ndarray\n",
      "arr =  np.arange(start=1,stop=11,step=1) #start 0 , 10 elements\n",
      "arr \n",
      "#np.sqrt(arr) abs log sign  etc"
     ],
     "language": "python",
     "metadata": {},
     "outputs": [
      {
       "metadata": {},
       "output_type": "pyout",
       "prompt_number": 7,
       "text": [
        "array([ 1,  2,  3,  4,  5,  6,  7,  8,  9, 10])"
       ]
      }
     ],
     "prompt_number": 7
    },
    {
     "cell_type": "code",
     "collapsed": false,
     "input": [
      "print( np.sqrt(arr)  )\n",
      "print( np.abs(arr)  )\n",
      "print( np.log(arr)  )\n",
      "\n"
     ],
     "language": "python",
     "metadata": {},
     "outputs": [
      {
       "output_type": "stream",
       "stream": "stdout",
       "text": [
        "[ 1.          1.41421356  1.73205081  2.          2.23606798  2.44948974\n",
        "  2.64575131  2.82842712  3.          3.16227766]\n",
        "[ 1  2  3  4  5  6  7  8  9 10]\n",
        "[ 0.          0.69314718  1.09861229  1.38629436  1.60943791  1.79175947\n",
        "  1.94591015  2.07944154  2.19722458  2.30258509]\n"
       ]
      }
     ],
     "prompt_number": 9
    },
    {
     "cell_type": "heading",
     "level": 2,
     "metadata": {},
     "source": [
      "Matrix"
     ]
    },
    {
     "cell_type": "code",
     "collapsed": false,
     "input": [
      "q_data=     [[0.333,0.333,0.333,0],\n",
      "             [0,0.5,0.5,0],\n",
      "             [0,1,0,0],\n",
      "             [0.5,0,0,0.5]\n",
      "             ]\n",
      "Q_matrix = np.matrix(q_data)\n",
      "print('Q_matrix:')\n",
      "print(Q_matrix)\n"
     ],
     "language": "python",
     "metadata": {},
     "outputs": [
      {
       "output_type": "stream",
       "stream": "stdout",
       "text": [
        "Q_matrix:\n",
        "[[ 0.333  0.333  0.333  0.   ]\n",
        " [ 0.     0.5    0.5    0.   ]\n",
        " [ 0.     1.     0.     0.   ]\n",
        " [ 0.5    0.     0.     0.5  ]]\n"
       ]
      }
     ],
     "prompt_number": 15
    },
    {
     "cell_type": "code",
     "collapsed": false,
     "input": [
      "#MATRIX operation\n",
      "          Union DIff Intersect\n",
      "            mean\n",
      "\n",
      "            diag \n",
      "            \tReturn the diagonal (or off-diagonal) elements of a square matrix as a 1D array, or convert a 1D array into a square matrix with zeros on the off-diagonal\n",
      "            dot \n",
      "            \tMatrix multiplication trace Compute the sum of the diagonal elements det Compute the matrix determinant eig Compute the eigenvalues and eigenvectors of a square matrix inv Compute the inverse of a square matrix pinv Compute the Moore-Penrose pseudo-inverse inverse of a square matrix qr Compute the QR decomposition svd Compute the singular value decomposition (SVD) solve Solve the linear system Ax = b for x, where A is a square matrix lstsq Compute the least-squares solution to y = Xb\n",
      "            "
     ],
     "language": "python",
     "metadata": {},
     "outputs": []
    }
   ],
   "metadata": {}
  }
 ]
}