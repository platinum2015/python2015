{
 "metadata": {
  "name": "",
  "signature": "sha256:903a9bda698b0a02ee6dcc808d23f27f4095c08220e73841693a6ec473a142fc"
 },
 "nbformat": 3,
 "nbformat_minor": 0,
 "worksheets": [
  {
   "cells": [
    {
     "cell_type": "markdown",
     "metadata": {},
     "source": [
      "#debug and test"
     ]
    },
    {
     "cell_type": "code",
     "collapsed": false,
     "input": [
      "import pdb\n",
      "print(\"at (Pdb)  input : \\n \\\n",
      "n  for next command  \\n \\\n",
      "q quit \\n \\\n",
      "p print variable \\n \\\n",
      "c continue \\n \\\n",
      "s step into\\n \\\n",
      "l list \\n \\\n",
      "ENTER repeat your last entra (n,typically) \\n \\\n",
      "\" )\n",
      "x=10\n",
      "y=100\n",
      "pdb.set_trace()\n",
      "z=1000\n",
      "print('x is:%i' % x)"
     ],
     "language": "python",
     "metadata": {},
     "outputs": []
    }
   ],
   "metadata": {}
  }
 ]
}