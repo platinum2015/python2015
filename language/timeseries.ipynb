{
 "metadata": {
  "name": "",
  "signature": "sha256:992e07b0cb8006d840b1358009de8508e7ad207556260996a79da3e3ec4baeb6"
 },
 "nbformat": 3,
 "nbformat_minor": 0,
 "worksheets": [
  {
   "cells": [
    {
     "cell_type": "heading",
     "level": 1,
     "metadata": {},
     "source": [
      "-Timestamps\n",
      "-Fixed periods (month January 2007 or the full year 2010)\n",
      "- Intervals (start /stop)\n",
      "-Experiment or elapsed time; each timestamp is a measure of time relative to a particular start time. \n",
      "\n",
      "Types in datetime module\n",
      "date Store calendar date (year, month, day) using the Gregorian calendar.\n",
      "time Store time of day as hours, minutes, seconds, and microseconds\n",
      "datetime Stores both date and time\n",
      "timedelta Represents the difference between two datetime values (as days, seconds, and micro- seconds)"
     ]
    },
    {
     "cell_type": "code",
     "collapsed": false,
     "input": [
      "from datetime import datetime\n",
      "now = datetime.now()\n",
      "now\n",
      "now.year, \n",
      "now.month, \n",
      "now.day \n"
     ],
     "language": "python",
     "metadata": {},
     "outputs": [
      {
       "metadata": {},
       "output_type": "pyout",
       "prompt_number": 1,
       "text": [
        "datetime.datetime(2015, 4, 25, 16, 42, 45, 537893)"
       ]
      }
     ],
     "prompt_number": 1
    },
    {
     "cell_type": "code",
     "collapsed": false,
     "input": [
      "#Format\n",
      "print now.strftime('We are the %d, %b %Y')"
     ],
     "language": "python",
     "metadata": {},
     "outputs": [
      {
       "output_type": "stream",
       "stream": "stdout",
       "text": [
        "We are the 25, Apr 2015\n"
       ]
      }
     ],
     "prompt_number": 7
    },
    {
     "cell_type": "code",
     "collapsed": false,
     "input": [
      "#Time diff\n",
      "delta = datetime(2011, 1, 7) - datetime(2008, 6, 24, 8, 15)\n",
      "delta\n",
      "delta.days "
     ],
     "language": "python",
     "metadata": {},
     "outputs": [
      {
       "metadata": {},
       "output_type": "pyout",
       "prompt_number": 4,
       "text": [
        "926"
       ]
      }
     ],
     "prompt_number": 4
    },
    {
     "cell_type": "code",
     "collapsed": false,
     "input": [
      "# Str TO Date\n",
      "value = '2011-01-03'\n",
      "datetime.strptime(value, '%Y-%m-%d')\n",
      "datestrs = ['7/6/2011', '8/6/2011']#array of date\n",
      "[datetime.strptime(x, '%m/%d/%Y') for x in datestrs]\n",
      "\n",
      "# dateutil package\n",
      "from dateutil.parser import parse\n",
      "parse('2011-01-03')\n",
      "parse('6/12/2011', dayfirst=True)\n",
      "\n",
      "# in Panda\n",
      "import pandas as pd\n",
      "pd.to_datetime(datestrs)"
     ],
     "language": "python",
     "metadata": {},
     "outputs": [
      {
       "metadata": {},
       "output_type": "pyout",
       "prompt_number": 15,
       "text": [
        "<class 'pandas.tseries.index.DatetimeIndex'>\n",
        "[2011-07-06, 2011-08-06]\n",
        "Length: 2, Freq: None, Timezone: None"
       ]
      }
     ],
     "prompt_number": 15
    },
    {
     "cell_type": "code",
     "collapsed": false,
     "input": [
      "import numpy as np\n",
      "from datetime import datetime\n",
      "dates = [datetime(2011, 1, 2)\n",
      "       , datetime(2011, 1, 5),\n",
      "         datetime(2011, 1, 7),\n",
      "         datetime(2011, 1, 8),\n",
      "         datetime(2011, 1, 10),\n",
      "         datetime(2011, 1, 12)]\n",
      "ts = pd.Series(np.random.randn(6), index=dates)\n",
      "ts"
     ],
     "language": "python",
     "metadata": {},
     "outputs": [
      {
       "metadata": {},
       "output_type": "pyout",
       "prompt_number": 22,
       "text": [
        "2011-01-02    0.428436\n",
        "2011-01-05   -0.016899\n",
        "2011-01-07   -0.272941\n",
        "2011-01-08    0.645339\n",
        "2011-01-10    1.267763\n",
        "2011-01-12    1.698318\n",
        "dtype: float64"
       ]
      }
     ],
     "prompt_number": 22
    },
    {
     "cell_type": "heading",
     "level": 1,
     "metadata": {},
     "source": [
      "# Indexing, Selection, Subsetting"
     ]
    },
    {
     "cell_type": "code",
     "collapsed": false,
     "input": [
      "# TimeSeries is a subclass of Series\n",
      "stamp = ts.index[2]\n",
      "ts[stamp]"
     ],
     "language": "python",
     "metadata": {},
     "outputs": [
      {
       "metadata": {},
       "output_type": "pyout",
       "prompt_number": 23,
       "text": [
        "-0.27294092490515731"
       ]
      }
     ],
     "prompt_number": 23
    },
    {
     "cell_type": "code",
     "collapsed": false,
     "input": [
      "ts['1/10/2011']"
     ],
     "language": "python",
     "metadata": {},
     "outputs": [
      {
       "metadata": {},
       "output_type": "pyout",
       "prompt_number": 24,
       "text": [
        "1.2677626893710494"
       ]
      }
     ],
     "prompt_number": 24
    },
    {
     "cell_type": "code",
     "collapsed": false,
     "input": [
      "# 3 anni\n",
      "longer_ts =pd.Series(np.random.randn(1000), \n",
      "                   index=pd.date_range('1/1/2000', periods=1000))\n",
      "longer_ts"
     ],
     "language": "python",
     "metadata": {},
     "outputs": [
      {
       "metadata": {},
       "output_type": "pyout",
       "prompt_number": 26,
       "text": [
        "2000-01-01    1.455442\n",
        "2000-01-02    0.336559\n",
        "2000-01-03    0.365002\n",
        "2000-01-04   -0.626676\n",
        "2000-01-05    0.052926\n",
        "2000-01-06    0.231136\n",
        "2000-01-07    0.505614\n",
        "2000-01-08    1.060599\n",
        "2000-01-09   -0.386586\n",
        "2000-01-10    0.285246\n",
        "2000-01-11   -0.242793\n",
        "2000-01-12    0.174135\n",
        "2000-01-13    0.896429\n",
        "2000-01-14    0.261123\n",
        "2000-01-15    1.112015\n",
        "...\n",
        "2002-09-12   -0.203317\n",
        "2002-09-13   -0.494049\n",
        "2002-09-14    1.012072\n",
        "2002-09-15   -1.481472\n",
        "2002-09-16   -0.216683\n",
        "2002-09-17   -0.256215\n",
        "2002-09-18    0.435806\n",
        "2002-09-19   -0.082696\n",
        "2002-09-20   -1.201041\n",
        "2002-09-21   -1.327260\n",
        "2002-09-22   -0.369056\n",
        "2002-09-23    0.351135\n",
        "2002-09-24   -1.042335\n",
        "2002-09-25   -1.189589\n",
        "2002-09-26   -2.038287\n",
        "Freq: D, Length: 1000"
       ]
      }
     ],
     "prompt_number": 26
    },
    {
     "cell_type": "code",
     "collapsed": false,
     "input": [
      "#slicing \n",
      "ts['1/6/2011':'1/11/2011']"
     ],
     "language": "python",
     "metadata": {},
     "outputs": [
      {
       "metadata": {},
       "output_type": "pyout",
       "prompt_number": 27,
       "text": [
        "2011-01-07   -0.272941\n",
        "2011-01-08    0.645339\n",
        "2011-01-10    1.267763\n",
        "dtype: float64"
       ]
      }
     ],
     "prompt_number": 27
    },
    {
     "cell_type": "code",
     "collapsed": false,
     "input": [
      "#truncate \n",
      "ts.truncate(after='1/5/2011')"
     ],
     "language": "python",
     "metadata": {},
     "outputs": [
      {
       "metadata": {},
       "output_type": "pyout",
       "prompt_number": 34,
       "text": [
        "2011-01-02    0.428436\n",
        "2011-01-05   -0.016899\n",
        "dtype: float64"
       ]
      }
     ],
     "prompt_number": 34
    },
    {
     "cell_type": "heading",
     "level": 1,
     "metadata": {},
     "source": [
      "Date Ranges, Frequencies, and Shifting"
     ]
    },
    {
     "cell_type": "code",
     "collapsed": false,
     "input": [
      "#resample:fill if missing some intevals\n",
      "ts.resample('D')"
     ],
     "language": "python",
     "metadata": {},
     "outputs": [
      {
       "metadata": {},
       "output_type": "pyout",
       "prompt_number": 35,
       "text": [
        "2011-01-02    0.428436\n",
        "2011-01-03         NaN\n",
        "2011-01-04         NaN\n",
        "2011-01-05   -0.016899\n",
        "2011-01-06         NaN\n",
        "2011-01-07   -0.272941\n",
        "2011-01-08    0.645339\n",
        "2011-01-09         NaN\n",
        "2011-01-10    1.267763\n",
        "2011-01-11         NaN\n",
        "2011-01-12    1.698318\n",
        "Freq: D, dtype: float64"
       ]
      }
     ],
     "prompt_number": 35
    },
    {
     "cell_type": "code",
     "collapsed": false,
     "input": [
      "ts.resample('D').truncate(after='1/5/2011')"
     ],
     "language": "python",
     "metadata": {},
     "outputs": [
      {
       "metadata": {},
       "output_type": "pyout",
       "prompt_number": 38,
       "text": [
        "2011-01-02    0.428436\n",
        "2011-01-03         NaN\n",
        "2011-01-04         NaN\n",
        "2011-01-05   -0.016899\n",
        "Freq: D, dtype: float64"
       ]
      }
     ],
     "prompt_number": 38
    },
    {
     "cell_type": "heading",
     "level": 1,
     "metadata": {},
     "source": [
      "Generates Dates interval\n"
     ]
    },
    {
     "cell_type": "code",
     "collapsed": false,
     "input": [
      "pd.date_range(end='1/1/2015', periods=20)#\n",
      "pd.date_range('1/1/2000', '1/3/2000 23:59', freq='4h')# 4 Hours\n",
      "Alias\n",
      "D\n",
      "B\n",
      "H\n",
      "T or min S\n",
      "L or ms U\n",
      "M\n",
      "BM\n",
      "MS\n",
      "BMS\n",
      "W-MON, W-TUE, ...\n",
      "WOM-1MON, WOM-2MON, ...\n",
      "Q-JAN, Q-FEB, ...\n",
      "BQ-JAN, BQ-FEB, ...\n",
      "QS-JAN, QS-FEB, ...\n",
      "BQS-JAN, BQS-FEB, ...\n",
      "A-JAN, A-FEB, ...\n",
      "BA-JAN, BA-FEB, ...\n",
      "AS-JAN, AS-FEB, ...\n",
      "BAS-JAN, BAS-FEB, ...\n",
      "Offset Type\n",
      "Day\n",
      "BusinessDay\n",
      "Hour\n",
      "Minute\n",
      "Second\n",
      "Milli\n",
      "Micro\n",
      "MonthEnd BusinessMonthEnd MonthBegin BusinessMonthBegin Week\n",
      "WeekOfMonth QuarterEnd\n",
      "BusinessQuarterEnd QuarterBegin BusinessQuarterBegin YearEnd\n",
      "BusinessYearEnd YearBegin BusinessYearBegin\n",
      "Description\n",
      "Calendar daily\n",
      "Business daily\n",
      "Hourly\n",
      "Minutely\n",
      "Secondly\n",
      "Millisecond (1/1000th of 1 second) Microsecond (1/1000000th of 1 second) Last calendar day of month\n",
      "Last business day (weekday) of month\n",
      "First calendar day of month\n",
      "First weekday of month\n",
      "Weekly on given day of week: MON, TUE, WED, THU, FRI, SAT, or SUN.\n",
      "Generate weekly dates in the first, second, third, or fourth week of the month. For example, WOM-3FRI for the 3rd Friday of each month.\n",
      "Quarterly dates anchored on last calendar day of each month, for year ending in indicated month: JAN, FEB, MAR, APR, MAY, JUN, JUL, AUG, SEP, OCT, NOV, or DEC.\n",
      "Quarterly dates anchored on last weekday day of each month, for year ending in indicated month\n",
      "Quarterly dates anchored on first calendar day of each month, for year ending in indicated month\n",
      "Quarterly dates anchored on first weekday day of each month, for year ending in indicated month\n",
      "Annual dates anchored on last calendar day of given month: JAN, FEB, MAR, APR, MAY, JUN, JUL, AUG, SEP, OCT, NOV, or DEC.\n",
      "Annual dates anchored on last weekday of given month Annual dates anchored on first day of given month Annual dates anchored on first weekday of given month"
     ],
     "language": "python",
     "metadata": {},
     "outputs": [
      {
       "metadata": {},
       "output_type": "pyout",
       "prompt_number": 40,
       "text": [
        "<class 'pandas.tseries.index.DatetimeIndex'>\n",
        "[2014-12-13, ..., 2015-01-01]\n",
        "Length: 20, Freq: D, Timezone: None"
       ]
      }
     ],
     "prompt_number": 40
    },
    {
     "cell_type": "heading",
     "level": 1,
     "metadata": {},
     "source": [
      "TIME ZONE HANDLING\n",
      "better to work with UTC\n"
     ]
    },
    {
     "cell_type": "code",
     "collapsed": false,
     "input": [
      "import pytz\n",
      "pytz.common_timezones[-1:]\n",
      "#tz = pytz.timezone('US/Eastern')"
     ],
     "language": "python",
     "metadata": {},
     "outputs": [
      {
       "metadata": {},
       "output_type": "pyout",
       "prompt_number": 41,
       "text": [
        "['UTC']"
       ]
      }
     ],
     "prompt_number": 41
    },
    {
     "cell_type": "heading",
     "level": 1,
     "metadata": {},
     "source": [
      "Periods and Period Arithmetic"
     ]
    }
   ],
   "metadata": {}
  }
 ]
}