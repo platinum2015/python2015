{
 "cells": [
  {
   "cell_type": "markdown",
   "metadata": {
    "collapsed": false
   },
   "source": [
    "#N U M   P Y     (NUmerical PYthon)   Arrays and Vectorized Computation\n",
    " - http://docs.scipy.org/doc/numpy/user/index.html                           \n",
    " - http://www.sam.math.ethz.ch/~raoulb/teaching/PythonTutorial/intro_numpy.html\n",
    "\n",
    "<hr>\n",
    "-Fast <b>(Written in C !!!!)</b>vectorized array operations for data munging and cleaning, subsetting and   filtering, transformation, and any other kinds of computations\n",
    "-Common array algorithms like sorting, unique, and set operations\n",
    "- Efficient descriptive statistics and aggregating/summarizing data\n",
    "- Data alignment and relational data manipulations for merging and joining together    heterogeneous data sets\n",
    "- Expressing conditional logic as array expressions instead of loops with if-elifelse    branches\n",
    "- Group-wise data manipulations (aggregation, transformation, function application).\n",
    "\n",
    "##contents\n",
    "- [create](#create)     [range](#range)  [indexing and slicing](#indexing)\n",
    "- [assignment](#assignment)[casting](#casting) [broadcasting](#broadcasting)   [concatenate](#concatenate)  [deepcopy](#deepcopy) \n",
    "- [stats](#stats) [samples](#samples)\n",
    "- [rand](#rand)\n",
    "- [file](#file)\n",
    "\n",
    "- PRODUCT scalar & arr*arr (hadamard)    \n",
    "\n",
    "##Expressing Conditional Logic as Array Operations\n",
    "In [140]: xarr = np.array([1.1, 1.2, 1.3, 1.4, 1.5]) In [141]: yarr = np.array([2.1, 2.2, 2.3, 2.4, 2.5]) In [142]: cond = np.array([True, False, True, True, False])\n",
    "save u writin loop and  boos performance\n",
    "uniq-->distinct\n",
    "\n"
   ]
  },
  {
   "cell_type": "markdown",
   "metadata": {},
   "source": [
    "<a id=\"create\"></a>\n",
    "<hr>\n",
    "## CREATE"
   ]
  },
  {
   "cell_type": "code",
   "execution_count": 2,
   "metadata": {
    "collapsed": false
   },
   "outputs": [
    {
     "name": "stdout",
     "output_type": "stream",
     "text": [
      "Creating arrays:\n",
      "[ 0.          0.33333333  0.66666667  1.        ]\n"
     ]
    }
   ],
   "source": [
    "import numpy as np\n",
    "print('from a list')\n",
    "x = np.array([1,2,3,4,5]) #Create a 1D array based on a list\n",
    "print('zero  ----')\n",
    "x = np.zeros(10) #Create a 1-D array of 10 zeros\n",
    "x = np.zeros(10).reshape(5,2) #Create a 5 row times 2 column matrix of zeros\n",
    "\n",
    "print('zeros_like  ---- copy from an array but set all values 0')\n",
    "print(array_zeros_like)\n",
    "print('one  ----')\n",
    "x = np.ones([5,2]) #Create a 5 row times 2 column matrix of 1s\n",
    "print('ones_like  ---- copy from an array but set all values 1')\n",
    "print(array_ones_like)\n",
    "array_empty = np.empty((2, 2))\n",
    "print('empty  ----')\n",
    "print(array_empty)\n",
    "array_emptys_like = np.empty_like(tmp_ar)\n",
    "print('emptys_like  ---- copy from an array but DONT set any values 1 (actually GARBAGE)')\n",
    "print(array_emptys_like)\n",
    "print('linespace')\n",
    "print (np.linspace(0,1,4)) #Create a 1-D array from 0 to 1 included with 10 equidistant floats\n",
    "x = np.linspace(0,360,90) # angle from 0 to 360 every 4 degrees\n",
    "y = np.sin(x*np.pi/180) # need to convert from deg to radian\n",
    "\n",
    "\n",
    "\n",
    "#Deciding the type of the array\n",
    "#http://docs.scipy.org/doc/numpy/reference/arrays.scalars.html#arrays-scalars-built-in\n",
    "data=np.zeros(( 3    # Row m\n",
    "               ,3)   # Cols n\n",
    "              ,dtype=int\n",
    "              )\n",
    "data.dtype\n",
    "\n"
   ]
  },
  {
   "cell_type": "markdown",
   "metadata": {},
   "source": [
    "##describe"
   ]
  },
  {
   "cell_type": "code",
   "execution_count": 7,
   "metadata": {
    "collapsed": false
   },
   "outputs": [
    {
     "name": "stdout",
     "output_type": "stream",
     "text": [
      "type <type 'numpy.ndarray'>\n",
      "D-type float64\n",
      "ndim 2\n",
      "shape (2, 5)\n"
     ]
    }
   ],
   "source": [
    "data = np.array(          #infers the data type\n",
    "        [\n",
    "            [6,7.5,8,0,1],\n",
    "            [3,4,9,0,2]\n",
    "        ]\n",
    "        )\n",
    "print \"type\" , type(data)\n",
    "print \"D-type\" , data.dtype\n",
    "print \"ndim\" , data.ndim\n",
    "print \"shape\" , data.shape"
   ]
  },
  {
   "cell_type": "markdown",
   "metadata": {},
   "source": [
    "<a id=\"range\"></a>\n",
    "<hr>\n",
    "###range"
   ]
  },
  {
   "cell_type": "code",
   "execution_count": 28,
   "metadata": {
    "collapsed": false
   },
   "outputs": [
    {
     "name": "stdout",
     "output_type": "stream",
     "text": [
      "(start=0,stop=5,step=0.5):0.0,0.5,1.0,1.5,2.0,2.5,3.0,3.5,4.0,4.5\n",
      "range(10):0,1,2,3,4,5,6,7,8,9\n",
      "range(0,10,2):0,2,4,6,8\n",
      "range(10,0,-2):10,8,6,4,2\n"
     ]
    }
   ],
   "source": [
    "print('(start=0,stop=5,step=0.5):' + \\\n",
    "      ','.join(  str(x) for x in np.arange(start=0,stop=5,step=0.5)))\n",
    "print('range(10):' + ','.join(str(x) for x in range(10)))\n",
    "print('range(0,10,2):' + ','.join(str(x) for x in range(0,10,2)))\n",
    "print('range(10,0,-2):' + ','.join(str(x) for x in range(10,0,-2)))\n",
    "print(\"right is not INCLUDED!!!!!!!!!\",range(10)"
   ]
  },
  {
   "cell_type": "markdown",
   "metadata": {},
   "source": [
    "<a id=\"casting\"></a>\n",
    "## CASTING"
   ]
  },
  {
   "cell_type": "code",
   "execution_count": 53,
   "metadata": {
    "collapsed": false
   },
   "outputs": [
    {
     "name": "stdout",
     "output_type": "stream",
     "text": [
      "orig\n",
      "['1.25' '-9.6' '42']\n",
      "casted\n",
      "[  1.25  -9.6   42.  ]\n"
     ]
    }
   ],
   "source": [
    "numeric_strings = np.array(['1.25', '-9.6', '42'], dtype=np.string_)\n",
    "casted=numeric_strings.astype(float)#IT always generate a new array \n",
    "print('orig')\n",
    "print(numeric_strings)\n",
    "print('casted')\n",
    "print(casted)"
   ]
  },
  {
   "cell_type": "markdown",
   "metadata": {},
   "source": [
    "<a id=\"indexing\"></a>\n",
    "<hr>\n",
    "## INDEXING and SLICING\n",
    "- Indexing : single value or even a whole set of values\n",
    "- Slicing  : whole rows, columns or other rectangular (hypercubic) subregions"
   ]
  },
  {
   "cell_type": "markdown",
   "metadata": {},
   "source": [
    "####INDEXING"
   ]
  },
  {
   "cell_type": "code",
   "execution_count": 17,
   "metadata": {
    "collapsed": false
   },
   "outputs": [
    {
     "name": "stdout",
     "output_type": "stream",
     "text": [
      "4th 3rd last 3 7\n",
      "ROW 1,COLUMN 0 100\n",
      "    Select * from T1 where rowid = yxz\n",
      "[1000 2000 3000]\n",
      "    Select * from T1 where rowid between 0 and K\n",
      "[[10 20 30]]\n",
      "    Select * from T1 where rowid between K and max\n",
      "[[ 100  200  300]\n",
      " [1000 2000 3000]]\n",
      "    Select  * from T1  where rowid between M and N-1\n",
      "[[ 10  20  30]\n",
      " [100 200 300]]\n",
      "    Select col1,col2,coln from T1 where rowid between K and max\n",
      "[[ 20  30]\n",
      " [200 300]]\n"
     ]
    }
   ],
   "source": [
    "import numpy as np\n",
    "l = np.arange(9)\n",
    "arr2d = np.array([\n",
    "                    [10, 20, 30], \n",
    "                    [100, 200, 300],\n",
    "                    [1000, 2000, 3000]\n",
    "                   ])\n",
    "print \"4th 3rd last\",l[3], l[-2]\n",
    "print \"ROW 1,COLUMN 0\",arr2d[1][0] #alternate syntax   :arr2d[1,0]\n"
   ]
  },
  {
   "cell_type": "code",
   "execution_count": 15,
   "metadata": {
    "collapsed": false
   },
   "outputs": [
    {
     "name": "stdout",
     "output_type": "stream",
     "text": [
      "['Bob' 'Joe' 'Will' 'Bob' 'Will' 'Joe' 'Joe']\n",
      "[[ 1  2  3  4]\n",
      " [ 5  6  7  8]\n",
      " [ 9 10 11 12]\n",
      " [13 14 15 16]\n",
      " [17 18 19 20]\n",
      " [21 22 23 24]\n",
      " [25 26 27 28]]\n",
      "Select * from T1 where names == Bob\n",
      "[[ 1  2  3  4]\n",
      " [13 14 15 16]]\n",
      "Select * from T1 where names <> Bob\n",
      "[[ 5  6  7  8]\n",
      " [ 9 10 11 12]\n",
      " [17 18 19 20]\n",
      " [21 22 23 24]\n",
      " [25 26 27 28]]\n",
      "Select * from T1 where names = bob OR  names =will\n",
      "[[ 1  2  3  4]\n",
      " [ 9 10 11 12]\n",
      " [13 14 15 16]\n",
      " [17 18 19 20]]\n"
     ]
    }
   ],
   "source": [
    "#  thea array becomes an index/rowid  to select\n",
    "#  bob  -  <col1,col2,col3>\n",
    "#  john -  <col1,col2,col3>\n",
    "#  bob  -  <col1,col2,col3>\n",
    "#  tim  -  <col1,col2,col3>\n",
    "#  nick -  <col1,col2,col3>\n",
    "\n",
    "names = np.array(['Bob', 'Joe', 'Will', 'Bob', 'Will', 'Joe', 'Joe'])\n",
    "data = arr = np.arange(start=1,stop=29,step=1 ).reshape((7, 4))\n",
    "\n",
    "print(names)\n",
    "print(data)\n",
    "\n",
    "my_idx_keys=names == 'Bob'\n",
    "print(\"Select * from T1 where names == Bob\")\n",
    "print(data[my_idx_keys])\n",
    "print(\"Select * from T1 where names <> Bob\")\n",
    "print(data[-(names == 'Bob')])\n",
    "\n",
    "print(\"Select * from T1 where names = bob OR  names =will\")\n",
    "mask = (names == 'Bob') | (names == 'Will')\n",
    "print(data[mask])"
   ]
  },
  {
   "cell_type": "code",
   "execution_count": 25,
   "metadata": {
    "collapsed": false
   },
   "outputs": [
    {
     "name": "stdout",
     "output_type": "stream",
     "text": [
      "FANCY  INDEXING ----------------\n",
      "[[ 0  1  2  3]\n",
      " [ 4  5  6  7]\n",
      " [ 8  9 10 11]\n",
      " [12 13 14 15]\n",
      " [16 17 18 19]\n",
      " [20 21 22 23]\n",
      " [24 25 26 27]\n",
      " [28 29 30 31]]\n",
      "Funny Reeordering ....\n",
      "   Select I1J0 from T1 UNION Select I5J3 from T1 UNION Select I7J1  from T1 UNION I1J0 Select I2J2  from T1 \n",
      "[ 4 23 29 10]\n",
      "Select col0,col3,col1,col2 from T1 where rowid in (1,5,7,2)\n",
      "[[ 4  7  5  6]\n",
      " [20 23 21 22]\n",
      " [28 31 29 30]\n",
      " [ 8 11  9 10]]\n",
      " Keep in mind that fancy indexing, unlike slicing, always copies the data into a new array.\n"
     ]
    }
   ],
   "source": [
    "print('FANCY  INDEXING ----------------')\n",
    "arr = np.arange(32).reshape((8, 4))\n",
    "print(arr)\n",
    "print('Funny Reeordering ....')\n",
    "print('   Select I1J0 from T1 UNION Select I5J3 from T1 UNION Select I7J1  from T1 UNION I1J0 Select I2J2  from T1 ')\n",
    "print(arr[[1, 5, 7, 2], [0, 3, 1, 2]])\n",
    "print('Select col0,col3,col1,col2 from T1 where rowid in (1,5,7,2)')\n",
    "print( arr[np.ix_([1, 5, 7, 2], [0, 3, 1, 2])])\n",
    "print(' Keep in mind that fancy indexing, unlike slicing, always copies the data into a new array.')"
   ]
  },
  {
   "cell_type": "markdown",
   "metadata": {},
   "source": [
    "####SLICING"
   ]
  },
  {
   "cell_type": "code",
   "execution_count": 36,
   "metadata": {
    "collapsed": false
   },
   "outputs": [
    {
     "name": "stdout",
     "output_type": "stream",
     "text": [
      "ROW 1 COLUMN all [5 6 7 8]\n",
      "ROW 0 [1 2 3 4]\n",
      "ROWS all - COLUMN 0 [[ 1]\n",
      " [ 5]\n",
      " [ 9]\n",
      " [13]]\n",
      "ROWS 1,2 - COLUMN all [[ 5  6  7  8]\n",
      " [ 9 10 11 12]]\n",
      "ROW 1,2 - COLUMN 1,2 [[ 6  7]\n",
      " [10 11]]\n",
      "ROW till 1 - COLUMN all [[1 2 3 4]]\n",
      "ROW  from 1 - COLUMN all [[ 5  6  7  8]\n",
      " [ 9 10 11 12]\n",
      " [13 14 15 16]]\n",
      "ROW from0 till 2 - COLUMN all [[1 2 3 4]\n",
      " [5 6 7 8]]\n",
      "ROW  till 2 - COLUMN from 1 [[2 3 4]\n",
      " [6 7 8]]\n",
      "---- non contigue\n",
      "ROW  all COLUMN 0,2,3 [[ 1  3  4]\n",
      " [ 5  7  8]\n",
      " [ 9 11 12]\n",
      " [13 15 16]]\n",
      "ROW  0 and 2 COLUMN all [[ 1  2  3  4]\n",
      " [ 9 10 11 12]]\n",
      "ROW  0 and 1 and 2 COLUMN 0 and 1 [1 8]\n",
      "perculo [ 3  7 11 15]\n"
     ]
    }
   ],
   "source": [
    "arr2d = np.array([\n",
    "                    [1, 2, 3,4], \n",
    "                    [5, 6,7,8],\n",
    "                    [9,10,11,12],\n",
    "                    [13,14,15,16]\n",
    "                   ])\n",
    "print \"ROW 1 COLUMN all\",arr2d[1,:]\n",
    "print \"ROW 0\",arr2d[0] \n",
    "print \"ROWS all - COLUMN 0\",arr2d[:,0:1]\n",
    "print \"ROWS 1,2 - COLUMN all\",arr2d[1:3,:] \n",
    "print \"ROW 1,2 - COLUMN 1,2\",arr2d[1:3,1:3] \n",
    "print \"ROW till 1 - COLUMN all\",arr2d[:1]\n",
    "print \"ROW  from 1 - COLUMN all\",arr2d[1:] \n",
    "print \"ROW from0 till 2 - COLUMN all\",arr2d[0:2] \n",
    "print \"ROW  till 2 - COLUMN from 1\",arr2d[:2, 1:]\n",
    "print \"---- non contigue\"\n",
    "print \"ROW  all COLUMN 0,2,3\",arr2d[:, (0,2,3)]#select col1,col9,col12\n",
    "print \"ROW  0 and 2 COLUMN all\",arr2d[(0,2),:] \n",
    "print \"ROW  0 and 1 and 2 COLUMN 0 and 1\",arr2d[(0,1),(0,3)] \n",
    "#print \"ROW COLUMN\",arr2d[]\n",
    "\n",
    "print \"perculo\",arr2d[0::,2]"
   ]
  },
  {
   "cell_type": "markdown",
   "metadata": {},
   "source": [
    "<a id=\"assignment\"></a>\n",
    "<hr>\n",
    "## ASSIGNMENT"
   ]
  },
  {
   "cell_type": "code",
   "execution_count": 77,
   "metadata": {
    "collapsed": false
   },
   "outputs": [
    {
     "name": "stdout",
     "output_type": "stream",
     "text": [
      "Assign same value to interval: \n",
      "[  0 100 100 100 100   5   6   7   8   9]\n",
      "Slices are VIEWS data are not copied: \n",
      "[     0      1      2      3 100000]\n",
      "[     3 100000]\n",
      "Copy must be Explicit: copy() \n",
      "[     0      1      2      3 100000]\n",
      "[  3 999]\n"
     ]
    }
   ],
   "source": [
    "#Assign same value to interval\n",
    "arr_assign        = np.arange(start=0,stop=10,step=1) \n",
    "arr_assign[1:5]=100\n",
    "print('Assign same value to interval: ')\n",
    "print(arr_assign)\n",
    "\n",
    "#VERY IMPORTANT::: SLICES as VIEWS: Data are not copied...\n",
    "print('Slices are VIEWS data are not copied: ')\n",
    "orginal_array = np.arange(start=0,stop=5,step=1) \n",
    "just_a_view   = orginal_array[3:5]\n",
    "just_a_view[1]=100000\n",
    "print(orginal_array)\n",
    "print(just_a_view)\n",
    "\n",
    "print('Copy must be Explicit: copy() ')\n",
    "a_copy=orginal_array[3:5].copy()\n",
    "a_copy[1]=999\n",
    "print(orginal_array)\n",
    "print(a_copy)\n"
   ]
  },
  {
   "cell_type": "markdown",
   "metadata": {},
   "source": [
    "<a id=\"concatenate\"></a>\n",
    "<hr>\n",
    "##concatenate"
   ]
  },
  {
   "cell_type": "code",
   "execution_count": 4,
   "metadata": {
    "collapsed": false
   },
   "outputs": [
    {
     "name": "stdout",
     "output_type": "stream",
     "text": [
      "[  1   2   3   4   5 100 200 300 400 500] horizontally\n",
      "[[  1   2   3   4   5]\n",
      " [100 200 300 400 500]] vertically\n"
     ]
    }
   ],
   "source": [
    "import numpy as np\n",
    "x = np.array([1,2,3,4,5]) \n",
    "y = np.array([100,200,300,400,500]) \n",
    "print  np.hstack([x,y]) , \"horizontally\"\n",
    "print  np.vstack([x,y]) , \"vertically\""
   ]
  },
  {
   "cell_type": "markdown",
   "metadata": {},
   "source": [
    "<a id=\"stats\"></a>\n",
    "## STATISTIC"
   ]
  },
  {
   "cell_type": "code",
   "execution_count": 6,
   "metadata": {
    "collapsed": false
   },
   "outputs": [
    {
     "name": "stdout",
     "output_type": "stream",
     "text": [
      "all components SUM\n",
      "45\n",
      "    cumulative  all compo SUM \n",
      "[ 1  3  6 10 15 21 28 36 45]\n",
      "Column SUM\n",
      "[12 15 18]\n",
      "  Cumulative Column SUM\n",
      "[[ 1  2  3]\n",
      " [ 5  7  9]\n",
      " [12 15 18]]\n",
      "Row SUM\n",
      "[ 6 15 24]\n",
      "  Cumulative Row SUM\n",
      "[[ 1  3  6]\n",
      " [ 4  9 15]\n",
      " [ 7 15 24]]\n",
      "Mean\n",
      "('mean', 5.0)\n",
      "('mean x COLUMNS', array([ 4.,  5.,  6.]))\n",
      "('mean x ROWS', array([ 2.,  5.,  8.]))\n",
      "Std\n",
      "2.58198889747\n",
      "Var\n",
      "6.66666666667\n",
      "Min\n",
      "1\n",
      "Max\n",
      "9\n",
      "argmin argmax\n",
      "0\n",
      "8\n"
     ]
    },
    {
     "data": {
      "text/plain": [
       "1"
      ]
     },
     "execution_count": 6,
     "metadata": {},
     "output_type": "execute_result"
    }
   ],
   "source": [
    "import numpy as np\n",
    "arr2d = np.array(\n",
    "            [\n",
    "                [1, 2, 3],\n",
    "                [4, 5, 6],\n",
    "                [7, 8, 9]\n",
    "            ])\n",
    "print(\"all components SUM\",arr2d.sum())\n",
    "print(\"    cumulative  all compo SUM \")\n",
    "print(arr2d.cumsum())\n",
    "print(\"Column SUM\")\n",
    "print(arr2d.sum(axis=0))\n",
    "print(\"  Cumulative Column SUM\")\n",
    "print(arr2d.cumsum(0))\n",
    "\n",
    "print(\"Row SUM\")\n",
    "print(arr2d.sum(axis=1))\n",
    "print(\"  Cumulative Row SUM\")\n",
    "print(arr2d.cumsum(1))\n",
    "\n",
    "\n",
    "print(\"Mean\")\n",
    "print(\"mean\",arr2d.mean())\n",
    "print(\"mean x COLUMNS\",arr2d.mean(axis=0))\n",
    "print(\"mean x ROWS\",arr2d.mean(axis=1))\n",
    "\n",
    "\n",
    "\n",
    "print(\"Std\")\n",
    "print(arr2d.std())\n",
    "print(\"Var\")\n",
    "print(arr2d.var() )\n",
    "print(\"Min\" )\n",
    "\n",
    "\n",
    "x.sum() #or np.sum(x)\n",
    "x.min() #or np.min(x), x.max() or np.max(x)"
   ]
  },
  {
   "cell_type": "markdown",
   "metadata": {},
   "source": [
    "###MIN / MAX"
   ]
  },
  {
   "cell_type": "code",
   "execution_count": 8,
   "metadata": {
    "collapsed": false
   },
   "outputs": [
    {
     "name": "stdout",
     "output_type": "stream",
     "text": [
      "min,max 1 9  and relative indexes 0 8\n"
     ]
    }
   ],
   "source": [
    "print\"min,max\",arr2d.min(),arr2d.max(), \" and relative indexes\",arr2d.argmin(),arr2d.argmax()\n",
    "\n"
   ]
  },
  {
   "cell_type": "markdown",
   "metadata": {},
   "source": [
    "##samples\n",
    "<a id=\"samples\"></a>"
   ]
  },
  {
   "cell_type": "code",
   "execution_count": 36,
   "metadata": {
    "collapsed": false
   },
   "outputs": [
    {
     "name": "stdout",
     "output_type": "stream",
     "text": [
      "[ 0.11747568 -1.30176441  0.07702372 -1.11745575  0.85342322  0.09951258\n",
      "  0.12625283 -0.20728576  0.96098674 -0.48822726]\n",
      "[ 0.23531628  0.62871771  0.6159521   0.39539102  0.03070102  0.98375703\n",
      "  0.34302233  0.19098522  0.46489593  0.11166428]\n"
     ]
    }
   ],
   "source": [
    "samples = np.random.normal(size=(10))\n",
    "print(samples)\n",
    "samples = np.random.uniform(size=(10))\n",
    "print(samples)\n",
    "binomial Draw samples a binomial distribution\n",
    "normal Draw samples from a normal (Gaussian) distribution\n",
    "beta Draw samples from a beta distribution\n",
    "chisquare Draw samples from a chi-square distribution\n",
    "gamma Draw samples from a gamma distribution\n",
    "uniform Draw samples from a uniform [0, 1) distribution"
   ]
  },
  {
   "cell_type": "code",
   "execution_count": 31,
   "metadata": {
    "collapsed": false
   },
   "outputs": [
    {
     "name": "stdout",
     "output_type": "stream",
     "text": [
      "('Number of positive values', 46)\n",
      "('bools.any() tests whether one or more values in an array is True', True)\n",
      "('bools.all()  while all checks if every value is True', True)\n"
     ]
    }
   ],
   "source": [
    "arr = randn(100)\n",
    "print('Number of positive values', (arr > 0).sum()) \n",
    "bools = np.array([False, False, True, False])\n",
    "print('bools.any() tests whether one or more values in an array is True',bools.any())\n",
    "print('bools.all()  while all checks if every value is True',bools.any())\n",
    "\n"
   ]
  },
  {
   "cell_type": "markdown",
   "metadata": {},
   "source": [
    "<a id=\"rand\"></a>\n",
    "<hr>\n",
    "# RANDOM"
   ]
  },
  {
   "cell_type": "code",
   "execution_count": 33,
   "metadata": {
    "collapsed": false
   },
   "outputs": [
    {
     "name": "stdout",
     "output_type": "stream",
     "text": [
      "1 loops, best of 3: 1.85 s per loop\n",
      "10 loops, best of 3: 58.1 ms per loop\n"
     ]
    }
   ],
   "source": [
    "from random import normalvariate\n",
    "N = 1000000\n",
    "%timeit samples = [normalvariate(0, 1) for _ in xrange(N)]\n",
    "%timeit np.random.normal(size=N)\n"
   ]
  },
  {
   "cell_type": "code",
   "execution_count": null,
   "metadata": {
    "collapsed": false
   },
   "outputs": [],
   "source": [
    "\n",
    "seed Seed the random number generator\n",
    "permutation Return a random permutation of a sequence, or return a permuted range\n",
    "shuffle Randomly permute a sequence in place\n",
    "rand Draw samples from a uniform distribution\n",
    "randint Draw random integers from a given low-to-high range\n",
    "randn Draw samples from a normal distribution with mean 0 and standard deviation 1 (MATLAB-like interface)\n"
   ]
  },
  {
   "cell_type": "markdown",
   "metadata": {},
   "source": [
    "<a id=\"file\"></a>\n",
    "<hr>\n",
    "# FILES"
   ]
  },
  {
   "cell_type": "code",
   "execution_count": 109,
   "metadata": {
    "collapsed": false
   },
   "outputs": [],
   "source": [
    "#Dump as .npy (binary format)..unuseful...\n",
    "arr = np.arange(10)\n",
    "#default dir C:\\Users\\p155121\\AppData\\Roaming\\Enthought\\Canopy\\ipython_notebooks\n",
    "np.save('H:\\some_array', arr)"
   ]
  },
  {
   "cell_type": "markdown",
   "metadata": {},
   "source": [
    "##BROADCATING\n",
    "<a id=\"broadcasting\"></a>"
   ]
  },
  {
   "cell_type": "code",
   "execution_count": null,
   "metadata": {
    "collapsed": false
   },
   "outputs": [],
   "source": [
    "\n",
    "#BROADCATING\n",
    "arithmetic works between arrays of different shapes\n",
    "According to the broadcasting rule, the “broadcast dimensions” must be 1 in the smaller array.\n",
    "scalar cab broadcast 5*arr1\n",
    "to broadcast a N-Dim u need that first dim is 1\n",
    "\n",
    "Esempi\n",
    "   to a  (3,5)   u can BROADCASTa (1,5)\n",
    "    to a (7,4,9) u can BROADCASTa (1,4,9)\n",
    "\n",
    "#CASTING to other types\n",
    "float_arr = arr.astype(np.float64)\n",
    "# Vector operation arr1+arr1\n",
    "            \n"
   ]
  }
 ],
 "metadata": {
  "kernelspec": {
   "display_name": "Python 2",
   "language": "python",
   "name": "python2"
  },
  "language_info": {
   "codemirror_mode": {
    "name": "ipython",
    "version": 2
   },
   "file_extension": ".py",
   "mimetype": "text/x-python",
   "name": "python",
   "nbconvert_exporter": "python",
   "pygments_lexer": "ipython2",
   "version": "2.7.10"
  }
 },
 "nbformat": 4,
 "nbformat_minor": 0
}
