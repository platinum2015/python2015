{
 "metadata": {
  "name": "",
  "signature": "sha256:84565075a49b293ddc9e65a3972a0635e8a27137a997ac5575e8a1962fcca1dd"
 },
 "nbformat": 3,
 "nbformat_minor": 0,
 "worksheets": [
  {
   "cells": [
    {
     "cell_type": "code",
     "collapsed": false,
     "input": [
      "N U M   P Y     (NUmerical PYthon)   Arrays and Vectorized Computation\n",
      "http://docs.scipy.org/doc/numpy/user/index.html                           \n",
      "\n",
      "''' \n",
      "-Fast vectorized array operations for data munging and cleaning, subsetting and   filtering, transformation, and any other kinds of computations\n",
      "-Common array algorithms like sorting, unique, and set operations\n",
      "- Efficient descriptive statistics and aggregating/summarizing data\n",
      "- Data alignment and relational data manipulations for merging and joining together    heterogeneous data sets\n",
      "- Expressing conditional logic as array expressions instead of loops with if-elifelse    branches\n",
      "- Group-wise data manipulations (aggregation, transformation, function application).\n",
      "\n",
      "Summary Index\n",
      "    CREATE      \n",
      "    CASTING\n",
      "    PRODUCT scalar & arr*arr (hadamard)    \n",
      "    INDEXING\n",
      "    ASSIGNMENT\n",
      "    STATISTIC\n",
      "    RANDOM\n",
      "\n",
      "#Expressing Conditional Logic as Array Operations\n",
      "In [140]: xarr = np.array([1.1, 1.2, 1.3, 1.4, 1.5]) In [141]: yarr = np.array([2.1, 2.2, 2.3, 2.4, 2.5]) In [142]: cond = np.array([True, False, True, True, False])\n",
      "save u writin loop and  boos performance\n",
      "uniq-->distinct\n",
      "\n",
      "#SORT\n"
     ],
     "language": "python",
     "metadata": {},
     "outputs": []
    },
    {
     "cell_type": "heading",
     "level": 2,
     "metadata": {},
     "source": [
      "CREATE"
     ]
    },
    {
     "cell_type": "code",
     "collapsed": false,
     "input": [
      "import numpy as np\n",
      "np.*?"
     ],
     "language": "python",
     "metadata": {},
     "outputs": [],
     "prompt_number": 4
    },
    {
     "cell_type": "code",
     "collapsed": false,
     "input": [
      "data = np.array(          #infers the data type\n",
      "        [\n",
      "            [6,7.5,8,0,1],\n",
      "            [3,4,9,0,2]\n",
      "        ]\n",
      "        )\n",
      "data?"
     ],
     "language": "python",
     "metadata": {},
     "outputs": [],
     "prompt_number": 24
    },
    {
     "cell_type": "code",
     "collapsed": false,
     "input": [
      "array_zeros = np.zeros((2, 2,))\n",
      "print('zero  ----')\n",
      "print(array_zeros)\n",
      "\n",
      "tmp_ar = [[3,2,1],[2,2,2],[9,9,9]]\n",
      "array_zeros_like = np.zeros_like(tmp_ar)\n",
      "print('zeros_like  ---- copy from an array but set all values 0')\n",
      "print(array_zeros_like)\n",
      "\n",
      "array_ones = np.ones((2, 2,))\n",
      "print('one  ----')\n",
      "print(array_ones)\n",
      "\n",
      "#tmp_ar = [[3,2,1],[2,2,2],[9,9,9]]\n",
      "array_ones_like = np.ones_like(tmp_ar)\n",
      "print('ones_like  ---- copy from an array but set all values 1')\n",
      "print(array_ones_like)\n",
      "\n",
      "array_empty = np.empty((2, 2))\n",
      "print('empty  ----')\n",
      "print(array_empty)\n",
      "\n",
      "#tmp_ar = [[3,2,1],[2,2,2],[9,9,9]]\n",
      "array_emptys_like = np.empty_like(tmp_ar)\n",
      "print('emptys_like  ---- copy from an array but DONT set any values 1 (actually GARBAGE)')\n",
      "print(array_emptys_like)\n",
      "\n",
      "\n",
      "myrange =  np.arange(start=0,stop=5,step=0.5) #start 0 , 10 elements\n",
      "print('arange  ----')\n",
      "print(myrange)\n"
     ],
     "language": "python",
     "metadata": {},
     "outputs": [
      {
       "output_type": "stream",
       "stream": "stdout",
       "text": [
        "zero  ----\n",
        "[[ 0.  0.]\n",
        " [ 0.  0.]]\n",
        "zeros_like  ---- copy from an array but set all values 0\n",
        "[[0 0 0]\n",
        " [0 0 0]\n",
        " [0 0 0]]\n",
        "one  ----\n",
        "[[ 1.  1.]\n",
        " [ 1.  1.]]\n",
        "ones_like  ---- copy from an array but set all values 1\n",
        "[[1 1 1]\n",
        " [1 1 1]\n",
        " [1 1 1]]\n",
        "empty  ----\n",
        "[[  7.53864974e-295   5.71437908e-303]\n",
        " [  5.71444582e-303   5.71444582e-303]]\n",
        "emptys_like  ---- copy from an array but DONT set any values 1\n",
        "[[       2 66529024 93803056]\n",
        " [       0        0        0]\n",
        " [       0 66531348     1287]]\n",
        "arange  ----\n",
        "[ 0.   0.5  1.   1.5  2.   2.5  3.   3.5  4.   4.5]\n"
       ]
      }
     ],
     "prompt_number": 42
    },
    {
     "cell_type": "code",
     "collapsed": false,
     "input": [
      "notarray =22\n",
      "isarray=np.array( [8,7,6] )\n",
      "\n",
      "#Convert to Array\n",
      "notArr =np.asarray(notarray)\n",
      "print('Convert to Array')\n",
      "print(notArr)\n",
      "isArr =np.asarray(isarray)\n",
      "print('do not copy if the input is already an ndarray ...doesnt looks right')\n",
      "print(isArr)\n",
      "\n",
      "notarray=1111111\n",
      "print(notarray,notArr)\n",
      "print(isarray,isArr)"
     ],
     "language": "python",
     "metadata": {},
     "outputs": [
      {
       "output_type": "stream",
       "stream": "stdout",
       "text": [
        "Convert to Array\n",
        "22\n",
        "do not copy if the input is already an ndarray ...doesnt looks right\n",
        "[8 7 6]\n",
        "(1111111, array(22))\n",
        "(array([8, 7, 6]), array([8, 7, 6]))\n"
       ]
      }
     ],
     "prompt_number": 48
    },
    {
     "cell_type": "code",
     "collapsed": false,
     "input": [
      "#Example of multidim structure\n",
      "2,2,2,2\n",
      "[\n",
      "\t\t[ X1\n",
      "\t\t\t\t[Y1\n",
      "\t\t\t\t\t\tZW[ 0.,  0.],\n",
      "\t\t\t\t\t\tZW[ 0.,  0.]\n",
      "\t\t\t\t],\n",
      "    \t\t[Y2\n",
      "\t\t\t    \tZW[ 0.,  0.],\n",
      "      \t\t\tZW[ 0.,  0.]\n",
      "    \t\t]\n",
      "    ],\n",
      "    [X2\n",
      "    \t\t[Y1\n",
      "    \t\t\t\tZW[ 0.,  0.],\n",
      "        \t\tZW[ 0.,  0.]\n",
      "      \t],\n",
      "    \t\t[Y2\n",
      "\t      \tZW[ 0.,  0.],\n",
      "        \tZW[ 0.,  0.]\n",
      "      \t]\n",
      "    ]\n",
      " ]\n",
      " \n",
      "[\n",
      "\t\t[ 2015\n",
      "\t\t\t\t[Jan\n",
      "\t\t\t\t\t\tTransaction[ 0.,  0.],\n",
      "\t\t\t\t\t\tTransaction[ 0.,  0.]\n",
      "\t\t\t\t],\n",
      "                [Feb\n",
      "\t\t\t    \t    Transaction[ 0.,  0.],\n",
      "      \t\t\t        Transaction[ 0.,  0.]\n",
      "    \t\t     ]\n",
      "    ],\n",
      "    [2016\n",
      "    \t\t[Jan\n",
      "    \t\t\t\tTransaction[ 0.,  0.],\n",
      "        \t\tTransaction[ 0.,  0.]\n",
      "      \t],\n",
      "    \t\t[Feb\n",
      "\t      \tTransaction[ 0.,  0.],\n",
      "        \tTransaction[ 0.,  0.]\n",
      "      \t]\n",
      "    ]\n",
      " ]"
     ],
     "language": "python",
     "metadata": {},
     "outputs": []
    },
    {
     "cell_type": "heading",
     "level": 2,
     "metadata": {},
     "source": [
      "CASTING"
     ]
    },
    {
     "cell_type": "code",
     "collapsed": false,
     "input": [
      "numeric_strings = np.array(['1.25', '-9.6', '42'], dtype=np.string_)\n",
      "casted=numeric_strings.astype(float)#IT always generate a new array \n",
      "print('orig')\n",
      "print(numeric_strings)\n",
      "print('casted')\n",
      "print(casted)"
     ],
     "language": "python",
     "metadata": {},
     "outputs": [
      {
       "output_type": "stream",
       "stream": "stdout",
       "text": [
        "orig\n",
        "['1.25' '-9.6' '42']\n",
        "casted\n",
        "[  1.25  -9.6   42.  ]\n"
       ]
      }
     ],
     "prompt_number": 53
    },
    {
     "cell_type": "code",
     "collapsed": false,
     "input": [
      "# D A T A    T  Y P  E\n",
      "print('shape',data.shape)\n",
      "print('dtype',data.dtype)\n",
      "#print('buffer', data.buffer )  object exposing buffer interface, optional    Used to fill the array with data.\n",
      "#print('offset',data.offset)\n",
      "print('strides:tuple of ints, optionalStrides of data in memory',data.strides)\n",
      "#print('order {'C', 'F'}, optional  Row-major or column-major order.' ,data.order)\n",
      "\n",
      "#Deciding the type of the array\n",
      "data=np.zeros(( 3    # Row m\n",
      "               ,3)   # Cols n\n",
      "              ,dtype=int\n",
      "              )\n",
      "data.dtype\n",
      "\n",
      "#Here the data type build in list\n",
      "#http://docs.scipy.org/doc/numpy/reference/arrays.scalars.html#arrays-scalars-built-in\n",
      "#user defined type : http://docs.scipy.org/doc/numpy/reference/arrays.dtypes.html#arrays-dtypes-constructing\n",
      "''''\n",
      "\n",
      "int8, uint8 i1, u1 Signed and unsigned 8-bit (1 byte) integer types\n",
      "int16, uint16 i2, u2 Signed and unsigned 16-bit integer types\n",
      "int32, uint32 i4, u4 Signed and unsigned 32-bit integer types\n",
      "int64, uint64 i8, u8 Signed and unsigned 32-bit integer types\n",
      "float16 f2 Half-precision floating point\n",
      "float32 f4 or f Standard single-precision floating point. Compatible with C float\n",
      "float64, float128 f8 or d Standard double-precision floating\n",
      "\n",
      "float128 f16 or g Extended-precision floating point\n",
      "complex64, complex128,\n",
      "complex256\n",
      "c8, c16,\n",
      "c32\n",
      "Complex numbers represented by two 32, 64, or 128 floats, respectively\n",
      "bool ? Boolean type storing True and False values\n",
      "object O Python object type\n",
      "string_ \n",
      "    S Fixed-length string type (1 byte per character). For example, to create\n",
      "a string dtype with length 10, use 'S10'.\n",
      "unicode_ U Fixed-length unicode type (number of bytes platform specific).\n",
      "''''"
     ],
     "language": "python",
     "metadata": {},
     "outputs": []
    },
    {
     "cell_type": "heading",
     "level": 6,
     "metadata": {},
     "source": [
      "PRODUCT scalar & arr*arr (hadamard)"
     ]
    },
    {
     "cell_type": "heading",
     "level": 2,
     "metadata": {},
     "source": [
      "INDEXING"
     ]
    },
    {
     "cell_type": "code",
     "collapsed": false,
     "input": [
      "#Indexing 2D\n",
      "#         1       2    3\n",
      "#    \n",
      "#    1    10      20    300\n",
      "#    \n",
      "#    2    100     200    300 \n",
      "#    \n",
      "#    3    1000    2000   3000\n",
      "\n",
      "    \n",
      "arr2d = np.array([\n",
      "                    [10, 20, 30], \n",
      "                    [100, 200, 300],\n",
      "                    [1000, 2000, 3000]\n",
      "                   ])\n",
      "\n",
      "print('Select Scalar --------------------------------')\n",
      "print('    Select Column in a Row')\n",
      "print(arr2d[1][0] )\n",
      "print('    Select Column in a Row (alternate syntax)')\n",
      "print(arr2d[1,0] )\n",
      "\n",
      "print('Select Rows --------------------------------')\n",
      "print('    Select * from T1 where rowid = yxz')\n",
      "print(arr2d[2] )\n",
      "print('    Select * from T1 where rowid between 0 and K')\n",
      "print(arr2d[:1])\n",
      "print('    Select * from T1 where rowid between K and max')\n",
      "print(arr2d[1:] )\n",
      "print('    Select  * from T1  where rowid between M and N-1')\n",
      "print(arr2d[0:2] )\n",
      "print('    Select col1,col2,coln from T1 where rowid between K and max')\n",
      "print(arr2d[:2, 1:]) \n"
     ],
     "language": "python",
     "metadata": {},
     "outputs": [
      {
       "output_type": "stream",
       "stream": "stdout",
       "text": [
        "Select Scalar --------------------------------\n",
        "    Select Column in a Row\n",
        "100\n",
        "    Select Column in a Row (alternate syntax)\n",
        "100\n",
        "Select Rows --------------------------------\n",
        "    Select * from T1 where rowid = yxz\n",
        "[1000 2000 3000]\n",
        "    Select * from T1 where rowid between 0 and K\n",
        "[[10 20 30]]\n",
        "    Select * from T1 where rowid between K and max\n",
        "[[ 100  200  300]\n",
        " [1000 2000 3000]]\n",
        "    Select  * from T1  where rowid between M and N-1\n",
        "[[ 10  20  30]\n",
        " [100 200 300]]\n",
        "    Select col1,col2,coln from T1 where rowid between K and max\n",
        "[[ 20  30]\n",
        " [200 300]]\n"
       ]
      }
     ],
     "prompt_number": 10
    },
    {
     "cell_type": "code",
     "collapsed": false,
     "input": [
      "#  thea array becomes an index/rowid  to select\n",
      "#  bob  -  <col1,col2,col3>\n",
      "#  john -  <col1,col2,col3>\n",
      "#  bob  -  <col1,col2,col3>\n",
      "#  tim  -  <col1,col2,col3>\n",
      "#  nick -  <col1,col2,col3>\n",
      "\n",
      "names = np.array(['Bob', 'Joe', 'Will', 'Bob', 'Will', 'Joe', 'Joe'])\n",
      "data = arr = np.arange(start=1,stop=29,step=1 ).reshape((7, 4))\n",
      "\n",
      "print(names)\n",
      "print(data)\n",
      "\n",
      "my_idx_keys=names == 'Bob'\n",
      "print(\"Select * from T1 where names == Bob\")\n",
      "print(data[my_idx_keys])\n",
      "print(\"Select * from T1 where names <> Bob\")\n",
      "print(data[-(names == 'Bob')])\n",
      "\n",
      "print(\"Select * from T1 where names = bob OR  names =will\")\n",
      "mask = (names == 'Bob') | (names == 'Will')\n",
      "print(data[mask])\n",
      "\n",
      "\n"
     ],
     "language": "python",
     "metadata": {},
     "outputs": [
      {
       "output_type": "stream",
       "stream": "stdout",
       "text": [
        "['Bob' 'Joe' 'Will' 'Bob' 'Will' 'Joe' 'Joe']\n",
        "[[ 1  2  3  4]\n",
        " [ 5  6  7  8]\n",
        " [ 9 10 11 12]\n",
        " [13 14 15 16]\n",
        " [17 18 19 20]\n",
        " [21 22 23 24]\n",
        " [25 26 27 28]]\n",
        "Select * from T1 where names == Bob\n",
        "[[ 1  2  3  4]\n",
        " [13 14 15 16]]\n",
        "Select * from T1 where names <> Bob\n",
        "[[ 5  6  7  8]\n",
        " [ 9 10 11 12]\n",
        " [17 18 19 20]\n",
        " [21 22 23 24]\n",
        " [25 26 27 28]]\n",
        "Select * from T1 where names = bob OR  names =will\n",
        "[[ 1  2  3  4]\n",
        " [ 9 10 11 12]\n",
        " [13 14 15 16]\n",
        " [17 18 19 20]]\n"
       ]
      }
     ],
     "prompt_number": 15
    },
    {
     "cell_type": "code",
     "collapsed": false,
     "input": [
      "print('FANCY  INDEXING ----------------')\n",
      "arr = np.arange(32).reshape((8, 4))\n",
      "print(arr)\n",
      "print('Funny Reeordering ....')\n",
      "print('   Select I1J0 from T1 UNION Select I5J3 from T1 UNION Select I7J1  from T1 UNION I1J0 Select I2J2  from T1 ')\n",
      "print(arr[[1, 5, 7, 2], [0, 3, 1, 2]])\n",
      "print('Select col0,col3,col1,col2 from T1 where rowid in (1,5,7,2)')\n",
      "print( arr[np.ix_([1, 5, 7, 2], [0, 3, 1, 2])])\n",
      "print(' Keep in mind that fancy indexing, unlike slicing, always copies the data into a new array.')\n",
      "\n"
     ],
     "language": "python",
     "metadata": {},
     "outputs": [
      {
       "output_type": "stream",
       "stream": "stdout",
       "text": [
        "FANCY  INDEXING ----------------\n",
        "[[ 0  1  2  3]\n",
        " [ 4  5  6  7]\n",
        " [ 8  9 10 11]\n",
        " [12 13 14 15]\n",
        " [16 17 18 19]\n",
        " [20 21 22 23]\n",
        " [24 25 26 27]\n",
        " [28 29 30 31]]\n",
        "Funny Reeordering ....\n",
        "   Select I1J0 from T1 UNION Select I5J3 from T1 UNION Select I7J1  from T1 UNION I1J0 Select I2J2  from T1 \n",
        "[ 4 23 29 10]\n",
        "Select col0,col3,col1,col2 from T1 where rowid in (1,5,7,2)\n",
        "[[ 4  7  5  6]\n",
        " [20 23 21 22]\n",
        " [28 31 29 30]\n",
        " [ 8 11  9 10]]\n",
        " Keep in mind that fancy indexing, unlike slicing, always copies the data into a new array.\n"
       ]
      }
     ],
     "prompt_number": 25
    },
    {
     "cell_type": "heading",
     "level": 1,
     "metadata": {},
     "source": [
      "ASSIGNMENT"
     ]
    },
    {
     "cell_type": "code",
     "collapsed": false,
     "input": [
      "#Assign same value to interval\n",
      "arr_assign        = np.arange(start=0,stop=10,step=1) \n",
      "arr_assign[1:5]=100\n",
      "print('Assign same value to interval: ')\n",
      "print(arr_assign)\n",
      "\n",
      "#VERY IMPORTANT::: SLICES as VIEWS: Data are not copied...\n",
      "print('Slices are VIEWS data are not copied: ')\n",
      "orginal_array = np.arange(start=0,stop=5,step=1) \n",
      "just_a_view   = orginal_array[3:5]\n",
      "just_a_view[1]=100000\n",
      "print(orginal_array)\n",
      "print(just_a_view)\n",
      "\n",
      "print('Copy must be Explicit: copy() ')\n",
      "a_copy=orginal_array[3:5].copy()\n",
      "a_copy[1]=999\n",
      "print(orginal_array)\n",
      "print(a_copy)\n"
     ],
     "language": "python",
     "metadata": {},
     "outputs": [
      {
       "output_type": "stream",
       "stream": "stdout",
       "text": [
        "Assign same value to interval: \n",
        "[  0 100 100 100 100   5   6   7   8   9]\n",
        "Slices are VIEWS data are not copied: \n",
        "[     0      1      2      3 100000]\n",
        "[     3 100000]\n",
        "Copy must be Explicit: copy() \n",
        "[     0      1      2      3 100000]\n",
        "[  3 999]\n"
       ]
      }
     ],
     "prompt_number": 77
    },
    {
     "cell_type": "heading",
     "level": 1,
     "metadata": {},
     "source": [
      "STATISTIC"
     ]
    },
    {
     "cell_type": "code",
     "collapsed": false,
     "input": [
      "import numpy as np\n",
      "arr2d = np.array(\n",
      "            [\n",
      "                [1, 2, 3],\n",
      "                [4, 5, 6],\n",
      "                [7, 8, 9]\n",
      "            ])\n",
      "print(\"all components SUM\")\n",
      "print(arr2d.sum())\n",
      "print(\"    cumulative  all compo SUM \")\n",
      "print(arr2d.cumsum())\n",
      "print(\"Column SUM\")\n",
      "print(arr2d.sum(axis=0))\n",
      "print(\"  Cumulative Column SUM\")\n",
      "print(arr2d.cumsum(0))\n",
      "\n",
      "print(\"Row SUM\")\n",
      "print(arr2d.sum(axis=1))\n",
      "print(\"  Cumulative Row SUM\")\n",
      "print(arr2d.cumsum(1))\n",
      "\n",
      "\n",
      "print(\"Mean\")\n",
      "print(arr2d.mean())\n",
      "print(\"Std\")\n",
      "print(arr2d.std())\n",
      "print(\"Var\")\n",
      "print(arr2d.var() )\n",
      "print(\"Min\" )\n",
      "print(arr2d.min())\n",
      "print(\"Max\")\n",
      "print(arr2d.max())\n",
      "print(\"argmin argmax\")\n",
      "\n",
      "print(arr2d.argmin())\n",
      "print(arr2d.argmax())"
     ],
     "language": "python",
     "metadata": {},
     "outputs": [
      {
       "output_type": "stream",
       "stream": "stdout",
       "text": [
        "all components SUM\n",
        "45\n",
        "    cumulative  all compo SUM \n",
        "[ 1  3  6 10 15 21 28 36 45]\n",
        "Column SUM\n",
        "[12 15 18]\n",
        "  Cumulative Column SUM\n",
        "[[ 1  2  3]\n",
        " [ 5  7  9]\n",
        " [12 15 18]]\n",
        "Row SUM\n",
        "[ 6 15 24]\n",
        "  Cumulative Row SUM\n",
        "[[ 1  3  6]\n",
        " [ 4  9 15]\n",
        " [ 7 15 24]]\n",
        "Mean\n",
        "5.0\n",
        "Std\n",
        "2.58198889747\n",
        "Var\n",
        "6.66666666667\n",
        "Min\n",
        "1\n",
        "Max\n",
        "9\n",
        "argmin argmax\n",
        "0\n",
        "8\n"
       ]
      }
     ],
     "prompt_number": 26
    },
    {
     "cell_type": "code",
     "collapsed": false,
     "input": [
      "samples = np.random.normal(size=(10))\n",
      "print(samples)\n",
      "samples = np.random.uniform(size=(10))\n",
      "print(samples)\n",
      "binomial Draw samples a binomial distribution\n",
      "normal Draw samples from a normal (Gaussian) distribution\n",
      "beta Draw samples from a beta distribution\n",
      "chisquare Draw samples from a chi-square distribution\n",
      "gamma Draw samples from a gamma distribution\n",
      "uniform Draw samples from a uniform [0, 1) distribution"
     ],
     "language": "python",
     "metadata": {},
     "outputs": [
      {
       "output_type": "stream",
       "stream": "stdout",
       "text": [
        "[ 0.11747568 -1.30176441  0.07702372 -1.11745575  0.85342322  0.09951258\n",
        "  0.12625283 -0.20728576  0.96098674 -0.48822726]\n",
        "[ 0.23531628  0.62871771  0.6159521   0.39539102  0.03070102  0.98375703\n",
        "  0.34302233  0.19098522  0.46489593  0.11166428]\n"
       ]
      }
     ],
     "prompt_number": 36
    },
    {
     "cell_type": "code",
     "collapsed": false,
     "input": [
      "arr = randn(100)\n",
      "print('Number of positive values', (arr > 0).sum()) \n",
      "bools = np.array([False, False, True, False])\n",
      "print('bools.any() tests whether one or more values in an array is True',bools.any())\n",
      "print('bools.all()  while all checks if every value is True',bools.any())\n",
      "\n"
     ],
     "language": "python",
     "metadata": {},
     "outputs": [
      {
       "output_type": "stream",
       "stream": "stdout",
       "text": [
        "('Number of positive values', 46)\n",
        "('bools.any() tests whether one or more values in an array is True', True)\n",
        "('bools.all()  while all checks if every value is True', True)\n"
       ]
      }
     ],
     "prompt_number": 31
    },
    {
     "cell_type": "heading",
     "level": 1,
     "metadata": {},
     "source": [
      "RANDOM"
     ]
    },
    {
     "cell_type": "code",
     "collapsed": false,
     "input": [
      "from random import normalvariate\n",
      "N = 1000000\n",
      "%timeit samples = [normalvariate(0, 1) for _ in xrange(N)]\n",
      "%timeit np.random.normal(size=N)\n"
     ],
     "language": "python",
     "metadata": {},
     "outputs": [
      {
       "output_type": "stream",
       "stream": "stdout",
       "text": [
        "1 loops, best of 3: 1.85 s per loop\n",
        "10 loops, best of 3: 58.1 ms per loop"
       ]
      },
      {
       "output_type": "stream",
       "stream": "stdout",
       "text": [
        "\n"
       ]
      }
     ],
     "prompt_number": 33
    },
    {
     "cell_type": "code",
     "collapsed": false,
     "input": [
      "\n",
      "seed Seed the random number generator\n",
      "permutation Return a random permutation of a sequence, or return a permuted range\n",
      "shuffle Randomly permute a sequence in place\n",
      "rand Draw samples from a uniform distribution\n",
      "randint Draw random integers from a given low-to-high range\n",
      "randn Draw samples from a normal distribution with mean 0 and standard deviation 1 (MATLAB-like interface)\n"
     ],
     "language": "python",
     "metadata": {},
     "outputs": []
    },
    {
     "cell_type": "heading",
     "level": 1,
     "metadata": {},
     "source": [
      "FILES"
     ]
    },
    {
     "cell_type": "code",
     "collapsed": false,
     "input": [
      "#Dump as .npy (binary format)..unuseful...\n",
      "arr = np.arange(10)\n",
      "#default dir C:\\Users\\p155121\\AppData\\Roaming\\Enthought\\Canopy\\ipython_notebooks\n",
      "np.save('H:\\some_array', arr)"
     ],
     "language": "python",
     "metadata": {},
     "outputs": [],
     "prompt_number": 109
    },
    {
     "cell_type": "code",
     "collapsed": false,
     "input": [
      "\n",
      "#BROADCATING\n",
      "arithmetic works between arrays of different shapes\n",
      "According to the broadcasting rule, the \u201cbroadcast dimensions\u201d must be 1 in the smaller array.\n",
      "scalar cab broadcast 5*arr1\n",
      "to broadcast a N-Dim u need that first dim is 1\n",
      "\n",
      "Esempi\n",
      "   to a  (3,5)   u can BROADCASTa (1,5)\n",
      "    to a (7,4,9) u can BROADCASTa (1,4,9)\n",
      "\n",
      "#CASTING to other types\n",
      "float_arr = arr.astype(np.float64)\n",
      "# Vector operation arr1+arr1\n",
      "            \n"
     ],
     "language": "python",
     "metadata": {},
     "outputs": []
    },
    {
     "cell_type": "heading",
     "level": 2,
     "metadata": {},
     "source": [
      "UFUNC LAMBDA Func"
     ]
    },
    {
     "cell_type": "code",
     "collapsed": false,
     "input": [
      "#UFUNC\n",
      "#            funtion that operates on all eelement of ndarray\n",
      "arr =  np.arange(start=1,stop=11,step=1) #start 0 , 10 elements\n",
      "arr \n",
      "#np.sqrt(arr) abs log sign  etc"
     ],
     "language": "python",
     "metadata": {},
     "outputs": [
      {
       "metadata": {},
       "output_type": "pyout",
       "prompt_number": 7,
       "text": [
        "array([ 1,  2,  3,  4,  5,  6,  7,  8,  9, 10])"
       ]
      }
     ],
     "prompt_number": 7
    },
    {
     "cell_type": "code",
     "collapsed": false,
     "input": [
      "print( np.sqrt(arr)  )\n",
      "print( np.abs(arr)  )\n",
      "print( np.log(arr)  )\n",
      "\n"
     ],
     "language": "python",
     "metadata": {},
     "outputs": [
      {
       "output_type": "stream",
       "stream": "stdout",
       "text": [
        "[ 1.          1.41421356  1.73205081  2.          2.23606798  2.44948974\n",
        "  2.64575131  2.82842712  3.          3.16227766]\n",
        "[ 1  2  3  4  5  6  7  8  9 10]\n",
        "[ 0.          0.69314718  1.09861229  1.38629436  1.60943791  1.79175947\n",
        "  1.94591015  2.07944154  2.19722458  2.30258509]\n"
       ]
      }
     ],
     "prompt_number": 9
    }
   ],
   "metadata": {}
  }
 ]
}