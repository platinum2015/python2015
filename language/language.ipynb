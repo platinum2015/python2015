{
 "cells": [
  {
   "cell_type": "markdown",
   "metadata": {},
   "source": [
    "#Contents \n",
    "- [Python Guidelines](#Python Guidelines)\n",
    "- [object](#object)\n",
    "- [Variable](#Variable)\n",
    "- [data types](#data types): [scalar](#scalar) \" \" [formatter](#formatter) \" \" [math](#math) \" \" [boolean](#boolean)\n",
    "- Collections:[list](#list) \" \" [dict](#dict) \" \" [tuple](#tuple) \" \" [sets](#sets)\n",
    "- [input](#input)\n",
    "- [packages modules](#packages modules)\n",
    "- [function](#function)\n",
    "- [class](#class)\n",
    "- [exception](#exception)\n",
    "- [simple stm](#simple stm)\n",
    "\n",
    "<hr>"
   ]
  },
  {
   "cell_type": "markdown",
   "metadata": {
    "collapsed": true
   },
   "source": [
    "<a id=\"Python Guidelines\"></a>\n",
    "<hr>\n",
    "# PYTHON guidelines\n",
    "- guidelines:https://www.python.org/dev/peps/pep-0008/ \n",
    "- Conventions\n",
    "        4 spaces indentation\n",
    "        79 char row\n",
    "        When possible, put comments on a line of their own\n",
    "        space \" \" after operatore and comma , not (  --> Bsp. f1(1, 2) + (4*3)\n",
    "        Add a space after \",\" in dicts,list,tuples & argument list,\n",
    "        and after \":\" in dicts, but not before.\n",
    "        name var:-->  lowercase & _\n",
    "- Notre Keyboard: F5--> fn,F5\n",
    "- Short circuit evaluation : (left-hand eval)\n",
    "        eval stops as soon as result is evident \n",
    "         E.g., True or <someComplicatedExpression>  right-hand part is never evaluated\n",
    "- Packages :https://pypi.python.org/pypi\n"
   ]
  },
  {
   "cell_type": "markdown",
   "metadata": {},
   "source": [
    "<a id=\"object\"></a>\n",
    "<hr>\n",
    "# OBJECT\n",
    "http://www.cafepy.com/article/python_types_and_objects/python_types_and_objects.html#the-object-within\n",
    " - Everything is an Object (not related to OO) even function,keyword,type.\n",
    "     so variable(and all the rest) are instance of a class\n",
    "    Features: \n",
    "        Value\n",
    "        type \n",
    "             (type hierarchy)\n",
    "                 type\n",
    "                    object\n",
    "                        list\n",
    "                            my_list\n",
    "                        tuple\n",
    "                        dict\n",
    "                        all the rest\n",
    "        id\n",
    "        optional\n",
    "            base            \n",
    "        NAME is not a feature!!!!  (is just a bound to the objects)  "
   ]
  },
  {
   "cell_type": "code",
   "execution_count": 3,
   "metadata": {
    "collapsed": false
   },
   "outputs": [
    {
     "name": "stdout",
     "output_type": "stream",
     "text": [
      "(<type 'int'>, 21975784, <type 'object'>, <type 'type'>, True)\n",
      "(<type 'list'>, 45457856, <type 'object'>, <type 'type'>, False)\n",
      "(<type 'str'>, 22184712, <type 'basestring'>, <type 'type'>, False)\n",
      "('__class__', '__contains__')\n"
     ]
    }
   ],
   "source": [
    "obj=1\n",
    "print(type(obj),id(obj),type(obj).__base__,type(obj).__class__,isinstance(obj,int))\n",
    "obj=[1,2,5]\n",
    "print(type(obj),id(obj),type(obj).__base__,type(obj).__class__,isinstance(obj,int))\n",
    "obj=\"st\"\n",
    "print(type(obj),id(obj),type(obj).__base__,type(obj).__class__,isinstance(obj,int))\n",
    "print( dir(obj) [1],dir(obj) [2])"
   ]
  },
  {
   "cell_type": "markdown",
   "metadata": {},
   "source": [
    "<a id=\"Variable\"></a>\n",
    "<hr>\n",
    "# Variable"
   ]
  },
  {
   "cell_type": "code",
   "execution_count": 32,
   "metadata": {
    "collapsed": false
   },
   "outputs": [
    {
     "name": "stdout",
     "output_type": "stream",
     "text": [
      "Variable are just name (tags) for an object\n",
      "b=a just add another tag to the object\n",
      "a id(28527952) is the same as b id(28527952)\n"
     ]
    }
   ],
   "source": [
    "print(\"variable are just NAMES (tags) for an object\")\n",
    "a=1\n",
    "print(\"b=a just add another tag to the object\")\n",
    "b=a\n",
    "print(\"a id(%s) is the same as b id(%s)\" %  (id(a), id(a)) )\n"
   ]
  },
  {
   "cell_type": "markdown",
   "metadata": {},
   "source": [
    "<a id=\"data types\"></a>\n",
    "<hr>\n",
    "# DATA TYPES"
   ]
  },
  {
   "cell_type": "markdown",
   "metadata": {},
   "source": [
    "<a id=\"scalar\"></a>\n",
    "<hr>\n",
    "## SCALAR"
   ]
  },
  {
   "cell_type": "code",
   "execution_count": 52,
   "metadata": {
    "collapsed": false
   },
   "outputs": [
    {
     "name": "stdout",
     "output_type": "stream",
     "text": [
      "JOIN:a-b-c\n",
      "('SPLIT:', ['a', 'b', 'c'])\n",
      "('Strip:', 'a  b  c')\n",
      "IN False\n",
      "INDEX 4\n",
      "FIND -1\n",
      "REPLACE:aaaaWaa\n",
      "COUNT 2\n",
      "escape_quote 0'0\n",
      "multi_line_string row 1 \n",
      "  multi_line_string row 2 \n",
      "  multi_line_string row 3 \n",
      "3 NEW LINES!!! \n",
      " \n",
      " \n",
      " \n",
      "PREPEAT_string PREPEAT_string PREPEAT_string PREPEAT_string \n",
      "Strings can be indexed (subscripted)\n",
      "S\n",
      ")\n",
      "pted)\n",
      "('Build String from substring', 'redbluegreenyellow', 'red, blue, green, yellow')\n",
      "Build String from substring Variation:RED_BLUE_GREEN_YELLOW\n"
     ]
    }
   ],
   "source": [
    "#String\n",
    "print 'JOIN:' + '-'.join( ['a','b','c'] ) \n",
    "print ('SPLIT:' ,  'a,b,c'.split(',')  )\n",
    "print ('Strip:' ,  ' a  b  c '.strip(' ')  )\n",
    "print  ('IN '   + repr( 'text_to_search' in 'a,b,c' )  )\n",
    "print  'INDEX %i'   % 'a234,b,c'.index(',')     \n",
    "print('FIND %i'   % 'a,b,c'.find(':') )\n",
    "print('REPLACE:'+\"aaaa3aa\".replace(\"3\",\"W\"))\n",
    "print('COUNT %i'   % 'a,b,c'.count(',')) \n",
    "#count endswith startswith rfind   rstrip, lstrip lower, upper ljust, rjust\n",
    "print 'escape_quote 0\\'0'\n",
    "print '''multi_line_string row 1 \n",
    "  multi_line_string row 2 \n",
    "  multi_line_string row 3 '''\n",
    "print '3 NEW LINES!!! \\n \\n \\n '\n",
    "print 'PREPEAT_string '*4\n",
    "print 'Strings can be indexed (subscripted)'\n",
    "print 'Strings can be indexed (subscripted)'[0]\n",
    "print 'Strings can be indexed (subscripted)'[-1]\n",
    "print 'Strings can be indexed (subscripted)'[-5:]\n",
    "colors = ['red', 'blue', 'green', 'yellow']\n",
    "#thats also the most efficient way\n",
    "result = ''.join(colors)\n",
    "result2=', '.join(colors)\n",
    "print ('Build String from substring',result, result2)\n",
    "result = '_'.join(i.upper() for i in colors)\n",
    "print ('Build String from substring Variation:%s' % result)\n"
   ]
  },
  {
   "cell_type": "markdown",
   "metadata": {},
   "source": [
    "<a id=\"Formatter\"></a>\n",
    "<hr>\n",
    "## Formatter"
   ]
  },
  {
   "cell_type": "code",
   "execution_count": 16,
   "metadata": {
    "collapsed": false
   },
   "outputs": [
    {
     "name": "stdout",
     "output_type": "stream",
     "text": [
      "https://docs.python.org/2/library/string.html#format-specification-mini-language\n",
      "Format String john.\n",
      "Format  200 decimal\n",
      "Expressions d sum_all 60.\n",
      "Format  200 R-repr \n",
      "NOTE THE QUOTE with var instead of actual value :  'john' R-repr \n",
      "Multiple values must be within parentheses  10, 20,  30\n",
      "spam and eggs\n",
      "eggs and spam\n",
      "This spam is absolutely horrible.\n",
      "PI approximates 3.14\n",
      "FLOAT  con 0 decimali  3\n",
      "concat +  the ',' concat plus space \n",
      "DICT:John,u have 88 New MSG\n"
     ]
    },
    {
     "ename": "KeyError",
     "evalue": "'firstname'",
     "output_type": "error",
     "traceback": [
      "\u001b[1;31m---------------------------------------------------------------------------\u001b[0m",
      "\u001b[1;31mKeyError\u001b[0m                                  Traceback (most recent call last)",
      "\u001b[1;32m<ipython-input-16-f42201f0ccae>\u001b[0m in \u001b[0;36m<module>\u001b[1;34m()\u001b[0m\n\u001b[0;32m     37\u001b[0m \u001b[0mmy_dict\u001b[0m \u001b[1;33m=\u001b[0m \u001b[1;33m{\u001b[0m\u001b[1;34m'firstname'\u001b[0m\u001b[1;33m:\u001b[0m \u001b[1;34m'John'\u001b[0m\u001b[1;33m,\u001b[0m \u001b[1;34m'nr_msg'\u001b[0m\u001b[1;33m:\u001b[0m \u001b[1;36m88\u001b[0m\u001b[1;33m}\u001b[0m\u001b[1;33m\u001b[0m\u001b[0m\n\u001b[0;32m     38\u001b[0m \u001b[1;32mprint\u001b[0m \u001b[1;33m(\u001b[0m\u001b[1;34m'DICT:%(firstname)s,u have %(nr_msg)i New MSG'\u001b[0m \u001b[1;33m%\u001b[0m \u001b[0mmy_dict\u001b[0m\u001b[1;33m)\u001b[0m\u001b[1;33m\u001b[0m\u001b[0m\n\u001b[1;32m---> 39\u001b[1;33m \u001b[1;32mprint\u001b[0m \u001b[1;33m(\u001b[0m\u001b[1;34m'DICT:%(firstname)s,u have %(nr_msg)i New MSG'\u001b[0m \u001b[1;33m%\u001b[0m \u001b[0mlocals\u001b[0m\u001b[1;33m(\u001b[0m\u001b[1;33m)\u001b[0m\u001b[1;33m)\u001b[0m\u001b[1;33m\u001b[0m\u001b[0m\n\u001b[0m",
      "\u001b[1;31mKeyError\u001b[0m: 'firstname'"
     ]
    }
   ],
   "source": [
    "# %s usa str()\n",
    "# %r usa repr()  \n",
    "# %d    %c  %f \n",
    "print('https://docs.python.org/2/library/string.html#format-specification-mini-language')\n",
    "\n",
    "my_name='john'\n",
    "my_height=200\n",
    "var1=10\n",
    "var2=20\n",
    "var3=30\n",
    "print \"Format String %s.\"  % my_name\n",
    "#d\n",
    "print \"Format  %d decimal\" % my_height\n",
    "print \"Expressions d sum_all %d.\" % (     var1 + var2 + var3)\n",
    "#r\n",
    "print \"Format  %r R-repr \" % my_height\n",
    "print \"NOTE THE QUOTE with var instead of actual value :  %r R-repr \" % my_name\n",
    "\n",
    "print \"Multiple values must be within parentheses  %d, %d,  %d\" % (    var1, var2, var3)\n",
    "print('{0} and {1}'.format('spam', 'eggs'))\n",
    "print('{1} and {0}'.format('spam', 'eggs'))\n",
    "print('This {food} is {adjective}.'.format(food='spam', adjective='absolutely horrible'))\n",
    "#template / format string\n",
    "template = '%.2f %s are worth $%d'\n",
    "template % (4.5560, 'Argentine Pesos', 1)\n",
    "import math\n",
    "print('PI approximates %2.2f' % math.pi)\n",
    "\n",
    "print('FLOAT  con 0 decimali  %.0f' % math.pi)\n",
    "\n",
    "\n",
    "\n",
    "#######CONCAT\n",
    "print ('concat +  the \\',\\' concat plus space ')\n",
    "\n",
    "#DICT\n",
    "my_dict = {'firstname': 'John', 'nr_msg': 88}\n",
    "print ('DICT:%(firstname)s,u have %(nr_msg)i New MSG' % my_dict)\n",
    "\n"
   ]
  },
  {
   "cell_type": "markdown",
   "metadata": {},
   "source": [
    "<a id=\"math\"></a>\n",
    "<hr>\n",
    "##  MATH (number,int, float)"
   ]
  },
  {
   "cell_type": "code",
   "execution_count": 51,
   "metadata": {
    "collapsed": false,
    "scrolled": true
   },
   "outputs": [
    {
     "name": "stdout",
     "output_type": "stream",
     "text": [
      "('DIVISION 17/3', 5)\n",
      "('if at least one is float....DIVISION 17/float(3)', 5.666666666666667)\n",
      "floating point trick:0.1 + 0.2=0.30000000000000004441 (but formatted:0.30000)\n",
      "floating point trick:0.1 + 0.2=0 (but formatted:0)\n",
      "('  17//3', 5)\n",
      "('power 2**3 ', 8)\n",
      "(' x = X + 10 -->  x+=x (oppure x+=10 -->11)', 2)\n",
      "(' x = X - 10 -->  x-=x', 0)\n",
      "(' x = X * 10 -->  x*=x', 1)\n",
      "(' x = X / 10 -->  x/=x', 1.0)\n",
      "3.0 o 3.   intercambiabili...\n",
      "('10^4 scientific shortcut', 10000.0)\n"
     ]
    }
   ],
   "source": [
    "# floating point https://docs.python.org/2/tutorial/floatingpoint.html\n",
    "# are represented as : J / (2**N)\n",
    "#approximates real numberto support trade-off between range and precision. \n",
    "#operation on big number are easier to implement\n",
    "# 0.0125 in bin is 0.001 --> read left to right 0/2**1  + 0/2**2  + 1/2**3\n",
    "# 0.1 in bin is 00011001100110011001100110011001100110011001100110011010 (1/16+1/32+1256 ...etc)\n",
    "\n",
    "print('DIVISION 17/3',17/3)\n",
    "print('if at least one is float....DIVISION 17/float(3)',17/float(3) )\n",
    "\n",
    "print(\"floating point trick:0.1 + 0.2=%1.20f (but formatted:%1.5f)\"  % ((0.1 + 0.2) ,(0.1 + 0.2) ))\n",
    "from decimal import Decimal\n",
    "print(\"floating point trick:0.1 + 0.2=%d (but formatted:%d)\"  % (Decimal((0.1 + 0.2)) ,(0.1 + 0.2) ))\n",
    "print('  17//3',17//3)\n",
    "print('power 2**3 ',2**3)\n",
    "x=1\n",
    "x+=x\n",
    "print(' x = X + 10 -->  x+=x (oppure x+=10 -->11)',x)\n",
    "\n",
    "x=1\n",
    "x-=x\n",
    "print(' x = X - 10 -->  x-=x',x)\n",
    "\n",
    "x=1\n",
    "x*=x\n",
    "print(' x = X * 10 -->  x*=x',x)\n",
    "\n",
    "x=float(1)\n",
    "x/=x\n",
    "print(' x = X / 10 -->  x/=x',x)\n",
    "\n",
    "print(\"3.0 o 3.   intercambiabili...\")\n",
    "assert 3.0 == 3.\n",
    "\n",
    "print(\"10^4 scientific shortcut\",1e4)"
   ]
  },
  {
   "cell_type": "markdown",
   "metadata": {},
   "source": [
    "<a id=\"boolean\"></a>\n",
    "<hr>\n",
    "# Boolean"
   ]
  },
  {
   "cell_type": "code",
   "execution_count": 11,
   "metadata": {
    "collapsed": false
   },
   "outputs": [
    {
     "name": "stdout",
     "output_type": "stream",
     "text": [
      "false:False,0,the empty string ('') and other empty containers\n",
      "true:ffdsfs,2322,[3,444,555] are TRUE\n",
      "do this:    if x:    # not this:   if x == True:\n",
      "NOTE and,or dont ret a bool!!!!7 or 0 -->7\n",
      "     they ret the last val:'ffdsfs'\n",
      "short assgmnt: <x=y1 IF <expr> else Y2> Bsp.( x=10 if 100>1 else 0) -->10\n"
     ]
    }
   ],
   "source": [
    "#Attention: «evaluate to True/False» does not mean «equality to True/False»!\n",
    "#Precedence   not > and > or\n",
    "if False or  0 or  '':\n",
    "    print(\"no way...\")\n",
    "else:\n",
    "    print(\"false:False,0,the empty string ('') and other empty containers\")\n",
    "\n",
    "if 2322 and \"ffdsfs\" and [3,444,555]:\n",
    "    print(\"true:ffdsfs,2322,[3,444,555] are TRUE\")\n",
    "\n",
    "print(\"do this:    if x:    # not this:   if x == True:\")\n",
    "print(\"list do this:   if items:    # not this:  if len(items) != 0:\")\n",
    "\n",
    "\n",
    "print (\"NOTE and,or dont ret a bool!!!!7 or 0 -->%r\" % ( 7 or 0 ))\n",
    "print (\"     they ret the last val:%r\" % ( 2322 and \"ffdsfs\"  ))    \n",
    "\n",
    "x= 10 if 100>1 else 0\n",
    "print('short assgmnt: <x=y1 IF <expr> else Y2> Bsp.( x=10 if 100>1 else 0) -->%r' % x)"
   ]
  },
  {
   "cell_type": "markdown",
   "metadata": {},
   "source": [
    "## Collections"
   ]
  },
  {
   "cell_type": "markdown",
   "metadata": {},
   "source": [
    "<a id=\"list\"></a>\n",
    "<hr>\n",
    "### LIST"
   ]
  },
  {
   "cell_type": "code",
   "execution_count": 30,
   "metadata": {
    "collapsed": false
   },
   "outputs": [
    {
     "name": "stdout",
     "output_type": "stream",
     "text": [
      "[100, 101, 102, 103, '104a', [600, 601]]\n",
      "('seq slice', [101, 103, [600, 601]])\n",
      "('interval', [103, '104a'])\n",
      "--- iterate LIST\n",
      " List element: 100  \n",
      " List element: 101  \n",
      " List element: 102  \n",
      " List element: 103  \n",
      " List element: 104a  \n",
      " List element: 5000  \n",
      " List element: [600, 601]  \n",
      " List element: 44  \n",
      "--- enumerate LIST (get the index)\n",
      "0 100\n",
      "1 101\n",
      "2 102\n",
      "3 103\n",
      "4 104a\n",
      "5 5000\n",
      "6 [600, 601]\n",
      "7 44\n",
      "list contains 103\n",
      "('PACKED:', [1, 2, 3, 4, 5])\n",
      "('unpacked_3:', 3)\n"
     ]
    },
    {
     "data": {
      "text/plain": [
       "{1, 2, 3, 4, 6}"
      ]
     },
     "execution_count": 30,
     "metadata": {},
     "output_type": "execute_result"
    }
   ],
   "source": [
    "'''\n",
    "   just put  []\n",
    "   can be a list of different types\n",
    "   http://effbot.org/zone/python-list.htm\n",
    "   https://docs.python.org/2/tutorial/datastructures.html\n",
    "'''\n",
    "#Create\n",
    "list_1 = [100,101,102,103,'104a',[600,601]]\n",
    "print(list_1)\n",
    "\n",
    "#index / assign\n",
    "list_1[0]=100\n",
    "list_1.append(44)\n",
    "seq = list_1[1::2] # get every other item, starting with the second\n",
    "print('seq slice',seq)\n",
    "#interval\n",
    "print('interval',list_1[3:5])\n",
    "#Insert at given idx\n",
    "list_1.insert(5, 5000)\n",
    "#Remove\n",
    "list_1.insert(5, 1234)\n",
    "list_1.remove(1234)\n",
    "list_1.insert(5, 1234)\n",
    "list_1.pop(5)\n",
    "#Loop a List\n",
    "print (\"--- iterate LIST\")\n",
    "for element in list_1:\n",
    "    print (\" List element: %s  \" % element)\n",
    "#ENUMARATE a List  \n",
    "print (\"--- enumerate LIST (get the index)\")\n",
    "for index, item in enumerate(list_1):\n",
    "    print index, item\n",
    "#Searching Lists\n",
    "if 103 in list_1:\n",
    "    print \"list contains\", 103   \n",
    "#Unpacking\n",
    "packed=[1,2,3,4,5]\n",
    "unpacked_1,unpacked_2,unpacked_3,unpacked_4,unpacked_5 = packed\n",
    "print('PACKED:',packed)\n",
    "print('unpacked_3:',unpacked_3)\n",
    "# append , insert(pos) , pop(pos) , remove(value) , in(value) ,extend,sort\n",
    "# binary tree search  # slicing # enumerate,sorted,zip(associa 2 liste),reversed\n",
    "#Create & Edit\n",
    "unique_lengths = {len(x) for x in strings}\n",
    "unique_lengths#Out[480]: set([1, 2, 3, 4, 6])"
   ]
  },
  {
   "cell_type": "markdown",
   "metadata": {},
   "source": [
    "####  LIST COMPREHENSION"
   ]
  },
  {
   "cell_type": "code",
   "execution_count": 31,
   "metadata": {
    "collapsed": false
   },
   "outputs": [
    {
     "name": "stdout",
     "output_type": "stream",
     "text": [
      "List comprehension :[expr for val in collection if condition] \n",
      " new_list = [] \n",
      "for item in a_list:\n",
      "    if condition(item):\n",
      "        new_list.append(expr)\n",
      "[0, 1, 4, 9, 16]\n",
      "[1, 9]\n",
      "if we had milion element performance breaks, so use a GENERATOR \n",
      " Use a list comprehension when a computed list is the desired end result. \n",
      " Use a generator expression when the computed list is just an intermediate step \n",
      " \n",
      "NESTED List comprehension:\n"
     ]
    }
   ],
   "source": [
    "print(\"List comprehension :[expr for val in collection if condition] \\n \" \\\n",
    "\"new_list = [] \\n\" \\\n",
    "\"for item in a_list:\\n\" \\\n",
    "\"    if condition(item):\\n\" \\\n",
    "\"        new_list.append(expr)\" \n",
    ")\n",
    "\n",
    "squares = [x**2 for x in range(5)]\n",
    "print(squares)\n",
    "squares = [n ** 2 for n in range(5) if n % 2]\n",
    "print(squares)\n",
    "strings = ['a', 'as', 'bat', 'car', 'dove', 'python']\n",
    "[x.upper() for x in strings if len(x) > 2]\n",
    "\n",
    "print(\"if we had milion element performance breaks, so use a GENERATOR \\n \"\\\n",
    "\"Use a list comprehension when a computed list is the desired end result. \\n \"\\\n",
    "\"Use a generator expression when the computed list is just an intermediate step \\n \")     \n",
    "total = sum(num * num for num in xrange(1, 1000))\n",
    "print(\"NESTED List comprehension:\")\n",
    "#result = [name for names in all_data for name in names  if name.count('e') >= 2]"
   ]
  },
  {
   "cell_type": "markdown",
   "metadata": {},
   "source": [
    "#### List sort"
   ]
  },
  {
   "cell_type": "code",
   "execution_count": 44,
   "metadata": {
    "collapsed": false
   },
   "outputs": [
    {
     "name": "stdout",
     "output_type": "stream",
     "text": [
      "(None, 'NONE!!! sort() sorts the list doesnt return any sorted new list')\n",
      "('sorted', ['a', 'b', 'c'])\n",
      "('REVERSE', ['b', 'a', 'c'])\n"
     ]
    }
   ],
   "source": [
    "a_list=['c','a','b']\n",
    "a_list.sort()\n",
    "print(a_list.sort(), \"NONE!!! sort() sorts the list doesnt return any sorted new list\")\n",
    "print(\"sorted\",a_list)\n",
    "a_list1=['c','a','b']\n",
    "print(\"REVERSE\",a_list1[::-1])"
   ]
  },
  {
   "cell_type": "markdown",
   "metadata": {},
   "source": [
    "<a id=\"dict\"></a>\n",
    "<hr>\n",
    "### DICTIONARIES"
   ]
  },
  {
   "cell_type": "code",
   "execution_count": 10,
   "metadata": {
    "collapsed": false
   },
   "outputs": [
    {
     "name": "stdout",
     "output_type": "stream",
     "text": [
      "{'jack': 4098, 'tom': 1234}\n",
      "('DICT from LIST', {'John': 'Cleese', 'Michael': 'Palin', 'Eric': 'Idle', 'Terry': 'Gilliam'})\n",
      "('LIST from DICT', ['John', 'Michael', 'Eric', 'Terry'])\n",
      "('LIST from DICT', ['Cleese', 'Palin', 'Idle', 'Gilliam'])\n",
      "1234\n",
      "--- Dict enumerate\n",
      "0 tic\n",
      "1 tac\n",
      "2 toe\n"
     ]
    }
   ],
   "source": [
    "#Indexed by keys  /  associative arrays      /https://docs.python.org/2/tutorial/datastructures.html#dictionaries\n",
    "#Create\n",
    "tel = {'jack': 4098,  'tom': 1234}\n",
    "print(tel)\n",
    "firstname = ['John', 'Eric', 'Terry', 'Michael']\n",
    "surname = ['Cleese', 'Idle', 'Gilliam', 'Palin']\n",
    "dict_from_list = dict(zip(firstname, surname))\n",
    "print(\"DICT from LIST\",dict_from_list)\n",
    "# reverse DICT to LIST:\n",
    "print(\"LIST from DICT\",dict_from_list.keys())\n",
    "print(\"LIST from DICT\",dict_from_list.values())\n",
    "#dict comprehensions\n",
    "dict_1 ={x: x**2 for x in (2, 4, 6)}\n",
    "#print(dict_1)\n",
    "#Access\n",
    "print(tel['tom'])\n",
    "#Looping ENUMERATE\n",
    "print('--- Dict enumerate')\n",
    "for i, v in enumerate(['tic', 'tac', 'toe']):\n",
    "    print i, v\n",
    "##### DICTIONARY or MAPS #######################################################\n",
    "#(coppie di Key:Value) is an HAshmaps or Associative Array or collection of 2-tuples,\n",
    "#cant concat maps\n",
    "# insert,search,delete,update\n",
    "#zip can be useful to create them\n",
    "#EDIT\n",
    "del my_map[\"Key1\"] #delete\n",
    "print(len(my_map))\n",
    "#search&delete\n",
    "'b' in d1\n",
    "d1.pop('dummy')\n",
    "empty_dict = {} #empty one"
   ]
  },
  {
   "cell_type": "markdown",
   "metadata": {},
   "source": [
    "<a id=\"tuple\"></a>\n",
    "<hr>\n",
    "### TUPLE - Konstant"
   ]
  },
  {
   "cell_type": "code",
   "execution_count": 4,
   "metadata": {
    "collapsed": false,
    "scrolled": true
   },
   "outputs": [
    {
     "name": "stdout",
     "output_type": "stream",
     "text": [
      "('Length', 3)\n",
      "('Concatenation', (1, 2, 3, 4, 5, 6))\n",
      "('Repetition', ('Hi!', 'Hi!', 'Hi!', 'Hi!'))\n",
      "('Membership', True)\n"
     ]
    }
   ],
   "source": [
    "'''\n",
    "are constant\n",
    "'''\n",
    "tup1 = ('physics', 'chemistry', 1997, 2000);\n",
    "\n",
    "\n",
    "print('Length',len((1, 2, 3)) )\n",
    "print('Concatenation', ( (1, 2, 3) + (4, 5, 6) ) )\n",
    "print('Repetition',   ( ('Hi!',) * 4 ) )\n",
    "print('Membership', (  3 in (1, 2, 3))    )\n",
    "#print('Iteration',    ( for x in (1, 2, 3): print x, )   )\n",
    "\n",
    "# 1-Dimension sequence of Python objects.\n",
    "#tuple CANT CHANGE AFTER CREATED!!!!!\n",
    "    \n",
    "my_tuple = [ 2,44,23,66,1]\n",
    "my_tuple.count()#5\n",
    "#convert  tuple < -- > list \n",
    "cnv_list = list(my_tuple)\n",
    "cnv_tuple =  tuple(cnv_list)\n",
    "('a', 'b') * 4 # a,b a,b a,b a,b \n",
    "#length max min\n",
    "print('len max min ',len(my_tuple),max(my_tuple),min(my_tuple))\n",
    "#Unpacking assignment\n",
    "tup = (4, 5, 6)\n",
    "a, b, c = tup\n",
    "#b=5\n"
   ]
  },
  {
   "cell_type": "code",
   "execution_count": 6,
   "metadata": {
    "collapsed": false
   },
   "outputs": [
    {
     "ename": "TypeError",
     "evalue": "'tuple' object does not support item assignment",
     "output_type": "error",
     "traceback": [
      "\u001b[1;31m---------------------------------------------------------------------------\u001b[0m\n\u001b[1;31mTypeError\u001b[0m                                 Traceback (most recent call last)",
      "\u001b[1;32m<ipython-input-6-d3f4243fb193>\u001b[0m in \u001b[0;36m<module>\u001b[1;34m()\u001b[0m\n\u001b[1;32m----> 1\u001b[1;33m \u001b[0mtup1\u001b[0m\u001b[1;33m[\u001b[0m\u001b[1;36m2\u001b[0m\u001b[1;33m]\u001b[0m\u001b[1;33m=\u001b[0m\u001b[1;36m333\u001b[0m\u001b[1;33m\u001b[0m\u001b[0m\n\u001b[0m\u001b[0;32m      2\u001b[0m \u001b[1;32mprint\u001b[0m\u001b[1;33m(\u001b[0m\u001b[0mtup1\u001b[0m\u001b[1;33m)\u001b[0m\u001b[1;33m\u001b[0m\u001b[0m\n",
      "\u001b[1;31mTypeError\u001b[0m: 'tuple' object does not support item assignment"
     ]
    }
   ],
   "source": [
    "tup1[2]=333\n",
    "print(tup1)"
   ]
  },
  {
   "cell_type": "markdown",
   "metadata": {},
   "source": [
    "<a id=\"sets\"></a>\n",
    "<hr>\n",
    "### SETS"
   ]
  },
  {
   "cell_type": "code",
   "execution_count": 36,
   "metadata": {
    "collapsed": false
   },
   "outputs": [
    {
     "name": "stdout",
     "output_type": "stream",
     "text": [
      "('dulpicate removed', set(['orange', 'pear', 'apple', 'banana']))\n",
      "('membership test', True)\n"
     ]
    }
   ],
   "source": [
    "'''\n",
    " unordered collection with no duplicate \n",
    " https://docs.python.org/2/tutorial/datastructures.html#sets\n",
    " \n",
    "'''\n",
    "#Create\n",
    "basket = ['apple', 'orange', 'apple', 'pear', 'orange', 'banana']\n",
    "#Remove duplicate\n",
    "fruit = set(basket)               # create a set without duplicates\n",
    "print('dulpicate removed',fruit)\n",
    "\n",
    "# fast membership testing\n",
    "\n",
    "print('membership test','orange' in fruit)\n"
   ]
  },
  {
   "cell_type": "code",
   "execution_count": 38,
   "metadata": {
    "collapsed": false
   },
   "outputs": [
    {
     "name": "stdout",
     "output_type": "stream",
     "text": [
      "--- SET operation\n",
      "('letters in a but not in b', set(['r', 'b', 'd']))\n",
      "('letters in either a or b', set(['a', 'c', 'b', 'd', 'm', 'l', 'r', 'z']))\n",
      "('letters in both a and b', set(['a', 'c']))\n",
      "(' letters in a or b but not both', set(['b', 'd', 'm', 'l', 'r', 'z']))\n"
     ]
    }
   ],
   "source": [
    "# Demonstrate set operations on unique letters from two words\n",
    "print('--- SET operation')\n",
    "a = set('abracadabra')\n",
    "b = set('alacazam')\n",
    "set(['a', 'r', 'b', 'c', 'd'])\n",
    "print('letters in a but not in b' ,a - b )\n",
    "print('letters in either a or b', a | b )\n",
    "print('letters in both a and b',a & b)                              # \n",
    "print(' letters in a or b but not both', a ^ b                             )\n"
   ]
  },
  {
   "cell_type": "markdown",
   "metadata": {},
   "source": [
    "<a id=\"input\"></a>\n",
    "<hr>\n",
    "## Input"
   ]
  },
  {
   "cell_type": "code",
   "execution_count": 1,
   "metadata": {
    "collapsed": false
   },
   "outputs": [
    {
     "name": "stdout",
     "output_type": "stream",
     "text": [
      "type something  ...\n",
      "> ciao+\n",
      " you typed 'ciao+' \n"
     ]
    }
   ],
   "source": [
    "#input\n",
    "prompt = '> '\n",
    "msg=\"type something  ...\"\n",
    "print(msg)\n",
    "y=raw_input( prompt)\n",
    "print \" you typed %r \" % (y)"
   ]
  },
  {
   "cell_type": "markdown",
   "metadata": {},
   "source": [
    "# script input parameters"
   ]
  },
  {
   "cell_type": "code",
   "execution_count": 1,
   "metadata": {
    "collapsed": false
   },
   "outputs": [
    {
     "ename": "ValueError",
     "evalue": "too many values to unpack",
     "output_type": "error",
     "traceback": [
      "\u001b[0;31m---------------------------------------------------------------------------\u001b[0m",
      "\u001b[0;31mValueError\u001b[0m                                Traceback (most recent call last)",
      "\u001b[0;32m<ipython-input-1-8568a50ebb63>\u001b[0m in \u001b[0;36m<module>\u001b[0;34m()\u001b[0m\n\u001b[1;32m      2\u001b[0m \u001b[0;32mfrom\u001b[0m \u001b[0msys\u001b[0m \u001b[0;32mimport\u001b[0m \u001b[0margv\u001b[0m\u001b[0;34m\u001b[0m\u001b[0m\n\u001b[1;32m      3\u001b[0m \u001b[0;34m\u001b[0m\u001b[0m\n\u001b[0;32m----> 4\u001b[0;31m \u001b[0mscript\u001b[0m\u001b[0;34m,\u001b[0m \u001b[0mfirst\u001b[0m\u001b[0;34m,\u001b[0m \u001b[0msecond\u001b[0m\u001b[0;34m,\u001b[0m \u001b[0mthird\u001b[0m \u001b[0;34m=\u001b[0m \u001b[0margv\u001b[0m\u001b[0;34m\u001b[0m\u001b[0m\n\u001b[0m",
      "\u001b[0;31mValueError\u001b[0m: too many values to unpack"
     ]
    }
   ],
   "source": [
    "#read script input parameters\n",
    "from sys import argv\n",
    "print(\"argv  (length:%s) contains:\" % len(argv))\n",
    "arguments = argv\n",
    "#print \"The script is called:  \" ,  arguments \n",
    "for argument in arguments:\n",
    "   print argument"
   ]
  },
  {
   "cell_type": "markdown",
   "metadata": {},
   "source": [
    "## IPYTHON"
   ]
  },
  {
   "cell_type": "code",
   "execution_count": null,
   "metadata": {
    "collapsed": false
   },
   "outputs": [],
   "source": [
    "MAGIC cmd %\n",
    "%magic\n",
    "%run EXEC a skript:u need absolute path!!!!!\n",
    "%run ipython_script_test.py\n",
    "%paste\n",
    "%logstart\n",
    "%logoff\n",
    "%pwd\n",
    "%dhist\n",
    "%cd\n",
    "COMANDI con uniy  !\n",
    "!touch pippo.txt\n",
    "!ls\n",
    "creare alias per directory\n",
    "%bookmark db /home/wesm/Dropbox/\n",
    "%pdb debug"
   ]
  },
  {
   "cell_type": "code",
   "execution_count": 18,
   "metadata": {
    "collapsed": false
   },
   "outputs": [
    {
     "data": {
      "text/plain": [
       "u'/Volumes/KINGSTON/workspace/python2015/language'"
      ]
     },
     "execution_count": 18,
     "metadata": {},
     "output_type": "execute_result"
    }
   ],
   "source": [
    "%pwd"
   ]
  },
  {
   "cell_type": "code",
   "execution_count": 19,
   "metadata": {
    "collapsed": false
   },
   "outputs": [
    {
     "name": "stdout",
     "output_type": "stream",
     "text": [
      "\u001b[31mMatrices.ipynb\u001b[m\u001b[m*             \u001b[31mlanguage.py\u001b[m\u001b[m*\n",
      "\u001b[31mdebugging_and_test.ipynb\u001b[m\u001b[m*   \u001b[31mnumpy.ipynb\u001b[m\u001b[m*\n",
      "\u001b[31mdebugging_and_test.py\u001b[m\u001b[m*      \u001b[31mpandas.ipynb\u001b[m\u001b[m*\n",
      "\u001b[31mfiles_and_interfaces.ipynb\u001b[m\u001b[m* \u001b[31mtimeseries.ipynb\u001b[m\u001b[m*\n",
      "\u001b[31min_param.py\u001b[m\u001b[m*                \u001b[31mtutorial.ipynb\u001b[m\u001b[m*\n",
      "\u001b[31mlanguage.ipynb\u001b[m\u001b[m*\n"
     ]
    }
   ],
   "source": [
    "%ls"
   ]
  },
  {
   "cell_type": "code",
   "execution_count": null,
   "metadata": {
    "collapsed": false
   },
   "outputs": [],
   "source": [
    "# ? after object\n",
    "a=[[1,2,4],[7,8,4]]\n",
    "\n",
    "a?\n",
    "\n",
    "#Time of CMD execution\n",
    "%time minibatch.fit(blobs)\n",
    "numpy.*?"
   ]
  },
  {
   "cell_type": "markdown",
   "metadata": {},
   "source": [
    "Capture the output of a shell command and store the results in a python variable."
   ]
  },
  {
   "cell_type": "code",
   "execution_count": null,
   "metadata": {
    "collapsed": true
   },
   "outputs": [],
   "source": [
    "foo = ! echo hello, world"
   ]
  },
  {
   "cell_type": "code",
   "execution_count": 48,
   "metadata": {
    "collapsed": false
   },
   "outputs": [
    {
     "name": "stderr",
     "output_type": "stream",
     "text": [
      "Der Befehl \"curl\" ist entweder falsch geschrieben oder\n",
      "konnte nicht gefunden werden.\n"
     ]
    }
   ],
   "source": [
    "# download salary_data.csv save contents to \n",
    "# a local file in the same directory as this notebook\n",
    "!curl http://www.justinmrao.com/salary_data.csv >> ./salary_data.csv"
   ]
  },
  {
   "cell_type": "code",
   "execution_count": 49,
   "metadata": {
    "collapsed": false
   },
   "outputs": [
    {
     "data": {
      "text/plain": [
       "<IPython.core.display.Image object>"
      ]
     },
     "execution_count": 49,
     "metadata": {},
     "output_type": "execute_result"
    }
   ],
   "source": [
    "from IPython.display import Image\n",
    "Image(\"http://ipython.org/_static/IPy_header.png\")"
   ]
  },
  {
   "cell_type": "markdown",
   "metadata": {},
   "source": [
    "<a id=\"packages modules\"></a>\n",
    "<hr>\n",
    "# PACKAGES / Modules"
   ]
  },
  {
   "cell_type": "markdown",
   "metadata": {},
   "source": [
    "### Check Installed packages"
   ]
  },
  {
   "cell_type": "code",
   "execution_count": 45,
   "metadata": {
    "collapsed": false
   },
   "outputs": [
    {
     "ename": "TypeError",
     "evalue": "'NoneType' object is not callable",
     "output_type": "error",
     "traceback": [
      "\u001b[1;31m---------------------------------------------------------------------------\u001b[0m",
      "\u001b[1;31mTypeError\u001b[0m                                 Traceback (most recent call last)",
      "\u001b[1;32m<ipython-input-45-d64a26ef712c>\u001b[0m in \u001b[0;36m<module>\u001b[1;34m()\u001b[0m\n\u001b[0;32m      2\u001b[0m \u001b[0minstalled_packages\u001b[0m \u001b[1;33m=\u001b[0m \u001b[0mpip\u001b[0m\u001b[1;33m.\u001b[0m\u001b[0mget_installed_distributions\u001b[0m\u001b[1;33m(\u001b[0m\u001b[1;33m)\u001b[0m\u001b[1;33m\u001b[0m\u001b[0m\n\u001b[0;32m      3\u001b[0m installed_packages_list = sorted([\"%s==%s\" % (i.key, i.version)\n\u001b[1;32m----> 4\u001b[1;33m      for i in installed_packages])\n\u001b[0m\u001b[0;32m      5\u001b[0m \u001b[1;31m#print(installed_packages_list)\u001b[0m\u001b[1;33m\u001b[0m\u001b[1;33m\u001b[0m\u001b[0m\n",
      "\u001b[1;31mTypeError\u001b[0m: 'NoneType' object is not callable"
     ]
    }
   ],
   "source": [
    "import pip\n",
    "installed_packages = pip.get_installed_distributions()\n",
    "installed_packages_list = sorted([\"%s==%s\" % (i.key, i.version)\n",
    "     for i in installed_packages])\n",
    "#print(installed_packages_list)"
   ]
  },
  {
   "cell_type": "code",
   "execution_count": 9,
   "metadata": {
    "collapsed": false
   },
   "outputs": [
    {
     "data": {
      "text/plain": [
       "['',\n",
       " 'C:\\\\Users\\\\p155121\\\\AppData\\\\Local\\\\Enthought\\\\Canopy32\\\\User\\\\lib\\\\site-packages\\\\graphviz-0.4.4-py2.7.egg',\n",
       " 'C:\\\\Users\\\\p155121\\\\AppData\\\\Local\\\\Enthought\\\\Canopy32\\\\User\\\\Scripts\\\\python27.zip',\n",
       " 'C:\\\\Users\\\\p155121\\\\AppData\\\\Local\\\\Enthought\\\\Canopy32\\\\App\\\\appdata\\\\canopy-1.5.2.2785.win-x86\\\\DLLs',\n",
       " 'C:\\\\Users\\\\p155121\\\\AppData\\\\Local\\\\Enthought\\\\Canopy32\\\\App\\\\appdata\\\\canopy-1.5.2.2785.win-x86\\\\lib',\n",
       " 'C:\\\\Users\\\\p155121\\\\AppData\\\\Local\\\\Enthought\\\\Canopy32\\\\App\\\\appdata\\\\canopy-1.5.2.2785.win-x86\\\\lib\\\\plat-win',\n",
       " 'C:\\\\Users\\\\p155121\\\\AppData\\\\Local\\\\Enthought\\\\Canopy32\\\\App\\\\appdata\\\\canopy-1.5.2.2785.win-x86\\\\lib\\\\lib-tk',\n",
       " 'C:\\\\Users\\\\p155121\\\\AppData\\\\Local\\\\Enthought\\\\Canopy32\\\\App\\\\appdata\\\\canopy-1.5.2.2785.win-x86',\n",
       " 'C:\\\\Users\\\\p155121\\\\AppData\\\\Local\\\\Enthought\\\\Canopy32\\\\User',\n",
       " 'C:\\\\Users\\\\p155121\\\\AppData\\\\Local\\\\Enthought\\\\Canopy32\\\\User\\\\lib\\\\site-packages',\n",
       " 'C:\\\\Users\\\\p155121\\\\AppData\\\\Local\\\\Enthought\\\\Canopy32\\\\User\\\\lib\\\\site-packages\\\\PIL',\n",
       " 'C:\\\\Users\\\\p155121\\\\AppData\\\\Local\\\\Enthought\\\\Canopy32\\\\User\\\\lib\\\\site-packages\\\\win32',\n",
       " 'C:\\\\Users\\\\p155121\\\\AppData\\\\Local\\\\Enthought\\\\Canopy32\\\\User\\\\lib\\\\site-packages\\\\win32\\\\lib',\n",
       " 'C:\\\\Users\\\\p155121\\\\AppData\\\\Local\\\\Enthought\\\\Canopy32\\\\User\\\\lib\\\\site-packages\\\\Pythonwin',\n",
       " 'C:\\\\Users\\\\p155121\\\\AppData\\\\Local\\\\Enthought\\\\Canopy32\\\\App\\\\appdata',\n",
       " 'C:\\\\Users\\\\p155121\\\\AppData\\\\Local\\\\Enthought\\\\Canopy32\\\\App\\\\appdata\\\\canopy-1.5.2.2785.win-x86\\\\lib\\\\site-packages',\n",
       " 'C:\\\\Users\\\\p155121\\\\AppData\\\\Local\\\\Enthought\\\\Canopy32\\\\App\\\\appdata\\\\canopy-1.5.2.2785.win-x86\\\\lib\\\\site-packages\\\\IPython\\\\extensions',\n",
       " 'C:\\\\Users\\\\p155121\\\\.ipython',\n",
       " 'D:\\\\workspace\\\\casinfe\\\\',\n",
       " 'D:\\\\workspace\\\\casinfe\\\\']"
      ]
     },
     "execution_count": 9,
     "metadata": {},
     "output_type": "execute_result"
    }
   ],
   "source": [
    "import sys \n",
    "#When importing the package, Python searches through the directories on sys.path looking for the package subdirectory.\n",
    "'''\n",
    "mypackage/\n",
    "    mod1.py\n",
    "    mod2.py\n",
    "    mod3.py\n",
    "    mod4.py\n",
    "'''\n",
    "sys.path\n",
    "\n",
    "#add sys.path.append(os.path.abspath('D:\\workspace\\casinfe'))\n",
    "#sys.path.append( 'D:\\\\workspace\\\\casinfe\\\\')"
   ]
  },
  {
   "cell_type": "code",
   "execution_count": 15,
   "metadata": {
    "collapsed": false
   },
   "outputs": [
    {
     "data": {
      "text/plain": [
       "['__builtins__', '__doc__', '__file__', '__name__', '__package__']"
      ]
     },
     "execution_count": 15,
     "metadata": {},
     "output_type": "execute_result"
    }
   ],
   "source": [
    "import mod1\n",
    "#it works! nota che genera un pyc\n",
    "dir(mod1)\n"
   ]
  },
  {
   "cell_type": "markdown",
   "metadata": {},
   "source": [
    "#### how a module should be structured."
   ]
  },
  {
   "cell_type": "code",
   "execution_count": null,
   "metadata": {
    "collapsed": true
   },
   "outputs": [],
   "source": [
    "This is how a module should be structured.\n",
    "\"\"\"module docstring\"\"\"\n",
    "# imports\n",
    "# constants\n",
    "# exception classes\n",
    "# interface functions\n",
    "# classes\n",
    "# internal functions & classes\n",
    "def main(...):\n",
    "...\n",
    "if __name__ == '__main__':\n",
    "status = main()\n",
    "sys.exit(status)"
   ]
  },
  {
   "cell_type": "code",
   "execution_count": null,
   "metadata": {
    "collapsed": true
   },
   "outputs": [],
   "source": [
    "module.py example...\n",
    "\"\"\"\n",
    "in other giles import so ...\n",
    "import module_template as mt\n",
    "mt.print_sample()\n",
    "\"\"\"\n",
    "#!/usr/bin/env python\n",
    "\"\"\"\n",
    "Module docstring.\n",
    "\"\"\"\n",
    "def print_sample():\n",
    "    print(\"welcome!!!\")\n",
    "    \n",
    "def main(argv=None):\n",
    "    print \"ciao\"\n",
    "    return 0 # success\n",
    "\n",
    "if __name__ == '__main__':\n",
    "    status = main()"
   ]
  },
  {
   "cell_type": "code",
   "execution_count": null,
   "metadata": {
    "collapsed": true
   },
   "outputs": [],
   "source": [
    "package/\n",
    "    __init__.py\n",
    "    module1.py\n",
    "    subpackage/\n",
    "          __init__.py\n",
    "          module2.py"
   ]
  },
  {
   "cell_type": "markdown",
   "metadata": {
    "collapsed": false
   },
   "source": [
    "<a id=\"function\"></a>\n",
    "<hr>\n",
    "# Functions"
   ]
  },
  {
   "cell_type": "code",
   "execution_count": 2,
   "metadata": {
    "collapsed": false
   },
   "outputs": [
    {
     "name": "stdout",
     "output_type": "stream",
     "text": [
      "arg1: 'Zed', arg2: 'Shaw'\n"
     ]
    }
   ],
   "source": [
    "def print_two(*args):\n",
    "    arg1, arg2 = args\n",
    "    print \"arg1: %r, arg2: %r\" % (arg1, arg2)\n",
    "\n",
    "print_two(\"Zed\",\"Shaw\")"
   ]
  },
  {
   "cell_type": "code",
   "execution_count": 2,
   "metadata": {
    "collapsed": false
   },
   "outputs": [
    {
     "name": "stdout",
     "output_type": "stream",
     "text": [
      "pay attention to default EMPTY values!!!!\n",
      "['one']\n",
      "['one', 'two']\n",
      "['one', 'two', 'three']\n",
      "['one']\n",
      "['two']\n",
      "['three']\n"
     ]
    }
   ],
   "source": [
    "print(\"pay attention to default EMPTY values!!!!\")\n",
    "def bad_append(new_item, a_list=[]):\n",
    "    a_list.append(new_item)\n",
    "    return a_list\n",
    "\n",
    "print bad_append('one')\n",
    "print bad_append('two')\n",
    "print bad_append('three')\n",
    "\n",
    "def good_append(new_item, a_list=None):\n",
    "    if a_list is None:\n",
    "        a_list = []\n",
    "        a_list.append(new_item)\n",
    "    return a_list\n",
    "print(\"good version\")\n",
    "print good_append('one')\n",
    "print good_append('two')\n",
    "print good_append('three')"
   ]
  },
  {
   "cell_type": "markdown",
   "metadata": {
    "collapsed": true
   },
   "source": [
    "<a id=\"class\"></a>\n",
    "<hr>\n",
    "# CLASS"
   ]
  },
  {
   "cell_type": "code",
   "execution_count": 26,
   "metadata": {
    "collapsed": false
   },
   "outputs": [
    {
     "name": "stdout",
     "output_type": "stream",
     "text": [
      "3\n",
      "50\n",
      "this is a class!\n"
     ]
    }
   ],
   "source": [
    "class simpleClass(object):\n",
    "    counter=50    \n",
    "    def info(self):\n",
    "        print \"this is a class!\"\n",
    "    def mysum (self,p1,p2 ):#note that you must add SELF also if dont use it\n",
    "        return p1+p2\n",
    "        \n",
    "sc=simpleClass()\n",
    "print(sc.mysum( 1 ,2))\n",
    "print sc.counter\n",
    "sc.info()"
   ]
  },
  {
   "cell_type": "code",
   "execution_count": 30,
   "metadata": {
    "collapsed": false
   },
   "outputs": [
    {
     "name": "stdout",
     "output_type": "stream",
     "text": [
      "100\n",
      "2\n"
     ]
    }
   ],
   "source": [
    "class withConstructor(object):\n",
    "    def __init__(self):#constructor\n",
    "        self.param1 = 100\n",
    "class withConstructor2(object):\n",
    "    def __init__(self,p1):#constructor\n",
    "        self.param1 = p1\n",
    "wc=withConstructor()\n",
    "print wc.param1\n",
    "wc=withConstructor2(2)\n",
    "print wc.param1\n"
   ]
  },
  {
   "cell_type": "code",
   "execution_count": 33,
   "metadata": {
    "collapsed": false
   },
   "outputs": [
    {
     "name": "stdout",
     "output_type": "stream",
     "text": [
      "50\n"
     ]
    }
   ],
   "source": [
    "class inheritConstructor(simpleClass):#here is the inheritance\n",
    "    pass\n",
    "ic=inheritConstructor()\n",
    "print ic.counter"
   ]
  },
  {
   "cell_type": "code",
   "execution_count": 34,
   "metadata": {
    "collapsed": false
   },
   "outputs": [
    {
     "name": "stdout",
     "output_type": "stream",
     "text": [
      "PARENT altered()\n",
      "CHILD, BEFORE PARENT altered()\n",
      "PARENT altered()\n",
      "CHILD, AFTER PARENT altered()\n"
     ]
    }
   ],
   "source": [
    "#OVERRIDE\n",
    "class Parent(object):\n",
    "\n",
    "    def altered(self):\n",
    "        print \"PARENT altered()\"\n",
    "\n",
    "class Child(Parent):\n",
    "\n",
    "    def altered(self):#OVERRIDE\n",
    "        print \"CHILD, BEFORE PARENT altered()\"\n",
    "        super(Child, self).altered()#here how to call the parent method\n",
    "        print \"CHILD, AFTER PARENT altered()\"\n",
    "\n",
    "dad = Parent()\n",
    "son = Child()\n",
    "\n",
    "dad.altered()\n",
    "son.altered()"
   ]
  },
  {
   "cell_type": "code",
   "execution_count": 41,
   "metadata": {
    "collapsed": false,
    "scrolled": false
   },
   "outputs": [
    {
     "ename": "TypeError",
     "evalue": "__init__() takes exactly 1 argument (2 given)",
     "output_type": "error",
     "traceback": [
      "\u001b[0;31m---------------------------------------------------------------------------\u001b[0m",
      "\u001b[0;31mTypeError\u001b[0m                                 Traceback (most recent call last)",
      "\u001b[0;32m<ipython-input-41-c0a03bd4fe75>\u001b[0m in \u001b[0;36m<module>\u001b[0;34m()\u001b[0m\n\u001b[1;32m      7\u001b[0m         \u001b[0mself\u001b[0m\u001b[0;34m.\u001b[0m\u001b[0mparam2\u001b[0m \u001b[0;34m=\u001b[0m \u001b[0;36m200\u001b[0m\u001b[0;34m\u001b[0m\u001b[0m\n\u001b[1;32m      8\u001b[0m \u001b[0mjohn\u001b[0m\u001b[0;34m=\u001b[0m\u001b[0mperson\u001b[0m\u001b[0;34m(\u001b[0m\u001b[0;34m)\u001b[0m\u001b[0;34m\u001b[0m\u001b[0m\n\u001b[0;32m----> 9\u001b[0;31m \u001b[0mclerk1\u001b[0m\u001b[0;34m=\u001b[0m\u001b[0memployee\u001b[0m\u001b[0;34m(\u001b[0m\u001b[0mjohn\u001b[0m\u001b[0;34m)\u001b[0m\u001b[0;34m\u001b[0m\u001b[0m\n\u001b[0m\u001b[1;32m     10\u001b[0m \u001b[0;34m\u001b[0m\u001b[0m\n",
      "\u001b[0;31mTypeError\u001b[0m: __init__() takes exactly 1 argument (2 given)"
     ]
    }
   ],
   "source": [
    "class person(object):\n",
    "    def __init__(self):\n",
    "        self.param1 = 100\n",
    "class employee(person):\n",
    "    def __init__(self):\n",
    "        #super(person,self).__init__()\n",
    "        self.param2 = 200\n",
    "john=person()\n",
    "clerk1=employee(john)\n",
    "        "
   ]
  },
  {
   "cell_type": "markdown",
   "metadata": {
    "collapsed": true
   },
   "source": [
    "<a id=\"exception\"></a>\n",
    "<hr>\n",
    "# EXCEPTION"
   ]
  },
  {
   "cell_type": "code",
   "execution_count": 1,
   "metadata": {
    "collapsed": false
   },
   "outputs": [
    {
     "name": "stdout",
     "output_type": "stream",
     "text": [
      "integer division or modulo by zero\n"
     ]
    }
   ],
   "source": [
    "try:\n",
    "    1/0\n",
    "except Exception,e:\n",
    "    print str(e)"
   ]
  },
  {
   "cell_type": "markdown",
   "metadata": {},
   "source": [
    "<a id=\"simple stmt\"></a>\n",
    "<hr>\n",
    "# simple stmt"
   ]
  },
  {
   "cell_type": "code",
   "execution_count": null,
   "metadata": {
    "collapsed": true
   },
   "outputs": [],
   "source": [
    "#non local\n",
    "http://stackoverflow.com/questions/1261875/python-nonlocal-statement\n",
    "https://docs.python.org/3/reference/simple_stmts.html#nonlocal\n",
    "#del\n",
    "http://stackoverflow.com/questions/6146963/when-is-del-useful-in-python\n",
    "del a[3]\n",
    "\n",
    "#assert\n",
    "assert True\n",
    "assert False"
   ]
  },
  {
   "cell_type": "code",
   "execution_count": 56,
   "metadata": {
    "collapsed": false
   },
   "outputs": [
    {
     "name": "stdout",
     "output_type": "stream",
     "text": [
      "0\n",
      "1\n",
      "4\n",
      "0\n",
      "1\n",
      "4\n",
      "0\n",
      "1\n",
      "4\n"
     ]
    }
   ],
   "source": [
    "#yield  :  iterator-->generator\n",
    "#http://stackoverflow.com/questions/231767/what-does-the-yield-keyword-do-in-python\n",
    "\n",
    "# iterable\n",
    "print \"iter 0\"\n",
    "mylist = [x*x for x in range(1000000)]\n",
    "print \"iter 1\"\n",
    "for i in mylist:\n",
    "    pass#print(i)\n",
    "print \"iter 2\"    \n",
    "for i in mylist:\n",
    "    pass#print(i)\n",
    "# generator\n",
    "#   are iterators, but you can only iterate over them once.\n",
    "#   they do not store all the values in memory,\n",
    "#they generate the values on the fly:\n",
    "print \"gen 0\"\n",
    "mygenerator = (x*x for x in range(1000000))\n",
    "print \"gen 1\"\n",
    "for i in mygenerator:\n",
    "    b=i\n",
    "print \"gen 2\"\n",
    "for i in mygenerator:\n",
    "    b=i\n",
    ">>> def createGenerator():\n",
    "...    mylist = range(3)\n",
    "...    for i in mylist:\n",
    "...        yield i*i\n",
    "...\n",
    ">>> mygenerator = createGenerator() # create a generator\n",
    ">>> print(mygenerator) # mygenerator is an object!\n",
    "<generator object createGenerator at 0xb7555c34>\n",
    ">>> for i in mygenerator:\n",
    "...     print(i)\n",
    "0\n",
    "1\n",
    "4"
   ]
  },
  {
   "cell_type": "code",
   "execution_count": null,
   "metadata": {
    "collapsed": true
   },
   "outputs": [],
   "source": []
  }
 ],
 "metadata": {
  "kernelspec": {
   "display_name": "Python 2",
   "language": "python",
   "name": "python2"
  },
  "language_info": {
   "codemirror_mode": {
    "name": "ipython",
    "version": 2
   },
   "file_extension": ".py",
   "mimetype": "text/x-python",
   "name": "python",
   "nbconvert_exporter": "python",
   "pygments_lexer": "ipython2",
   "version": "2.7.10"
  }
 },
 "nbformat": 4,
 "nbformat_minor": 0
}
