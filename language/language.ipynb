{
 "metadata": {
  "name": "",
  "signature": "sha256:1a504d98ff4cfb573e3ceebcf8321af92e21e233e307bf5cbb6ec9b59b5559e8"
 },
 "nbformat": 3,
 "nbformat_minor": 0,
 "worksheets": [
  {
   "cells": [
    {
     "cell_type": "heading",
     "level": 1,
     "metadata": {},
     "source": [
      "DATA TYPES"
     ]
    },
    {
     "cell_type": "heading",
     "level": 2,
     "metadata": {},
     "source": [
      "SCALAR"
     ]
    },
    {
     "cell_type": "code",
     "collapsed": false,
     "input": [
      "#String\n",
      "print 'JOIN:' + '-'.join( ['a','b','c'] ) \n",
      "print ('SPLIT:' ,  'a,b,c'.split(',')  )\n",
      "print ('Strip:' ,  ' a  b  c '.strip(' ')  )\n",
      "print  ('IN '   + repr( 'text_to_search' in 'a,b,c' )  )\n",
      "print  'INDEX %i'   % 'a234,b,c'.index(',')     \n",
      "print('FIND %i'   % 'a,b,c'.find(':') )\n",
      "print('REPLACE:'+\"aaaa3aa\".replace(\"3\",\"W\"))\n",
      "print('COUNT %i'   % 'a,b,c'.count(',')) \n",
      "#count endswith startswith rfind   rstrip, lstrip lower, upper ljust, rjust\n",
      "print 'escape_quote 0\\'0'\n",
      "print '''multi_line_string row 1 \n",
      "  multi_line_string row 2 \n",
      "  multi_line_string row 3 '''\n",
      "print '3 NEW LINES!!! \\n \\n \\n '\n",
      "\n",
      "print 'PREPEAT_string '*4\n",
      "print 'Strings can be indexed (subscripted)'\n",
      "print 'Strings can be indexed (subscripted)'[0]\n",
      "print 'Strings can be indexed (subscripted)'[-1]\n",
      "print 'Strings can be indexed (subscripted)'[-5:]\n",
      "\n",
      "\n"
     ],
     "language": "python",
     "metadata": {},
     "outputs": [
      {
       "output_type": "stream",
       "stream": "stdout",
       "text": [
        "JOIN:a-b-c\n",
        "('SPLIT:', ['a', 'b', 'c'])\n",
        "('Strip:', 'a  b  c')\n",
        "IN False\n",
        "INDEX 4\n",
        "FIND -1\n",
        "REPLACE:aaaaWaa\n",
        "COUNT 2\n",
        "escape_quote 0'0\n",
        "multi_line_string row 1 \n",
        "  multi_line_string row 2 \n",
        "  multi_line_string row 3 \n",
        "3 NEW LINES!!! \n",
        " \n",
        " \n",
        " \n",
        "PREPEAT_string PREPEAT_string PREPEAT_string PREPEAT_string \n",
        "Strings can be indexed (subscripted)\n",
        "S\n",
        ")\n",
        "pted)\n"
       ]
      }
     ],
     "prompt_number": 20
    },
    {
     "cell_type": "heading",
     "level": 1,
     "metadata": {},
     "source": [
      "Formatter"
     ]
    },
    {
     "cell_type": "code",
     "collapsed": false,
     "input": [
      "# %s usa str()\n",
      "# %r usa repr()  \n",
      "# %d    %c  %f \n",
      "print('https://docs.python.org/2/library/string.html#format-specification-mini-language')\n",
      "\n",
      "my_name='john'\n",
      "my_height=200\n",
      "var1=10\n",
      "var2=20\n",
      "var3=30\n",
      "print \"Format String %s.\"  % my_name\n",
      "#d\n",
      "print \"Format  %d decimal\" % my_height\n",
      "print \"Expressions d sum_all %d.\" % (     var1 + var2 + var3)\n",
      "#r\n",
      "print \"Format  %r R-repr \" % my_height\n",
      "print \"NOTE THE QUOTE with var instead of actual value :  %r R-repr \" % my_name\n",
      "\n",
      "print \"Multiple values must be within parentheses  %d, %d,  %d\" % (    var1, var2, var3)\n",
      "print('{0} and {1}'.format('spam', 'eggs'))\n",
      "print('{1} and {0}'.format('spam', 'eggs'))\n",
      "print('This {food} is {adjective}.'.format(food='spam', adjective='absolutely horrible'))\n",
      "#template / format string\n",
      "template = '%.2f %s are worth $%d'\n",
      "template % (4.5560, 'Argentine Pesos', 1)\n",
      "import math\n",
      "print('PI approximates %2.2f' % math.pi)\n",
      "\n",
      "\n",
      "\n",
      "#######CONCAT\n",
      "print ('concat +  the \\',\\' concat plus space ')"
     ],
     "language": "python",
     "metadata": {},
     "outputs": [
      {
       "output_type": "stream",
       "stream": "stdout",
       "text": [
        "https://docs.python.org/2/library/string.html#format-specification-mini-language\n",
        "Format String john.\n",
        "Format  200 decimal\n",
        "Expressions d sum_all 60.\n",
        "Format  200 R-repr \n",
        "NOTE THE QUOTE with var instead of actual value :  'john' R-repr \n",
        "Multiple values must be within parentheses  10, 20,  30\n",
        "spam and eggs\n",
        "eggs and spam\n",
        "This spam is absolutely horrible.\n",
        "PI approximates 3.14\n",
        "concat +  the ',' concat plus space \n"
       ]
      }
     ],
     "prompt_number": 15
    },
    {
     "cell_type": "heading",
     "level": 2,
     "metadata": {},
     "source": [
      "number,int, float MATH"
     ]
    },
    {
     "cell_type": "code",
     "collapsed": false,
     "input": [
      "print('DIVISION 17/3',17/3)\n",
      "print('  17//3',17//3)\n",
      "print('power 2**3 ',2**3)\n",
      "\n"
     ],
     "language": "python",
     "metadata": {},
     "outputs": [
      {
       "output_type": "stream",
       "stream": "stdout",
       "text": [
        "('DIVISION 17/3', 5)\n",
        "('  17//3', 5)\n",
        "('power 2**3 ', 8)\n"
       ]
      }
     ],
     "prompt_number": 10
    },
    {
     "cell_type": "heading",
     "level": 2,
     "metadata": {},
     "source": [
      "LIST"
     ]
    },
    {
     "cell_type": "code",
     "collapsed": false,
     "input": [
      "'''\n",
      "   just put  []\n",
      "   can be a list of different types\n",
      "   http://effbot.org/zone/python-list.htm\n",
      "   https://docs.python.org/2/tutorial/datastructures.html\n",
      "'''\n",
      "#Create\n",
      "list_1 = [100,101,102,103,'104a',[600,601]]\n",
      "print(list_1)\n",
      "#List comprehension\n",
      "squares = [x**2       for  x       in range(10)]\n",
      "#     L = [expression for variable in sequence]\n",
      "\n",
      "\n",
      "#index / assign\n",
      "list_1[2]\n",
      "list_1[0]=100\n",
      "list_1.append(44)\n",
      "seq = list_1[1::2] # get every other item, starting with the second\n",
      "print('seq slice',seq)\n",
      "#interval\n",
      "print('interval',list_1[3:5])\n",
      "\n",
      "#Insert at given idx\n",
      "list_1.insert(5, 5000)\n",
      "#Remove\n",
      "list_1.insert(5, 1234)\n",
      "list_1.remove(1234)\n",
      "list_1.insert(5, 1234)\n",
      "list_1.pop(5)\n",
      "\n",
      "#Loop a List\n",
      "print (\"--- iterate LIST\")\n",
      "for element in list_1:\n",
      "    print (\" List element: %s  \" % element)\n",
      "\n",
      "#ENUMARATE a List  \n",
      "print (\"--- enumerate LIST (get the index)\")\n",
      "for index, item in enumerate(list_1):\n",
      "    print index, item\n",
      "\n",
      "#Searching Lists\n",
      "if 103 in list_1:\n",
      "    print \"list contains\", 103\n",
      "    \n",
      "#Unpacking\n",
      "packed=[1,2,3,4,5]\n",
      "unpacked_1,unpacked_2,unpacked_3,unpacked_4,unpacked_5 = packed\n",
      "print('PACKED:',packed)\n",
      "print('unpacked_3:',unpacked_3)\n"
     ],
     "language": "python",
     "metadata": {},
     "outputs": [
      {
       "output_type": "stream",
       "stream": "stdout",
       "text": [
        "[100, 101, 102, 103, '104a', [600, 601]]\n",
        "('seq slice', [101, 103, [600, 601]])\n",
        "('interval', [103, '104a'])\n",
        "--- iterate LIST\n",
        " List element: 100  \n",
        " List element: 101  \n",
        " List element: 102  \n",
        " List element: 103  \n",
        " List element: 104a  \n",
        " List element: 5000  \n",
        " List element: [600, 601]  \n",
        " List element: 44  \n",
        "--- enumerate LIST (get the index)\n",
        "0 100\n",
        "1 101\n",
        "2 102\n",
        "3 103\n",
        "4 104a\n",
        "5 5000\n",
        "6 [600, 601]\n",
        "7 44\n",
        "list contains 103\n",
        "('PACKED:', [1, 2, 3, 4, 5])\n",
        "('unpacked_3:', 3)\n"
       ]
      }
     ],
     "prompt_number": 2
    },
    {
     "cell_type": "heading",
     "level": 2,
     "metadata": {},
     "source": [
      "DICTIONARIES"
     ]
    },
    {
     "cell_type": "code",
     "collapsed": false,
     "input": [
      "'''\n",
      "Indexed by keys\n",
      "associative arrays\n",
      "https://docs.python.org/2/tutorial/datastructures.html#dictionaries\n",
      "'''\n",
      "\n",
      "#Create\n",
      "tel = {'jack': 4098,  'tom': 1234}\n",
      "print(tel)\n",
      "#dict comprehensions\n",
      "dict_1 ={x: x**2 for x in (2, 4, 6)}\n",
      "#print(dict_1)\n",
      "\n",
      "#Access\n",
      "print(tel['tom'])\n",
      "\n",
      "#Looping ENUMERATE\n",
      "print('--- Dict enumerate')\n",
      "for i, v in enumerate(['tic', 'tac', 'toe']):\n",
      "    print i, v\n"
     ],
     "language": "python",
     "metadata": {},
     "outputs": [
      {
       "output_type": "stream",
       "stream": "stdout",
       "text": [
        "{'jack': 4098, 'tom': 1234}\n",
        "1234\n",
        "--- Dict enumerate\n",
        "0 tic\n",
        "1 tac\n",
        "2 toe\n"
       ]
      }
     ],
     "prompt_number": 32
    },
    {
     "cell_type": "heading",
     "level": 1,
     "metadata": {},
     "source": [
      "TUPLE - Konstant"
     ]
    },
    {
     "cell_type": "code",
     "collapsed": false,
     "input": [
      "'''\n",
      "are constant\n",
      "'''\n",
      "tup1 = ('physics', 'chemistry', 1997, 2000);\n",
      "\n",
      "\n",
      "print('Length',len((1, 2, 3)) )\n",
      "print('Concatenation', ( (1, 2, 3) + (4, 5, 6) ) )\n",
      "print('Repetition',   ( ('Hi!',) * 4 ) )\n",
      "print('Membership', (  3 in (1, 2, 3))    )\n",
      "#print('Iteration',    ( for x in (1, 2, 3): print x, )   )"
     ],
     "language": "python",
     "metadata": {},
     "outputs": [
      {
       "output_type": "stream",
       "stream": "stdout",
       "text": [
        "('Length', 3)\n",
        "('Concatenation', (1, 2, 3, 4, 5, 6))\n",
        "('Repetition', ('Hi!', 'Hi!', 'Hi!', 'Hi!'))\n",
        "('Membership', True)\n"
       ]
      }
     ],
     "prompt_number": 4
    },
    {
     "cell_type": "code",
     "collapsed": false,
     "input": [
      "tup1[2]=333\n",
      "print(tup1)"
     ],
     "language": "python",
     "metadata": {},
     "outputs": [
      {
       "ename": "TypeError",
       "evalue": "'tuple' object does not support item assignment",
       "output_type": "pyerr",
       "traceback": [
        "\u001b[1;31m---------------------------------------------------------------------------\u001b[0m\n\u001b[1;31mTypeError\u001b[0m                                 Traceback (most recent call last)",
        "\u001b[1;32m<ipython-input-6-d3f4243fb193>\u001b[0m in \u001b[0;36m<module>\u001b[1;34m()\u001b[0m\n\u001b[1;32m----> 1\u001b[1;33m \u001b[0mtup1\u001b[0m\u001b[1;33m[\u001b[0m\u001b[1;36m2\u001b[0m\u001b[1;33m]\u001b[0m\u001b[1;33m=\u001b[0m\u001b[1;36m333\u001b[0m\u001b[1;33m\u001b[0m\u001b[0m\n\u001b[0m\u001b[0;32m      2\u001b[0m \u001b[1;32mprint\u001b[0m\u001b[1;33m(\u001b[0m\u001b[0mtup1\u001b[0m\u001b[1;33m)\u001b[0m\u001b[1;33m\u001b[0m\u001b[0m\n",
        "\u001b[1;31mTypeError\u001b[0m: 'tuple' object does not support item assignment"
       ]
      }
     ],
     "prompt_number": 6
    },
    {
     "cell_type": "heading",
     "level": 2,
     "metadata": {},
     "source": [
      "SETS"
     ]
    },
    {
     "cell_type": "code",
     "collapsed": false,
     "input": [
      "'''\n",
      " unordered collection with no duplicate \n",
      " https://docs.python.org/2/tutorial/datastructures.html#sets\n",
      " \n",
      "'''\n",
      "#Create\n",
      "basket = ['apple', 'orange', 'apple', 'pear', 'orange', 'banana']\n",
      "#Remove duplicate\n",
      "fruit = set(basket)               # create a set without duplicates\n",
      "print('dulpicate removed',fruit)\n",
      "\n",
      "# fast membership testing\n",
      "\n",
      "print('membership test','orange' in fruit)\n"
     ],
     "language": "python",
     "metadata": {},
     "outputs": [
      {
       "output_type": "stream",
       "stream": "stdout",
       "text": [
        "('dulpicate removed', set(['orange', 'pear', 'apple', 'banana']))\n",
        "('membership test', True)\n"
       ]
      }
     ],
     "prompt_number": 36
    },
    {
     "cell_type": "code",
     "collapsed": false,
     "input": [
      "# Demonstrate set operations on unique letters from two words\n",
      "print('--- SET operation')\n",
      "a = set('abracadabra')\n",
      "b = set('alacazam')\n",
      "set(['a', 'r', 'b', 'c', 'd'])\n",
      "print('letters in a but not in b' ,a - b )\n",
      "print('letters in either a or b', a | b )\n",
      "print('letters in both a and b',a & b)                              # \n",
      "print(' letters in a or b but not both', a ^ b                             )\n"
     ],
     "language": "python",
     "metadata": {},
     "outputs": [
      {
       "output_type": "stream",
       "stream": "stdout",
       "text": [
        "--- SET operation\n",
        "('letters in a but not in b', set(['r', 'b', 'd']))\n",
        "('letters in either a or b', set(['a', 'c', 'b', 'd', 'm', 'l', 'r', 'z']))\n",
        "('letters in both a and b', set(['a', 'c']))\n",
        "(' letters in a or b but not both', set(['b', 'd', 'm', 'l', 'r', 'z']))\n"
       ]
      }
     ],
     "prompt_number": 38
    },
    {
     "cell_type": "heading",
     "level": 3,
     "metadata": {},
     "source": [
      "Check Installed packages"
     ]
    },
    {
     "cell_type": "code",
     "collapsed": false,
     "input": [
      "import pip\n",
      "installed_packages = pip.get_installed_distributions()\n",
      "installed_packages_list = sorted([\"%s==%s\" % (i.key, i.version)\n",
      "     for i in installed_packages])\n",
      "print(installed_packages_list)"
     ],
     "language": "python",
     "metadata": {},
     "outputs": []
    },
    {
     "cell_type": "heading",
     "level": 2,
     "metadata": {},
     "source": [
      "IPYTHON"
     ]
    },
    {
     "cell_type": "code",
     "collapsed": false,
     "input": [
      "MAGIC cmd %\n",
      "%magic\n",
      "%run EXEC a skript:u need absolute path!!!!!\n",
      "%run ipython_script_test.py\n",
      "%paste\n",
      "%logstart\n",
      "%logoff\n",
      "%pwd\n",
      "%dhist\n",
      "%cd\n",
      "COMANDI con uniy  !\n",
      "!touch pippo.txt\n",
      "!ls\n",
      "creare alias per directory\n",
      "%bookmark db /home/wesm/Dropbox/\n",
      "%pdb debug"
     ],
     "language": "python",
     "metadata": {},
     "outputs": []
    },
    {
     "cell_type": "code",
     "collapsed": false,
     "input": [
      "# ? after object\n",
      "a=[[1,2,4],[7,8,4]]\n",
      "\n",
      "a?\n",
      "\n",
      "#Time of CMD execution\n",
      "%time minibatch.fit(blobs)\n",
      "numpy.*?"
     ],
     "language": "python",
     "metadata": {},
     "outputs": [
      {
       "ename": "NameError",
       "evalue": "name 'minibatch' is not defined",
       "output_type": "pyerr",
       "traceback": [
        "\u001b[1;31m---------------------------------------------------------------------------\u001b[0m\n\u001b[1;31mNameError\u001b[0m                                 Traceback (most recent call last)",
        "\u001b[1;32m<ipython-input-7-8cb04fd582c1>\u001b[0m in \u001b[0;36m<module>\u001b[1;34m()\u001b[0m\n\u001b[0;32m      5\u001b[0m \u001b[1;33m\u001b[0m\u001b[0m\n\u001b[0;32m      6\u001b[0m \u001b[1;31m#Time of CMD execution\u001b[0m\u001b[1;33m\u001b[0m\u001b[1;33m\u001b[0m\u001b[0m\n\u001b[1;32m----> 7\u001b[1;33m \u001b[0mget_ipython\u001b[0m\u001b[1;33m(\u001b[0m\u001b[1;33m)\u001b[0m\u001b[1;33m.\u001b[0m\u001b[0mmagic\u001b[0m\u001b[1;33m(\u001b[0m\u001b[1;34mu'time minibatch.fit(blobs)'\u001b[0m\u001b[1;33m)\u001b[0m\u001b[1;33m\u001b[0m\u001b[0m\n\u001b[0m\u001b[0;32m      8\u001b[0m \u001b[0mget_ipython\u001b[0m\u001b[1;33m(\u001b[0m\u001b[1;33m)\u001b[0m\u001b[1;33m.\u001b[0m\u001b[0mmagic\u001b[0m\u001b[1;33m(\u001b[0m\u001b[1;34mu'psearch numpy.*'\u001b[0m\u001b[1;33m)\u001b[0m\u001b[1;33m\u001b[0m\u001b[0m\n",
        "\u001b[1;32mC:\\Users\\p155121\\AppData\\Local\\Enthought\\Canopy32\\App\\appdata\\canopy-1.5.2.2785.win-x86\\lib\\site-packages\\IPython\\core\\interactiveshell.pyc\u001b[0m in \u001b[0;36mmagic\u001b[1;34m(self, arg_s)\u001b[0m\n\u001b[0;32m   2203\u001b[0m         \u001b[0mmagic_name\u001b[0m\u001b[1;33m,\u001b[0m \u001b[0m_\u001b[0m\u001b[1;33m,\u001b[0m \u001b[0mmagic_arg_s\u001b[0m \u001b[1;33m=\u001b[0m \u001b[0marg_s\u001b[0m\u001b[1;33m.\u001b[0m\u001b[0mpartition\u001b[0m\u001b[1;33m(\u001b[0m\u001b[1;34m' '\u001b[0m\u001b[1;33m)\u001b[0m\u001b[1;33m\u001b[0m\u001b[0m\n\u001b[0;32m   2204\u001b[0m         \u001b[0mmagic_name\u001b[0m \u001b[1;33m=\u001b[0m \u001b[0mmagic_name\u001b[0m\u001b[1;33m.\u001b[0m\u001b[0mlstrip\u001b[0m\u001b[1;33m(\u001b[0m\u001b[0mprefilter\u001b[0m\u001b[1;33m.\u001b[0m\u001b[0mESC_MAGIC\u001b[0m\u001b[1;33m)\u001b[0m\u001b[1;33m\u001b[0m\u001b[0m\n\u001b[1;32m-> 2205\u001b[1;33m         \u001b[1;32mreturn\u001b[0m \u001b[0mself\u001b[0m\u001b[1;33m.\u001b[0m\u001b[0mrun_line_magic\u001b[0m\u001b[1;33m(\u001b[0m\u001b[0mmagic_name\u001b[0m\u001b[1;33m,\u001b[0m \u001b[0mmagic_arg_s\u001b[0m\u001b[1;33m)\u001b[0m\u001b[1;33m\u001b[0m\u001b[0m\n\u001b[0m\u001b[0;32m   2206\u001b[0m \u001b[1;33m\u001b[0m\u001b[0m\n\u001b[0;32m   2207\u001b[0m     \u001b[1;31m#-------------------------------------------------------------------------\u001b[0m\u001b[1;33m\u001b[0m\u001b[1;33m\u001b[0m\u001b[0m\n",
        "\u001b[1;32mC:\\Users\\p155121\\AppData\\Local\\Enthought\\Canopy32\\App\\appdata\\canopy-1.5.2.2785.win-x86\\lib\\site-packages\\IPython\\core\\interactiveshell.pyc\u001b[0m in \u001b[0;36mrun_line_magic\u001b[1;34m(self, magic_name, line)\u001b[0m\n\u001b[0;32m   2124\u001b[0m                 \u001b[0mkwargs\u001b[0m\u001b[1;33m[\u001b[0m\u001b[1;34m'local_ns'\u001b[0m\u001b[1;33m]\u001b[0m \u001b[1;33m=\u001b[0m \u001b[0msys\u001b[0m\u001b[1;33m.\u001b[0m\u001b[0m_getframe\u001b[0m\u001b[1;33m(\u001b[0m\u001b[0mstack_depth\u001b[0m\u001b[1;33m)\u001b[0m\u001b[1;33m.\u001b[0m\u001b[0mf_locals\u001b[0m\u001b[1;33m\u001b[0m\u001b[0m\n\u001b[0;32m   2125\u001b[0m             \u001b[1;32mwith\u001b[0m \u001b[0mself\u001b[0m\u001b[1;33m.\u001b[0m\u001b[0mbuiltin_trap\u001b[0m\u001b[1;33m:\u001b[0m\u001b[1;33m\u001b[0m\u001b[0m\n\u001b[1;32m-> 2126\u001b[1;33m                 \u001b[0mresult\u001b[0m \u001b[1;33m=\u001b[0m \u001b[0mfn\u001b[0m\u001b[1;33m(\u001b[0m\u001b[1;33m*\u001b[0m\u001b[0margs\u001b[0m\u001b[1;33m,\u001b[0m\u001b[1;33m**\u001b[0m\u001b[0mkwargs\u001b[0m\u001b[1;33m)\u001b[0m\u001b[1;33m\u001b[0m\u001b[0m\n\u001b[0m\u001b[0;32m   2127\u001b[0m             \u001b[1;32mreturn\u001b[0m \u001b[0mresult\u001b[0m\u001b[1;33m\u001b[0m\u001b[0m\n\u001b[0;32m   2128\u001b[0m \u001b[1;33m\u001b[0m\u001b[0m\n",
        "\u001b[1;32mC:\\Users\\p155121\\AppData\\Local\\Enthought\\Canopy32\\App\\appdata\\canopy-1.5.2.2785.win-x86\\lib\\site-packages\\IPython\\core\\magics\\execution.pyc\u001b[0m in \u001b[0;36mtime\u001b[1;34m(self, line, cell, local_ns)\u001b[0m\n",
        "\u001b[1;32mC:\\Users\\p155121\\AppData\\Local\\Enthought\\Canopy32\\App\\appdata\\canopy-1.5.2.2785.win-x86\\lib\\site-packages\\IPython\\core\\magic.pyc\u001b[0m in \u001b[0;36m<lambda>\u001b[1;34m(f, *a, **k)\u001b[0m\n\u001b[0;32m    191\u001b[0m     \u001b[1;31m# but it's overkill for just that one bit of state.\u001b[0m\u001b[1;33m\u001b[0m\u001b[1;33m\u001b[0m\u001b[0m\n\u001b[0;32m    192\u001b[0m     \u001b[1;32mdef\u001b[0m \u001b[0mmagic_deco\u001b[0m\u001b[1;33m(\u001b[0m\u001b[0marg\u001b[0m\u001b[1;33m)\u001b[0m\u001b[1;33m:\u001b[0m\u001b[1;33m\u001b[0m\u001b[0m\n\u001b[1;32m--> 193\u001b[1;33m         \u001b[0mcall\u001b[0m \u001b[1;33m=\u001b[0m \u001b[1;32mlambda\u001b[0m \u001b[0mf\u001b[0m\u001b[1;33m,\u001b[0m \u001b[1;33m*\u001b[0m\u001b[0ma\u001b[0m\u001b[1;33m,\u001b[0m \u001b[1;33m**\u001b[0m\u001b[0mk\u001b[0m\u001b[1;33m:\u001b[0m \u001b[0mf\u001b[0m\u001b[1;33m(\u001b[0m\u001b[1;33m*\u001b[0m\u001b[0ma\u001b[0m\u001b[1;33m,\u001b[0m \u001b[1;33m**\u001b[0m\u001b[0mk\u001b[0m\u001b[1;33m)\u001b[0m\u001b[1;33m\u001b[0m\u001b[0m\n\u001b[0m\u001b[0;32m    194\u001b[0m \u001b[1;33m\u001b[0m\u001b[0m\n\u001b[0;32m    195\u001b[0m         \u001b[1;32mif\u001b[0m \u001b[0mcallable\u001b[0m\u001b[1;33m(\u001b[0m\u001b[0marg\u001b[0m\u001b[1;33m)\u001b[0m\u001b[1;33m:\u001b[0m\u001b[1;33m\u001b[0m\u001b[0m\n",
        "\u001b[1;32mC:\\Users\\p155121\\AppData\\Local\\Enthought\\Canopy32\\App\\appdata\\canopy-1.5.2.2785.win-x86\\lib\\site-packages\\IPython\\core\\magics\\execution.pyc\u001b[0m in \u001b[0;36mtime\u001b[1;34m(self, line, cell, local_ns)\u001b[0m\n\u001b[0;32m   1123\u001b[0m         \u001b[1;32mif\u001b[0m \u001b[0mmode\u001b[0m\u001b[1;33m==\u001b[0m\u001b[1;34m'eval'\u001b[0m\u001b[1;33m:\u001b[0m\u001b[1;33m\u001b[0m\u001b[0m\n\u001b[0;32m   1124\u001b[0m             \u001b[0mst\u001b[0m \u001b[1;33m=\u001b[0m \u001b[0mclock2\u001b[0m\u001b[1;33m(\u001b[0m\u001b[1;33m)\u001b[0m\u001b[1;33m\u001b[0m\u001b[0m\n\u001b[1;32m-> 1125\u001b[1;33m             \u001b[0mout\u001b[0m \u001b[1;33m=\u001b[0m \u001b[0meval\u001b[0m\u001b[1;33m(\u001b[0m\u001b[0mcode\u001b[0m\u001b[1;33m,\u001b[0m \u001b[0mglob\u001b[0m\u001b[1;33m,\u001b[0m \u001b[0mlocal_ns\u001b[0m\u001b[1;33m)\u001b[0m\u001b[1;33m\u001b[0m\u001b[0m\n\u001b[0m\u001b[0;32m   1126\u001b[0m             \u001b[0mend\u001b[0m \u001b[1;33m=\u001b[0m \u001b[0mclock2\u001b[0m\u001b[1;33m(\u001b[0m\u001b[1;33m)\u001b[0m\u001b[1;33m\u001b[0m\u001b[0m\n\u001b[0;32m   1127\u001b[0m         \u001b[1;32melse\u001b[0m\u001b[1;33m:\u001b[0m\u001b[1;33m\u001b[0m\u001b[0m\n",
        "\u001b[1;32m<timed eval>\u001b[0m in \u001b[0;36m<module>\u001b[1;34m()\u001b[0m\n",
        "\u001b[1;31mNameError\u001b[0m: name 'minibatch' is not defined"
       ]
      }
     ],
     "prompt_number": 7
    },
    {
     "cell_type": "heading",
     "level": 1,
     "metadata": {},
     "source": [
      "PACKAGES / Modules"
     ]
    },
    {
     "cell_type": "code",
     "collapsed": false,
     "input": [
      "import sys \n",
      "#When importing the package, Python searches through the directories on sys.path looking for the package subdirectory.\n",
      "'''\n",
      "mypackage/\n",
      "    mod1.py\n",
      "    mod2.py\n",
      "    mod3.py\n",
      "    mod4.py\n",
      "'''\n",
      "sys.path\n",
      "\n",
      "#add sys.path.append(os.path.abspath('D:\\workspace\\casinfe'))\n",
      "#sys.path.append( 'D:\\\\workspace\\\\casinfe\\\\')"
     ],
     "language": "python",
     "metadata": {},
     "outputs": [
      {
       "metadata": {},
       "output_type": "pyout",
       "prompt_number": 9,
       "text": [
        "['',\n",
        " 'C:\\\\Users\\\\p155121\\\\AppData\\\\Local\\\\Enthought\\\\Canopy32\\\\User\\\\lib\\\\site-packages\\\\graphviz-0.4.4-py2.7.egg',\n",
        " 'C:\\\\Users\\\\p155121\\\\AppData\\\\Local\\\\Enthought\\\\Canopy32\\\\User\\\\Scripts\\\\python27.zip',\n",
        " 'C:\\\\Users\\\\p155121\\\\AppData\\\\Local\\\\Enthought\\\\Canopy32\\\\App\\\\appdata\\\\canopy-1.5.2.2785.win-x86\\\\DLLs',\n",
        " 'C:\\\\Users\\\\p155121\\\\AppData\\\\Local\\\\Enthought\\\\Canopy32\\\\App\\\\appdata\\\\canopy-1.5.2.2785.win-x86\\\\lib',\n",
        " 'C:\\\\Users\\\\p155121\\\\AppData\\\\Local\\\\Enthought\\\\Canopy32\\\\App\\\\appdata\\\\canopy-1.5.2.2785.win-x86\\\\lib\\\\plat-win',\n",
        " 'C:\\\\Users\\\\p155121\\\\AppData\\\\Local\\\\Enthought\\\\Canopy32\\\\App\\\\appdata\\\\canopy-1.5.2.2785.win-x86\\\\lib\\\\lib-tk',\n",
        " 'C:\\\\Users\\\\p155121\\\\AppData\\\\Local\\\\Enthought\\\\Canopy32\\\\App\\\\appdata\\\\canopy-1.5.2.2785.win-x86',\n",
        " 'C:\\\\Users\\\\p155121\\\\AppData\\\\Local\\\\Enthought\\\\Canopy32\\\\User',\n",
        " 'C:\\\\Users\\\\p155121\\\\AppData\\\\Local\\\\Enthought\\\\Canopy32\\\\User\\\\lib\\\\site-packages',\n",
        " 'C:\\\\Users\\\\p155121\\\\AppData\\\\Local\\\\Enthought\\\\Canopy32\\\\User\\\\lib\\\\site-packages\\\\PIL',\n",
        " 'C:\\\\Users\\\\p155121\\\\AppData\\\\Local\\\\Enthought\\\\Canopy32\\\\User\\\\lib\\\\site-packages\\\\win32',\n",
        " 'C:\\\\Users\\\\p155121\\\\AppData\\\\Local\\\\Enthought\\\\Canopy32\\\\User\\\\lib\\\\site-packages\\\\win32\\\\lib',\n",
        " 'C:\\\\Users\\\\p155121\\\\AppData\\\\Local\\\\Enthought\\\\Canopy32\\\\User\\\\lib\\\\site-packages\\\\Pythonwin',\n",
        " 'C:\\\\Users\\\\p155121\\\\AppData\\\\Local\\\\Enthought\\\\Canopy32\\\\App\\\\appdata',\n",
        " 'C:\\\\Users\\\\p155121\\\\AppData\\\\Local\\\\Enthought\\\\Canopy32\\\\App\\\\appdata\\\\canopy-1.5.2.2785.win-x86\\\\lib\\\\site-packages',\n",
        " 'C:\\\\Users\\\\p155121\\\\AppData\\\\Local\\\\Enthought\\\\Canopy32\\\\App\\\\appdata\\\\canopy-1.5.2.2785.win-x86\\\\lib\\\\site-packages\\\\IPython\\\\extensions',\n",
        " 'C:\\\\Users\\\\p155121\\\\.ipython',\n",
        " 'D:\\\\workspace\\\\casinfe\\\\',\n",
        " 'D:\\\\workspace\\\\casinfe\\\\']"
       ]
      }
     ],
     "prompt_number": 9
    },
    {
     "cell_type": "code",
     "collapsed": false,
     "input": [
      "import mod1\n",
      "#it works! nota che genera un pyc\n",
      "dir(mod1)\n"
     ],
     "language": "python",
     "metadata": {},
     "outputs": [
      {
       "metadata": {},
       "output_type": "pyout",
       "prompt_number": 15,
       "text": [
        "['__builtins__', '__doc__', '__file__', '__name__', '__package__']"
       ]
      }
     ],
     "prompt_number": 15
    },
    {
     "cell_type": "code",
     "collapsed": false,
     "input": [],
     "language": "python",
     "metadata": {},
     "outputs": []
    }
   ],
   "metadata": {}
  }
 ]
}