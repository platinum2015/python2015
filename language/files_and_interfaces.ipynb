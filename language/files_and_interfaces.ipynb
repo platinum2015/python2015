{
 "metadata": {
  "name": "",
  "signature": "sha256:e85f688978d5f23dd82ed019ed2f8e628ea41340ff00d60175047c7f1703f8ca"
 },
 "nbformat": 3,
 "nbformat_minor": 0,
 "worksheets": [
  {
   "cells": [
    {
     "cell_type": "heading",
     "level": 2,
     "metadata": {},
     "source": [
      "CSV"
     ]
    },
    {
     "cell_type": "code",
     "collapsed": false,
     "input": [
      "import pandas as pd\n",
      "'''\n",
      "a,b,c,d,message\n",
      "1,2,3,4,hello\n",
      "5,6,7,8,world\n",
      "9,10,11,12,foo\n",
      "'''\n",
      "\n",
      "#READ CSV   (with header)\n",
      "df = pd.read_csv('H:/Technology/python/Dataset/pydata-book-master/ch06/ex1.csv')\n",
      "print( df )\n",
      "print( df.index )\n",
      "print( df.columns )\n",
      "print( df.values )\n",
      "df\n",
      "\n"
     ],
     "language": "python",
     "metadata": {},
     "outputs": [
      {
       "output_type": "stream",
       "stream": "stdout",
       "text": [
        "   a   b   c   d message\n",
        "0  1   2   3   4   hello\n",
        "1  5   6   7   8   world\n",
        "2  9  10  11  12     foo\n",
        "Int64Index([0, 1, 2], dtype='int64')\n",
        "Index([u'a', u'b', u'c', u'd', u'message'], dtype='object')\n",
        "[[1L 2L 3L 4L 'hello']\n",
        " [5L 6L 7L 8L 'world']\n",
        " [9L 10L 11L 12L 'foo']]"
       ]
      },
      {
       "output_type": "stream",
       "stream": "stdout",
       "text": [
        "\n"
       ]
      },
      {
       "html": [
        "<div style=\"max-height:1000px;max-width:1500px;overflow:auto;\">\n",
        "<table border=\"1\" class=\"dataframe\">\n",
        "  <thead>\n",
        "    <tr style=\"text-align: right;\">\n",
        "      <th></th>\n",
        "      <th>a</th>\n",
        "      <th>b</th>\n",
        "      <th>c</th>\n",
        "      <th>d</th>\n",
        "      <th>message</th>\n",
        "    </tr>\n",
        "  </thead>\n",
        "  <tbody>\n",
        "    <tr>\n",
        "      <th>0</th>\n",
        "      <td> 1</td>\n",
        "      <td>  2</td>\n",
        "      <td>  3</td>\n",
        "      <td>  4</td>\n",
        "      <td> hello</td>\n",
        "    </tr>\n",
        "    <tr>\n",
        "      <th>1</th>\n",
        "      <td> 5</td>\n",
        "      <td>  6</td>\n",
        "      <td>  7</td>\n",
        "      <td>  8</td>\n",
        "      <td> world</td>\n",
        "    </tr>\n",
        "    <tr>\n",
        "      <th>2</th>\n",
        "      <td> 9</td>\n",
        "      <td> 10</td>\n",
        "      <td> 11</td>\n",
        "      <td> 12</td>\n",
        "      <td>   foo</td>\n",
        "    </tr>\n",
        "  </tbody>\n",
        "</table>\n",
        "</div>"
       ],
       "metadata": {},
       "output_type": "pyout",
       "prompt_number": 66,
       "text": [
        "   a   b   c   d message\n",
        "0  1   2   3   4   hello\n",
        "1  5   6   7   8   world\n",
        "2  9  10  11  12     foo"
       ]
      }
     ],
     "prompt_number": 66
    },
    {
     "cell_type": "code",
     "collapsed": false,
     "input": [
      "#READ CSV   (withOUT header)\n",
      "df = pd.read_csv('H:/Technology/python/Dataset/pydata-book-master/ch06/ex2.csv' , header=None)\n",
      "print(df)\n",
      "#with explicit cols\n",
      "df=pd.read_csv('H:/Technology/python/Dataset/pydata-book-master/ch06/ex2.csv', names=['col_1', 'col_2', 'col_3', 'col_4', 'testo'])\n",
      "print(df)\n",
      "\n"
     ],
     "language": "python",
     "metadata": {},
     "outputs": [
      {
       "output_type": "stream",
       "stream": "stdout",
       "text": [
        "   0   1   2   3      4\n",
        "0  1   2   3   4  hello\n",
        "1  5   6   7   8  world\n",
        "2  9  10  11  12    foo\n",
        "   col_1  col_2  col_3  col_4  testo\n",
        "0      1      2      3      4  hello\n",
        "1      5      6      7      8  world\n",
        "2      9     10     11     12    foo\n"
       ]
      }
     ],
     "prompt_number": 26
    },
    {
     "cell_type": "code",
     "collapsed": false,
     "input": [
      "#READ TABLE\n",
      "tab=pd.read_table('H:/Technology/python/Dataset/pydata-book-master/ch06/ex1.csv', sep=',')\n",
      "tab"
     ],
     "language": "python",
     "metadata": {},
     "outputs": [
      {
       "html": [
        "<div style=\"max-height:1000px;max-width:1500px;overflow:auto;\">\n",
        "<table border=\"1\" class=\"dataframe\">\n",
        "  <thead>\n",
        "    <tr style=\"text-align: right;\">\n",
        "      <th></th>\n",
        "      <th>a</th>\n",
        "      <th>b</th>\n",
        "      <th>c</th>\n",
        "      <th>d</th>\n",
        "      <th>message</th>\n",
        "    </tr>\n",
        "  </thead>\n",
        "  <tbody>\n",
        "    <tr>\n",
        "      <th>0</th>\n",
        "      <td> 1</td>\n",
        "      <td>  2</td>\n",
        "      <td>  3</td>\n",
        "      <td>  4</td>\n",
        "      <td> hello</td>\n",
        "    </tr>\n",
        "    <tr>\n",
        "      <th>1</th>\n",
        "      <td> 5</td>\n",
        "      <td>  6</td>\n",
        "      <td>  7</td>\n",
        "      <td>  8</td>\n",
        "      <td> world</td>\n",
        "    </tr>\n",
        "    <tr>\n",
        "      <th>2</th>\n",
        "      <td> 9</td>\n",
        "      <td> 10</td>\n",
        "      <td> 11</td>\n",
        "      <td> 12</td>\n",
        "      <td>   foo</td>\n",
        "    </tr>\n",
        "  </tbody>\n",
        "</table>\n",
        "</div>"
       ],
       "metadata": {},
       "output_type": "pyout",
       "prompt_number": 18,
       "text": [
        "   a   b   c   d message\n",
        "0  1   2   3   4   hello\n",
        "1  5   6   7   8   world\n",
        "2  9  10  11  12     foo"
       ]
      }
     ],
     "prompt_number": 18
    },
    {
     "cell_type": "code",
     "collapsed": false,
     "input": [
      "#WRITE to CSV \n",
      "data = {'state': ['Ohio', 'Ohio', 'Ohio', 'Nevada', 'Nevada'],#Column 1\n",
      "        'year': [2000, 2001, 2002, 2001, 2002],#Column 2\n",
      "        'pop': [1.5, 1.7, 3.6, 2.4, 2.9]}#Column 3\n",
      "frame = pd.DataFrame(data)\n",
      "print(\"to csv\")\n",
      "frame.to_csv('H:/Technology/python/Dataset/out_test.csv')\n"
     ],
     "language": "python",
     "metadata": {},
     "outputs": [
      {
       "output_type": "stream",
       "stream": "stdout",
       "text": [
        "to csv\n"
       ]
      }
     ],
     "prompt_number": 31
    },
    {
     "cell_type": "code",
     "collapsed": false,
     "input": [
      "#READ / WRITE TEXT    (Text --->  Dataframe)\n",
      "'''\n",
      "read_csv\n",
      "    Load delimited data from a file, URL, or file-like object. Use comma as default delimiter\n",
      "read_table\n",
      "    Load delimited data from a file, URL, or file-like object. Use tab ('\\t') as default delimiter\n",
      "read_fwf\n",
      "    Read data in fixed-width column format (that is, no delimiters)\n",
      "read_clipboard\n",
      "    Version of read_table that reads data from the clipboard. Useful for converting tables from web pages\n",
      "\n",
      "Type inference\n",
      "'''\n",
      "#Missing values (Values empty or marked with SENTINEL)\n",
      "#Common SENTINEL: NA  /    -1.    /   #IND  /    NULL\n",
      "pd.isnull(result)#0 False False False False False True\n",
      "result = pd.read_csv('ch06/ex5.csv', na_values=['NULL'])#0 one 1 2 3 4 NaN\n",
      "sentinels = {'message': ['foo', 'NA'], 'something': ['two']}#with sentinels\n",
      "pd.read_csv('ch06/ex5.csv', na_values=sentinels)\n",
      "#property\n",
      "path #String indicating filesystem location, URL, or file-like object\n",
      "sep or delimiter #Character sequence or regular expression to use to split fields in each row\n",
      "header #Row number to use as column names. Defaults to 0 (first row), but should be None if there is no headerrow\n",
      "index_col #Column numbers or names to use as the row index in the result. Can be a single name/number or a list\n",
      "    #   of them for a hierarchical index\n",
      "names #List of column names for result, combine with header=None\n",
      "skiprows #Number of rows at beginning of file to ignore or list of row numbers (starting from 0) to skip\n",
      "na_values #Sequence of values to replace with NA\n",
      "comment #Character or characters to split comments off the end of lines\n",
      "parse_dates #Attempt to parse data to datetime; False by default. If True, will attempt to parse all columns. Otherwise\n",
      "    #can specify a list of column numbers or name to parse. If element of list is tuple or list, will combine\n",
      "    #multiple columns together and parse to date (for example if date/time split across two columns)\n",
      "keep_date_col #If joining columns to parse date, drop the joined columns. Default True\n",
      "converters #Dict containing column number of name mapping to functions. For example {'foo': f} would apply\n",
      "    #the function f to all values in the 'foo' column\n",
      "    #dayfirst When parsing potentially ambiguous dates, treat as international format (e.g. 7/6/2012 -> June 7,\n",
      "    #2012). Default False\n",
      "date_parser #Function to use to parse datesnrows Number of rows to read from beginning of file\n",
      "iterator #Return a TextParser object for reading file piecemeal\n",
      "chunksize #For iteration, size of file chunks\n",
      "skip_footer #Number of lines to ignore at end of file\n",
      "    #verbose Print various parser output information, like the number of missing values placed in non-numericcolumns\n",
      "encoding #Text encoding for unicode. For example 'utf-8' for UTF-8 encoded text\n",
      "squeeze #If the parsed data only contains one column return a Series\n",
      "thousands #Separator for thousands, e.g. ',' or '.'\n",
      "\n"
     ],
     "language": "python",
     "metadata": {},
     "outputs": []
    },
    {
     "cell_type": "code",
     "collapsed": false,
     "input": [
      "#Manual tasks \n",
      "import csv\n",
      "f = open(r'H:\\Technology\\python\\Dataset\\test_csv.csv')\n",
      "reader = csv.reader(f)\n",
      "for line in reader:\n",
      "    print line\n",
      "\n",
      "print('list version')\n",
      "lines  = list(csv.reader(open(r'H:\\Technology\\python\\Dataset\\test_csv.csv')))\n",
      "header = lines[0]\n",
      "values = lines[1:]\n",
      "print(\"header\")\n",
      "print( header )\n",
      "print(\"values\")\n",
      "print( values  )\n",
      "\n",
      "\n",
      "#WRITE\n",
      "fileout=open('H:\\Technology\\python\\Dataset\\test_out.csv','w') \n"
     ],
     "language": "python",
     "metadata": {},
     "outputs": [
      {
       "output_type": "stream",
       "stream": "stdout",
       "text": [
        "['name;surname;salary;']\n",
        "['john;smith;100']\n",
        "['marc;twin;110']\n",
        "['alex;johnson;120']\n",
        "list version\n",
        "header\n",
        "['name;surname;salary;']\n",
        "values\n",
        "[['john;smith;100'], ['marc;twin;110'], ['alex;johnson;120']]\n"
       ]
      },
      {
       "ename": "IOError",
       "evalue": "[Errno 22] invalid mode ('w') or filename: 'H:\\\\Technology\\\\python\\\\Dataset\\test_out.csv'",
       "output_type": "pyerr",
       "traceback": [
        "\u001b[1;31m---------------------------------------------------------------------------\u001b[0m\n\u001b[1;31mIOError\u001b[0m                                   Traceback (most recent call last)",
        "\u001b[1;32m<ipython-input-51-b6ef3f784923>\u001b[0m in \u001b[0;36m<module>\u001b[1;34m()\u001b[0m\n\u001b[0;32m     17\u001b[0m \u001b[1;33m\u001b[0m\u001b[0m\n\u001b[0;32m     18\u001b[0m \u001b[1;31m#WRITE\u001b[0m\u001b[1;33m\u001b[0m\u001b[1;33m\u001b[0m\u001b[0m\n\u001b[1;32m---> 19\u001b[1;33m \u001b[0mfileout\u001b[0m\u001b[1;33m=\u001b[0m\u001b[0mopen\u001b[0m\u001b[1;33m(\u001b[0m\u001b[1;34m'H:\\Technology\\python\\Dataset\\test_out.csv'\u001b[0m\u001b[1;33m,\u001b[0m\u001b[1;34m'w'\u001b[0m\u001b[1;33m)\u001b[0m\u001b[1;33m\u001b[0m\u001b[0m\n\u001b[0m",
        "\u001b[1;31mIOError\u001b[0m: [Errno 22] invalid mode ('w') or filename: 'H:\\\\Technology\\\\python\\\\Dataset\\test_out.csv'"
       ]
      }
     ],
     "prompt_number": 51
    },
    {
     "cell_type": "code",
     "collapsed": false,
     "input": [
      "#WRITE\n",
      "with open('H:\\Technology\\python\\Dataset\\out.csv','wb') as f:\n",
      "    writer = csv.writer(f)\n",
      "    writer.writerow('aaaaaa')\n",
      "    writer.writerow('bbbbbb')\n",
      "    writer.writerow('cccccc')    "
     ],
     "language": "python",
     "metadata": {},
     "outputs": [],
     "prompt_number": 65
    },
    {
     "cell_type": "code",
     "collapsed": false,
     "input": [
      "'''\n",
      "delimiter One-character string to separate fields. Defaults to ','.\n",
      "lineterminator Line terminator for writing, defaults to '\\r\\n'. Reader ignores this and recognizes\n",
      "cross-platform line terminators.\n",
      "quotechar Quote character for fields with special characters (like a delimiter). Default is '\"'.\n",
      "quoting Quoting convention. Options include csv.QUOTE_ALL (quote all fields),\n",
      "csv.QUOTE_MINIMAL (only fields with special characters like the delimiter),\n",
      "csv.QUOTE_NONNUMERIC, and csv.QUOTE_NON (no quoting). See Python\u2019s\n",
      "documentation for full details. Defaults to QUOTE_MINIMAL.\n",
      "skipinitialspace Ignore whitespace after each delimiter. Default False.\n",
      "doublequote How to handle quoting character inside a field. If True, it is doubled. See online\n",
      "documentation for full detail and behavior.\n",
      "escapechar String to escape\n",
      "'''"
     ],
     "language": "python",
     "metadata": {},
     "outputs": []
    },
    {
     "cell_type": "heading",
     "level": 2,
     "metadata": {},
     "source": [
      "TO STANDARD OUTPUT"
     ]
    },
    {
     "cell_type": "code",
     "collapsed": false,
     "input": [
      "#WRITE TO STANDARD OUTPUT\n",
      "data = {'state': ['Ohio', 'Ohio', 'Ohio', 'Nevada', 'Nevada'],#Column 1\n",
      "        'year': [2000, 2001, 2002, 2001, 2002],#Column 2\n",
      "        'pop': [1.5, 1.7, 3.6, 2.4, 2.9]}#Column 3\n",
      "frame = pd.DataFrame(data)\n",
      "print(\"TO STANDARD OUTPUT  with SEP\")\n",
      "frame.to_csv(sys.stdout, sep='|')\n",
      "print(\"TO STANDARD OUTPUT  without HEADER \")\n",
      "frame.to_csv(sys.stdout, index=False, header=False)"
     ],
     "language": "python",
     "metadata": {},
     "outputs": [
      {
       "output_type": "stream",
       "stream": "stdout",
       "text": [
        "TO STANDARD OUTPUT  with SEP\n",
        "|pop|state|year\n",
        "0|1.5|Ohio|2000\n",
        "1|1.7|Ohio|2001\n",
        "2|3.6|Ohio|2002\n",
        "3|2.4|Nevada|2001\n",
        "4|2.9|Nevada|2002\n",
        "TO STANDARD OUTPUT  without HEADER \n",
        "1.5,Ohio,2000\n",
        "1.7,Ohio,2001\n",
        "3.6,Ohio,2002\n",
        "2.4,Nevada,2001\n",
        "2.9,Nevada,2002\n"
       ]
      }
     ],
     "prompt_number": 32
    },
    {
     "cell_type": "heading",
     "level": 2,
     "metadata": {},
     "source": [
      "Excel"
     ]
    },
    {
     "cell_type": "code",
     "collapsed": false,
     "input": [
      "\n",
      "###########################################################################################################\n",
      "#EXCEL\n",
      "import os\n",
      "import xlrd\n",
      "import pandas as pd\n",
      "Location = r'C:\\workspace\\ZVVS\\01_EntwicklungsBackground\\Check_Betrieb\\status_kontrolle_fremdprod\\18112014_status.xls'\n",
      "xls_file = pd.ExcelFile(Location)\n",
      "table = xls_file.parse('18112014_status')\n",
      "table\n",
      "\n"
     ],
     "language": "python",
     "metadata": {},
     "outputs": []
    },
    {
     "cell_type": "code",
     "collapsed": false,
     "input": [
      "Database"
     ],
     "language": "python",
     "metadata": {},
     "outputs": []
    },
    {
     "cell_type": "code",
     "collapsed": false,
     "input": [
      "###########################################################################################################\n",
      "#DATABASE DB (oracle)\n",
      "import cx_Oracle\n",
      "con = cx_Oracle.connect('p155121/+<PWD>@gpvvd')\n",
      "cur = con.cursor()\n",
      "cur.execute('select vfrp_status from vv_fremdproduktionen where rownum <2')\n",
      "for result in cur:\n",
      "    print result\n",
      "cur.close()\n",
      "print con.version\n",
      "con.close()\n",
      "\n",
      "\n",
      "row =  cur.fetchone()\n",
      "row =  cur.fetchall()\n",
      "row =  cur.description\n",
      "\n"
     ],
     "language": "python",
     "metadata": {},
     "outputs": []
    },
    {
     "cell_type": "code",
     "collapsed": false,
     "input": [
      "\n",
      "################################################################################\n",
      "#FILE\n",
      "#################################################################################\n",
      "test_file = open(\"aypaaypa\",\"wb\")\n",
      "print(test_file.mode)\n",
      "test_file.write(\"ciao \\n\")\n",
      "test_file.close()\n",
      "test_file = open(\"test.txt\",\"r\")\n",
      "lines = test_file.readlines()\n",
      "print lines\n",
      "print len(lines)\n",
      "test_file.close()\n",
      "\n",
      "\n",
      "\n",
      "# CSV  C S V\n",
      "import csv\n",
      "#READ\n",
      "f = open('ch06/ex7.csv')\n",
      "reader = csv.reader(f)\n",
      "for line in reader:\n",
      "    print line\n",
      "\n",
      "lines = list(csv.reader(open('ch06/ex7.csv')))\n",
      "header, values = lines[0], lines[1:]\n",
      "data_dict = {h: v for h, v in zip(header, zip(*values))}\n",
      "data_dict#Out[897]: {'a': ('1', '1'), 'b': ('2', '2'), 'c': ('3', '3')}\n",
      "\n",
      "#dialect\n",
      "class my_dialect(csv.Dialect):\n",
      "lineterminator = '\\n'\n",
      "delimiter = ';'\n",
      "quotechar = '\"'\n",
      "#WRITE\n",
      "with open('mydata.csv', 'w') as f:\n",
      "writer = csv.writer(f, dialect=my_dialect)\n",
      "writer.writerow(('one', 'two', 'three'))\n",
      "writer.writerow(('1', '2', '3'))\n",
      "writer.writerow(('4', '5', '6'))\n",
      "writer.writerow(('7', '8', '9'))\n",
      "\n",
      "#JSON\n",
      "import json\n",
      "obj = \"\"\"\n",
      "{\"name\": \"Wes\",\n",
      "\"places_lived\": [\"United States\", \"Spain\", \"Germany\"],\n",
      "\"pet\": null,\n",
      "\"siblings\": [{\"name\": \"Scott\", \"age\": 25, \"pet\": \"Zuko\"},\n",
      "{\"name\": \"Katie\", \"age\": 33, \"pet\": \"Cisco\"}]\n",
      "}\n",
      "\"\"\"\n",
      "result = json.loads(obj)\n",
      "result\n",
      "#options: call (buy) put (sell)  at price (strike) expiry (data della transazione)\n",
      "from lxml.html import parse\n",
      "from urllib2 import urlopen\n",
      "parsed = parse(urlopen('http://finance.yahoo.com/q/op?s=AAPL+Options'))\n",
      "doc = parsed.getroot()\n",
      "links = doc.findall('.//a')\n",
      "links[15:20]\n",
      "lnk = links[28]\n",
      "lnk\n",
      "lnk.get('href')\n",
      "lnk.text_content()\n",
      "urls = [lnk.get('href') for lnk in doc.findall('.//a')]\n",
      "urls[-10:]\n",
      "tables = doc.findall('.//table')\n",
      "calls = tables[9]\n",
      "puts = tables[13]\n",
      "rows = calls.findall('.//tr')\n",
      "\n",
      "\n",
      "###############\n",
      "# X M L\n",
      "from lxml.html import parse\n",
      "Location = r'C:\\app\\Finance.html' #parsed = parse(urlopen('http://finance.yahoo.com/q/op?s=AAPL+Options'))\n",
      "doc = open(Location,\"r\")\n",
      "parsed=parse(doc)\n",
      "doc = parsed.getroot()#HTML root\n",
      "#FIND the <a> links\n",
      "links = doc.findall('.//a')\n",
      "\n",
      "for lnk in links:\n",
      " print(lnk.text_content())\n",
      "\n",
      "'''\n",
      "links[15:20]\n",
      "lnk = links[28]\n",
      "lnk\n",
      "\n",
      "lnk.get('href')#https://autos.yahoo.com/;_ylt=AwrBxMH4.jhVzm8AJQB.FJF4\n",
      "\n",
      "lnk.text_content()\n",
      "urls = [lnk.get('href') for lnk in doc.findall('.//a')]\n",
      "urls[-10:]\n",
      "tables = doc.findall('.//table')\n",
      "doc\n",
      "#calls = tables[9]\n",
      "#puts = tables[13]\n",
      "'''\n",
      "\n"
     ],
     "language": "python",
     "metadata": {},
     "outputs": []
    }
   ],
   "metadata": {}
  }
 ]
}