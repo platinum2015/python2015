{
 "metadata": {
  "name": "",
  "signature": "sha256:72a9bc7bc03fbd4cb4f6450f045cee0ffec0482e9a0bf550c3b3b769da3023d6"
 },
 "nbformat": 3,
 "nbformat_minor": 0,
 "worksheets": [
  {
   "cells": [
    {
     "cell_type": "heading",
     "level": 1,
     "metadata": {},
     "source": [
      "COUNTING & PROBABILITY"
     ]
    },
    {
     "cell_type": "heading",
     "level": 2,
     "metadata": {},
     "source": [
      "Replacement + non order"
     ]
    },
    {
     "cell_type": "code",
     "collapsed": false,
     "input": [
      "import itertools\n",
      "#Replacement + non order  \n",
      "#replace=reintroduci\n",
      "n=3; k=3\n",
      "\n",
      "#N^K\n",
      "nr_elements=pow(n,k)\n",
      "#tutte\n",
      "all=itertools.product( list(range(1, n+1 ) ),repeat=k)\n",
      "generated=0\n",
      "for element in all:\n",
      "    print element\n",
      "    generated = generated + 1\n",
      "print ('Replacement + non order (n%d k%d):calculated %s / generated  %d' % (n , k , nr_elements , generated) )\n"
     ],
     "language": "python",
     "metadata": {},
     "outputs": [
      {
       "output_type": "stream",
       "stream": "stdout",
       "text": [
        "(1, 1, 1)\n",
        "(1, 1, 2)\n",
        "(1, 1, 3)\n",
        "(1, 2, 1)\n",
        "(1, 2, 2)\n",
        "(1, 2, 3)\n",
        "(1, 3, 1)\n",
        "(1, 3, 2)\n",
        "(1, 3, 3)\n",
        "(2, 1, 1)\n",
        "(2, 1, 2)\n",
        "(2, 1, 3)\n",
        "(2, 2, 1)\n",
        "(2, 2, 2)\n",
        "(2, 2, 3)\n",
        "(2, 3, 1)\n",
        "(2, 3, 2)\n",
        "(2, 3, 3)\n",
        "(3, 1, 1)\n",
        "(3, 1, 2)\n",
        "(3, 1, 3)\n",
        "(3, 2, 1)\n",
        "(3, 2, 2)\n",
        "(3, 2, 3)\n",
        "(3, 3, 1)\n",
        "(3, 3, 2)\n",
        "(3, 3, 3)\n",
        "Replacement + non order (n3 k3):calculated 27 / generated  27\n"
       ]
      }
     ],
     "prompt_number": 4
    },
    {
     "cell_type": "heading",
     "level": 2,
     "metadata": {},
     "source": [
      "NO Replacement + non order  "
     ]
    },
    {
     "cell_type": "code",
     "collapsed": false,
     "input": [
      "import itertools\n",
      "#NO Replacement + non order  \n",
      "#no replace=NO reintroduci\n",
      "\n",
      "#Disposition\n",
      "n=3; k=3\n",
      "\n",
      "# N! / (N-K)!\n",
      "nr_elements=math.factorial(n)  /  math.factorial(n-k)\n",
      "\n",
      "#tutte\n",
      "all=itertools.permutations( list(range(1, n + 1 ) ),3)\n",
      "generated=0\n",
      "for element in all:\n",
      "    print element\n",
      "    generated = generated + 1\n",
      "print ('NO Replacement + non order (n%d k%d):calculated %s / generated  %d' % (n , k , nr_elements , c) )\n",
      "\n",
      "#Permutation .: N=K\n",
      "\n",
      "nr_elements\n",
      "print (list(range(1, n + 1 )))"
     ],
     "language": "python",
     "metadata": {},
     "outputs": [
      {
       "output_type": "stream",
       "stream": "stdout",
       "text": [
        "()\n",
        "NO Replacement + non order (n3 k3):calculated 6 / generated  27\n",
        "[1, 2, 3]\n"
       ]
      }
     ],
     "prompt_number": 97
    },
    {
     "cell_type": "code",
     "collapsed": false,
     "input": [
      "np.random.permutation(10)"
     ],
     "language": "python",
     "metadata": {},
     "outputs": [
      {
       "metadata": {},
       "output_type": "pyout",
       "prompt_number": 6,
       "text": [
        "array([2, 5, 6, 1, 9, 7, 4, 3, 8, 0])"
       ]
      }
     ],
     "prompt_number": 6
    },
    {
     "cell_type": "code",
     "collapsed": false,
     "input": [
      "list(range(1, 4))"
     ],
     "language": "python",
     "metadata": {},
     "outputs": [
      {
       "metadata": {},
       "output_type": "pyout",
       "prompt_number": 74,
       "text": [
        "[1, 2, 3]"
       ]
      }
     ],
     "prompt_number": 74
    },
    {
     "cell_type": "code",
     "collapsed": false,
     "input": [
      "print(math.factorial(5))"
     ],
     "language": "python",
     "metadata": {},
     "outputs": [
      {
       "ename": "NameError",
       "evalue": "name 'factorial' is not defined",
       "output_type": "pyerr",
       "traceback": [
        "\u001b[1;31m---------------------------------------------------------------------------\u001b[0m\n\u001b[1;31mNameError\u001b[0m                                 Traceback (most recent call last)",
        "\u001b[1;32m<ipython-input-82-cc2397845659>\u001b[0m in \u001b[0;36m<module>\u001b[1;34m()\u001b[0m\n\u001b[1;32m----> 1\u001b[1;33m \u001b[1;32mprint\u001b[0m\u001b[1;33m(\u001b[0m\u001b[0mfactorial\u001b[0m\u001b[1;33m(\u001b[0m\u001b[1;36m5\u001b[0m\u001b[1;33m)\u001b[0m\u001b[1;33m)\u001b[0m\u001b[1;33m\u001b[0m\u001b[0m\n\u001b[0m",
        "\u001b[1;31mNameError\u001b[0m: name 'factorial' is not defined"
       ]
      }
     ],
     "prompt_number": 82
    },
    {
     "cell_type": "heading",
     "level": 2,
     "metadata": {},
     "source": [
      "DISPOSITION"
     ]
    },
    {
     "cell_type": "code",
     "collapsed": false,
     "input": [
      "#Disposition\n",
      "n=3; k=2\n",
      "\n",
      "# N! / (N-K)!\n",
      "nr_elements=math.factorial(n)  /  math.factorial(n-k)\n",
      "\n",
      "#tutte\n",
      "all=itertools.permutations( list(range(1, n + 1 ) ),2)\n",
      "generated=0\n",
      "for element in all:\n",
      "    print element\n",
      "    generated = generated + 1\n",
      "print ('NO Replacement + non order (n%d k%d):calculated %s / generated  %d' % (n , k , nr_elements , generated) )\n",
      "\n",
      "nr_elements\n",
      "print (list(range(1, n + 1 )))\n"
     ],
     "language": "python",
     "metadata": {},
     "outputs": []
    },
    {
     "cell_type": "heading",
     "level": 2,
     "metadata": {},
     "source": [
      "PERMUTATION"
     ]
    },
    {
     "cell_type": "code",
     "collapsed": false,
     "input": [
      "#Permutation\n",
      "n=4; k=n\n",
      "\n",
      "# N! / (N-K)!\n",
      "nr_elements=math.factorial(n)  /  math.factorial(n-k)\n",
      "\n",
      "#tutte\n",
      "all=itertools.permutations( list(range(1, n + 1 ) ),n)\n",
      "generated=0\n",
      "for element in all:\n",
      "    print element\n",
      "    generated = generated + 1\n",
      "print ('PERMUTATION:NO Replacement + non order (n%d k%d):calculated %s / generated  %d' % (n , k , nr_elements , generated) )\n",
      "\n",
      "#Permutation .: N=K\n",
      "\n",
      "nr_elements\n",
      "print (list(range(1, n + 1 )))\n"
     ],
     "language": "python",
     "metadata": {},
     "outputs": []
    },
    {
     "cell_type": "code",
     "collapsed": false,
     "input": [
      "s_arr = np.arange(10)\n",
      "for i in  range(1,5):\n",
      "   perm=np.random.permutation(s_arr)\n",
      "   print(perm)\n"
     ],
     "language": "python",
     "metadata": {},
     "outputs": [
      {
       "output_type": "stream",
       "stream": "stdout",
       "text": [
        "[0 5 1 7 3 9 8 6 4 2]\n",
        "[8 9 0 6 1 7 4 3 2 5]\n",
        "[7 8 4 6 0 2 3 5 9 1]\n",
        "[5 0 2 8 3 9 7 1 4 6]\n"
       ]
      }
     ],
     "prompt_number": 13
    },
    {
     "cell_type": "heading",
     "level": 2,
     "metadata": {},
     "source": [
      "COMBINATION\n"
     ]
    },
    {
     "cell_type": "code",
     "collapsed": false,
     "input": [
      "#Combination:  N! / (  (N-K)! N!  )\n",
      "n=10; k=3\n",
      "nr_elements=math.factorial(n)  /  ((math.factorial(n-k)  * math.factorial(k)) )\n",
      "\n",
      "#tutte\n",
      "all=itertools.combinations( list(range(1, n + 1 ) ),k)\n",
      "generated=0\n",
      "for element in all:\n",
      "    print element\n",
      "    generated = generated + 1\n",
      "print ('COMBINATION:NO Replacement + with order (n%d k%d):calculated %s / generated  %d' % (n , k , nr_elements , generated) )\n",
      "\n",
      "\n",
      "nr_elements\n",
      "print (list(range(1, n + 1 )))\n"
     ],
     "language": "python",
     "metadata": {},
     "outputs": [
      {
       "ename": "NameError",
       "evalue": "name 'itertools' is not defined",
       "output_type": "pyerr",
       "traceback": [
        "\u001b[1;31m---------------------------------------------------------------------------\u001b[0m\n\u001b[1;31mNameError\u001b[0m                                 Traceback (most recent call last)",
        "\u001b[1;32m<ipython-input-37-ebd91df71f9d>\u001b[0m in \u001b[0;36m<module>\u001b[1;34m()\u001b[0m\n\u001b[0;32m      4\u001b[0m \u001b[1;33m\u001b[0m\u001b[0m\n\u001b[0;32m      5\u001b[0m \u001b[1;31m#tutte\u001b[0m\u001b[1;33m\u001b[0m\u001b[1;33m\u001b[0m\u001b[0m\n\u001b[1;32m----> 6\u001b[1;33m \u001b[0mall\u001b[0m\u001b[1;33m=\u001b[0m\u001b[0mitertools\u001b[0m\u001b[1;33m.\u001b[0m\u001b[0mcombinations\u001b[0m\u001b[1;33m(\u001b[0m \u001b[0mlist\u001b[0m\u001b[1;33m(\u001b[0m\u001b[0mrange\u001b[0m\u001b[1;33m(\u001b[0m\u001b[1;36m1\u001b[0m\u001b[1;33m,\u001b[0m \u001b[0mn\u001b[0m \u001b[1;33m+\u001b[0m \u001b[1;36m1\u001b[0m \u001b[1;33m)\u001b[0m \u001b[1;33m)\u001b[0m\u001b[1;33m,\u001b[0m\u001b[0mk\u001b[0m\u001b[1;33m)\u001b[0m\u001b[1;33m\u001b[0m\u001b[0m\n\u001b[0m\u001b[0;32m      7\u001b[0m \u001b[0mgenerated\u001b[0m\u001b[1;33m=\u001b[0m\u001b[1;36m0\u001b[0m\u001b[1;33m\u001b[0m\u001b[0m\n\u001b[0;32m      8\u001b[0m \u001b[1;32mfor\u001b[0m \u001b[0melement\u001b[0m \u001b[1;32min\u001b[0m \u001b[0mall\u001b[0m\u001b[1;33m:\u001b[0m\u001b[1;33m\u001b[0m\u001b[0m\n",
        "\u001b[1;31mNameError\u001b[0m: name 'itertools' is not defined"
       ]
      }
     ],
     "prompt_number": 37
    },
    {
     "cell_type": "heading",
     "level": 2,
     "metadata": {},
     "source": [
      "COMBINATION With Replacement"
     ]
    },
    {
     "cell_type": "code",
     "collapsed": false,
     "input": [
      "COMBO with rep\n",
      "#Combination WITH replacement:  (N+K-1)! /  ( (N+K-1)! * K! ) \n",
      "n=4; k=2\n",
      "nr_elements=math.factorial(n + k - 1)  /  ((  math.factorial(n - 1) * math.factorial(k)) ) \n",
      "\n",
      "#tutte\n",
      "all=itertools.combinations_with_replacement( list(range(1, n + 1 ) ),k)\n",
      "generated=0\n",
      "for element in all:\n",
      "    print element\n",
      "    generated = generated + 1\n",
      "print ('COMBINATION : WITH Replacement + with order (n%d k%d):calculated %s / generated  %d' % (n , k , nr_elements , generated) )\n",
      "\n",
      "nr_elements\n",
      "print (list(range(1, n + 1 )))\n"
     ],
     "language": "python",
     "metadata": {},
     "outputs": []
    },
    {
     "cell_type": "code",
     "collapsed": false,
     "input": [
      "n=28; k=2 \n",
      "nr_elements=math.factorial(n)  /  (math.factorial(n-k)  * math.factorial(k) )\n",
      "print(nr_elements)"
     ],
     "language": "python",
     "metadata": {},
     "outputs": [
      {
       "output_type": "stream",
       "stream": "stdout",
       "text": [
        "378\n"
       ]
      }
     ],
     "prompt_number": 5
    },
    {
     "cell_type": "code",
     "collapsed": false,
     "input": [
      "n=365\n",
      "x=np.arange(2, n + 1)\n",
      "for k  in x:\n",
      "    y = 1 -  \\\n",
      "        (    (math.factorial(n)  /  \\\n",
      "             (math.factorial(n-k)  * math.factorial(k) )               )              /  \\\n",
      "              pow(n,k)  )\n",
      "   # print(y)    \n"
     ],
     "language": "python",
     "metadata": {},
     "outputs": [
      {
       "output_type": "stream",
       "stream": "stderr",
       "text": [
        "-c:4: RuntimeWarning: overflow encountered in long_scalars\n"
       ]
      }
     ],
     "prompt_number": 2
    },
    {
     "cell_type": "code",
     "collapsed": false,
     "input": [
      "n=365\n",
      "k=4\n",
      "print( 1 -                                                              \\\n",
      "      (   (math.factorial(n)  /                                          \\\n",
      "           ( (math.factorial(n-k)  * math.factorial(k)) ) )               \\\n",
      "       / pow(n,k)  ))"
     ],
     "language": "python",
     "metadata": {},
     "outputs": [
      {
       "output_type": "stream",
       "stream": "stdout",
       "text": [
        "1\n"
       ]
      }
     ],
     "prompt_number": 42
    },
    {
     "cell_type": "heading",
     "level": 1,
     "metadata": {},
     "source": [
      "RANDOM "
     ]
    },
    {
     "cell_type": "code",
     "collapsed": false,
     "input": [
      "s=5\n",
      "print( \"random int\",np.random.randint(low=10,high=20,size=5))\n",
      "print( \"random normal\",np.random.normal(size=5))\n",
      "print( \"random sample[0.0, 1.0):\",np.random.random_sample(size=5 ))#Return random floats in the half-open interval [0.0, 1.0)."
     ],
     "language": "python",
     "metadata": {},
     "outputs": [
      {
       "output_type": "stream",
       "stream": "stdout",
       "text": [
        "('random int', array([18, 15, 13, 10, 16]))\n",
        "('random normal', array([ 0.1226424 , -0.69801446,  0.60834789,  0.60909945,  1.05202052]))\n",
        "('random sample[0.0, 1.0):', array([ 0.51949189,  0.32316743,  0.51760707,  0.40398358,  0.24345482]))\n"
       ]
      }
     ],
     "prompt_number": 9
    },
    {
     "cell_type": "heading",
     "level": 1,
     "metadata": {},
     "source": [
      "SHUFFLE\n"
     ]
    },
    {
     "cell_type": "code",
     "collapsed": false,
     "input": [
      "s_arr = np.arange(10)\n",
      "for i in  range(1,5):\n",
      "   np.random.shuffle(s_arr)\n",
      "   print(s_arr)\n"
     ],
     "language": "python",
     "metadata": {},
     "outputs": [
      {
       "output_type": "stream",
       "stream": "stdout",
       "text": [
        "[9 2 6 3 7 4 5 1 0 8]\n",
        "[0 4 2 9 7 1 6 5 8 3]\n",
        "[5 7 3 4 0 1 8 6 2 9]\n",
        "[9 7 3 6 1 5 4 2 0 8]\n"
       ]
      }
     ],
     "prompt_number": 11
    },
    {
     "cell_type": "code",
     "collapsed": false,
     "input": [],
     "language": "python",
     "metadata": {},
     "outputs": []
    }
   ],
   "metadata": {}
  }
 ]
}