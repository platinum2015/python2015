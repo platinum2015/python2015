{
 "cells": [
  {
   "cell_type": "markdown",
   "metadata": {},
   "source": [
    "# Matrix Algebra"
   ]
  },
  {
   "cell_type": "markdown",
   "metadata": {
    "collapsed": false
   },
   "source": [
    "thera are 2 packages:\n",
    "   - scipy.linalg\n",
    "   -  numpy\n",
    "\n",
    "#Contents\n",
    "    CREATE\n",
    "    LINEAR EQUATION\n",
    "    EIGEN VALUE"
   ]
  },
  {
   "cell_type": "markdown",
   "metadata": {},
   "source": [
    "##Vector"
   ]
  },
  {
   "cell_type": "code",
   "execution_count": 2,
   "metadata": {
    "collapsed": true
   },
   "outputs": [],
   "source": [
    "def vector_add(v, w):\n",
    "    \"\"\"adds corresponding elements\"\"\"\n",
    "    return [v_i + w_i for v_i, w_i in zip(v, w)]\n",
    "\n",
    "def vector_subtract(v, w):\n",
    "    \"\"\"subtracts corresponding elements\"\"\"\n",
    "    return [v_i - w_i for v_i, w_i in zip(v, w)]\n",
    "\n",
    "def vector_sum(vectors):\n",
    "    \"\"\"sums all corresponding elements\"\"\"\n",
    "    result = vectors[0] # start with the first vector\n",
    "    for vector in vectors[1:]: # then loop over the others\n",
    "        result = vector_add(result, vector) # and add them to the result\n",
    "    return result\n",
    "\n",
    "#def vector_sum(vectors):return reduce(vector_add, vectors)\n",
    "\n",
    "def scalar_multiply(c, v):\n",
    "    \"\"\"c is a number, v is a vector\"\"\"\n",
    "    return [c * v_i for v_i in v]\n",
    "\n",
    "def vector_mean(vectors):\n",
    "    \"\"\"compute the vector whose ith element is the mean of the\n",
    "    ith elements of the input vectors\"\"\"\n",
    "    n = len(vectors)\n",
    "    return scalar_multiply(1/n, vector_sum(vectors))\n",
    "\n",
    "def dot(v, w):\n",
    "    \"\"\"v_1 * w_1 + ... + v_n * w_n\"\"\"\n",
    "    return sum(v_i * w_i for v_i, w_i in zip(v, w))\n",
    "\n",
    "def sum_of_squares(v):\n",
    "    \"\"\"v_1 * v_1 + ... + v_n * v_n\"\"\"\n",
    "    return dot(v, v)\n",
    "\n",
    "import math\n",
    "def magnitude(v):\n",
    "    return math.sqrt(sum_of_squares(v)) # math.sqrt is square root function\n",
    "\n",
    "def squared_distance(v, w):\n",
    "    \"\"\"(v_1 - w_1) ** 2 + ... + (v_n - w_n) ** 2\"\"\"\n",
    "    return sum_of_squares(vector_subtract(v, w))\n",
    "\n",
    "def distance(v, w):\n",
    "    return math.sqrt(squared_distance(v, w))\n",
    "\n",
    "def distance(v, w):\n",
    "    return magnitude(vector_subtract(v, w))\n",
    "\n"
   ]
  },
  {
   "cell_type": "markdown",
   "metadata": {},
   "source": [
    "## CREATE"
   ]
  },
  {
   "cell_type": "code",
   "execution_count": 8,
   "metadata": {
    "collapsed": false
   },
   "outputs": [
    {
     "name": "stdout",
     "output_type": "stream",
     "text": [
      "Diagonal NxN ----\n",
      "[[0 1 0]\n",
      " [0 0 1]\n",
      " [0 0 0]]\n",
      "Identity NxN ----\n",
      "[[ 1.  0.  0.  0.]\n",
      " [ 0.  1.  0.  0.]\n",
      " [ 0.  0.  1.  0.]\n",
      " [ 0.  0.  0.  1.]]\n",
      "A MxN\n",
      "[[ 0  1  2]\n",
      " [ 3  4  5]\n",
      " [ 6  7  8]\n",
      " [ 9 10 11]]\n"
     ]
    }
   ],
   "source": [
    "import numpy as np\n",
    "# N*N Diagonal\n",
    "NxN=np.eye(3,dtype=int, k=1); #k is an index \n",
    "print('Diagonal NxN ----')\n",
    "print(NxN)\n",
    "\n",
    "#N*N --> I \n",
    "I_N=np.identity(4);\n",
    "print('Identity NxN ----')\n",
    "print(I_N)\n",
    "\n",
    "#A mxn\n",
    "m=4\n",
    "n=3\n",
    "A_4x3 = np.arange(start=0,stop=m*n,step=1 ).reshape((m, n))\n",
    "print('A MxN')\n",
    "print(A_4x3)\n",
    "\n",
    "\n",
    "q_data=     [[0.333,0.333,0.333,0],\n",
    "             [0,0.5,0.5,0],\n",
    "             [0,1,0,0],\n",
    "             [0.5,0,0,0.5]\n",
    "             ]\n",
    "Q_matrix = np.matrix(q_data)\n",
    "print('Q_matrix:')\n",
    "print(Q_matrix)"
   ]
  },
  {
   "cell_type": "code",
   "execution_count": 16,
   "metadata": {
    "collapsed": false
   },
   "outputs": [
    {
     "name": "stdout",
     "output_type": "stream",
     "text": [
      "[[ 0  1  2  3]\n",
      " [ 4  5  6  7]\n",
      " [ 8  9 10 11]\n",
      " [12 13 14 15]]\n",
      "Transpose-----------\n",
      "[[ 0  4  8 12]\n",
      " [ 1  5  9 13]\n",
      " [ 2  6 10 14]\n",
      " [ 3  7 11 15]]\n",
      "Extract a diagonal or construct a diagonal -----------\n",
      "[ 0  5 10 15]\n",
      "Inversa -----------\n",
      "Zio cane\n"
     ]
    }
   ],
   "source": [
    "#A mxn\n",
    "m=4\n",
    "n=4\n",
    "A_4x4 = np.arange(start=0,stop=m*n,step=1 ).reshape((m, n))\n",
    "#Transpose\n",
    "print(A_4x4)\n",
    "print('Transpose-----------')\n",
    "print(A_4x4.T)\n",
    "print('Extract a diagonal or construct a diagonal -----------')\n",
    "print(numpy.diag(A_4x4))\n",
    "print('Inversa -----------')\n",
    "try:\n",
    "    print( matrix_power( A_4x4, -1))\n",
    "except :\n",
    "    print \"Matrix Not Invertible\"\n",
    "\n"
   ]
  },
  {
   "cell_type": "code",
   "execution_count": 35,
   "metadata": {
    "collapsed": false
   },
   "outputs": [
    {
     "name": "stdout",
     "output_type": "stream",
     "text": [
      "B\n",
      "[[ 0  1  2  3]\n",
      " [ 4  5  6  7]\n",
      " [ 8  9 10 11]\n",
      " [12 13 14 15]]\n",
      "C\n",
      "[[ 1.  1.  1.  1.]\n",
      " [ 1.  1.  1.  1.]\n",
      " [ 1.  1.  1.  1.]\n",
      " [ 1.  1.  1.  1.]]\n",
      "ADD----\n",
      "[[  1.   2.   3.   4.]\n",
      " [  5.   6.   7.   8.]\n",
      " [  9.  10.  11.  12.]\n",
      " [ 13.  14.  15.  16.]]\n",
      "Scalar Mul----\n",
      "[[  0  10  20  30]\n",
      " [ 40  50  60  70]\n",
      " [ 80  90 100 110]\n",
      " [120 130 140 150]]\n",
      "Multiplication b c\n",
      "[[  6.   6.   6.   6.]\n",
      " [ 22.  22.  22.  22.]\n",
      " [ 38.  38.  38.  38.]\n",
      " [ 54.  54.  54.  54.]]\n",
      "Multiplication b x identity\n",
      "[[  0.   1.   2.   3.]\n",
      " [  4.   5.   6.   7.]\n",
      " [  8.   9.  10.  11.]\n",
      " [ 12.  13.  14.  15.]]\n",
      "Power ----\n",
      "[[ 2.  2.]\n",
      " [ 2.  2.]]\n",
      "[[ 32.  32.]\n",
      " [ 32.  32.]]\n",
      "DETERMINANT-------\n",
      "0.0\n",
      "0.0\n",
      "1.0\n",
      "Trace ----Return the sum along diagonals of the array.\n",
      " trace eye 3\n",
      "3.0\n",
      " trace B\n",
      "30\n"
     ]
    }
   ],
   "source": [
    "#Operation\n",
    "m=4\n",
    "n=4\n",
    "B_4x4 = np.arange(start=0,stop=m*n,step=1 ).reshape((m, n))\n",
    "C_4x4 =  np.ones((m*n)).reshape((m, n))\n",
    "print('B')\n",
    "print(B_4x4)\n",
    "print('C')\n",
    "print(C_4x4)\n",
    "print('ADD----')\n",
    "print(C_4x4+B_4x4)\n",
    "print('Scalar Mul----')\n",
    "print(B_4x4 * 10)\n",
    "print('Multiplication b c')\n",
    "print(np.dot( B_4x4,C_4x4))\n",
    "print('Multiplication b x identity')\n",
    "print(np.dot( B_4x4,I_N))\n",
    "print('Power ----')\n",
    "D_2x2 =  np.ones((2*2)).reshape((2, 2))\n",
    "D_2x2=D_2x2*2\n",
    "print( D_2x2)\n",
    "print(matrix_power( D_2x2, 3))\n",
    "print('DETERMINANT-------')\n",
    "print(np.linalg.det(B_4x4))\n",
    "print(np.linalg.det(C_4x4))\n",
    "print(np.linalg.det(I_N))\n",
    "\n",
    "print('Trace ----Return the sum along diagonals of the array.')\n",
    "print(' trace eye 3')\n",
    "print(np.trace(np.eye(3)))\n",
    "print(' trace B')\n",
    "print(np.trace(B_4x4))\n",
    "\n",
    "\n",
    "\n",
    "#lstsq Compute the least-squares solution to y = Xb\n",
    "#pinv Compute the Moore-Penrose pseudo-inverse inverse of a square matrix\n",
    "#qr Compute the QR decomposition\n",
    "#svd Compute the singular value decomposition (SVD)\n"
   ]
  },
  {
   "cell_type": "code",
   "execution_count": 4,
   "metadata": {
    "collapsed": false
   },
   "outputs": [
    {
     "name": "stdout",
     "output_type": "stream",
     "text": [
      "Fast data processing through vectorizing\n",
      "xs\n",
      "[[-1  0]\n",
      " [-1  0]]\n",
      "Ys\n",
      "[[-1 -1]\n",
      " [ 0  0]]\n",
      "z\n",
      "[[ 1.41421356  1.        ]\n",
      " [ 1.          0.        ]]\n",
      "xs\n",
      "[[-1  0]\n",
      " [-1  0]]\n",
      "Ys\n",
      "[[-10 -10]\n",
      " [  0   0]]\n",
      "z\n",
      "[[ 10.04987562  10.        ]\n",
      " [  1.           0.        ]]\n"
     ]
    }
   ],
   "source": [
    "print('Fast data processing through vectorizing')\n",
    "points = np.arange(-1, 1, 1) \n",
    "xs, ys = np.meshgrid(points, points)\n",
    "print(\"xs\")\n",
    "print(xs)\n",
    "print(\"Ys\")\n",
    "print(ys)\n",
    "\n",
    "import matplotlib.pyplot as plt\n",
    "z = np.sqrt(xs ** 2 + ys ** 2)\n",
    "print(\"z\")\n",
    "print(z)\n",
    "\n",
    "xpoints = np.arange(-1, 1, 1) \n",
    "ypoints = np.arange(-10, 10, 10) \n",
    "\n",
    "x1s, y1s = np.meshgrid(xpoints, ypoints)\n",
    "print(\"xs\")\n",
    "print(x1s)\n",
    "print(\"Ys\")\n",
    "print(y1s)\n",
    "\n",
    "import matplotlib.pyplot as plt\n",
    "z1 = np.sqrt(x1s ** 2 + y1s ** 2)\n",
    "print(\"z\")\n",
    "print(z1)\n",
    "\n"
   ]
  },
  {
   "cell_type": "markdown",
   "metadata": {},
   "source": [
    "# LINEAR EQUATION"
   ]
  },
  {
   "cell_type": "code",
   "execution_count": 36,
   "metadata": {
    "collapsed": false
   },
   "outputs": [
    {
     "data": {
      "text/plain": [
       "array([ 2.,  3.])"
      ]
     },
     "execution_count": 36,
     "metadata": {},
     "output_type": "execute_result"
    }
   ],
   "source": [
    "#Solve the system of equations \n",
    "#   3x + y = 9 \n",
    "#   x  + 2y = 8\n",
    "\n",
    "a = np.array([[3,1], [1,2]])\n",
    "b = np.array([9,8])\n",
    "x = np.linalg.solve(a, b)\n",
    "x"
   ]
  },
  {
   "cell_type": "markdown",
   "metadata": {},
   "source": [
    "# EIGENVECTOR EIGENVALUE"
   ]
  },
  {
   "cell_type": "code",
   "execution_count": 37,
   "metadata": {
    "collapsed": false
   },
   "outputs": [],
   "source": [
    "#    Eigenvector X\n",
    "#    Lambda (scalar dr\n",
    "#            A x = lambda x\n",
    "#            Esempio            Eigenvector (2,1)\n",
    "#                                 A ((3,2),(3,-2))\n",
    "#                                lambda = 4\n",
    "from numpy import linalg as LA\n"
   ]
  },
  {
   "cell_type": "code",
   "execution_count": 47,
   "metadata": {
    "collapsed": false
   },
   "outputs": [
    {
     "name": "stdout",
     "output_type": "stream",
     "text": [
      "Matrix w\n",
      "[ 1.  2.  3.]\n",
      "----------------\n",
      "Eigenvector v\n",
      "[[ 1.  0.  0.]\n",
      " [ 0.  1.  0.]\n",
      " [ 0.  0.  1.]]\n",
      "v * w = w\n",
      "[ 1.  2.  3.]\n",
      "----------------\n",
      "Eigenvalue\n",
      "Lambda * w = w\n",
      "[ 1.  2.  3.]\n"
     ]
    }
   ],
   "source": [
    "w, v = LA.eig(np.diag((1, 2, 3)))\n",
    "print('Matrix w')\n",
    "print(w)\n",
    "print('----------------')\n",
    "print('Eigenvector v')\n",
    "print(v)\n",
    "print('v * w = w')\n",
    "print(np.dot( v,w))\n",
    "print('----------------')\n",
    "print('Eigenvalue')\n",
    "print('Lambda * w = w')\n",
    "print( 1*w)\n"
   ]
  },
  {
   "cell_type": "code",
   "execution_count": null,
   "metadata": {
    "collapsed": false
   },
   "outputs": [],
   "source": []
  }
 ],
 "metadata": {
  "kernelspec": {
   "display_name": "Python 2",
   "language": "python",
   "name": "python2"
  },
  "language_info": {
   "codemirror_mode": {
    "name": "ipython",
    "version": 2
   },
   "file_extension": ".py",
   "mimetype": "text/x-python",
   "name": "python",
   "nbconvert_exporter": "python",
   "pygments_lexer": "ipython2",
   "version": "2.7.10"
  }
 },
 "nbformat": 4,
 "nbformat_minor": 0
}
