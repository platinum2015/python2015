{
 "metadata": {
  "name": "",
  "signature": "sha256:024cda7ea1a00d888cc8b31203a33f378004a95205633c8e6b8282d40ed5aa0f"
 },
 "nbformat": 3,
 "nbformat_minor": 0,
 "worksheets": [
  {
   "cells": [
    {
     "cell_type": "code",
     "collapsed": false,
     "input": [
      "import pandas as pd\n",
      "\n",
      "df= pd.DataFrame([[1, 10], [5, 20], [0,1], [3,3]],\n",
      "\n",
      "index=['a', 'b', 'c', 'd'], columns=['one', 'two'])\n",
      "\n",
      "print(\"data \")\n",
      "\n",
      "print(df)\n",
      "\n",
      "print(\" Per ROW data _________________\")\n",
      "\n",
      "print(\" row sum\")\n",
      "\n",
      "print(df.sum(axis=1))\n",
      "\n",
      "print(\" row mean\")\n",
      "\n",
      "print( df.mean(axis=1, skipna=False)  )\n",
      "\n",
      "print(\" Per COLUMN data _________________\")\n",
      "\n",
      "print(\"column sum\")\n",
      "\n",
      "print(df.sum())\n",
      "\n",
      "print(\"  column mean\")\n",
      "\n",
      "print( df.mean( skipna=False))\n",
      "\n",
      "\n",
      "#STATISTICS\n",
      "df.describe() # mean ,std,min , max, percentiles\n",
      "              # if non numeeric --> count,uniq ,top frequency  \n",
      "df.cumsum()\n",
      "'''\n",
      "count #Number of non-NA values\n",
      "describe #Compute set of summary statistics for Series or each DataFrame column\n",
      "min, max #Compute minimum and maximum values\n",
      "argmin, argmax #Compute index locations (integers) at which minimum or maximum value obtained, respectively\n",
      "idxmin, idxmax #Compute index values at which minimum or maximum value obtained, respectively\n",
      "quantile #Compute sample quantile ranging from 0 to 1\n",
      "sum #Sum of values\n",
      "mean #Mean of values\n",
      "median #Arithmetic median (50% quantile) of values\n",
      "mad #Mean absolute deviation from mean value\n",
      "var #Sample variance of values\n",
      "std #Sample standard deviation of values\n",
      "skew #Sample skewness (3rd moment) of values\n",
      "kurt #Sample kurtosis (4th moment) of values\n",
      "cumsum #Cumulative sum of values\n",
      "cummin, cummax #Cumulative minimum or maximum of values, respectively\n",
      "cumprod #Cumulative product of values\n",
      "diff #Compute 1st arithmetic difference (useful for time series)\n",
      "pct_change #Compute percent changes\n",
      "'''"
     ],
     "language": "python",
     "metadata": {},
     "outputs": []
    },
    {
     "cell_type": "heading",
     "level": 2,
     "metadata": {},
     "source": [
      "CONTINGENCY TABLE (CROSSTAB)"
     ]
    },
    {
     "cell_type": "code",
     "collapsed": false,
     "input": [],
     "language": "python",
     "metadata": {},
     "outputs": []
    },
    {
     "cell_type": "code",
     "collapsed": false,
     "input": [],
     "language": "python",
     "metadata": {},
     "outputs": []
    }
   ],
   "metadata": {}
  }
 ]
}