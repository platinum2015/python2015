{
 "metadata": {
  "name": "",
  "signature": "sha256:72b60de1568e44c7680d45443dba758b6d4f2fb1dec0a4228ba9cf716fac7f25"
 },
 "nbformat": 3,
 "nbformat_minor": 0,
 "worksheets": [
  {
   "cells": [
    {
     "cell_type": "heading",
     "level": 2,
     "metadata": {},
     "source": [
      "test Linear regression"
     ]
    },
    {
     "cell_type": "code",
     "collapsed": false,
     "input": [
      "import pandas as pd\n",
      "\n",
      "\n",
      "x=np.array([\n",
      "        [165],\n",
      "        [170],\n",
      "        [190],\n",
      "        [165]\n",
      "        ])\n",
      "x\n",
      "y=np.array([\n",
      "        [66],\n",
      "        [81],\n",
      "        [90],\n",
      "        [71]\n",
      "    ])\n",
      "y\n",
      "\n",
      "print(x,y)"
     ],
     "language": "python",
     "metadata": {},
     "outputs": [
      {
       "output_type": "stream",
       "stream": "stdout",
       "text": [
        "(array([[165],\n",
        "       [170],\n",
        "       [190],\n",
        "       [165]]), array([[66],\n",
        "       [81],\n",
        "       [90],\n",
        "       [71]]))\n"
       ]
      }
     ],
     "prompt_number": 51
    },
    {
     "cell_type": "code",
     "collapsed": false,
     "input": [
      "from sklearn.linear_model import LinearRegression\n",
      "lr = LinearRegression()\n",
      "#FIT\n"
     ],
     "language": "python",
     "metadata": {},
     "outputs": [],
     "prompt_number": 52
    },
    {
     "cell_type": "code",
     "collapsed": false,
     "input": [
      "lr.fit(x,y)\n",
      "##LinearRegression(copy_X=True, fit_intercept=True, normalize=False)\n"
     ],
     "language": "python",
     "metadata": {},
     "outputs": [
      {
       "metadata": {},
       "output_type": "pyout",
       "prompt_number": 53,
       "text": [
        "LinearRegression(copy_X=True, fit_intercept=True, normalize=False)"
       ]
      }
     ],
     "prompt_number": 53
    },
    {
     "cell_type": "code",
     "collapsed": false,
     "input": [
      "x2=np.array([\n",
      "        [170],\n",
      "        [186],\n",
      "        [190],\n",
      "        [200]\n",
      "        ])\n",
      "y2=lr.predict(x2)\n",
      "print(y2)"
     ],
     "language": "python",
     "metadata": {},
     "outputs": [
      {
       "output_type": "stream",
       "stream": "stdout",
       "text": [
        "[[ 74.97058824]\n",
        " [ 87.95882353]\n",
        " [ 91.20588235]\n",
        " [ 99.32352941]]\n"
       ]
      }
     ],
     "prompt_number": 55
    },
    {
     "cell_type": "code",
     "collapsed": false,
     "input": [
      "print('coeff ',lr.coef_)\n",
      "print('intercept',lr.intercept_ )\n",
      "print('y=mx+b ='+str(lr.coef_[0])+ '*x + ' + str(lr.intercept_) )\n"
     ],
     "language": "python",
     "metadata": {},
     "outputs": [
      {
       "output_type": "stream",
       "stream": "stdout",
       "text": [
        "('coeff ', array([[ 0.81176471]]))\n",
        "('intercept', array([-63.02941176]))\n",
        "y=mx+b =[ 0.81176471]*x + [-63.02941176]\n"
       ]
      }
     ],
     "prompt_number": 60
    },
    {
     "cell_type": "code",
     "collapsed": false,
     "input": [
      "x3=np.arange(start=150,stop=200,step=1)\n",
      "x4=(x3*0.81) -63.02941176\n",
      "plot(x4)"
     ],
     "language": "python",
     "metadata": {},
     "outputs": [
      {
       "metadata": {},
       "output_type": "pyout",
       "prompt_number": 61,
       "text": [
        "[<matplotlib.lines.Line2D at 0x756a3f0>]"
       ]
      },
      {
       "metadata": {},
       "output_type": "display_data",
       "png": "[encoded data removed]",
       "text": [
        "<matplotlib.figure.Figure at 0x75b6ad0>"
       ]
      }
     ],
     "prompt_number": 61
    },
    {
     "cell_type": "code",
     "collapsed": false,
     "input": [],
     "language": "python",
     "metadata": {},
     "outputs": []
    }
   ],
   "metadata": {}
  }
 ]
}