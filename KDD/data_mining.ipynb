{
 "metadata": {
  "name": "",
  "signature": "sha256:0c386340bd3cb1453681b942421bf4c17cdb871d33f09f197be5608248414098"
 },
 "nbformat": 3,
 "nbformat_minor": 0,
 "worksheets": [
  {
   "cells": [
    {
     "cell_type": "heading",
     "level": 1,
     "metadata": {},
     "source": [
      "CORRELATION,COVARIANCE"
     ]
    },
    {
     "cell_type": "code",
     "collapsed": false,
     "input": [
      "df= pd.DataFrame([[1, 10], [5, 20], [0,1], [3,3]],\n",
      "\n",
      "index=['a', 'b', 'c', 'd'], columns=['one', 'two'])\n",
      "print(df)\n",
      "\n",
      "print(\"Correlation MATRIX\")\n",
      "\n",
      "print(df.corr())\n",
      "\n",
      "print(\"Covariance MATRIX\")\n",
      "\n",
      "print(df.cov())\n",
      "\n",
      "print(\"Correlation 2 cols\")\n",
      "\n",
      "df.one.corr(df.two)\n",
      "\n",
      "df.corrwith(df.altrocampo) \n",
      "\n",
      "returns.corrwith(volume) \n",
      "\n"
     ],
     "language": "python",
     "metadata": {},
     "outputs": []
    },
    {
     "cell_type": "heading",
     "level": 2,
     "metadata": {},
     "source": [
      "Monte Carlo\n",
      "https://pypi.python.org/pypi/scikit-monaco"
     ]
    },
    {
     "cell_type": "code",
     "collapsed": false,
     "input": [
      "q_data=     [[0.333,0.333,0.333,0],\n",
      "             [0,0.5,0.5,0],\n",
      "             [0,1,0,0],\n",
      "             [0.5,0,0,0.5]\n",
      "             ]\n",
      "Q_matrix = np.matrix(q_data)\n",
      "print('Q_matrix:')\n",
      "print(Q_matrix)\n",
      "Q2=Q_matrix*Q_matrix\n",
      "print('Q 2:')\n",
      "print(Q2)\n",
      "\n",
      "Q3=Q2*Q_matrix\n",
      "print('Q 3:')\n",
      "print(Q3)\n",
      "\n",
      "Q4=Q3*Q_matrix\n",
      "print('Q 4:')\n",
      "print(Q4)\n",
      "\n",
      "Q5=Q4*Q_matrix\n",
      "print('Q 5:')\n",
      "print(Q5)\n",
      "\n",
      "Q6=Q5*Q_matrix\n",
      "print('Q 6:')\n",
      "print(Q6)\n"
     ],
     "language": "python",
     "metadata": {},
     "outputs": [
      {
       "output_type": "stream",
       "stream": "stdout",
       "text": [
        "Q_matrix:\n",
        "[[ 0.333  0.333  0.333  0.   ]\n",
        " [ 0.     0.5    0.5    0.   ]\n",
        " [ 0.     1.     0.     0.   ]\n",
        " [ 0.5    0.     0.     0.5  ]]\n",
        "Q 2:\n",
        "[[ 0.110889  0.610389  0.277389  0.      ]\n",
        " [ 0.        0.75      0.25      0.      ]\n",
        " [ 0.        0.5       0.5       0.      ]\n",
        " [ 0.4165    0.1665    0.1665    0.25    ]]\n",
        "Q 3:\n",
        "[[ 0.03692604  0.61950954  0.34212054  0.        ]\n",
        " [ 0.          0.625       0.375       0.        ]\n",
        " [ 0.          0.75        0.25        0.        ]\n",
        " [ 0.2636945   0.3884445   0.2219445   0.125     ]]\n",
        "Q 4:\n",
        "[[ 0.01229637  0.66417168  0.32205114  0.        ]\n",
        " [ 0.          0.6875      0.3125      0.        ]\n",
        " [ 0.          0.625       0.375       0.        ]\n",
        " [ 0.15031027  0.50397702  0.28203252  0.0625    ]]\n",
        "Q 5:\n",
        "[[ 0.00409469  0.65823167  0.33618053  0.        ]\n",
        " [ 0.          0.65625     0.34375     0.        ]\n",
        " [ 0.          0.6875      0.3125      0.        ]\n",
        " [ 0.08130332  0.58407435  0.30204183  0.03125   ]]\n",
        "Q 6:\n",
        "[[ 0.00136353  0.6666599   0.33047937  0.        ]\n",
        " [ 0.          0.671875    0.328125    0.        ]\n",
        " [ 0.          0.65625     0.34375     0.        ]\n",
        " [ 0.04269901  0.62115301  0.31911118  0.015625  ]]\n"
       ]
      }
     ],
     "prompt_number": 1
    },
    {
     "cell_type": "heading",
     "level": 3,
     "metadata": {},
     "source": [
      "Sunny Rain "
     ]
    },
    {
     "cell_type": "code",
     "collapsed": false,
     "input": [
      "from numpy import linalg as LA\n",
      "\n",
      "q_data=     [[0.3333333,0.666667],\n",
      "             [0.5,0.5]\n",
      "             ]\n",
      "Q_matrix = np.matrix(q_data)\n",
      "print('Q_matrix:')\n",
      "print('    R         S')\n",
      "print('R' + str(Q_matrix[0]))\n",
      "print('S' + str(Q_matrix[1]))\n",
      "print('_______________________')\n",
      "\n",
      "for i in range(2,10):     # arrive at 9\n",
      "    print('loop Q :'+ str(i)) \n",
      "    print(LA.matrix_power(Q_matrix,i ))\n",
      "    \n",
      "print('_______________________')\n",
      "print('at 10 is stationary')"
     ],
     "language": "python",
     "metadata": {},
     "outputs": [
      {
       "output_type": "stream",
       "stream": "stdout",
       "text": [
        "Q_matrix:\n",
        "    R         S\n",
        "R[[ 0.3333333  0.666667 ]]\n",
        "S[[ 0.5  0.5]]\n",
        "_______________________\n",
        "loop Q :2\n",
        "[[ 0.44444459  0.55555581]\n",
        " [ 0.41666665  0.5833335 ]]\n",
        "loop Q :3\n",
        "[[ 0.42592609  0.57407445]\n",
        " [ 0.43055562  0.56944466]]\n",
        "loop Q :4\n",
        "[[ 0.42901257  0.57098809]\n",
        " [ 0.42824085  0.57175955]]\n",
        "loop Q :5\n",
        "[[ 0.42849822  0.57150257]\n",
        " [ 0.42862671  0.57137382]]\n",
        "loop Q :6\n",
        "[[ 0.42858401  0.57141691]\n",
        " [ 0.42856247  0.57143819]]\n",
        "loop Q :7\n",
        "[[ 0.42856978  0.57143127]\n",
        " [ 0.42857324  0.57142755]]\n",
        "loop Q :8\n",
        "[[ 0.42857221  0.57142896]\n",
        " [ 0.42857151  0.57142941]]\n",
        "loop Q :9\n",
        "[[ 0.42857187  0.57142943]\n",
        " [ 0.42857186  0.57142919]]\n"
       ]
      }
     ],
     "prompt_number": 34
    },
    {
     "cell_type": "code",
     "collapsed": false,
     "input": [
      "from skmonaco import mcquad\n",
      "from math import sqrt\n"
     ],
     "language": "python",
     "metadata": {},
     "outputs": [
      {
       "ename": "ImportError",
       "evalue": "No module named skmonaco",
       "output_type": "pyerr",
       "traceback": [
        "\u001b[1;31m---------------------------------------------------------------------------\u001b[0m\n\u001b[1;31mImportError\u001b[0m                               Traceback (most recent call last)",
        "\u001b[1;32m<ipython-input-35-59402395416d>\u001b[0m in \u001b[0;36m<module>\u001b[1;34m()\u001b[0m\n\u001b[1;32m----> 1\u001b[1;33m \u001b[1;32mfrom\u001b[0m \u001b[0mskmonaco\u001b[0m \u001b[1;32mimport\u001b[0m \u001b[0mmcquad\u001b[0m\u001b[1;33m\u001b[0m\u001b[0m\n\u001b[0m",
        "\u001b[1;31mImportError\u001b[0m: No module named skmonaco"
       ]
      }
     ],
     "prompt_number": 35
    },
    {
     "cell_type": "code",
     "collapsed": false,
     "input": [
      "result, error = mcquad(\n",
      "    lambda xs: sqrt(xs[0]**2+xs[1]**2+xs[2]**2),\n",
      "    npoints=1e6, xl=[0.,0.,0.], xu=[1.,1.,1.])\n",
      "print \"{} +/- {}\".format(result,error)"
     ],
     "language": "python",
     "metadata": {},
     "outputs": []
    }
   ],
   "metadata": {}
  }
 ]
}