{
 "metadata": {
  "name": "",
  "signature": "sha256:a0ce189c89041966d32c541a0221f761b8e900864cf057f7f372ff0c7b530aff"
 },
 "nbformat": 3,
 "nbformat_minor": 0,
 "worksheets": [
  {
   "cells": [
    {
     "cell_type": "code",
     "collapsed": false,
     "input": [
      "'''\n",
      "to see graph\n",
      "%matplotlib inline command;\n",
      "\n",
      "Datasets are loaded into a BUNCH datatype\n",
      "\n",
      "'''"
     ],
     "language": "python",
     "metadata": {},
     "outputs": []
    },
    {
     "cell_type": "heading",
     "level": 2,
     "metadata": {},
     "source": [
      "datasets"
     ]
    },
    {
     "cell_type": "code",
     "collapsed": false,
     "input": [
      "from sklearn import datasets\n",
      "import numpy as np\n",
      "#datasets list\n",
      "datasets.load_*?\n"
     ],
     "language": "python",
     "metadata": {},
     "outputs": [],
     "prompt_number": 64
    },
    {
     "cell_type": "code",
     "collapsed": false,
     "input": [
      "#Example\n",
      "boston = datasets.load_boston()\n",
      "print boston.DESCR #output omitted due to length"
     ],
     "language": "python",
     "metadata": {},
     "outputs": [
      {
       "output_type": "stream",
       "stream": "stdout",
       "text": [
        "Boston House Prices dataset\n",
        "\n",
        "Notes\n",
        "------\n",
        "Data Set Characteristics:  \n",
        "\n",
        "    :Number of Instances: 506 \n",
        "\n",
        "    :Number of Attributes: 13 numeric/categorical predictive\n",
        "    \n",
        "    :Median Value (attribute 14) is usually the target\n",
        "\n",
        "    :Attribute Information (in order):\n",
        "        - CRIM     per capita crime rate by town\n",
        "        - ZN       proportion of residential land zoned for lots over 25,000 sq.ft.\n",
        "        - INDUS    proportion of non-retail business acres per town\n",
        "        - CHAS     Charles River dummy variable (= 1 if tract bounds river; 0 otherwise)\n",
        "        - NOX      nitric oxides concentration (parts per 10 million)\n",
        "        - RM       average number of rooms per dwelling\n",
        "        - AGE      proportion of owner-occupied units built prior to 1940\n",
        "        - DIS      weighted distances to five Boston employment centres\n",
        "        - RAD      index of accessibility to radial highways\n",
        "        - TAX      full-value property-tax rate per $10,000\n",
        "        - PTRATIO  pupil-teacher ratio by town\n",
        "        - B        1000(Bk - 0.63)^2 where Bk is the proportion of blacks by town\n",
        "        - LSTAT    % lower status of the population\n",
        "        - MEDV     Median value of owner-occupied homes in $1000's\n",
        "\n",
        "    :Missing Attribute Values: None\n",
        "\n",
        "    :Creator: Harrison, D. and Rubinfeld, D.L.\n",
        "\n",
        "This is a copy of UCI ML housing dataset.\n",
        "http://archive.ics.uci.edu/ml/datasets/Housing\n",
        "\n",
        "\n",
        "This dataset was taken from the StatLib library which is maintained at Carnegie Mellon University.\n",
        "\n",
        "The Boston house-price data of Harrison, D. and Rubinfeld, D.L. 'Hedonic\n",
        "prices and the demand for clean air', J. Environ. Economics & Management,\n",
        "vol.5, 81-102, 1978.   Used in Belsley, Kuh & Welsch, 'Regression diagnostics\n",
        "...', Wiley, 1980.   N.B. Various transformations are used in the table on\n",
        "pages 244-261 of the latter.\n",
        "\n",
        "The Boston house-price data has been used in many machine learning papers that address regression\n",
        "problems.   \n",
        "     \n",
        "**References**\n",
        "\n",
        "   - Belsley, Kuh & Welsch, 'Regression diagnostics: Identifying Influential Data and Sources of Collinearity', Wiley, 1980. 244-261.\n",
        "   - Quinlan,R. (1993). Combining Instance-Based and Model-Based Learning. In Proceedings on the Tenth International Conference of Machine Learning, 236-243, University of Massachusetts, Amherst. Morgan Kaufmann.\n",
        "   - many more! (see http://archive.ics.uci.edu/ml/datasets/Housing)\n",
        "\n"
       ]
      }
     ],
     "prompt_number": 65
    },
    {
     "cell_type": "code",
     "collapsed": false,
     "input": [
      "housing = datasets.fetch_california_housing()\n",
      "#downloading Cal. housing from http://lib.stat.cmu.edu [...]\n",
      "print housing.DESCR "
     ],
     "language": "python",
     "metadata": {},
     "outputs": [
      {
       "output_type": "stream",
       "stream": "stdout",
       "text": [
        "downloading Cal. housing from http://lib.stat.cmu.edu/modules.php?op=modload&name=Downloads&file=index&req=getit&lid=83 to C:\\Users\\p155121\\scikit_learn_data\n"
       ]
      },
      {
       "ename": "URLError",
       "evalue": "<urlopen error [Errno 10061] Es konnte keine Verbindung hergestellt werden, da der Zielcomputer die Verbindung verweigerte>",
       "output_type": "pyerr",
       "traceback": [
        "\u001b[1;31m---------------------------------------------------------------------------\u001b[0m\n\u001b[1;31mURLError\u001b[0m                                  Traceback (most recent call last)",
        "\u001b[1;32m<ipython-input-67-93e9608c32f7>\u001b[0m in \u001b[0;36m<module>\u001b[1;34m()\u001b[0m\n\u001b[1;32m----> 1\u001b[1;33m \u001b[0mhousing\u001b[0m \u001b[1;33m=\u001b[0m \u001b[0mdatasets\u001b[0m\u001b[1;33m.\u001b[0m\u001b[0mfetch_california_housing\u001b[0m\u001b[1;33m(\u001b[0m\u001b[1;33m)\u001b[0m\u001b[1;33m\u001b[0m\u001b[0m\n\u001b[0m\u001b[0;32m      2\u001b[0m \u001b[1;31m#downloading Cal. housing from http://lib.stat.cmu.edu [...]\u001b[0m\u001b[1;33m\u001b[0m\u001b[1;33m\u001b[0m\u001b[0m\n\u001b[0;32m      3\u001b[0m \u001b[1;32mprint\u001b[0m \u001b[0mhousing\u001b[0m\u001b[1;33m.\u001b[0m\u001b[0mDESCR\u001b[0m\u001b[1;33m\u001b[0m\u001b[0m\n",
        "\u001b[1;32mC:\\Users\\p155121\\AppData\\Local\\Enthought\\Canopy32\\User\\lib\\site-packages\\sklearn\\datasets\\california_housing.pyc\u001b[0m in \u001b[0;36mfetch_california_housing\u001b[1;34m(data_home, download_if_missing)\u001b[0m\n\u001b[0;32m     87\u001b[0m     \u001b[1;32mif\u001b[0m \u001b[1;32mnot\u001b[0m \u001b[0mexists\u001b[0m\u001b[1;33m(\u001b[0m\u001b[0mjoin\u001b[0m\u001b[1;33m(\u001b[0m\u001b[0mdata_home\u001b[0m\u001b[1;33m,\u001b[0m \u001b[0mTARGET_FILENAME\u001b[0m\u001b[1;33m)\u001b[0m\u001b[1;33m)\u001b[0m\u001b[1;33m:\u001b[0m\u001b[1;33m\u001b[0m\u001b[0m\n\u001b[0;32m     88\u001b[0m         \u001b[1;32mprint\u001b[0m\u001b[1;33m(\u001b[0m\u001b[1;34m'downloading Cal. housing from %s to %s'\u001b[0m \u001b[1;33m%\u001b[0m \u001b[1;33m(\u001b[0m\u001b[0mDATA_URL\u001b[0m\u001b[1;33m,\u001b[0m \u001b[0mdata_home\u001b[0m\u001b[1;33m)\u001b[0m\u001b[1;33m)\u001b[0m\u001b[1;33m\u001b[0m\u001b[0m\n\u001b[1;32m---> 89\u001b[1;33m         \u001b[0mfhandle\u001b[0m \u001b[1;33m=\u001b[0m \u001b[0murlopen\u001b[0m\u001b[1;33m(\u001b[0m\u001b[0mDATA_URL\u001b[0m\u001b[1;33m)\u001b[0m\u001b[1;33m\u001b[0m\u001b[0m\n\u001b[0m\u001b[0;32m     90\u001b[0m         \u001b[0mbuf\u001b[0m \u001b[1;33m=\u001b[0m \u001b[0mBytesIO\u001b[0m\u001b[1;33m(\u001b[0m\u001b[0mfhandle\u001b[0m\u001b[1;33m.\u001b[0m\u001b[0mread\u001b[0m\u001b[1;33m(\u001b[0m\u001b[1;33m)\u001b[0m\u001b[1;33m)\u001b[0m\u001b[1;33m\u001b[0m\u001b[0m\n\u001b[0;32m     91\u001b[0m         \u001b[0mzip_file\u001b[0m \u001b[1;33m=\u001b[0m \u001b[0mZipFile\u001b[0m\u001b[1;33m(\u001b[0m\u001b[0mbuf\u001b[0m\u001b[1;33m)\u001b[0m\u001b[1;33m\u001b[0m\u001b[0m\n",
        "\u001b[1;32mC:\\Users\\p155121\\AppData\\Local\\Enthought\\Canopy32\\App\\appdata\\canopy-1.5.2.2785.win-x86\\lib\\urllib2.pyc\u001b[0m in \u001b[0;36murlopen\u001b[1;34m(url, data, timeout)\u001b[0m\n\u001b[0;32m    125\u001b[0m     \u001b[1;32mif\u001b[0m \u001b[0m_opener\u001b[0m \u001b[1;32mis\u001b[0m \u001b[0mNone\u001b[0m\u001b[1;33m:\u001b[0m\u001b[1;33m\u001b[0m\u001b[0m\n\u001b[0;32m    126\u001b[0m         \u001b[0m_opener\u001b[0m \u001b[1;33m=\u001b[0m \u001b[0mbuild_opener\u001b[0m\u001b[1;33m(\u001b[0m\u001b[1;33m)\u001b[0m\u001b[1;33m\u001b[0m\u001b[0m\n\u001b[1;32m--> 127\u001b[1;33m     \u001b[1;32mreturn\u001b[0m \u001b[0m_opener\u001b[0m\u001b[1;33m.\u001b[0m\u001b[0mopen\u001b[0m\u001b[1;33m(\u001b[0m\u001b[0murl\u001b[0m\u001b[1;33m,\u001b[0m \u001b[0mdata\u001b[0m\u001b[1;33m,\u001b[0m \u001b[0mtimeout\u001b[0m\u001b[1;33m)\u001b[0m\u001b[1;33m\u001b[0m\u001b[0m\n\u001b[0m\u001b[0;32m    128\u001b[0m \u001b[1;33m\u001b[0m\u001b[0m\n\u001b[0;32m    129\u001b[0m \u001b[1;32mdef\u001b[0m \u001b[0minstall_opener\u001b[0m\u001b[1;33m(\u001b[0m\u001b[0mopener\u001b[0m\u001b[1;33m)\u001b[0m\u001b[1;33m:\u001b[0m\u001b[1;33m\u001b[0m\u001b[0m\n",
        "\u001b[1;32mC:\\Users\\p155121\\AppData\\Local\\Enthought\\Canopy32\\App\\appdata\\canopy-1.5.2.2785.win-x86\\lib\\urllib2.pyc\u001b[0m in \u001b[0;36mopen\u001b[1;34m(self, fullurl, data, timeout)\u001b[0m\n\u001b[0;32m    402\u001b[0m             \u001b[0mreq\u001b[0m \u001b[1;33m=\u001b[0m \u001b[0mmeth\u001b[0m\u001b[1;33m(\u001b[0m\u001b[0mreq\u001b[0m\u001b[1;33m)\u001b[0m\u001b[1;33m\u001b[0m\u001b[0m\n\u001b[0;32m    403\u001b[0m \u001b[1;33m\u001b[0m\u001b[0m\n\u001b[1;32m--> 404\u001b[1;33m         \u001b[0mresponse\u001b[0m \u001b[1;33m=\u001b[0m \u001b[0mself\u001b[0m\u001b[1;33m.\u001b[0m\u001b[0m_open\u001b[0m\u001b[1;33m(\u001b[0m\u001b[0mreq\u001b[0m\u001b[1;33m,\u001b[0m \u001b[0mdata\u001b[0m\u001b[1;33m)\u001b[0m\u001b[1;33m\u001b[0m\u001b[0m\n\u001b[0m\u001b[0;32m    405\u001b[0m \u001b[1;33m\u001b[0m\u001b[0m\n\u001b[0;32m    406\u001b[0m         \u001b[1;31m# post-process response\u001b[0m\u001b[1;33m\u001b[0m\u001b[1;33m\u001b[0m\u001b[0m\n",
        "\u001b[1;32mC:\\Users\\p155121\\AppData\\Local\\Enthought\\Canopy32\\App\\appdata\\canopy-1.5.2.2785.win-x86\\lib\\urllib2.pyc\u001b[0m in \u001b[0;36m_open\u001b[1;34m(self, req, data)\u001b[0m\n\u001b[0;32m    420\u001b[0m         \u001b[0mprotocol\u001b[0m \u001b[1;33m=\u001b[0m \u001b[0mreq\u001b[0m\u001b[1;33m.\u001b[0m\u001b[0mget_type\u001b[0m\u001b[1;33m(\u001b[0m\u001b[1;33m)\u001b[0m\u001b[1;33m\u001b[0m\u001b[0m\n\u001b[0;32m    421\u001b[0m         result = self._call_chain(self.handle_open, protocol, protocol +\n\u001b[1;32m--> 422\u001b[1;33m                                   '_open', req)\n\u001b[0m\u001b[0;32m    423\u001b[0m         \u001b[1;32mif\u001b[0m \u001b[0mresult\u001b[0m\u001b[1;33m:\u001b[0m\u001b[1;33m\u001b[0m\u001b[0m\n\u001b[0;32m    424\u001b[0m             \u001b[1;32mreturn\u001b[0m \u001b[0mresult\u001b[0m\u001b[1;33m\u001b[0m\u001b[0m\n",
        "\u001b[1;32mC:\\Users\\p155121\\AppData\\Local\\Enthought\\Canopy32\\App\\appdata\\canopy-1.5.2.2785.win-x86\\lib\\urllib2.pyc\u001b[0m in \u001b[0;36m_call_chain\u001b[1;34m(self, chain, kind, meth_name, *args)\u001b[0m\n\u001b[0;32m    380\u001b[0m             \u001b[0mfunc\u001b[0m \u001b[1;33m=\u001b[0m \u001b[0mgetattr\u001b[0m\u001b[1;33m(\u001b[0m\u001b[0mhandler\u001b[0m\u001b[1;33m,\u001b[0m \u001b[0mmeth_name\u001b[0m\u001b[1;33m)\u001b[0m\u001b[1;33m\u001b[0m\u001b[0m\n\u001b[0;32m    381\u001b[0m \u001b[1;33m\u001b[0m\u001b[0m\n\u001b[1;32m--> 382\u001b[1;33m             \u001b[0mresult\u001b[0m \u001b[1;33m=\u001b[0m \u001b[0mfunc\u001b[0m\u001b[1;33m(\u001b[0m\u001b[1;33m*\u001b[0m\u001b[0margs\u001b[0m\u001b[1;33m)\u001b[0m\u001b[1;33m\u001b[0m\u001b[0m\n\u001b[0m\u001b[0;32m    383\u001b[0m             \u001b[1;32mif\u001b[0m \u001b[0mresult\u001b[0m \u001b[1;32mis\u001b[0m \u001b[1;32mnot\u001b[0m \u001b[0mNone\u001b[0m\u001b[1;33m:\u001b[0m\u001b[1;33m\u001b[0m\u001b[0m\n\u001b[0;32m    384\u001b[0m                 \u001b[1;32mreturn\u001b[0m \u001b[0mresult\u001b[0m\u001b[1;33m\u001b[0m\u001b[0m\n",
        "\u001b[1;32mC:\\Users\\p155121\\AppData\\Local\\Enthought\\Canopy32\\App\\appdata\\canopy-1.5.2.2785.win-x86\\lib\\urllib2.pyc\u001b[0m in \u001b[0;36mhttp_open\u001b[1;34m(self, req)\u001b[0m\n\u001b[0;32m   1212\u001b[0m \u001b[1;33m\u001b[0m\u001b[0m\n\u001b[0;32m   1213\u001b[0m     \u001b[1;32mdef\u001b[0m \u001b[0mhttp_open\u001b[0m\u001b[1;33m(\u001b[0m\u001b[0mself\u001b[0m\u001b[1;33m,\u001b[0m \u001b[0mreq\u001b[0m\u001b[1;33m)\u001b[0m\u001b[1;33m:\u001b[0m\u001b[1;33m\u001b[0m\u001b[0m\n\u001b[1;32m-> 1214\u001b[1;33m         \u001b[1;32mreturn\u001b[0m \u001b[0mself\u001b[0m\u001b[1;33m.\u001b[0m\u001b[0mdo_open\u001b[0m\u001b[1;33m(\u001b[0m\u001b[0mhttplib\u001b[0m\u001b[1;33m.\u001b[0m\u001b[0mHTTPConnection\u001b[0m\u001b[1;33m,\u001b[0m \u001b[0mreq\u001b[0m\u001b[1;33m)\u001b[0m\u001b[1;33m\u001b[0m\u001b[0m\n\u001b[0m\u001b[0;32m   1215\u001b[0m \u001b[1;33m\u001b[0m\u001b[0m\n\u001b[0;32m   1216\u001b[0m     \u001b[0mhttp_request\u001b[0m \u001b[1;33m=\u001b[0m \u001b[0mAbstractHTTPHandler\u001b[0m\u001b[1;33m.\u001b[0m\u001b[0mdo_request_\u001b[0m\u001b[1;33m\u001b[0m\u001b[0m\n",
        "\u001b[1;32mC:\\Users\\p155121\\AppData\\Local\\Enthought\\Canopy32\\App\\appdata\\canopy-1.5.2.2785.win-x86\\lib\\urllib2.pyc\u001b[0m in \u001b[0;36mdo_open\u001b[1;34m(self, http_class, req)\u001b[0m\n\u001b[0;32m   1182\u001b[0m         \u001b[1;32mexcept\u001b[0m \u001b[0msocket\u001b[0m\u001b[1;33m.\u001b[0m\u001b[0merror\u001b[0m\u001b[1;33m,\u001b[0m \u001b[0merr\u001b[0m\u001b[1;33m:\u001b[0m \u001b[1;31m# XXX what error?\u001b[0m\u001b[1;33m\u001b[0m\u001b[0m\n\u001b[0;32m   1183\u001b[0m             \u001b[0mh\u001b[0m\u001b[1;33m.\u001b[0m\u001b[0mclose\u001b[0m\u001b[1;33m(\u001b[0m\u001b[1;33m)\u001b[0m\u001b[1;33m\u001b[0m\u001b[0m\n\u001b[1;32m-> 1184\u001b[1;33m             \u001b[1;32mraise\u001b[0m \u001b[0mURLError\u001b[0m\u001b[1;33m(\u001b[0m\u001b[0merr\u001b[0m\u001b[1;33m)\u001b[0m\u001b[1;33m\u001b[0m\u001b[0m\n\u001b[0m\u001b[0;32m   1185\u001b[0m         \u001b[1;32melse\u001b[0m\u001b[1;33m:\u001b[0m\u001b[1;33m\u001b[0m\u001b[0m\n\u001b[0;32m   1186\u001b[0m             \u001b[1;32mtry\u001b[0m\u001b[1;33m:\u001b[0m\u001b[1;33m\u001b[0m\u001b[0m\n",
        "\u001b[1;31mURLError\u001b[0m: <urlopen error [Errno 10061] Es konnte keine Verbindung hergestellt werden, da der Zielcomputer die Verbindung verweigerte>"
       ]
      }
     ],
     "prompt_number": 67
    },
    {
     "cell_type": "code",
     "collapsed": false,
     "input": [
      "#Home Dir\n",
      "datasets.get_data_home()"
     ],
     "language": "python",
     "metadata": {},
     "outputs": [
      {
       "metadata": {},
       "output_type": "pyout",
       "prompt_number": 68,
       "text": [
        "'C:\\\\Users\\\\p155121\\\\scikit_learn_data'"
       ]
      }
     ],
     "prompt_number": 68
    },
    {
     "cell_type": "code",
     "collapsed": false,
     "input": [
      "#SCALING\n",
      "X, y = boston.data, boston.target\n",
      "X[:, :3].mean(axis=0) #mean of the first 3 features\n",
      "X[:, :3].std(axis=0)\n",
      "X_2 = preprocessing.scale(X[:, :3])\n",
      "X_2.mean(axis=0)\n",
      "X_2.std(axis=0)\n"
     ],
     "language": "python",
     "metadata": {},
     "outputs": [
      {
       "ename": "NameError",
       "evalue": "name 'preprocessing' is not defined",
       "output_type": "pyerr",
       "traceback": [
        "\u001b[1;31m---------------------------------------------------------------------------\u001b[0m\n\u001b[1;31mNameError\u001b[0m                                 Traceback (most recent call last)",
        "\u001b[1;32m<ipython-input-71-0866171f68c1>\u001b[0m in \u001b[0;36m<module>\u001b[1;34m()\u001b[0m\n\u001b[0;32m      3\u001b[0m \u001b[0mX\u001b[0m\u001b[1;33m[\u001b[0m\u001b[1;33m:\u001b[0m\u001b[1;33m,\u001b[0m \u001b[1;33m:\u001b[0m\u001b[1;36m3\u001b[0m\u001b[1;33m]\u001b[0m\u001b[1;33m.\u001b[0m\u001b[0mmean\u001b[0m\u001b[1;33m(\u001b[0m\u001b[0maxis\u001b[0m\u001b[1;33m=\u001b[0m\u001b[1;36m0\u001b[0m\u001b[1;33m)\u001b[0m \u001b[1;31m#mean of the first 3 features\u001b[0m\u001b[1;33m\u001b[0m\u001b[0m\n\u001b[0;32m      4\u001b[0m \u001b[0mX\u001b[0m\u001b[1;33m[\u001b[0m\u001b[1;33m:\u001b[0m\u001b[1;33m,\u001b[0m \u001b[1;33m:\u001b[0m\u001b[1;36m3\u001b[0m\u001b[1;33m]\u001b[0m\u001b[1;33m.\u001b[0m\u001b[0mstd\u001b[0m\u001b[1;33m(\u001b[0m\u001b[0maxis\u001b[0m\u001b[1;33m=\u001b[0m\u001b[1;36m0\u001b[0m\u001b[1;33m)\u001b[0m\u001b[1;33m\u001b[0m\u001b[0m\n\u001b[1;32m----> 5\u001b[1;33m \u001b[0mX_2\u001b[0m \u001b[1;33m=\u001b[0m \u001b[0mpreprocessing\u001b[0m\u001b[1;33m.\u001b[0m\u001b[0mscale\u001b[0m\u001b[1;33m(\u001b[0m\u001b[0mX\u001b[0m\u001b[1;33m[\u001b[0m\u001b[1;33m:\u001b[0m\u001b[1;33m,\u001b[0m \u001b[1;33m:\u001b[0m\u001b[1;36m3\u001b[0m\u001b[1;33m]\u001b[0m\u001b[1;33m)\u001b[0m\u001b[1;33m\u001b[0m\u001b[0m\n\u001b[0m\u001b[0;32m      6\u001b[0m \u001b[0mX_2\u001b[0m\u001b[1;33m.\u001b[0m\u001b[0mmean\u001b[0m\u001b[1;33m(\u001b[0m\u001b[0maxis\u001b[0m\u001b[1;33m=\u001b[0m\u001b[1;36m0\u001b[0m\u001b[1;33m)\u001b[0m\u001b[1;33m\u001b[0m\u001b[0m\n\u001b[0;32m      7\u001b[0m \u001b[0mX_2\u001b[0m\u001b[1;33m.\u001b[0m\u001b[0mstd\u001b[0m\u001b[1;33m(\u001b[0m\u001b[0maxis\u001b[0m\u001b[1;33m=\u001b[0m\u001b[1;36m0\u001b[0m\u001b[1;33m)\u001b[0m\u001b[1;33m\u001b[0m\u001b[0m\n",
        "\u001b[1;31mNameError\u001b[0m: name 'preprocessing' is not defined"
       ]
      }
     ],
     "prompt_number": 71
    },
    {
     "cell_type": "code",
     "collapsed": false,
     "input": [
      "#categorical\n",
      "from sklearn import datasets\n",
      "import numpy as np\n",
      "from sklearn import preprocessing\n",
      "iris = datasets.load_iris()\n",
      "X = iris.data\n",
      "y = iris.target\n",
      "\n",
      "\n",
      "d = np.column_stack((X, y))\n",
      "text_encoder = preprocessing.OneHotEncoder()\n",
      "text_encoder.fit_transform(d[:, -1:]).toarray()[:5]\n",
      "\n",
      "\n",
      "'''\n",
      "DictVectorizer\n",
      "from sklearn.feature_extraction import DictVectorizer\n",
      "dv = DictVectorizer()\n",
      "my_dict = [{'species': iris.target_names[i]} for i in y]\n",
      "dv.fit_transform(my_dict).toarray()[:5]\n",
      "'''"
     ],
     "language": "python",
     "metadata": {},
     "outputs": [
      {
       "metadata": {},
       "output_type": "pyout",
       "prompt_number": 72,
       "text": [
        "array([[ 1.,  0.,  0.],\n",
        "       [ 1.,  0.,  0.],\n",
        "       [ 1.,  0.,  0.],\n",
        "       [ 1.,  0.,  0.],\n",
        "       [ 1.,  0.,  0.]])"
       ]
      }
     ],
     "prompt_number": 72
    },
    {
     "cell_type": "code",
     "collapsed": false,
     "input": [
      "#PCA Principal Analisys component\n",
      "from sklearn import datasets\n",
      "iris = datasets.load_iris()\n",
      "iris_X = iris.data\n",
      "from sklearn import decomposition\n",
      "pca = decomposition.PCA()\n",
      "print(pca)\n",
      "iris_pca = pca.fit_transform(iris_X)\n",
      "print(iris_pca[:5])\n",
      "print(\"pca.explained_variance_ratio_\",pca.explained_variance_ratio_)\n",
      "pca = decomposition.PCA(n_components=2)\n",
      "iris_X_prime = pca.fit_transform(iris_X)\n",
      "print(iris_X_prime.shape)\n",
      "print(\" pca.explained_variance_ratio_.sum() \", pca.explained_variance_ratio_.sum() )\n"
     ],
     "language": "python",
     "metadata": {},
     "outputs": [
      {
       "output_type": "stream",
       "stream": "stdout",
       "text": [
        "PCA(copy=True, n_components=None, whiten=False)\n",
        "[[ -2.68420713e+00  -3.26607315e-01   2.15118370e-02   1.00615724e-03]\n",
        " [ -2.71539062e+00   1.69556848e-01   2.03521425e-01   9.96024240e-02]\n",
        " [ -2.88981954e+00   1.37345610e-01  -2.47092410e-02   1.93045428e-02]\n",
        " [ -2.74643720e+00   3.11124316e-01  -3.76719753e-02  -7.59552741e-02]\n",
        " [ -2.72859298e+00  -3.33924564e-01  -9.62296998e-02  -6.31287327e-02]]\n",
        "('pca.explained_variance_ratio_', array([ 0.92461621,  0.05301557,  0.01718514,  0.00518309]))\n",
        "(150, 2)\n",
        "(' pca.explained_variance_ratio_.sum() ', 0.97763177502480336)\n"
       ]
      }
     ],
     "prompt_number": 84
    },
    {
     "cell_type": "code",
     "collapsed": false,
     "input": [
      "pca = decomposition.PCA(n_components=.98)\n",
      "iris_X_prime = pca.fit(iris_X)\n",
      "pca.explained_variance_ratio_.sum()"
     ],
     "language": "python",
     "metadata": {},
     "outputs": [
      {
       "metadata": {},
       "output_type": "pyout",
       "prompt_number": 79,
       "text": [
        "0.99481691454981014"
       ]
      }
     ],
     "prompt_number": 79
    },
    {
     "cell_type": "code",
     "collapsed": false,
     "input": [
      "print(iris_X[:5])\n",
      "iris_X"
     ],
     "language": "python",
     "metadata": {},
     "outputs": [
      {
       "output_type": "stream",
       "stream": "stdout",
       "text": [
        "[[ 5.1  3.5  1.4  0.2]\n",
        " [ 4.9  3.   1.4  0.2]\n",
        " [ 4.7  3.2  1.3  0.2]\n",
        " [ 4.6  3.1  1.5  0.2]\n",
        " [ 5.   3.6  1.4  0.2]]\n"
       ]
      },
      {
       "metadata": {},
       "output_type": "pyout",
       "prompt_number": 83,
       "text": [
        "array([[ 5.1,  3.5,  1.4,  0.2],\n",
        "       [ 4.9,  3. ,  1.4,  0.2],\n",
        "       [ 4.7,  3.2,  1.3,  0.2],\n",
        "       [ 4.6,  3.1,  1.5,  0.2],\n",
        "       [ 5. ,  3.6,  1.4,  0.2],\n",
        "       [ 5.4,  3.9,  1.7,  0.4],\n",
        "       [ 4.6,  3.4,  1.4,  0.3],\n",
        "       [ 5. ,  3.4,  1.5,  0.2],\n",
        "       [ 4.4,  2.9,  1.4,  0.2],\n",
        "       [ 4.9,  3.1,  1.5,  0.1],\n",
        "       [ 5.4,  3.7,  1.5,  0.2],\n",
        "       [ 4.8,  3.4,  1.6,  0.2],\n",
        "       [ 4.8,  3. ,  1.4,  0.1],\n",
        "       [ 4.3,  3. ,  1.1,  0.1],\n",
        "       [ 5.8,  4. ,  1.2,  0.2],\n",
        "       [ 5.7,  4.4,  1.5,  0.4],\n",
        "       [ 5.4,  3.9,  1.3,  0.4],\n",
        "       [ 5.1,  3.5,  1.4,  0.3],\n",
        "       [ 5.7,  3.8,  1.7,  0.3],\n",
        "       [ 5.1,  3.8,  1.5,  0.3],\n",
        "       [ 5.4,  3.4,  1.7,  0.2],\n",
        "       [ 5.1,  3.7,  1.5,  0.4],\n",
        "       [ 4.6,  3.6,  1. ,  0.2],\n",
        "       [ 5.1,  3.3,  1.7,  0.5],\n",
        "       [ 4.8,  3.4,  1.9,  0.2],\n",
        "       [ 5. ,  3. ,  1.6,  0.2],\n",
        "       [ 5. ,  3.4,  1.6,  0.4],\n",
        "       [ 5.2,  3.5,  1.5,  0.2],\n",
        "       [ 5.2,  3.4,  1.4,  0.2],\n",
        "       [ 4.7,  3.2,  1.6,  0.2],\n",
        "       [ 4.8,  3.1,  1.6,  0.2],\n",
        "       [ 5.4,  3.4,  1.5,  0.4],\n",
        "       [ 5.2,  4.1,  1.5,  0.1],\n",
        "       [ 5.5,  4.2,  1.4,  0.2],\n",
        "       [ 4.9,  3.1,  1.5,  0.1],\n",
        "       [ 5. ,  3.2,  1.2,  0.2],\n",
        "       [ 5.5,  3.5,  1.3,  0.2],\n",
        "       [ 4.9,  3.1,  1.5,  0.1],\n",
        "       [ 4.4,  3. ,  1.3,  0.2],\n",
        "       [ 5.1,  3.4,  1.5,  0.2],\n",
        "       [ 5. ,  3.5,  1.3,  0.3],\n",
        "       [ 4.5,  2.3,  1.3,  0.3],\n",
        "       [ 4.4,  3.2,  1.3,  0.2],\n",
        "       [ 5. ,  3.5,  1.6,  0.6],\n",
        "       [ 5.1,  3.8,  1.9,  0.4],\n",
        "       [ 4.8,  3. ,  1.4,  0.3],\n",
        "       [ 5.1,  3.8,  1.6,  0.2],\n",
        "       [ 4.6,  3.2,  1.4,  0.2],\n",
        "       [ 5.3,  3.7,  1.5,  0.2],\n",
        "       [ 5. ,  3.3,  1.4,  0.2],\n",
        "       [ 7. ,  3.2,  4.7,  1.4],\n",
        "       [ 6.4,  3.2,  4.5,  1.5],\n",
        "       [ 6.9,  3.1,  4.9,  1.5],\n",
        "       [ 5.5,  2.3,  4. ,  1.3],\n",
        "       [ 6.5,  2.8,  4.6,  1.5],\n",
        "       [ 5.7,  2.8,  4.5,  1.3],\n",
        "       [ 6.3,  3.3,  4.7,  1.6],\n",
        "       [ 4.9,  2.4,  3.3,  1. ],\n",
        "       [ 6.6,  2.9,  4.6,  1.3],\n",
        "       [ 5.2,  2.7,  3.9,  1.4],\n",
        "       [ 5. ,  2. ,  3.5,  1. ],\n",
        "       [ 5.9,  3. ,  4.2,  1.5],\n",
        "       [ 6. ,  2.2,  4. ,  1. ],\n",
        "       [ 6.1,  2.9,  4.7,  1.4],\n",
        "       [ 5.6,  2.9,  3.6,  1.3],\n",
        "       [ 6.7,  3.1,  4.4,  1.4],\n",
        "       [ 5.6,  3. ,  4.5,  1.5],\n",
        "       [ 5.8,  2.7,  4.1,  1. ],\n",
        "       [ 6.2,  2.2,  4.5,  1.5],\n",
        "       [ 5.6,  2.5,  3.9,  1.1],\n",
        "       [ 5.9,  3.2,  4.8,  1.8],\n",
        "       [ 6.1,  2.8,  4. ,  1.3],\n",
        "       [ 6.3,  2.5,  4.9,  1.5],\n",
        "       [ 6.1,  2.8,  4.7,  1.2],\n",
        "       [ 6.4,  2.9,  4.3,  1.3],\n",
        "       [ 6.6,  3. ,  4.4,  1.4],\n",
        "       [ 6.8,  2.8,  4.8,  1.4],\n",
        "       [ 6.7,  3. ,  5. ,  1.7],\n",
        "       [ 6. ,  2.9,  4.5,  1.5],\n",
        "       [ 5.7,  2.6,  3.5,  1. ],\n",
        "       [ 5.5,  2.4,  3.8,  1.1],\n",
        "       [ 5.5,  2.4,  3.7,  1. ],\n",
        "       [ 5.8,  2.7,  3.9,  1.2],\n",
        "       [ 6. ,  2.7,  5.1,  1.6],\n",
        "       [ 5.4,  3. ,  4.5,  1.5],\n",
        "       [ 6. ,  3.4,  4.5,  1.6],\n",
        "       [ 6.7,  3.1,  4.7,  1.5],\n",
        "       [ 6.3,  2.3,  4.4,  1.3],\n",
        "       [ 5.6,  3. ,  4.1,  1.3],\n",
        "       [ 5.5,  2.5,  4. ,  1.3],\n",
        "       [ 5.5,  2.6,  4.4,  1.2],\n",
        "       [ 6.1,  3. ,  4.6,  1.4],\n",
        "       [ 5.8,  2.6,  4. ,  1.2],\n",
        "       [ 5. ,  2.3,  3.3,  1. ],\n",
        "       [ 5.6,  2.7,  4.2,  1.3],\n",
        "       [ 5.7,  3. ,  4.2,  1.2],\n",
        "       [ 5.7,  2.9,  4.2,  1.3],\n",
        "       [ 6.2,  2.9,  4.3,  1.3],\n",
        "       [ 5.1,  2.5,  3. ,  1.1],\n",
        "       [ 5.7,  2.8,  4.1,  1.3],\n",
        "       [ 6.3,  3.3,  6. ,  2.5],\n",
        "       [ 5.8,  2.7,  5.1,  1.9],\n",
        "       [ 7.1,  3. ,  5.9,  2.1],\n",
        "       [ 6.3,  2.9,  5.6,  1.8],\n",
        "       [ 6.5,  3. ,  5.8,  2.2],\n",
        "       [ 7.6,  3. ,  6.6,  2.1],\n",
        "       [ 4.9,  2.5,  4.5,  1.7],\n",
        "       [ 7.3,  2.9,  6.3,  1.8],\n",
        "       [ 6.7,  2.5,  5.8,  1.8],\n",
        "       [ 7.2,  3.6,  6.1,  2.5],\n",
        "       [ 6.5,  3.2,  5.1,  2. ],\n",
        "       [ 6.4,  2.7,  5.3,  1.9],\n",
        "       [ 6.8,  3. ,  5.5,  2.1],\n",
        "       [ 5.7,  2.5,  5. ,  2. ],\n",
        "       [ 5.8,  2.8,  5.1,  2.4],\n",
        "       [ 6.4,  3.2,  5.3,  2.3],\n",
        "       [ 6.5,  3. ,  5.5,  1.8],\n",
        "       [ 7.7,  3.8,  6.7,  2.2],\n",
        "       [ 7.7,  2.6,  6.9,  2.3],\n",
        "       [ 6. ,  2.2,  5. ,  1.5],\n",
        "       [ 6.9,  3.2,  5.7,  2.3],\n",
        "       [ 5.6,  2.8,  4.9,  2. ],\n",
        "       [ 7.7,  2.8,  6.7,  2. ],\n",
        "       [ 6.3,  2.7,  4.9,  1.8],\n",
        "       [ 6.7,  3.3,  5.7,  2.1],\n",
        "       [ 7.2,  3.2,  6. ,  1.8],\n",
        "       [ 6.2,  2.8,  4.8,  1.8],\n",
        "       [ 6.1,  3. ,  4.9,  1.8],\n",
        "       [ 6.4,  2.8,  5.6,  2.1],\n",
        "       [ 7.2,  3. ,  5.8,  1.6],\n",
        "       [ 7.4,  2.8,  6.1,  1.9],\n",
        "       [ 7.9,  3.8,  6.4,  2. ],\n",
        "       [ 6.4,  2.8,  5.6,  2.2],\n",
        "       [ 6.3,  2.8,  5.1,  1.5],\n",
        "       [ 6.1,  2.6,  5.6,  1.4],\n",
        "       [ 7.7,  3. ,  6.1,  2.3],\n",
        "       [ 6.3,  3.4,  5.6,  2.4],\n",
        "       [ 6.4,  3.1,  5.5,  1.8],\n",
        "       [ 6. ,  3. ,  4.8,  1.8],\n",
        "       [ 6.9,  3.1,  5.4,  2.1],\n",
        "       [ 6.7,  3.1,  5.6,  2.4],\n",
        "       [ 6.9,  3.1,  5.1,  2.3],\n",
        "       [ 5.8,  2.7,  5.1,  1.9],\n",
        "       [ 6.8,  3.2,  5.9,  2.3],\n",
        "       [ 6.7,  3.3,  5.7,  2.5],\n",
        "       [ 6.7,  3. ,  5.2,  2.3],\n",
        "       [ 6.3,  2.5,  5. ,  1.9],\n",
        "       [ 6.5,  3. ,  5.2,  2. ],\n",
        "       [ 6.2,  3.4,  5.4,  2.3],\n",
        "       [ 5.9,  3. ,  5.1,  1.8]])"
       ]
      }
     ],
     "prompt_number": 83
    },
    {
     "cell_type": "code",
     "collapsed": false,
     "input": [
      "import numpy\n",
      "from scipy.stats.stats import pearsonr \n",
      "#x=np.array([165,166,168,170,175,180,181,181,183,190])\n",
      "#y=np.array([55,70,60,65,68,90,75,81,90,90])\n",
      "\n",
      "x=np.array([10 ,20, 40,50])\n",
      "y=x*2\n",
      "plot(x,y)\n",
      "\n",
      "x_std=x.std();\n",
      "y_std=y.std();\n",
      "x_mean=x.mean();\n",
      "y_mean=y.mean();\n",
      "\n",
      "print(\"X Mean:\"+str(x.mean())+\" / Y Mean:\"+str(y.mean())+\n",
      "      \"X Stddev:\"+str(x_std)+\" / Y Stddev:\"+str(y_std)     \n",
      "      );\n",
      "\n",
      "numerator=(\n",
      "      ((x[0]-x_mean)*(y[0]-y_mean)+(x[0]-x_mean)*(y[1]-y_mean)+(x[0]-x_mean)*(y[2]-y_mean)+(x[0]-x_std)*(y[3]-y_mean))+\n",
      "     ((x[1]-x_mean)*(y[0]-y_mean)+(x[1]-x_mean)*(y[1]-y_mean)+(x[1]-x_mean)*(y[2]-y_mean)+(x[1]-x_std)*(y[3]-y_mean))+\n",
      "     ((x[2]-x_mean)*(y[0]-y_mean)+(x[2]-x_mean)*(y[1]-y_mean) +(x[2]-x_mean)*(y[2]-y_mean) +(x[2]-x_std)*(y[3]-y_mean))+\n",
      "     ((x[3]-x_mean)*(y[0]-y_mean)+(x[3]-x_mean)*(y[1]-y_mean)+(x[3]-x_mean)*(y[2]-y_mean)+(x[3]-x_std)*(y[3]-y_mean)))\n",
      "\n",
      "\n",
      "r=float((float(1)/(16-1))*(numerator))/(x_std*y_std)\n",
      "m_slope=r *(float(y_std/x_std));\n",
      "corr=pearsonr(x,y)\n",
      "print(\"numerator\",numerator);\n",
      "print(\"r\",r);\n",
      "print(\"m\",m_slope);\n",
      "print(\"corr\",corr);\n",
      "\n"
     ],
     "language": "python",
     "metadata": {},
     "outputs": [
      {
       "output_type": "stream",
       "stream": "stdout",
       "text": [
        "X Mean:30.0 / Y Mean:60.0X Stddev:15.8113883008 / Y Stddev:31.6227766017\n",
        "('numerator', 2270.1778718652968)\n",
        "('r', 0.30269038291537287)\n",
        "('m', 0.60538076583074574)\n",
        "('corr', (1.0, 0.0))\n"
       ]
      },
      {
       "metadata": {},
       "output_type": "display_data",
       "png": "[encoded data removed]",
       "text": [
        "<matplotlib.figure.Figure at 0x9324ff0>"
       ]
      }
     ],
     "prompt_number": 63
    },
    {
     "cell_type": "heading",
     "level": 2,
     "metadata": {},
     "source": [
      "LINEAR REGRESSION"
     ]
    },
    {
     "cell_type": "code",
     "collapsed": false,
     "input": [
      "from sklearn import datasets\n",
      "boston = datasets.load_boston()\n",
      "\n"
     ],
     "language": "python",
     "metadata": {},
     "outputs": [],
     "prompt_number": 85
    },
    {
     "cell_type": "code",
     "collapsed": false,
     "input": [
      "sep='----------------------------------'\n",
      "print(sep)\n",
      "print( boston.keys() )\n",
      "print(sep)\n",
      "print(boston.target[:1])\n",
      "print(sep)\n",
      "print(boston.data[:1])\n",
      "print(sep)\n",
      "print(boston.feature_names )\n",
      "print(sep)\n",
      "print(boston.DESCR )\n",
      "print(sep)\n",
      "print(boston.target )"
     ],
     "language": "python",
     "metadata": {},
     "outputs": [
      {
       "output_type": "stream",
       "stream": "stdout",
       "text": [
        "----------------------------------\n",
        "['data', 'feature_names', 'DESCR', 'target']\n",
        "----------------------------------\n",
        "[ 24.]\n",
        "----------------------------------\n",
        "[[  6.32000000e-03   1.80000000e+01   2.31000000e+00   0.00000000e+00\n",
        "    5.38000000e-01   6.57500000e+00   6.52000000e+01   4.09000000e+00\n",
        "    1.00000000e+00   2.96000000e+02   1.53000000e+01   3.96900000e+02\n",
        "    4.98000000e+00]]\n",
        "----------------------------------\n",
        "['CRIM' 'ZN' 'INDUS' 'CHAS' 'NOX' 'RM' 'AGE' 'DIS' 'RAD' 'TAX' 'PTRATIO'\n",
        " 'B' 'LSTAT']\n",
        "----------------------------------\n",
        "Boston House Prices dataset\n",
        "\n",
        "Notes\n",
        "------\n",
        "Data Set Characteristics:  \n",
        "\n",
        "    :Number of Instances: 506 \n",
        "\n",
        "    :Number of Attributes: 13 numeric/categorical predictive\n",
        "    \n",
        "    :Median Value (attribute 14) is usually the target\n",
        "\n",
        "    :Attribute Information (in order):\n",
        "        - CRIM     per capita crime rate by town\n",
        "        - ZN       proportion of residential land zoned for lots over 25,000 sq.ft.\n",
        "        - INDUS    proportion of non-retail business acres per town\n",
        "        - CHAS     Charles River dummy variable (= 1 if tract bounds river; 0 otherwise)\n",
        "        - NOX      nitric oxides concentration (parts per 10 million)\n",
        "        - RM       average number of rooms per dwelling\n",
        "        - AGE      proportion of owner-occupied units built prior to 1940\n",
        "        - DIS      weighted distances to five Boston employment centres\n",
        "        - RAD      index of accessibility to radial highways\n",
        "        - TAX      full-value property-tax rate per $10,000\n",
        "        - PTRATIO  pupil-teacher ratio by town\n",
        "        - B        1000(Bk - 0.63)^2 where Bk is the proportion of blacks by town\n",
        "        - LSTAT    % lower status of the population\n",
        "        - MEDV     Median value of owner-occupied homes in $1000's\n",
        "\n",
        "    :Missing Attribute Values: None\n",
        "\n",
        "    :Creator: Harrison, D. and Rubinfeld, D.L.\n",
        "\n",
        "This is a copy of UCI ML housing dataset.\n",
        "http://archive.ics.uci.edu/ml/datasets/Housing\n",
        "\n",
        "\n",
        "This dataset was taken from the StatLib library which is maintained at Carnegie Mellon University.\n",
        "\n",
        "The Boston house-price data of Harrison, D. and Rubinfeld, D.L. 'Hedonic\n",
        "prices and the demand for clean air', J. Environ. Economics & Management,\n",
        "vol.5, 81-102, 1978.   Used in Belsley, Kuh & Welsch, 'Regression diagnostics\n",
        "...', Wiley, 1980.   N.B. Various transformations are used in the table on\n",
        "pages 244-261 of the latter.\n",
        "\n",
        "The Boston house-price data has been used in many machine learning papers that address regression\n",
        "problems.   \n",
        "     \n",
        "**References**\n",
        "\n",
        "   - Belsley, Kuh & Welsch, 'Regression diagnostics: Identifying Influential Data and Sources of Collinearity', Wiley, 1980. 244-261.\n",
        "   - Quinlan,R. (1993). Combining Instance-Based and Model-Based Learning. In Proceedings on the Tenth International Conference of Machine Learning, 236-243, University of Massachusetts, Amherst. Morgan Kaufmann.\n",
        "   - many more! (see http://archive.ics.uci.edu/ml/datasets/Housing)\n",
        "\n",
        "----------------------------------\n",
        "[ 24.   21.6  34.7  33.4  36.2  28.7  22.9  27.1  16.5  18.9  15.   18.9\n",
        "  21.7  20.4  18.2  19.9  23.1  17.5  20.2  18.2  13.6  19.6  15.2  14.5\n",
        "  15.6  13.9  16.6  14.8  18.4  21.   12.7  14.5  13.2  13.1  13.5  18.9\n",
        "  20.   21.   24.7  30.8  34.9  26.6  25.3  24.7  21.2  19.3  20.   16.6\n",
        "  14.4  19.4  19.7  20.5  25.   23.4  18.9  35.4  24.7  31.6  23.3  19.6\n",
        "  18.7  16.   22.2  25.   33.   23.5  19.4  22.   17.4  20.9  24.2  21.7\n",
        "  22.8  23.4  24.1  21.4  20.   20.8  21.2  20.3  28.   23.9  24.8  22.9\n",
        "  23.9  26.6  22.5  22.2  23.6  28.7  22.6  22.   22.9  25.   20.6  28.4\n",
        "  21.4  38.7  43.8  33.2  27.5  26.5  18.6  19.3  20.1  19.5  19.5  20.4\n",
        "  19.8  19.4  21.7  22.8  18.8  18.7  18.5  18.3  21.2  19.2  20.4  19.3\n",
        "  22.   20.3  20.5  17.3  18.8  21.4  15.7  16.2  18.   14.3  19.2  19.6\n",
        "  23.   18.4  15.6  18.1  17.4  17.1  13.3  17.8  14.   14.4  13.4  15.6\n",
        "  11.8  13.8  15.6  14.6  17.8  15.4  21.5  19.6  15.3  19.4  17.   15.6\n",
        "  13.1  41.3  24.3  23.3  27.   50.   50.   50.   22.7  25.   50.   23.8\n",
        "  23.8  22.3  17.4  19.1  23.1  23.6  22.6  29.4  23.2  24.6  29.9  37.2\n",
        "  39.8  36.2  37.9  32.5  26.4  29.6  50.   32.   29.8  34.9  37.   30.5\n",
        "  36.4  31.1  29.1  50.   33.3  30.3  34.6  34.9  32.9  24.1  42.3  48.5\n",
        "  50.   22.6  24.4  22.5  24.4  20.   21.7  19.3  22.4  28.1  23.7  25.\n",
        "  23.3  28.7  21.5  23.   26.7  21.7  27.5  30.1  44.8  50.   37.6  31.6\n",
        "  46.7  31.5  24.3  31.7  41.7  48.3  29.   24.   25.1  31.5  23.7  23.3\n",
        "  22.   20.1  22.2  23.7  17.6  18.5  24.3  20.5  24.5  26.2  24.4  24.8\n",
        "  29.6  42.8  21.9  20.9  44.   50.   36.   30.1  33.8  43.1  48.8  31.\n",
        "  36.5  22.8  30.7  50.   43.5  20.7  21.1  25.2  24.4  35.2  32.4  32.\n",
        "  33.2  33.1  29.1  35.1  45.4  35.4  46.   50.   32.2  22.   20.1  23.2\n",
        "  22.3  24.8  28.5  37.3  27.9  23.9  21.7  28.6  27.1  20.3  22.5  29.\n",
        "  24.8  22.   26.4  33.1  36.1  28.4  33.4  28.2  22.8  20.3  16.1  22.1\n",
        "  19.4  21.6  23.8  16.2  17.8  19.8  23.1  21.   23.8  23.1  20.4  18.5\n",
        "  25.   24.6  23.   22.2  19.3  22.6  19.8  17.1  19.4  22.2  20.7  21.1\n",
        "  19.5  18.5  20.6  19.   18.7  32.7  16.5  23.9  31.2  17.5  17.2  23.1\n",
        "  24.5  26.6  22.9  24.1  18.6  30.1  18.2  20.6  17.8  21.7  22.7  22.6\n",
        "  25.   19.9  20.8  16.8  21.9  27.5  21.9  23.1  50.   50.   50.   50.\n",
        "  50.   13.8  13.8  15.   13.9  13.3  13.1  10.2  10.4  10.9  11.3  12.3\n",
        "   8.8   7.2  10.5   7.4  10.2  11.5  15.1  23.2   9.7  13.8  12.7  13.1\n",
        "  12.5   8.5   5.    6.3   5.6   7.2  12.1   8.3   8.5   5.   11.9  27.9\n",
        "  17.2  27.5  15.   17.2  17.9  16.3   7.    7.2   7.5  10.4   8.8   8.4\n",
        "  16.7  14.2  20.8  13.4  11.7   8.3  10.2  10.9  11.    9.5  14.5  14.1\n",
        "  16.1  14.3  11.7  13.4   9.6   8.7   8.4  12.8  10.5  17.1  18.4  15.4\n",
        "  10.8  11.8  14.9  12.6  14.1  13.   13.4  15.2  16.1  17.8  14.9  14.1\n",
        "  12.7  13.5  14.9  20.   16.4  17.7  19.5  20.2  21.4  19.9  19.   19.1\n",
        "  19.1  20.1  19.9  19.6  23.2  29.8  13.8  13.3  16.7  12.   14.6  21.4\n",
        "  23.   23.7  25.   21.8  20.6  21.2  19.1  20.6  15.2   7.    8.1  13.6\n",
        "  20.1  21.8  24.5  23.1  19.7  18.3  21.2  17.5  16.8  22.4  20.6  23.9\n",
        "  22.   11.9]\n"
       ]
      }
     ],
     "prompt_number": 100
    },
    {
     "cell_type": "code",
     "collapsed": false,
     "input": [
      "from sklearn.linear_model import LinearRegression\n",
      "lr = LinearRegression()\n",
      "#FIT\n",
      "lr.fit(boston.data, boston.target)\n",
      "LinearRegression(copy_X=True, fit_intercept=True, normalize=False)\n",
      "predictions = lr.predict(boston.data)\n",
      "\n",
      "lr.coef_"
     ],
     "language": "python",
     "metadata": {},
     "outputs": [
      {
       "metadata": {},
       "output_type": "pyout",
       "prompt_number": 101,
       "text": [
        "array([ -1.07170557e-01,   4.63952195e-02,   2.08602395e-02,\n",
        "         2.68856140e+00,  -1.77957587e+01,   3.80475246e+00,\n",
        "         7.51061703e-04,  -1.47575880e+00,   3.05655038e-01,\n",
        "        -1.23293463e-02,  -9.53463555e-01,   9.39251272e-03,\n",
        "        -5.25466633e-01])"
       ]
      }
     ],
     "prompt_number": 101
    },
    {
     "cell_type": "code",
     "collapsed": false,
     "input": [
      "lr2 = LinearRegression(normalize=True)\n",
      "lr2.fit(boston.data, boston.target)\n",
      "LinearRegression(copy_X=True, fit_intercept=True, normalize=True)\n",
      "predictions2 = lr2.predict(boston.data)"
     ],
     "language": "python",
     "metadata": {},
     "outputs": [],
     "prompt_number": 102
    },
    {
     "cell_type": "code",
     "collapsed": false,
     "input": [
      "import matplotlib.pyplot as plt\n",
      "import numpy as np\n",
      "f = plt.figure(figsize=(7, 5))\n",
      "ax = f.add_subplot(111)\n",
      "ax.hist(boston.target - predictions, bins=50)\n",
      "ax.set_title(\"Histogram of Residuals.\")"
     ],
     "language": "python",
     "metadata": {},
     "outputs": [
      {
       "metadata": {},
       "output_type": "pyout",
       "prompt_number": 103,
       "text": [
        "<matplotlib.text.Text at 0x94fe310>"
       ]
      },
      {
       "metadata": {},
       "output_type": "display_data",
       "png": "[encoded data removed]",
       "text": [
        "<matplotlib.figure.Figure at 0x82a7390>"
       ]
      }
     ],
     "prompt_number": 103
    },
    {
     "cell_type": "code",
     "collapsed": false,
     "input": [
      "from scipy.stats import probplot\n",
      "f = plt.figure(figsize=(7, 5))\n",
      "ax = f.add_subplot(111)\n",
      "probplot(boston.target - predictions, plot=ax)"
     ],
     "language": "python",
     "metadata": {},
     "outputs": [
      {
       "metadata": {},
       "output_type": "pyout",
       "prompt_number": 104,
       "text": [
        "((array([ -2.99573567e+00,  -2.71411028e+00,  -2.55577619e+00,\n",
        "          -2.44351800e+00,  -2.35556494e+00,  -2.28276382e+00,\n",
        "          -2.22036495e+00,  -2.16557440e+00,  -2.11660431e+00,\n",
        "          -2.07223893e+00,  -2.03161265e+00,  -1.99408648e+00,\n",
        "          -1.95917475e+00,  -1.92649942e+00,  -1.89576017e+00,\n",
        "          -1.86671438e+00,  -1.83916307e+00,  -1.81294098e+00,\n",
        "          -1.78790928e+00,  -1.76395019e+00,  -1.74096288e+00,\n",
        "          -1.71886034e+00,  -1.69756695e+00,  -1.67701655e+00,\n",
        "          -1.65715093e+00,  -1.63791855e+00,  -1.61927361e+00,\n",
        "          -1.60117517e+00,  -1.58358651e+00,  -1.56647453e+00,\n",
        "          -1.54980933e+00,  -1.53356377e+00,  -1.51771316e+00,\n",
        "          -1.50223493e+00,  -1.48710847e+00,  -1.47231481e+00,\n",
        "          -1.45783653e+00,  -1.44365756e+00,  -1.42976302e+00,\n",
        "          -1.41613915e+00,  -1.40277318e+00,  -1.38965322e+00,\n",
        "          -1.37676820e+00,  -1.36410778e+00,  -1.35166231e+00,\n",
        "          -1.33942275e+00,  -1.32738062e+00,  -1.31552796e+00,\n",
        "          -1.30385728e+00,  -1.29236155e+00,  -1.28103411e+00,\n",
        "          -1.26986869e+00,  -1.25885938e+00,  -1.24800057e+00,\n",
        "          -1.23728696e+00,  -1.22671351e+00,  -1.21627546e+00,\n",
        "          -1.20596826e+00,  -1.19578762e+00,  -1.18572943e+00,\n",
        "          -1.17578979e+00,  -1.16596497e+00,  -1.15625143e+00,\n",
        "          -1.14664578e+00,  -1.13714478e+00,  -1.12774533e+00,\n",
        "          -1.11844448e+00,  -1.10923938e+00,  -1.10012733e+00,\n",
        "          -1.09110572e+00,  -1.08217204e+00,  -1.07332392e+00,\n",
        "          -1.06455903e+00,  -1.05587517e+00,  -1.04727022e+00,\n",
        "          -1.03874212e+00,  -1.03028890e+00,  -1.02190867e+00,\n",
        "          -1.01359960e+00,  -1.00535993e+00,  -9.97187950e-01,\n",
        "          -9.89082030e-01,  -9.81040583e-01,  -9.73062080e-01,\n",
        "          -9.65145042e-01,  -9.57288042e-01,  -9.49489697e-01,\n",
        "          -9.41748672e-01,  -9.34063672e-01,  -9.26433446e-01,\n",
        "          -9.18856778e-01,  -9.11332495e-01,  -9.03859457e-01,\n",
        "          -8.96436557e-01,  -8.89062726e-01,  -8.81736921e-01,\n",
        "          -8.74458134e-01,  -8.67225385e-01,  -8.60037720e-01,\n",
        "          -8.52894215e-01,  -8.45793969e-01,  -8.38736110e-01,\n",
        "          -8.31719785e-01,  -8.24744168e-01,  -8.17808453e-01,\n",
        "          -8.10911857e-01,  -8.04053616e-01,  -7.97232988e-01,\n",
        "          -7.90449248e-01,  -7.83701690e-01,  -7.76989626e-01,\n",
        "          -7.70312386e-01,  -7.63669315e-01,  -7.57059776e-01,\n",
        "          -7.50483145e-01,  -7.43938816e-01,  -7.37426194e-01,\n",
        "          -7.30944700e-01,  -7.24493769e-01,  -7.18072847e-01,\n",
        "          -7.11681394e-01,  -7.05318883e-01,  -6.98984797e-01,\n",
        "          -6.92678632e-01,  -6.86399893e-01,  -6.80148098e-01,\n",
        "          -6.73922775e-01,  -6.67723460e-01,  -6.61549701e-01,\n",
        "          -6.55401055e-01,  -6.49277088e-01,  -6.43177375e-01,\n",
        "          -6.37101499e-01,  -6.31049052e-01,  -6.25019633e-01,\n",
        "          -6.19012852e-01,  -6.13028323e-01,  -6.07065669e-01,\n",
        "          -6.01124520e-01,  -5.95204515e-01,  -5.89305296e-01,\n",
        "          -5.83426515e-01,  -5.77567828e-01,  -5.71728899e-01,\n",
        "          -5.65909397e-01,  -5.60108998e-01,  -5.54327383e-01,\n",
        "          -5.48564239e-01,  -5.42819257e-01,  -5.37092135e-01,\n",
        "          -5.31382576e-01,  -5.25690287e-01,  -5.20014981e-01,\n",
        "          -5.14356375e-01,  -5.08714191e-01,  -5.03088156e-01,\n",
        "          -4.97477999e-01,  -4.91883457e-01,  -4.86304268e-01,\n",
        "          -4.80740175e-01,  -4.75190926e-01,  -4.69656272e-01,\n",
        "          -4.64135967e-01,  -4.58629771e-01,  -4.53137444e-01,\n",
        "          -4.47658752e-01,  -4.42193465e-01,  -4.36741354e-01,\n",
        "          -4.31302195e-01,  -4.25875766e-01,  -4.20461848e-01,\n",
        "          -4.15060226e-01,  -4.09670688e-01,  -4.04293024e-01,\n",
        "          -3.98927026e-01,  -3.93572490e-01,  -3.88229215e-01,\n",
        "          -3.82897001e-01,  -3.77575652e-01,  -3.72264973e-01,\n",
        "          -3.66964772e-01,  -3.61674861e-01,  -3.56395050e-01,\n",
        "          -3.51125157e-01,  -3.45864997e-01,  -3.40614389e-01,\n",
        "          -3.35373155e-01,  -3.30141118e-01,  -3.24918102e-01,\n",
        "          -3.19703936e-01,  -3.14498447e-01,  -3.09301466e-01,\n",
        "          -3.04112825e-01,  -2.98932359e-01,  -2.93759903e-01,\n",
        "          -2.88595295e-01,  -2.83438373e-01,  -2.78288978e-01,\n",
        "          -2.73146951e-01,  -2.68012137e-01,  -2.62884379e-01,\n",
        "          -2.57763524e-01,  -2.52649420e-01,  -2.47541915e-01,\n",
        "          -2.42440860e-01,  -2.37346105e-01,  -2.32257504e-01,\n",
        "          -2.27174909e-01,  -2.22098177e-01,  -2.17027162e-01,\n",
        "          -2.11961722e-01,  -2.06901715e-01,  -2.01846999e-01,\n",
        "          -1.96797436e-01,  -1.91752886e-01,  -1.86713211e-01,\n",
        "          -1.81678273e-01,  -1.76647937e-01,  -1.71622067e-01,\n",
        "          -1.66600528e-01,  -1.61583187e-01,  -1.56569910e-01,\n",
        "          -1.51560566e-01,  -1.46555021e-01,  -1.41553146e-01,\n",
        "          -1.36554810e-01,  -1.31559883e-01,  -1.26568236e-01,\n",
        "          -1.21579741e-01,  -1.16594270e-01,  -1.11611695e-01,\n",
        "          -1.06631890e-01,  -1.01654727e-01,  -9.66800810e-02,\n",
        "          -9.17078267e-02,  -8.67378386e-02,  -8.17699921e-02,\n",
        "          -7.68041629e-02,  -7.18402269e-02,  -6.68780605e-02,\n",
        "          -6.19175402e-02,  -5.69585432e-02,  -5.20009464e-02,\n",
        "          -4.70446274e-02,  -4.20894637e-02,  -3.71353333e-02,\n",
        "          -3.21821142e-02,  -2.72296845e-02,  -2.22779226e-02,\n",
        "          -1.73267069e-02,  -1.23759159e-02,  -7.42542823e-03,\n",
        "          -2.47512252e-03,   2.47512252e-03,   7.42542823e-03,\n",
        "           1.23759159e-02,   1.73267069e-02,   2.22779226e-02,\n",
        "           2.72296845e-02,   3.21821142e-02,   3.71353333e-02,\n",
        "           4.20894637e-02,   4.70446274e-02,   5.20009464e-02,\n",
        "           5.69585432e-02,   6.19175402e-02,   6.68780605e-02,\n",
        "           7.18402269e-02,   7.68041629e-02,   8.17699921e-02,\n",
        "           8.67378386e-02,   9.17078267e-02,   9.66800810e-02,\n",
        "           1.01654727e-01,   1.06631890e-01,   1.11611695e-01,\n",
        "           1.16594270e-01,   1.21579741e-01,   1.26568236e-01,\n",
        "           1.31559883e-01,   1.36554810e-01,   1.41553146e-01,\n",
        "           1.46555021e-01,   1.51560566e-01,   1.56569910e-01,\n",
        "           1.61583187e-01,   1.66600528e-01,   1.71622067e-01,\n",
        "           1.76647937e-01,   1.81678273e-01,   1.86713211e-01,\n",
        "           1.91752886e-01,   1.96797436e-01,   2.01846999e-01,\n",
        "           2.06901715e-01,   2.11961722e-01,   2.17027162e-01,\n",
        "           2.22098177e-01,   2.27174909e-01,   2.32257504e-01,\n",
        "           2.37346105e-01,   2.42440860e-01,   2.47541915e-01,\n",
        "           2.52649420e-01,   2.57763524e-01,   2.62884379e-01,\n",
        "           2.68012137e-01,   2.73146951e-01,   2.78288978e-01,\n",
        "           2.83438373e-01,   2.88595295e-01,   2.93759903e-01,\n",
        "           2.98932359e-01,   3.04112825e-01,   3.09301466e-01,\n",
        "           3.14498447e-01,   3.19703936e-01,   3.24918102e-01,\n",
        "           3.30141118e-01,   3.35373155e-01,   3.40614389e-01,\n",
        "           3.45864997e-01,   3.51125157e-01,   3.56395050e-01,\n",
        "           3.61674861e-01,   3.66964772e-01,   3.72264973e-01,\n",
        "           3.77575652e-01,   3.82897001e-01,   3.88229215e-01,\n",
        "           3.93572490e-01,   3.98927026e-01,   4.04293024e-01,\n",
        "           4.09670688e-01,   4.15060226e-01,   4.20461848e-01,\n",
        "           4.25875766e-01,   4.31302195e-01,   4.36741354e-01,\n",
        "           4.42193465e-01,   4.47658752e-01,   4.53137444e-01,\n",
        "           4.58629771e-01,   4.64135967e-01,   4.69656272e-01,\n",
        "           4.75190926e-01,   4.80740175e-01,   4.86304268e-01,\n",
        "           4.91883457e-01,   4.97477999e-01,   5.03088156e-01,\n",
        "           5.08714191e-01,   5.14356375e-01,   5.20014981e-01,\n",
        "           5.25690287e-01,   5.31382576e-01,   5.37092135e-01,\n",
        "           5.42819257e-01,   5.48564239e-01,   5.54327383e-01,\n",
        "           5.60108998e-01,   5.65909397e-01,   5.71728899e-01,\n",
        "           5.77567828e-01,   5.83426515e-01,   5.89305296e-01,\n",
        "           5.95204515e-01,   6.01124520e-01,   6.07065669e-01,\n",
        "           6.13028323e-01,   6.19012852e-01,   6.25019633e-01,\n",
        "           6.31049052e-01,   6.37101499e-01,   6.43177375e-01,\n",
        "           6.49277088e-01,   6.55401055e-01,   6.61549701e-01,\n",
        "           6.67723460e-01,   6.73922775e-01,   6.80148098e-01,\n",
        "           6.86399893e-01,   6.92678632e-01,   6.98984797e-01,\n",
        "           7.05318883e-01,   7.11681394e-01,   7.18072847e-01,\n",
        "           7.24493769e-01,   7.30944700e-01,   7.37426194e-01,\n",
        "           7.43938816e-01,   7.50483145e-01,   7.57059776e-01,\n",
        "           7.63669315e-01,   7.70312386e-01,   7.76989626e-01,\n",
        "           7.83701690e-01,   7.90449248e-01,   7.97232988e-01,\n",
        "           8.04053616e-01,   8.10911857e-01,   8.17808453e-01,\n",
        "           8.24744168e-01,   8.31719785e-01,   8.38736110e-01,\n",
        "           8.45793969e-01,   8.52894215e-01,   8.60037720e-01,\n",
        "           8.67225385e-01,   8.74458134e-01,   8.81736921e-01,\n",
        "           8.89062726e-01,   8.96436557e-01,   9.03859457e-01,\n",
        "           9.11332495e-01,   9.18856778e-01,   9.26433446e-01,\n",
        "           9.34063672e-01,   9.41748672e-01,   9.49489697e-01,\n",
        "           9.57288042e-01,   9.65145042e-01,   9.73062080e-01,\n",
        "           9.81040583e-01,   9.89082030e-01,   9.97187950e-01,\n",
        "           1.00535993e+00,   1.01359960e+00,   1.02190867e+00,\n",
        "           1.03028890e+00,   1.03874212e+00,   1.04727022e+00,\n",
        "           1.05587517e+00,   1.06455903e+00,   1.07332392e+00,\n",
        "           1.08217204e+00,   1.09110572e+00,   1.10012733e+00,\n",
        "           1.10923938e+00,   1.11844448e+00,   1.12774533e+00,\n",
        "           1.13714478e+00,   1.14664578e+00,   1.15625143e+00,\n",
        "           1.16596497e+00,   1.17578979e+00,   1.18572943e+00,\n",
        "           1.19578762e+00,   1.20596826e+00,   1.21627546e+00,\n",
        "           1.22671351e+00,   1.23728696e+00,   1.24800057e+00,\n",
        "           1.25885938e+00,   1.26986869e+00,   1.28103411e+00,\n",
        "           1.29236155e+00,   1.30385728e+00,   1.31552796e+00,\n",
        "           1.32738062e+00,   1.33942275e+00,   1.35166231e+00,\n",
        "           1.36410778e+00,   1.37676820e+00,   1.38965322e+00,\n",
        "           1.40277318e+00,   1.41613915e+00,   1.42976302e+00,\n",
        "           1.44365756e+00,   1.45783653e+00,   1.47231481e+00,\n",
        "           1.48710847e+00,   1.50223493e+00,   1.51771316e+00,\n",
        "           1.53356377e+00,   1.54980933e+00,   1.56647453e+00,\n",
        "           1.58358651e+00,   1.60117517e+00,   1.61927361e+00,\n",
        "           1.63791855e+00,   1.65715093e+00,   1.67701655e+00,\n",
        "           1.69756695e+00,   1.71886034e+00,   1.74096288e+00,\n",
        "           1.76395019e+00,   1.78790928e+00,   1.81294098e+00,\n",
        "           1.83916307e+00,   1.86671438e+00,   1.89576017e+00,\n",
        "           1.92649942e+00,   1.95917475e+00,   1.99408648e+00,\n",
        "           2.03161265e+00,   2.07223893e+00,   2.11660431e+00,\n",
        "           2.16557440e+00,   2.22036495e+00,   2.28276382e+00,\n",
        "           2.35556494e+00,   2.44351800e+00,   2.55577619e+00,\n",
        "           2.71411028e+00,   2.99573567e+00]),\n",
        "  array([ -1.55794610e+01,  -1.06109893e+01,  -1.04487027e+01,\n",
        "          -1.03113730e+01,  -7.83300008e+00,  -7.57647773e+00,\n",
        "          -7.20017588e+00,  -7.07771522e+00,  -6.94308350e+00,\n",
        "          -6.92593282e+00,  -6.86557584e+00,  -6.78790318e+00,\n",
        "          -6.69254951e+00,  -6.67461484e+00,  -6.63742401e+00,\n",
        "          -6.61480679e+00,  -6.48492755e+00,  -6.44501726e+00,\n",
        "          -6.41972222e+00,  -6.28704097e+00,  -6.16933235e+00,\n",
        "          -6.15461066e+00,  -6.13407332e+00,  -6.11998048e+00,\n",
        "          -6.04564780e+00,  -6.00821269e+00,  -5.97325183e+00,\n",
        "          -5.84759861e+00,  -5.82635521e+00,  -5.71732164e+00,\n",
        "          -5.54915396e+00,  -5.52342294e+00,  -5.47488389e+00,\n",
        "          -5.44913647e+00,  -5.41597825e+00,  -5.40283795e+00,\n",
        "          -5.35997992e+00,  -5.35994642e+00,  -5.29132150e+00,\n",
        "          -5.24511052e+00,  -5.19709480e+00,  -5.19189704e+00,\n",
        "          -5.15412919e+00,  -5.12999168e+00,  -5.01099424e+00,\n",
        "          -5.00151500e+00,  -4.93602979e+00,  -4.91755469e+00,\n",
        "          -4.91674397e+00,  -4.89129701e+00,  -4.88949211e+00,\n",
        "          -4.82575267e+00,  -4.78429024e+00,  -4.73938379e+00,\n",
        "          -4.72735376e+00,  -4.69282707e+00,  -4.67833186e+00,\n",
        "          -4.64086508e+00,  -4.60387482e+00,  -4.57541577e+00,\n",
        "          -4.56645496e+00,  -4.54203283e+00,  -4.52127354e+00,\n",
        "          -4.50725436e+00,  -4.49454145e+00,  -4.47985184e+00,\n",
        "          -4.35647433e+00,  -4.34343769e+00,  -4.23926602e+00,\n",
        "          -4.21307203e+00,  -4.20079737e+00,  -4.12983844e+00,\n",
        "          -4.11386352e+00,  -4.08668003e+00,  -4.03123608e+00,\n",
        "          -3.99582660e+00,  -3.95002201e+00,  -3.94079584e+00,\n",
        "          -3.93374181e+00,  -3.92620066e+00,  -3.91516860e+00,\n",
        "          -3.88485442e+00,  -3.84518524e+00,  -3.83465914e+00,\n",
        "          -3.82835689e+00,  -3.80610125e+00,  -3.72934247e+00,\n",
        "          -3.72652691e+00,  -3.71110647e+00,  -3.70241209e+00,\n",
        "          -3.69685664e+00,  -3.66764235e+00,  -3.64446671e+00,\n",
        "          -3.63277547e+00,  -3.57064813e+00,  -3.55900412e+00,\n",
        "          -3.50752251e+00,  -3.47621248e+00,  -3.44211691e+00,\n",
        "          -3.42986060e+00,  -3.42444386e+00,  -3.41860458e+00,\n",
        "          -3.41503231e+00,  -3.40034494e+00,  -3.37743546e+00,\n",
        "          -3.33038218e+00,  -3.30749026e+00,  -3.29388439e+00,\n",
        "          -3.25609561e+00,  -3.22573568e+00,  -3.16750301e+00,\n",
        "          -3.09734716e+00,  -3.08238543e+00,  -3.04088054e+00,\n",
        "          -2.94823519e+00,  -2.90852699e+00,  -2.89662601e+00,\n",
        "          -2.89292932e+00,  -2.88766667e+00,  -2.84791346e+00,\n",
        "          -2.83046343e+00,  -2.80150945e+00,  -2.79765427e+00,\n",
        "          -2.76975577e+00,  -2.73834861e+00,  -2.73687139e+00,\n",
        "          -2.72985456e+00,  -2.71297469e+00,  -2.70597451e+00,\n",
        "          -2.70039379e+00,  -2.68970854e+00,  -2.65853521e+00,\n",
        "          -2.65271013e+00,  -2.62803874e+00,  -2.61513625e+00,\n",
        "          -2.60326834e+00,  -2.59091112e+00,  -2.57076758e+00,\n",
        "          -2.56106095e+00,  -2.50881381e+00,  -2.48108106e+00,\n",
        "          -2.47392951e+00,  -2.47255605e+00,  -2.46441773e+00,\n",
        "          -2.46133385e+00,  -2.44615580e+00,  -2.41835359e+00,\n",
        "          -2.41141951e+00,  -2.36639271e+00,  -2.36568546e+00,\n",
        "          -2.35007844e+00,  -2.34216285e+00,  -2.27173661e+00,\n",
        "          -2.26694529e+00,  -2.26145104e+00,  -2.24893735e+00,\n",
        "          -2.22614937e+00,  -2.21101472e+00,  -2.17862521e+00,\n",
        "          -2.17432006e+00,  -2.17336772e+00,  -2.16152125e+00,\n",
        "          -2.15843485e+00,  -2.13453760e+00,  -2.13225886e+00,\n",
        "          -2.12736520e+00,  -2.12427933e+00,  -2.11123204e+00,\n",
        "          -2.11105226e+00,  -2.11022671e+00,  -2.09875684e+00,\n",
        "          -2.07709054e+00,  -2.07145523e+00,  -2.01546432e+00,\n",
        "          -2.00551341e+00,  -1.97440554e+00,  -1.92416035e+00,\n",
        "          -1.91878941e+00,  -1.87636041e+00,  -1.83224597e+00,\n",
        "          -1.80004807e+00,  -1.79311197e+00,  -1.78798090e+00,\n",
        "          -1.77869798e+00,  -1.77143049e+00,  -1.76342111e+00,\n",
        "          -1.76275612e+00,  -1.74438953e+00,  -1.74311742e+00,\n",
        "          -1.68337323e+00,  -1.68327609e+00,  -1.65306588e+00,\n",
        "          -1.59237490e+00,  -1.58615723e+00,  -1.58259372e+00,\n",
        "          -1.56843662e+00,  -1.56593919e+00,  -1.53690634e+00,\n",
        "          -1.51017111e+00,  -1.49378139e+00,  -1.48526739e+00,\n",
        "          -1.43614022e+00,  -1.42696242e+00,  -1.42071320e+00,\n",
        "          -1.40911570e+00,  -1.33536350e+00,  -1.32351225e+00,\n",
        "          -1.26658017e+00,  -1.25359323e+00,  -1.23807246e+00,\n",
        "          -1.22260592e+00,  -1.21897655e+00,  -1.20841512e+00,\n",
        "          -1.20344878e+00,  -1.19291889e+00,  -1.19241207e+00,\n",
        "          -1.19187594e+00,  -1.17882319e+00,  -1.16439137e+00,\n",
        "          -1.14518512e+00,  -1.13261729e+00,  -1.08826131e+00,\n",
        "          -1.08570454e+00,  -1.08379570e+00,  -1.01892210e+00,\n",
        "          -1.01459912e+00,  -1.01173020e+00,  -1.01157117e+00,\n",
        "          -1.00865729e+00,  -1.00349174e+00,  -9.55242174e-01,\n",
        "          -9.54023399e-01,  -9.38284433e-01,  -8.85861304e-01,\n",
        "          -8.59364673e-01,  -8.53491963e-01,  -8.36519590e-01,\n",
        "          -8.08255342e-01,  -7.99319690e-01,  -7.97697035e-01,\n",
        "          -7.84554664e-01,  -7.56778235e-01,  -7.24670996e-01,\n",
        "          -6.98556119e-01,  -6.95350660e-01,  -6.82096563e-01,\n",
        "          -6.60757096e-01,  -6.52108797e-01,  -6.44795192e-01,\n",
        "          -6.29348907e-01,  -5.58262157e-01,  -5.54230662e-01,\n",
        "          -5.20223118e-01,  -5.12708138e-01,  -4.99037441e-01,\n",
        "          -4.81214265e-01,  -4.70522032e-01,  -4.68206028e-01,\n",
        "          -4.24674174e-01,  -4.06999367e-01,  -3.77154499e-01,\n",
        "          -3.70009771e-01,  -3.49349494e-01,  -3.41798355e-01,\n",
        "          -3.41068242e-01,  -3.34249061e-01,  -3.25720195e-01,\n",
        "          -2.74941223e-01,  -2.69753352e-01,  -2.69161758e-01,\n",
        "          -2.63951546e-01,  -2.61155281e-01,  -2.42015338e-01,\n",
        "          -2.34537805e-01,  -2.25067052e-01,  -2.12602620e-01,\n",
        "          -2.07816357e-01,  -2.03085863e-01,  -1.90971317e-01,\n",
        "          -1.90643515e-01,  -1.88762404e-01,  -1.84783212e-01,\n",
        "          -1.62759507e-01,  -1.58787464e-01,  -1.19487412e-01,\n",
        "          -1.05586470e-01,  -1.04339941e-01,  -9.72074095e-02,\n",
        "          -9.23887977e-02,  -8.36673082e-02,  -7.70813834e-02,\n",
        "          -6.81637420e-02,  -6.43254889e-02,  -5.88463520e-02,\n",
        "          -4.49059486e-02,  -2.46822319e-02,  -1.98148310e-02,\n",
        "           4.79403771e-03,   1.63745433e-02,   5.14622246e-02,\n",
        "           6.02604148e-02,   6.79776135e-02,   7.04728399e-02,\n",
        "           7.97558587e-02,   8.80714949e-02,   9.35342804e-02,\n",
        "           1.01363929e-01,   1.10691396e-01,   1.19751980e-01,\n",
        "           1.26900546e-01,   1.36511091e-01,   1.85936163e-01,\n",
        "           1.86937120e-01,   1.93962076e-01,   2.08301073e-01,\n",
        "           2.42504502e-01,   2.62925428e-01,   2.65535193e-01,\n",
        "           2.68875810e-01,   3.01232056e-01,   3.30729274e-01,\n",
        "           3.41975565e-01,   3.51976378e-01,   3.83881817e-01,\n",
        "           4.34888989e-01,   4.57095495e-01,   4.81911321e-01,\n",
        "           4.86993833e-01,   5.00530508e-01,   5.20835501e-01,\n",
        "           5.90325101e-01,   5.99998256e-01,   6.01519327e-01,\n",
        "           6.04452704e-01,   6.37940962e-01,   6.58789511e-01,\n",
        "           6.64019038e-01,   6.68219322e-01,   6.85146149e-01,\n",
        "           6.96316828e-01,   7.15794308e-01,   7.16011898e-01,\n",
        "           7.17553923e-01,   7.48893611e-01,   7.55581223e-01,\n",
        "           7.94651488e-01,   8.27964625e-01,   8.38322710e-01,\n",
        "           8.44640693e-01,   8.82414962e-01,   9.04561434e-01,\n",
        "           9.06137851e-01,   9.36992356e-01,   9.48845321e-01,\n",
        "           9.53429369e-01,   9.60280317e-01,   9.79406257e-01,\n",
        "           1.01973930e+00,   1.05254651e+00,   1.06703459e+00,\n",
        "           1.07959546e+00,   1.08249686e+00,   1.08735161e+00,\n",
        "           1.10680947e+00,   1.13741171e+00,   1.15094710e+00,\n",
        "           1.17269903e+00,   1.25193175e+00,   1.27006425e+00,\n",
        "           1.29982987e+00,   1.35217066e+00,   1.42372067e+00,\n",
        "           1.49093142e+00,   1.50274195e+00,   1.50568299e+00,\n",
        "           1.52240328e+00,   1.52541964e+00,   1.71805609e+00,\n",
        "           1.77728787e+00,   1.78505843e+00,   1.79184341e+00,\n",
        "           1.92895435e+00,   2.02381163e+00,   2.11283371e+00,\n",
        "           2.12203518e+00,   2.12414319e+00,   2.16284397e+00,\n",
        "           2.19143429e+00,   2.23847757e+00,   2.25860276e+00,\n",
        "           2.27988013e+00,   2.31427389e+00,   2.33908981e+00,\n",
        "           2.35228423e+00,   2.37125477e+00,   2.41721739e+00,\n",
        "           2.43918794e+00,   2.45055902e+00,   2.57110007e+00,\n",
        "           2.57284641e+00,   2.63172583e+00,   2.63994228e+00,\n",
        "           2.65404996e+00,   2.86048275e+00,   2.88025748e+00,\n",
        "           2.89643051e+00,   2.89771215e+00,   2.91937622e+00,\n",
        "           2.92053214e+00,   2.93598966e+00,   2.99127582e+00,\n",
        "           3.07592892e+00,   3.21395396e+00,   3.33768636e+00,\n",
        "           3.40108490e+00,   3.44059952e+00,   3.45496907e+00,\n",
        "           3.47959779e+00,   3.50348256e+00,   3.51648923e+00,\n",
        "           3.54010868e+00,   3.55527668e+00,   3.56996830e+00,\n",
        "           3.65631836e+00,   3.67875712e+00,   3.75064846e+00,\n",
        "           3.82100029e+00,   3.87700453e+00,   3.88964557e+00,\n",
        "           4.00725970e+00,   4.01007101e+00,   4.02932589e+00,\n",
        "           4.12976830e+00,   4.16219056e+00,   4.18231192e+00,\n",
        "           4.22927930e+00,   4.25182997e+00,   4.27670620e+00,\n",
        "           4.28344419e+00,   4.36096886e+00,   4.41158334e+00,\n",
        "           4.44174832e+00,   4.45366533e+00,   4.48883737e+00,\n",
        "           4.64564705e+00,   4.66086590e+00,   4.68290903e+00,\n",
        "           4.69933044e+00,   4.79185945e+00,   4.80723772e+00,\n",
        "           4.83432317e+00,   4.98303461e+00,   5.07903513e+00,\n",
        "           5.10304787e+00,   5.22937377e+00,   5.29823802e+00,\n",
        "           5.32660077e+00,   5.52353515e+00,   5.65961364e+00,\n",
        "           5.68982756e+00,   5.90964935e+00,   5.93703626e+00,\n",
        "           6.09036071e+00,   6.21951965e+00,   6.23942334e+00,\n",
        "           6.36302852e+00,   6.43394368e+00,   6.47120389e+00,\n",
        "           6.48948619e+00,   6.60315192e+00,   6.70540643e+00,\n",
        "           6.81417278e+00,   7.56524420e+00,   7.66488588e+00,\n",
        "           7.67914272e+00,   7.81763620e+00,   7.91436285e+00,\n",
        "           8.03364779e+00,   8.09034488e+00,   8.14877729e+00,\n",
        "           8.25711768e+00,   8.43207267e+00,   8.68730485e+00,\n",
        "           9.15725397e+00,   9.16743798e+00,   9.43384467e+00,\n",
        "           9.62931597e+00,   1.01928354e+01,   1.04165603e+01,\n",
        "           1.11426273e+01,   1.12495174e+01,   1.12830093e+01,\n",
        "           1.22717418e+01,   1.25939884e+01,   1.27933781e+01,\n",
        "           1.28623702e+01,   1.30197887e+01,   1.32082742e+01,\n",
        "           1.32188861e+01,   1.41186828e+01,   1.53883660e+01,\n",
        "           1.62065259e+01,   1.73521284e+01,   2.39974028e+01,\n",
        "           2.50539590e+01,   2.61886501e+01])),\n",
        " (4.4568597454452554, -1.1947354345385467e-14, 0.94762914118318853))"
       ]
      },
      {
       "metadata": {},
       "output_type": "display_data",
       "png": "[encoded data removed]",
       "text": [
        "<matplotlib.figure.Figure at 0x8303230>"
       ]
      }
     ],
     "prompt_number": 104
    },
    {
     "cell_type": "code",
     "collapsed": false,
     "input": [
      "\n",
      "lr.predict(x2)"
     ],
     "language": "python",
     "metadata": {},
     "outputs": [
      {
       "ename": "ValueError",
       "evalue": "matrices are not aligned",
       "output_type": "pyerr",
       "traceback": [
        "\u001b[1;31m---------------------------------------------------------------------------\u001b[0m\n\u001b[1;31mValueError\u001b[0m                                Traceback (most recent call last)",
        "\u001b[1;32m<ipython-input-106-e0e61a6592c7>\u001b[0m in \u001b[0;36m<module>\u001b[1;34m()\u001b[0m\n\u001b[1;32m----> 1\u001b[1;33m \u001b[0mlr\u001b[0m\u001b[1;33m.\u001b[0m\u001b[0mscore\u001b[0m\u001b[1;33m(\u001b[0m\u001b[0mx\u001b[0m\u001b[1;33m,\u001b[0m \u001b[0my\u001b[0m\u001b[1;33m,\u001b[0m \u001b[0msample_weight\u001b[0m\u001b[1;33m=\u001b[0m\u001b[0mNone\u001b[0m\u001b[1;33m)\u001b[0m\u001b[1;33m\u001b[0m\u001b[0m\n\u001b[0m",
        "\u001b[1;32mC:\\Users\\p155121\\AppData\\Local\\Enthought\\Canopy32\\User\\lib\\site-packages\\sklearn\\base.pyc\u001b[0m in \u001b[0;36mscore\u001b[1;34m(self, X, y, sample_weight)\u001b[0m\n\u001b[0;32m    322\u001b[0m \u001b[1;33m\u001b[0m\u001b[0m\n\u001b[0;32m    323\u001b[0m         \u001b[1;32mfrom\u001b[0m \u001b[1;33m.\u001b[0m\u001b[0mmetrics\u001b[0m \u001b[1;32mimport\u001b[0m \u001b[0mr2_score\u001b[0m\u001b[1;33m\u001b[0m\u001b[0m\n\u001b[1;32m--> 324\u001b[1;33m         \u001b[1;32mreturn\u001b[0m \u001b[0mr2_score\u001b[0m\u001b[1;33m(\u001b[0m\u001b[0my\u001b[0m\u001b[1;33m,\u001b[0m \u001b[0mself\u001b[0m\u001b[1;33m.\u001b[0m\u001b[0mpredict\u001b[0m\u001b[1;33m(\u001b[0m\u001b[0mX\u001b[0m\u001b[1;33m)\u001b[0m\u001b[1;33m,\u001b[0m \u001b[0msample_weight\u001b[0m\u001b[1;33m=\u001b[0m\u001b[0msample_weight\u001b[0m\u001b[1;33m)\u001b[0m\u001b[1;33m\u001b[0m\u001b[0m\n\u001b[0m\u001b[0;32m    325\u001b[0m \u001b[1;33m\u001b[0m\u001b[0m\n\u001b[0;32m    326\u001b[0m \u001b[1;33m\u001b[0m\u001b[0m\n",
        "\u001b[1;32mC:\\Users\\p155121\\AppData\\Local\\Enthought\\Canopy32\\User\\lib\\site-packages\\sklearn\\linear_model\\base.pyc\u001b[0m in \u001b[0;36mpredict\u001b[1;34m(self, X)\u001b[0m\n\u001b[0;32m    149\u001b[0m             \u001b[0mReturns\u001b[0m \u001b[0mpredicted\u001b[0m \u001b[0mvalues\u001b[0m\u001b[1;33m.\u001b[0m\u001b[1;33m\u001b[0m\u001b[0m\n\u001b[0;32m    150\u001b[0m         \"\"\"\n\u001b[1;32m--> 151\u001b[1;33m         \u001b[1;32mreturn\u001b[0m \u001b[0mself\u001b[0m\u001b[1;33m.\u001b[0m\u001b[0mdecision_function\u001b[0m\u001b[1;33m(\u001b[0m\u001b[0mX\u001b[0m\u001b[1;33m)\u001b[0m\u001b[1;33m\u001b[0m\u001b[0m\n\u001b[0m\u001b[0;32m    152\u001b[0m \u001b[1;33m\u001b[0m\u001b[0m\n\u001b[0;32m    153\u001b[0m     \u001b[0m_center_data\u001b[0m \u001b[1;33m=\u001b[0m \u001b[0mstaticmethod\u001b[0m\u001b[1;33m(\u001b[0m\u001b[0mcenter_data\u001b[0m\u001b[1;33m)\u001b[0m\u001b[1;33m\u001b[0m\u001b[0m\n",
        "\u001b[1;32mC:\\Users\\p155121\\AppData\\Local\\Enthought\\Canopy32\\User\\lib\\site-packages\\sklearn\\linear_model\\base.pyc\u001b[0m in \u001b[0;36mdecision_function\u001b[1;34m(self, X)\u001b[0m\n\u001b[0;32m    134\u001b[0m         \u001b[0mX\u001b[0m \u001b[1;33m=\u001b[0m \u001b[0msafe_asarray\u001b[0m\u001b[1;33m(\u001b[0m\u001b[0mX\u001b[0m\u001b[1;33m)\u001b[0m\u001b[1;33m\u001b[0m\u001b[0m\n\u001b[0;32m    135\u001b[0m         return safe_sparse_dot(X, self.coef_.T,\n\u001b[1;32m--> 136\u001b[1;33m                                dense_output=True) + self.intercept_\n\u001b[0m\u001b[0;32m    137\u001b[0m \u001b[1;33m\u001b[0m\u001b[0m\n\u001b[0;32m    138\u001b[0m     \u001b[1;32mdef\u001b[0m \u001b[0mpredict\u001b[0m\u001b[1;33m(\u001b[0m\u001b[0mself\u001b[0m\u001b[1;33m,\u001b[0m \u001b[0mX\u001b[0m\u001b[1;33m)\u001b[0m\u001b[1;33m:\u001b[0m\u001b[1;33m\u001b[0m\u001b[0m\n",
        "\u001b[1;32mC:\\Users\\p155121\\AppData\\Local\\Enthought\\Canopy32\\User\\lib\\site-packages\\sklearn\\utils\\extmath.pyc\u001b[0m in \u001b[0;36msafe_sparse_dot\u001b[1;34m(a, b, dense_output)\u001b[0m\n\u001b[0;32m    178\u001b[0m         \u001b[1;32mreturn\u001b[0m \u001b[0mret\u001b[0m\u001b[1;33m\u001b[0m\u001b[0m\n\u001b[0;32m    179\u001b[0m     \u001b[1;32melse\u001b[0m\u001b[1;33m:\u001b[0m\u001b[1;33m\u001b[0m\u001b[0m\n\u001b[1;32m--> 180\u001b[1;33m         \u001b[1;32mreturn\u001b[0m \u001b[0mfast_dot\u001b[0m\u001b[1;33m(\u001b[0m\u001b[0ma\u001b[0m\u001b[1;33m,\u001b[0m \u001b[0mb\u001b[0m\u001b[1;33m)\u001b[0m\u001b[1;33m\u001b[0m\u001b[0m\n\u001b[0m\u001b[0;32m    181\u001b[0m \u001b[1;33m\u001b[0m\u001b[0m\n\u001b[0;32m    182\u001b[0m \u001b[1;33m\u001b[0m\u001b[0m\n",
        "\u001b[1;31mValueError\u001b[0m: matrices are not aligned"
       ]
      }
     ],
     "prompt_number": 106
    },
    {
     "cell_type": "markdown",
     "metadata": {},
     "source": [
      "LASSO"
     ]
    },
    {
     "cell_type": "code",
     "collapsed": false,
     "input": [
      "from sklearn.datasets import make_regression\n",
      "reg_data, reg_target = make_regression(n_samples=200, n_features=500,n_informative=5, noise=5)\n",
      "#Next, we need to import the Lasso object:\n",
      "from sklearn.linear_model import Lasso\n",
      "lasso = Lasso()"
     ],
     "language": "python",
     "metadata": {},
     "outputs": [],
     "prompt_number": 107
    },
    {
     "cell_type": "code",
     "collapsed": false,
     "input": [
      "lasso.fit(reg_data, reg_target)\n",
      "#Again, let's see how many of the coefficients remain nonzero:\n",
      "np.sum(lasso.coef_ != 0)"
     ],
     "language": "python",
     "metadata": {},
     "outputs": [
      {
       "metadata": {},
       "output_type": "pyout",
       "prompt_number": 108,
       "text": [
        "11"
       ]
      }
     ],
     "prompt_number": 108
    },
    {
     "cell_type": "code",
     "collapsed": false,
     "input": [
      "lasso_0 = Lasso(0)\n",
      "lasso_0.fit(reg_data, reg_target)"
     ],
     "language": "python",
     "metadata": {},
     "outputs": [
      {
       "output_type": "stream",
       "stream": "stderr",
       "text": [
        "-c:2: UserWarning: With alpha=0, this algorithm does not converge well. You are advised to use the LinearRegression estimator\n",
        "C:\\Users\\p155121\\AppData\\Local\\Enthought\\Canopy32\\User\\lib\\site-packages\\sklearn\\linear_model\\coordinate_descent.py:479: UserWarning: Coordinate descent with alpha=0 may lead to unexpected results and is discouraged.\n",
        "  coef_, l1_reg, l2_reg, X, y, max_iter, tol, positive)\n"
       ]
      },
      {
       "metadata": {},
       "output_type": "pyout",
       "prompt_number": 109,
       "text": [
        "Lasso(alpha=0, copy_X=True, fit_intercept=True, max_iter=1000,\n",
        "   normalize=False, positive=False, precompute='auto', tol=0.0001,\n",
        "   warm_start=False)"
       ]
      }
     ],
     "prompt_number": 109
    },
    {
     "cell_type": "code",
     "collapsed": false,
     "input": [
      "np.sum(lasso_0.coef_ != 0)"
     ],
     "language": "python",
     "metadata": {},
     "outputs": [
      {
       "metadata": {},
       "output_type": "pyout",
       "prompt_number": 110,
       "text": [
        "500"
       ]
      }
     ],
     "prompt_number": 110
    },
    {
     "cell_type": "code",
     "collapsed": false,
     "input": [
      "print('alpha important param')\n",
      "lassocv.alpha_"
     ],
     "language": "python",
     "metadata": {},
     "outputs": [
      {
       "output_type": "stream",
       "stream": "stdout",
       "text": [
        "alpha important param\n"
       ]
      },
      {
       "metadata": {},
       "output_type": "pyout",
       "prompt_number": 112,
       "text": [
        "0.77727378848591133"
       ]
      }
     ],
     "prompt_number": 112
    },
    {
     "cell_type": "code",
     "collapsed": false,
     "input": [
      "lassocv.coef_[:5]"
     ],
     "language": "python",
     "metadata": {},
     "outputs": [
      {
       "metadata": {},
       "output_type": "pyout",
       "prompt_number": 113,
       "text": [
        "array([-0.,  0., -0.,  0., -0.])"
       ]
      }
     ],
     "prompt_number": 113
    },
    {
     "cell_type": "code",
     "collapsed": false,
     "input": [
      "np.sum(lassocv.coef_ != 0)"
     ],
     "language": "python",
     "metadata": {},
     "outputs": [
      {
       "metadata": {},
       "output_type": "pyout",
       "prompt_number": 114,
       "text": [
        "20"
       ]
      }
     ],
     "prompt_number": 114
    },
    {
     "cell_type": "code",
     "collapsed": false,
     "input": [
      "#Lasso for feature selection\n",
      "mask = lassocv.coef_ != 0\n",
      "new_reg_data = reg_data[:, mask]\n",
      "new_reg_data.shape"
     ],
     "language": "python",
     "metadata": {},
     "outputs": [
      {
       "metadata": {},
       "output_type": "pyout",
       "prompt_number": 115,
       "text": [
        "(200, 20)"
       ]
      }
     ],
     "prompt_number": 115
    },
    {
     "cell_type": "code",
     "collapsed": false,
     "input": [
      "from sklearn.linear_model import LassoCV\n",
      "lassocv = LassoCV()\n",
      "lassocv.fit(reg_data, reg_target)"
     ],
     "language": "python",
     "metadata": {},
     "outputs": [
      {
       "metadata": {},
       "output_type": "pyout",
       "prompt_number": 111,
       "text": [
        "LassoCV(alphas=None, copy_X=True, cv=None, eps=0.001, fit_intercept=True,\n",
        "    max_iter=1000, n_alphas=100, n_jobs=1, normalize=False, positive=False,\n",
        "    precompute='auto', tol=0.0001, verbose=False)"
       ]
      }
     ],
     "prompt_number": 111
    },
    {
     "cell_type": "heading",
     "level": 2,
     "metadata": {},
     "source": [
      "LOGISTIC REGRESSION"
     ]
    },
    {
     "cell_type": "code",
     "collapsed": false,
     "input": [
      "from sklearn.datasets import make_classification\n",
      "import pandas as pd\n",
      "x=np.array([    [100],[170], [200], [255], [98],  [400]        ])\n",
      "y=np.array([    [0],  [0]  , [1],   [1] ,  [0]   ,[1]   ])\n",
      "print(x,y)\n",
      "\n",
      "\n",
      "from sklearn.linear_model import LogisticRegression\n",
      "lr = LogisticRegression()\n",
      "lr.fit(x,y)\n",
      "\n",
      "x_train=np.array([        [10000],        [25],        [180],        [122] , [8],  [400]        ])\n",
      "y_predict = lr.predict(x_train)\n"
     ],
     "language": "python",
     "metadata": {},
     "outputs": [
      {
       "output_type": "stream",
       "stream": "stdout",
       "text": [
        "(array([[100],\n",
        "       [170],\n",
        "       [200],\n",
        "       [255],\n",
        "       [ 98],\n",
        "       [400]]), array([[0],\n",
        "       [0],\n",
        "       [1],\n",
        "       [1],\n",
        "       [0],\n",
        "       [1]]))\n"
       ]
      },
      {
       "output_type": "stream",
       "stream": "stderr",
       "text": [
        "C:\\Users\\p155121\\AppData\\Local\\Enthought\\Canopy32\\User\\lib\\site-packages\\sklearn\\preprocessing\\label.py:125: DataConversionWarning: A column-vector y was passed when a 1d array was expected. Please change the shape of y to (n_samples, ), for example using ravel().\n",
        "  y = column_or_1d(y, warn=True)\n"
       ]
      }
     ],
     "prompt_number": 131
    },
    {
     "cell_type": "code",
     "collapsed": false,
     "input": [
      "print(y_predict)"
     ],
     "language": "python",
     "metadata": {},
     "outputs": [
      {
       "output_type": "stream",
       "stream": "stdout",
       "text": [
        "[1 0 1 1 0 1]\n"
       ]
      }
     ],
     "prompt_number": 132
    },
    {
     "cell_type": "code",
     "collapsed": false,
     "input": [],
     "language": "python",
     "metadata": {},
     "outputs": []
    },
    {
     "cell_type": "code",
     "collapsed": false,
     "input": [
      "from sklearn.datasets import make_classification\n",
      "X, y = make_classification(n_samples=1000, n_features=4)\n",
      "from sklearn.linear_model import LogisticRegression\n",
      "lr = LogisticRegression()"
     ],
     "language": "python",
     "metadata": {},
     "outputs": [],
     "prompt_number": 118
    },
    {
     "cell_type": "code",
     "collapsed": false,
     "input": [
      "X_train = X[:-200]\n",
      "y_train = y[:-200]\n",
      "X_test = X[-200:]\n",
      "y_test = y[-200:]\n",
      "lr.fit(X_train, y_train)\n",
      "y_train_predictions = lr.predict(X_train)\n",
      "y_test_predictions = lr.predict(X_test)"
     ],
     "language": "python",
     "metadata": {},
     "outputs": [],
     "prompt_number": 119
    },
    {
     "cell_type": "code",
     "collapsed": false,
     "input": [
      "(y_train_predictions == y_train).sum().astype(float) /y_train.shape[0]\n"
     ],
     "language": "python",
     "metadata": {},
     "outputs": [
      {
       "metadata": {},
       "output_type": "pyout",
       "prompt_number": 120,
       "text": [
        "0.94874999999999998"
       ]
      }
     ],
     "prompt_number": 120
    },
    {
     "cell_type": "code",
     "collapsed": false,
     "input": [
      "(y_test_predictions == y_test).sum().astype(float) /y_test.shape[0]"
     ],
     "language": "python",
     "metadata": {},
     "outputs": [
      {
       "metadata": {},
       "output_type": "pyout",
       "prompt_number": 121,
       "text": [
        "0.93000000000000005"
       ]
      }
     ],
     "prompt_number": 121
    },
    {
     "cell_type": "heading",
     "level": 2,
     "metadata": {},
     "source": [
      "FRAUD example"
     ]
    },
    {
     "cell_type": "code",
     "collapsed": false,
     "input": [
      "X, y = make_classification(n_samples=5000, n_features=4,weights=[.95])\n",
      "sum(y) / (len(y)*1.) #to confirm the class imbalance"
     ],
     "language": "python",
     "metadata": {},
     "outputs": [
      {
       "metadata": {},
       "output_type": "pyout",
       "prompt_number": 133,
       "text": [
        "0.053999999999999999"
       ]
      }
     ],
     "prompt_number": 133
    },
    {
     "cell_type": "code",
     "collapsed": false,
     "input": [
      "#WRONG WAY\n",
      "X_train = X[:-500]\n",
      "X_test = X[-500:]\n",
      "y_train = y[:-500]\n",
      "y_test = y[-500:]\n",
      "lr.fit(X_train, y_train)\n",
      "y_train_predictions = lr.predict(X_train)\n",
      "y_test_predictions = lr.predict(X_test)\n",
      "#Now, to see how well our model fits the data, do the following:\n",
      "(y_train_predictions == y_train).sum().astype(float) /y_train.shape[0]\n",
      "(y_test_predictions == y_test).sum().astype(float) / y_test.shape[0]\n",
      "#At first, it looks like we did well, but it turns out that when we always guessed that a transaction\n",
      "#was not fraud (or class 0 in general) we were right around 95 percent of the time. If we look at\n",
      "#how well we did in classifying the 1 class, it's not nearly as good:\n",
      "(y_test[y_test==1] == y_test_predictions[y_test==1]).sum().astype(float) / y_test[y_test==1].shape[0]\n"
     ],
     "language": "python",
     "metadata": {},
     "outputs": [
      {
       "metadata": {},
       "output_type": "pyout",
       "prompt_number": 134,
       "text": [
        "0.75862068965517238"
       ]
      }
     ],
     "prompt_number": 134
    },
    {
     "cell_type": "code",
     "collapsed": false,
     "input": [
      "lr = LogisticRegression(class_weight={0: .15, 1: .85})\n",
      "lr.fit(X_train, y_train)\n",
      "y_train_predictions = lr.predict(X_train)\n",
      "y_test_predictions = lr.predict(X_test)\n",
      "(y_test[y_test==1] == y_test_predictions[y_test==1]).sum().astype(float) / y_test[y_test==1].shape[0]\n",
      "#But, at what expense do we do this? To find out, use the following command:\n",
      "(y_test_predictions == y_test).sum().astype(float) / y_test.shape[0]"
     ],
     "language": "python",
     "metadata": {},
     "outputs": [
      {
       "metadata": {},
       "output_type": "pyout",
       "prompt_number": 135,
       "text": [
        "0.96199999999999997"
       ]
      }
     ],
     "prompt_number": 135
    },
    {
     "cell_type": "code",
     "collapsed": false,
     "input": [],
     "language": "python",
     "metadata": {},
     "outputs": []
    }
   ],
   "metadata": {}
  }
 ]
}