{
 "cells": [
  {
   "cell_type": "markdown",
   "metadata": {},
   "source": [
    "# VISUALIZATION\n",
    "Libraries:\n",
    "  \n",
    " - Non-interactive (Created once, static) \n",
    "      - matplotlib widely used for basic stuff\n",
    "      -     chaco http://code.enthought.com/chaco/ \n",
    "      -     seaborn\n",
    "      -     ggplot\n",
    " - Interactive (User can interactively explore visualized data) \n",
    "      -     plotly (matplotlib but interactive) https://plot.ly/python \n",
    "      -     chaco (see http://docs.enthought.com/chaco/user_manual/chaco_tutorial.html#tutorial)\n",
    "      -     bokeh (d3.js based) http://bokeh.pydata.org/index.html\n",
    "      -     d3py (d3.js based) https://github.com/mikedewar/d3py \n",
    " - Multi-dimensional data \n",
    "      -     mayavi http://docs.enthought.com/mayavi/mayavi/\n",
    "      -     vtk http://www.vtk.org\n",
    " \n",
    " - visualization.pdf : https://drive.google.com/drive/folders/0BxCGqF32kfuzTE4zTHRUYTNfQWs \n",
    " \n",
    "<b>thats to plotinline ------->  %matplotlib inline </b>\n",
    " \n",
    "###CONTENTS\n",
    "- [sl](#sl) single line single graph\n",
    "- [ml](#ml) multip line single graph\n",
    "- [barplot](#barplot)\n",
    "- [histogram](#histogram)\n",
    "- [scatter](#scatter)\n",
    "- [piechart](#piechart)\n",
    "- [multiplot](#multiplot)  sl/ml line multiple graph"
   ]
  },
  {
   "cell_type": "code",
   "execution_count": 1,
   "metadata": {
    "collapsed": false
   },
   "outputs": [
    {
     "name": "stdout",
     "output_type": "stream",
     "text": [
      "if plot.show() print in a new window the updated graph!!!\n"
     ]
    }
   ],
   "source": [
    "print \"if plot.show() multiple times print in a new window the updated graph multiple times!!!\""
   ]
  },
  {
   "cell_type": "markdown",
   "metadata": {},
   "source": [
    "<a id=\"sl\"></a>\n",
    "##Single line in a Sigle graph"
   ]
  },
  {
   "cell_type": "code",
   "execution_count": 1,
   "metadata": {
    "collapsed": false
   },
   "outputs": [
    {
     "name": "stdout",
     "output_type": "stream",
     "text": [
      "setting axis limit\n",
      "setting tick limit\n",
      "setting TITLE\n",
      "Labelling the axes\n",
      "you are a legend...\n"
     ]
    }
   ],
   "source": [
    "import matplotlib \n",
    "#matplotlib.use('PDF')  #here you can change the file format when save\n",
    "import matplotlib.pyplot as pyplot \n",
    "x=range(1,10)\n",
    "y= [(i*10) for i in x]\n",
    "pyplot.plot(x,y, color='green', linestyle='solid',linewidth=3.0,alpha=0.90,marker='o'  )\n",
    "#alpha\tfloat (0.0 transparent through 1.0 opaque)\n",
    "#line properties  solid dptted dashed \n",
    "#marker='o'                           #pointmarker\n",
    "\n",
    "print(\"setting axis limit\")\n",
    "pyplot.axis([2, 8, 10, 80])\n",
    "print(\"setting tick limit\")\n",
    "pyplot.xticks([k for k in range(1,15)]) \n",
    "pyplot.yticks([k for k in range(0,100,5)])\n",
    "print(\"setting TITLE\")\n",
    "pyplot.title('my title \\n here row 2')\n",
    "print(\"Labelling the axes\")\n",
    "pyplot.xlabel('weight')\n",
    "pyplot.ylabel('price')\n",
    "print(\"you are a legend...\")\n",
    "pyplot.line = pyplot.plot(x,y, label='Price Legend')\n",
    "pyplot.legend(loc='upper left',title='The legend')\n",
    "\n",
    "#launches an interactive viewer. \n",
    "pyplot.show()\n",
    "\n",
    "#filename=raw_input(\"print a filename\")\n",
    "#pyplot.savefig(filename + '.pdf')\n",
    "#print(\"TOGHETHER WITH SHOW empty file cause show clear the session\")"
   ]
  },
  {
   "cell_type": "markdown",
   "metadata": {},
   "source": [
    "<a id=\"ml\"></a>\n",
    "##Multi lines in a single graph"
   ]
  },
  {
   "cell_type": "code",
   "execution_count": 1,
   "metadata": {
    "collapsed": false
   },
   "outputs": [],
   "source": [
    "import matplotlib.pyplot as pyplot \n",
    "x = range(1,11)\n",
    "y = [(i*10) for i in x]\n",
    "y2 = [((i*10)+5) for i in x]\n",
    "y3 = [((i*10)+10) for i in x]\n",
    "\n",
    "pyplot.plot(x,y, color='blue', linestyle='solid',linewidth=3.0,alpha=0.90,marker='o')\n",
    "pyplot.plot(x,y2, color='green', linestyle='solid',linewidth=3.0,alpha=0.90,marker='o')\n",
    "pyplot.plot(x,y3, color='red', linestyle='solid',linewidth=3.0,alpha=0.90,marker='o')\n",
    "#launches an interactive viewer. \n",
    "pyplot.show()"
   ]
  },
  {
   "cell_type": "markdown",
   "metadata": {},
   "source": [
    "<a id=\"barplot\"></a>\n",
    "## BAR PLOT\n",
    " - histogram counts how many data items fit in ranges known as “bins”.\n",
    " - bar charis simply a set of uniformly spaced y values marked with vertical bars rather than by points or acurve"
   ]
  },
  {
   "cell_type": "code",
   "execution_count": 54,
   "metadata": {
    "collapsed": true
   },
   "outputs": [],
   "source": [
    "import random \n",
    "y=[random.randint(1, 10) for i in range(1,101)]\n",
    "pyplot.axis([1,10,1,25])\n",
    "pyplot.hist(y)\n",
    "\n",
    "pyplot.show()"
   ]
  },
  {
   "cell_type": "markdown",
   "metadata": {},
   "source": [
    "####Multiple bar charts "
   ]
  },
  {
   "cell_type": "code",
   "execution_count": 60,
   "metadata": {
    "collapsed": false
   },
   "outputs": [],
   "source": [
    "x1 = range(1,10)\n",
    "x2 = [ x + 1 for x in x1 ] \n",
    "x3 = [ x + 2 for x in x1 ]\n",
    "y1 = x1\n",
    "y2 = x1 \n",
    "y3 = x1 \n",
    "\n",
    "pyplot.axis([1,10,1,12])\n",
    "\n",
    "pyplot.bar(x1,y1, width=0.25, color='blue') \n",
    "pyplot.bar(x2,y2, width=0.25, color='green') \n",
    "pyplot.bar(x3,y3, width=0.25, color='red') \n",
    "pyplot.show()"
   ]
  },
  {
   "cell_type": "code",
   "execution_count": 13,
   "metadata": {
    "collapsed": false
   },
   "outputs": [
    {
     "name": "stderr",
     "output_type": "stream",
     "text": [
      "/Users/programming/Library/Enthought/Canopy_64bit/User/lib/python2.7/site-packages/pytz/__init__.py:29: UserWarning: Module PIL was already imported from /Users/programming/Library/Enthought/Canopy_64bit/User/lib/python2.7/site-packages/PIL/__init__.pyc, but /Users/programming/anaconda/lib/python2.7/site-packages is being added to sys.path\n",
      "  from pkg_resources import resource_stream\n"
     ]
    },
    {
     "ename": "NameError",
     "evalue": "name 'plt' is not defined",
     "output_type": "error",
     "traceback": [
      "\u001b[0;31m---------------------------------------------------------------------------\u001b[0m",
      "\u001b[0;31mNameError\u001b[0m                                 Traceback (most recent call last)",
      "\u001b[0;32m<ipython-input-13-5fe6150828a1>\u001b[0m in \u001b[0;36m<module>\u001b[0;34m()\u001b[0m\n\u001b[1;32m      1\u001b[0m \u001b[0;31m#Bar plot using Pandas obj method\u001b[0m\u001b[0;34m\u001b[0m\u001b[0;34m\u001b[0m\u001b[0m\n\u001b[1;32m      2\u001b[0m \u001b[0;32mimport\u001b[0m \u001b[0mpandas\u001b[0m \u001b[0;32mas\u001b[0m \u001b[0mpd\u001b[0m\u001b[0;34m\u001b[0m\u001b[0m\n\u001b[0;32m----> 3\u001b[0;31m \u001b[0mfig\u001b[0m\u001b[0;34m,\u001b[0m \u001b[0maxes\u001b[0m \u001b[0;34m=\u001b[0m \u001b[0mplt\u001b[0m\u001b[0;34m.\u001b[0m\u001b[0msubplots\u001b[0m\u001b[0;34m(\u001b[0m\u001b[0;36m2\u001b[0m\u001b[0;34m,\u001b[0m \u001b[0;36m1\u001b[0m\u001b[0;34m)\u001b[0m\u001b[0;34m\u001b[0m\u001b[0m\n\u001b[0m\u001b[1;32m      4\u001b[0m \u001b[0mdata\u001b[0m \u001b[0;34m=\u001b[0m \u001b[0mpd\u001b[0m\u001b[0;34m.\u001b[0m\u001b[0mSeries\u001b[0m\u001b[0;34m(\u001b[0m\u001b[0mfloor\u001b[0m\u001b[0;34m(\u001b[0m\u001b[0mnp\u001b[0m\u001b[0;34m.\u001b[0m\u001b[0mrandom\u001b[0m\u001b[0;34m.\u001b[0m\u001b[0mrand\u001b[0m\u001b[0;34m(\u001b[0m\u001b[0;36m16\u001b[0m\u001b[0;34m)\u001b[0m\u001b[0;34m*\u001b[0m\u001b[0;36m10\u001b[0m\u001b[0;34m)\u001b[0m\u001b[0;34m,\u001b[0m \u001b[0mindex\u001b[0m\u001b[0;34m=\u001b[0m\u001b[0mlist\u001b[0m\u001b[0;34m(\u001b[0m\u001b[0;34m'abcdefghijklmnop'\u001b[0m\u001b[0;34m)\u001b[0m\u001b[0;34m)\u001b[0m\u001b[0;34m\u001b[0m\u001b[0m\n\u001b[1;32m      5\u001b[0m \u001b[0;34m\u001b[0m\u001b[0m\n",
      "\u001b[0;31mNameError\u001b[0m: name 'plt' is not defined"
     ]
    }
   ],
   "source": [
    "#Bar plot using Pandas obj method\n",
    "import pandas as pd\n",
    "fig, axes = plt.subplots(2, 1)\n",
    "data = pd.Series(floor(np.random.rand(16)*10), index=list('abcdefghijklmnop')) \n",
    "\n",
    "print(data.values)\n",
    "data.plot(kind='bar', ax=axes[0], color='g', alpha=0.7) \n",
    "data.plot(kind='barh', ax=axes[1], color='k', alpha=0.7)"
   ]
  },
  {
   "cell_type": "markdown",
   "metadata": {},
   "source": [
    "<a id=\"histogram\"></a>\n",
    "<hr>\n",
    "## HISTOGRAM\n",
    " - histogram counts how many data items fit in ranges known as “bins”.\n",
    " - bar charis simply a set of uniformly spaced y values marked with vertical bars rather than by points or acurve"
   ]
  },
  {
   "cell_type": "code",
   "execution_count": 72,
   "metadata": {
    "collapsed": false
   },
   "outputs": [
    {
     "data": {
      "image/png": "[encoded data removed]",
      "text/plain": [
       "<matplotlib.figure.Figure at 0x9ea1190>"
      ]
     },
     "metadata": {},
     "output_type": "display_data"
    }
   ],
   "source": [
    "import matplotlib.pyplot as plt \n",
    "import random \n",
    "#thats to plotinline!!!!\n",
    "%matplotlib inline \n",
    "###########THE DATA\n",
    "y=[random.randint(1, 10) for i in range(1,101)]\n",
    "#plt.axis([1,10,1,25])\n",
    "\n",
    "###########THE FIGURE\n",
    "fig = plt.figure()\n",
    "ax = fig.add_subplot(1,1,1)                    \n",
    "ax.set_title('The Title')\n",
    "ax.set_ylabel('Y Label')\n",
    "ax.set_xlabel('X Label')\n",
    "\n",
    "###########HISTOGRAM\n",
    "plt.hist(y,bins=5 )\n",
    "#color='green', rwidth=0.75, edgecolor='red',linewidth=5.0 orientation='horizontal' or vertical\n",
    "#plt.ylim([0,100]) max Y\n",
    "#plt.plot(np.mean(goals),0.5,'o',[np.mean(goals)-np.std(goals),np.mean(goals)+np.std(goals)],[0.5,0.5],'-')\n",
    "\n",
    "###########SHOW\n",
    "plt.show()"
   ]
  },
  {
   "cell_type": "code",
   "execution_count": 52,
   "metadata": {
    "collapsed": false
   },
   "outputs": [
    {
     "data": {
      "text/plain": [
       "<matplotlib.axes._subplots.AxesSubplot at 0x114967790>"
      ]
     },
     "execution_count": 52,
     "metadata": {},
     "output_type": "execute_result"
    }
   ],
   "source": [
    "# using Pandas obj method\n",
    "comp1 = np.random.normal(0, 1, size=200) # N(0, 1) \n",
    "comp2 = np.random.normal(10, 2, size=200) # N(10, 4) \n",
    "values = pd.Series(np.concatenate([comp1, comp2])) \n",
    "values.hist(bins=100, alpha=0.3, color='b', normed=True, edgecolor='red',linewidth=5.0) \n",
    "values.plot(kind='kde', style='k--') "
   ]
  },
  {
   "cell_type": "markdown",
   "metadata": {},
   "source": [
    "<a id=\"scatter\"></a>\n",
    "<hr>\n",
    "## SCATTER"
   ]
  },
  {
   "cell_type": "code",
   "execution_count": 71,
   "metadata": {
    "collapsed": false
   },
   "outputs": [
    {
     "data": {
      "image/png": "[encoded data removed]",
      "text/plain": [
       "<matplotlib.figure.Figure at 0xa148db0>"
      ]
     },
     "metadata": {},
     "output_type": "display_data"
    },
    {
     "data": {
      "text/plain": [
       "\"# label each point\\nfor label, friend_count, minute_count in zip(labels, friends, minutes):\\nplt.annotate(label,\\nxy=(friend_count, minute_count), # put the label with its point\\nxytext=(5, -5), # but slightly offset\\ntextcoords='offset points')\\n\""
      ]
     },
     "execution_count": 71,
     "metadata": {},
     "output_type": "execute_result"
    }
   ],
   "source": [
    "import matplotlib.pyplot as plt \n",
    "#thats to plotinline!!!!\n",
    "%matplotlib inline \n",
    "###########THE DATA\n",
    "x = range(1,11)\n",
    "y = [(i*i) for i in x]\n",
    "x2=x*2\n",
    "y2=y*5\n",
    "\n",
    "###########THE FIGURE\n",
    "fig = plt.figure()\n",
    "ax = fig.add_subplot(1,1,1)                    \n",
    "ax.set_title('The Title')\n",
    "ax.set_ylabel('Y Label')\n",
    "ax.set_xlabel('X Label')\n",
    "\n",
    "###########SCATTER\n",
    "plt.scatter(x, y)\n",
    "plt.plot(x,y)\n",
    "#plt.plot(x,y,'o',y,x,'r')\n",
    "#plt.grid(True)\n",
    "\n",
    "###########SHOW\n",
    "plt.show()\n",
    "\n",
    "\"\"\"# label each point\n",
    "for label, friend_count, minute_count in zip(labels, friends, minutes):\n",
    "plt.annotate(label,\n",
    "xy=(friend_count, minute_count), # put the label with its point\n",
    "xytext=(5, -5), # but slightly offset\n",
    "textcoords='offset points')\n",
    "\"\"\""
   ]
  },
  {
   "cell_type": "markdown",
   "metadata": {
    "collapsed": false
   },
   "source": [
    "<a id=\"piechart\"></a>\n",
    "<hr>\n",
    "## PIE CHART"
   ]
  },
  {
   "cell_type": "code",
   "execution_count": 68,
   "metadata": {
    "collapsed": false
   },
   "outputs": [
    {
     "data": {
      "image/png": "[encoded data removed]",
      "text/plain": [
       "<matplotlib.figure.Figure at 0x9ea0150>"
      ]
     },
     "metadata": {},
     "output_type": "display_data"
    }
   ],
   "source": [
    "import matplotlib.pyplot as plt\n",
    "%matplotlib inline #tahts to plotinline!!!!\n",
    "###########THE DATA\n",
    "fracs = [33,100]\n",
    "labels = 'NO change win', 'change win'\n",
    "\n",
    "###########THE FIGURE\n",
    "fig = plt.figure()\n",
    "ax = fig.add_subplot(1,1,1)                    \n",
    "ax.set_title('The Title')\n",
    "ax.set_ylabel('Y Label')\n",
    "\n",
    "########### PIE CHART\n",
    "plt.pie(fracs, labels=labels)\n",
    "\n",
    "#autopct='%1.1f%%', #display percentages\n",
    "#colors=plt.rcParams['axes.color_cycle']# pie charts due not get default colors\n",
    "#patches, texts, autotexts = plt.pie(fracs, labels=labels,autopct='%.0f%%',shadow=True)\n",
    "#autotexts[0].set_color('y')\n",
    "#patches[1].set_color('y')\n",
    "\n",
    "###########SHOW\n",
    "\n",
    "plt.show()"
   ]
  },
  {
   "cell_type": "markdown",
   "metadata": {},
   "source": [
    "<a id=\"multiplot\"></a>\n",
    "## MULTIPLOT multi graphs\n",
    " - Figure\n",
    "    - subplot "
   ]
  },
  {
   "cell_type": "markdown",
   "metadata": {},
   "source": [
    "Manage FIGURE"
   ]
  },
  {
   "cell_type": "code",
   "execution_count": 12,
   "metadata": {
    "collapsed": true
   },
   "outputs": [],
   "source": [
    "import matplotlib.pyplot as plt\n",
    "fig = plt.figure(figsize=(20,2))#altezza larghezza\n",
    "fig.suptitle('Thats the TITLE', fontsize=14, fontweight='bold')\n",
    "\n",
    "plt.show()\n"
   ]
  },
  {
   "cell_type": "markdown",
   "metadata": {},
   "source": [
    "Manage sub plot "
   ]
  },
  {
   "cell_type": "code",
   "execution_count": 69,
   "metadata": {
    "collapsed": false
   },
   "outputs": [
    {
     "data": {
      "image/png": "[encoded data removed]",
      "text/plain": [
       "<matplotlib.figure.Figure at 0x9d48dd0>"
      ]
     },
     "metadata": {},
     "output_type": "display_data"
    },
    {
     "data": {
      "image/png": "[encoded data removed]",
      "text/plain": [
       "<matplotlib.figure.Figure at 0x5684a50>"
      ]
     },
     "metadata": {},
     "output_type": "display_data"
    },
    {
     "data": {
      "image/png": "[encoded data removed]",
      "text/plain": [
       "<matplotlib.figure.Figure at 0xa4bd810>"
      ]
     },
     "metadata": {},
     "output_type": "display_data"
    },
    {
     "data": {
      "image/png": "[encoded data removed]",
      "text/plain": [
       "<matplotlib.figure.Figure at 0x9f3b910>"
      ]
     },
     "metadata": {},
     "output_type": "display_data"
    }
   ],
   "source": [
    "import matplotlib.pyplot as plt\n",
    "fig = plt.figure()#window 1\n",
    "ax = fig.add_subplot(5,#In a Figure that has 5 ROWS\n",
    "                     2,#and                  2 COLUMNS\n",
    "                     1 # this is the         1st ITEM\n",
    "                     )\n",
    "ax = fig.add_subplot(5, 2, 5)\n",
    "ax = fig.add_subplot(5, 2, 9)\n",
    "ax = fig.add_subplot(1, 2, 2)\n",
    "\n",
    "fig = plt.figure()#window 2\n",
    "ax = fig.add_subplot(3,3,1)\n",
    "ax = fig.add_subplot(3, 3, 5)\n",
    "ax = fig.add_subplot(3, 3, 9)\n",
    "\n",
    "fig = plt.figure()#window 3\n",
    "ax = fig.add_subplot(3,3,1)\n",
    "ax = fig.add_subplot(3, 3, 3)\n",
    "ax = fig.add_subplot(3, 3, 9)\n",
    "\n",
    "fig = plt.figure()#window 4\n",
    "ax = fig.add_subplot(2, 2, 1)\n",
    "ax = fig.add_subplot(2, 2, 2)\n",
    "ax = fig.add_subplot(2, 2, 3)\n",
    "\n",
    "plt.show()"
   ]
  },
  {
   "cell_type": "markdown",
   "metadata": {},
   "source": [
    "various proerties"
   ]
  },
  {
   "cell_type": "code",
   "execution_count": 11,
   "metadata": {
    "collapsed": false
   },
   "outputs": [],
   "source": [
    "import matplotlib.pyplot as plt\n",
    "fig = plt.figure(figsize=(20,2))\n",
    "ax = fig.add_subplot(2,1,1)\n",
    "ax = fig.add_subplot(2,1,2)\n",
    "\n",
    "fig.suptitle('Thats the TITLE', fontsize=14, fontweight='bold')\n",
    "\n",
    "plt.show()"
   ]
  },
  {
   "cell_type": "code",
   "execution_count": 26,
   "metadata": {
    "collapsed": false
   },
   "outputs": [],
   "source": [
    "import matplotlib.pyplot as plt\n",
    "import random \n",
    "fig = plt.figure()\n",
    "y = [random.randint(1, 50) for i in range(1,101)]\n",
    "\n",
    "ax = fig.add_subplot(2,1,1)\n",
    "plt.hist(y,bins=4)\n",
    "\n",
    "ax = fig.add_subplot(2,1,2)\n",
    "plt.hist(y,bins=4)\n",
    "\n",
    "plt.show()"
   ]
  },
  {
   "cell_type": "code",
   "execution_count": null,
   "metadata": {
    "collapsed": true
   },
   "outputs": [],
   "source": []
  }
 ],
 "metadata": {
  "kernelspec": {
   "display_name": "Python 2",
   "language": "python",
   "name": "python2"
  },
  "language_info": {
   "codemirror_mode": {
    "name": "ipython",
    "version": 2
   },
   "file_extension": ".py",
   "mimetype": "text/x-python",
   "name": "python",
   "nbconvert_exporter": "python",
   "pygments_lexer": "ipython2",
   "version": "2.7.10"
  }
 },
 "nbformat": 4,
 "nbformat_minor": 0
}
